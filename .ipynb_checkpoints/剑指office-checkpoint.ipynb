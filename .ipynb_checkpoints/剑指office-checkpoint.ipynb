{
 "cells": [
  {
   "cell_type": "markdown",
   "metadata": {},
   "source": [
    "请实现一个函数，将一个字符串中的空格替换成“%20”。例如，当字符串为We Are Happy.则经过替换之后的字符串为We%20Are%20Happy。"
   ]
  },
  {
   "cell_type": "code",
   "execution_count": 27,
   "metadata": {
    "collapsed": true
   },
   "outputs": [],
   "source": [
    "    def replaceSpace(s):\n",
    "        # write code here\n",
    "        string = []\n",
    "        if len(s)==0:\n",
    "            return s\n",
    "        for i in s:\n",
    "            if i ==' ':\n",
    "                string.append(\"%20\") \n",
    "            else:\n",
    "                string.append(i)\n",
    "        return ''.join(string)"
   ]
  },
  {
   "cell_type": "code",
   "execution_count": 28,
   "metadata": {},
   "outputs": [
    {
     "data": {
      "text/plain": [
       "''"
      ]
     },
     "execution_count": 28,
     "metadata": {},
     "output_type": "execute_result"
    }
   ],
   "source": [
    "replaceSpace(\"\")"
   ]
  },
  {
   "cell_type": "markdown",
   "metadata": {},
   "source": [
    "输入一个链表，按链表值从尾到头的顺序返回一个ArrayList。"
   ]
  },
  {
   "cell_type": "code",
   "execution_count": 29,
   "metadata": {
    "collapsed": true
   },
   "outputs": [],
   "source": [
    "def printListFromTailToHead(self, listNode):\n",
    "        l=[]\n",
    "        while listNode:\n",
    "            l.append(listNode.val)\n",
    "            listNode=listNode.next\n",
    "        l.reverse()\n",
    "        return l"
   ]
  },
  {
   "cell_type": "code",
   "execution_count": 18,
   "metadata": {},
   "outputs": [
    {
     "ename": "SyntaxError",
     "evalue": "invalid syntax (<ipython-input-18-f574735834ed>, line 1)",
     "output_type": "error",
     "traceback": [
      "\u001b[1;36m  File \u001b[1;32m\"<ipython-input-18-f574735834ed>\"\u001b[1;36m, line \u001b[1;32m1\u001b[0m\n\u001b[1;33m    s == not s\u001b[0m\n\u001b[1;37m           ^\u001b[0m\n\u001b[1;31mSyntaxError\u001b[0m\u001b[1;31m:\u001b[0m invalid syntax\n"
     ]
    }
   ],
   "source": [
    "用两个栈来实现一个队列，完成队列的Push和Pop操作。 队列中的元素为int类型。"
   ]
  },
  {
   "cell_type": "code",
   "execution_count": 32,
   "metadata": {
    "collapsed": true
   },
   "outputs": [],
   "source": [
    "    def minNumberInRotateArray(rotateArray):\n",
    "        # write code here\n",
    "        if len(rotateArray)==0:\n",
    "            return 0\n",
    "        i =0\n",
    "        j = len(rotateArray)-1\n",
    "        #m = int((i+j)/2)\n",
    "        mid = j\n",
    "        while(rotateArray[i]>=rotateArray[j]):\n",
    "            if (j-i)==1:\n",
    "                mid = j\n",
    "                break\n",
    "            mid = int((i+j)/2)\n",
    "            if(rotateArray[mid]>=rotateArray[i]):\n",
    "                i = mid\n",
    "            elif (rotateArray[mid]<=rotateArray[j]):\n",
    "                j = mid\n",
    "        return rotateArray[mid]"
   ]
  },
  {
   "cell_type": "code",
   "execution_count": 33,
   "metadata": {},
   "outputs": [
    {
     "data": {
      "text/plain": [
       "154"
      ]
     },
     "execution_count": 33,
     "metadata": {},
     "output_type": "execute_result"
    }
   ],
   "source": [
    "p = [6501,6828,6963,7036,7422,7674,8146,8468,8704,8717,9170,9359,9719,9895,9896,9913,9962,\n",
    "     154,293,334,492,1323,1479,1539,1727,1870,1943,2383,2392,2996,3282,3812,3903,4465,4605,\n",
    "     4665,4772,4828,5142,5437,5448,5668,5706,5725,6300,6335]\n",
    "minNumberInRotateArray(p)"
   ]
  },
  {
   "cell_type": "code",
   "execution_count": 34,
   "metadata": {},
   "outputs": [
    {
     "data": {
      "text/plain": [
       "2178309"
      ]
     },
     "execution_count": 34,
     "metadata": {},
     "output_type": "execute_result"
    }
   ],
   "source": [
    "def Fibonacci( n):\n",
    "        # write code here\n",
    "    if n <= 1:\n",
    "        return n\n",
    "    else:\n",
    "        return(Fibonacci(n-1) + Fibonacci(n-2))\n",
    "Fibonacci(32)"
   ]
  },
  {
   "cell_type": "code",
   "execution_count": 38,
   "metadata": {},
   "outputs": [
    {
     "data": {
      "text/plain": [
       "2"
      ]
     },
     "execution_count": 38,
     "metadata": {},
     "output_type": "execute_result"
    }
   ],
   "source": [
    "#利用迭代来实现斐波那契数列\n",
    "def Fibonacci( n):\n",
    "    list1 = [0,1]\n",
    "    if n<2:\n",
    "        return list1[n]\n",
    "    else:\n",
    "        x ,y =0,1\n",
    "        for i in range(2,n+1):\n",
    "            x ,y = y,x+y\n",
    "        return y\n",
    "Fibonacci(3)"
   ]
  },
  {
   "cell_type": "code",
   "execution_count": 36,
   "metadata": {},
   "outputs": [
    {
     "data": {
      "text/plain": [
       "0"
      ]
     },
     "execution_count": 36,
     "metadata": {},
     "output_type": "execute_result"
    }
   ],
   "source": [
    "Fibonacci(0)"
   ]
  },
  {
   "cell_type": "code",
   "execution_count": 1,
   "metadata": {},
   "outputs": [
    {
     "data": {
      "text/plain": [
       "5"
      ]
     },
     "execution_count": 1,
     "metadata": {},
     "output_type": "execute_result"
    }
   ],
   "source": [
    "n =11\n",
    "n//2"
   ]
  },
  {
   "cell_type": "code",
   "execution_count": 2,
   "metadata": {
    "collapsed": true
   },
   "outputs": [],
   "source": [
    "    def NumberOf1( n):\n",
    "        # write code here\n",
    "        count = 0\n",
    "        if n<0:\n",
    "            n = ~n\n",
    "        while n:\n",
    "            if n%2==1:\n",
    "                count +=1\n",
    "            n=n//2\n",
    "        return count"
   ]
  },
  {
   "cell_type": "code",
   "execution_count": 3,
   "metadata": {},
   "outputs": [
    {
     "data": {
      "text/plain": [
       "2"
      ]
     },
     "execution_count": 3,
     "metadata": {},
     "output_type": "execute_result"
    }
   ],
   "source": [
    "NumberOf1(5)"
   ]
  },
  {
   "cell_type": "code",
   "execution_count": 5,
   "metadata": {},
   "outputs": [
    {
     "data": {
      "text/plain": [
       "31"
      ]
     },
     "execution_count": 5,
     "metadata": {},
     "output_type": "execute_result"
    }
   ],
   "source": [
    "NumberOf1(-2147483648\n",
    ")"
   ]
  },
  {
   "cell_type": "code",
   "execution_count": 8,
   "metadata": {},
   "outputs": [
    {
     "data": {
      "text/plain": [
       "'-10000000000000000000000000000000'"
      ]
     },
     "execution_count": 8,
     "metadata": {},
     "output_type": "execute_result"
    }
   ],
   "source": [
    "bin(-2147483648).replace(\"0b\",\"\")"
   ]
  },
  {
   "cell_type": "code",
   "execution_count": 11,
   "metadata": {},
   "outputs": [
    {
     "data": {
      "text/plain": [
       "1"
      ]
     },
     "execution_count": 11,
     "metadata": {},
     "output_type": "execute_result"
    }
   ],
   "source": [
    "bin(2**32+(-2147483648)).replace(\"0b\",\"\").count(\"1\")"
   ]
  },
  {
   "cell_type": "code",
   "execution_count": 1,
   "metadata": {
    "collapsed": true
   },
   "outputs": [],
   "source": [
    "class Solution:\n",
    "    # matrix类型为二维列表，需要返回列表\n",
    "    def printMatrix(self, matrix):\n",
    "        res = []\n",
    "        while matrix:\n",
    "            res += matrix.pop(0)\n",
    "            if not matrix:\n",
    "                break\n",
    "            matrix = self.turn(matrix)\n",
    "        return res\n",
    "    \n",
    "    def turn(self, matrix):\n",
    "        m, n = len(matrix), len(matrix[0])\n",
    "        tp = []\n",
    "        for j in range(n):\n",
    "            t = []\n",
    "            for i in range(m):\n",
    "                t.append(matrix[i][j])\n",
    "            tp.append(t)\n",
    "        tp.reverse()\n",
    "        return tp"
   ]
  },
  {
   "cell_type": "code",
   "execution_count": 3,
   "metadata": {},
   "outputs": [
    {
     "ename": "TypeError",
     "evalue": "printMatrix() missing 1 required positional argument: 'matrix'",
     "output_type": "error",
     "traceback": [
      "\u001b[1;31m---------------------------------------------------------------------------\u001b[0m",
      "\u001b[1;31mTypeError\u001b[0m                                 Traceback (most recent call last)",
      "\u001b[1;32m<ipython-input-3-cf32e5b43f5d>\u001b[0m in \u001b[0;36m<module>\u001b[1;34m()\u001b[0m\n\u001b[0;32m      1\u001b[0m \u001b[0ml1\u001b[0m \u001b[1;33m=\u001b[0m \u001b[1;33m[\u001b[0m\u001b[1;33m[\u001b[0m\u001b[1;36m1\u001b[0m\u001b[1;33m,\u001b[0m\u001b[1;36m2\u001b[0m\u001b[1;33m,\u001b[0m\u001b[1;36m3\u001b[0m\u001b[1;33m,\u001b[0m\u001b[1;36m4\u001b[0m\u001b[1;33m]\u001b[0m\u001b[1;33m,\u001b[0m\u001b[1;33m[\u001b[0m\u001b[1;36m5\u001b[0m\u001b[1;33m,\u001b[0m\u001b[1;36m6\u001b[0m\u001b[1;33m,\u001b[0m\u001b[1;36m7\u001b[0m\u001b[1;33m,\u001b[0m\u001b[1;36m8\u001b[0m\u001b[1;33m]\u001b[0m\u001b[1;33m,\u001b[0m\u001b[1;33m[\u001b[0m\u001b[1;36m9\u001b[0m\u001b[1;33m,\u001b[0m\u001b[1;36m10\u001b[0m\u001b[1;33m,\u001b[0m\u001b[1;36m11\u001b[0m\u001b[1;33m,\u001b[0m\u001b[1;36m12\u001b[0m\u001b[1;33m]\u001b[0m\u001b[1;33m,\u001b[0m\u001b[1;33m[\u001b[0m\u001b[1;36m13\u001b[0m\u001b[1;33m,\u001b[0m\u001b[1;36m14\u001b[0m\u001b[1;33m,\u001b[0m\u001b[1;36m15\u001b[0m\u001b[1;33m,\u001b[0m\u001b[1;36m16\u001b[0m\u001b[1;33m]\u001b[0m\u001b[1;33m]\u001b[0m\u001b[1;33m\u001b[0m\u001b[0m\n\u001b[0;32m      2\u001b[0m \u001b[0ms\u001b[0m\u001b[1;33m=\u001b[0m \u001b[0mSolution\u001b[0m\u001b[1;33m\u001b[0m\u001b[0m\n\u001b[1;32m----> 3\u001b[1;33m \u001b[0ms\u001b[0m\u001b[1;33m.\u001b[0m\u001b[0mprintMatrix\u001b[0m\u001b[1;33m(\u001b[0m\u001b[0ml1\u001b[0m\u001b[1;33m)\u001b[0m\u001b[1;33m\u001b[0m\u001b[0m\n\u001b[0m",
      "\u001b[1;31mTypeError\u001b[0m: printMatrix() missing 1 required positional argument: 'matrix'"
     ]
    }
   ],
   "source": [
    "l1 = [[1,2,3,4],[5,6,7,8],[9,10,11,12],[13,14,15,16]]\n",
    "s= Solution\n",
    "s.printMatrix(l1)"
   ]
  },
  {
   "cell_type": "code",
   "execution_count": 10,
   "metadata": {},
   "outputs": [
    {
     "data": {
      "text/plain": [
       "([1, 2, 3, 4], [[5, 6, 7, 8], [9, 10, 11, 12], [13, 14, 15, 16]])"
      ]
     },
     "execution_count": 10,
     "metadata": {},
     "output_type": "execute_result"
    }
   ],
   "source": [
    "l1 = [[1,2,3,4],[5,6,7,8],[9,10,11,12],[13,14,15,16]]\n",
    "l1.pop(0),l1"
   ]
  },
  {
   "cell_type": "code",
   "execution_count": 11,
   "metadata": {},
   "outputs": [
    {
     "data": {
      "text/plain": [
       "3"
      ]
     },
     "execution_count": 11,
     "metadata": {},
     "output_type": "execute_result"
    }
   ],
   "source": [
    "len(l1)"
   ]
  },
  {
   "cell_type": "code",
   "execution_count": 12,
   "metadata": {},
   "outputs": [
    {
     "data": {
      "text/plain": [
       "4"
      ]
     },
     "execution_count": 12,
     "metadata": {},
     "output_type": "execute_result"
    }
   ],
   "source": [
    "len(l1[0])"
   ]
  },
  {
   "cell_type": "code",
   "execution_count": 13,
   "metadata": {},
   "outputs": [
    {
     "data": {
      "text/plain": [
       "[[8, 12, 16], [7, 11, 15], [6, 10, 14], [5, 9, 13]]"
      ]
     },
     "execution_count": 13,
     "metadata": {},
     "output_type": "execute_result"
    }
   ],
   "source": [
    "    def turn( matrix):\n",
    "        m, n = len(matrix), len(matrix[0])\n",
    "        tp = []\n",
    "        for j in range(n):\n",
    "            t = []\n",
    "            for i in range(m):\n",
    "                t.append(matrix[i][j])\n",
    "            tp.append(t)\n",
    "        tp.reverse()\n",
    "        return tp\n",
    "    turn(l1)"
   ]
  },
  {
   "cell_type": "code",
   "execution_count": 3,
   "metadata": {
    "collapsed": true
   },
   "outputs": [],
   "source": [
    "    def IsPopOrder(pushV, popV):\n",
    "        # write code here\n",
    "        stack = []\n",
    "        if not pushV or not popV:\n",
    "            return None\n",
    "        if len(pushV) != len(popV):\n",
    "            return False\n",
    "        for v in pushV:\n",
    "            stack.append(v)\n",
    "            print(stack)\n",
    "            print(popV)\n",
    "            while stack and stack[-1] == popV[0]:\n",
    "                popV.pop(0)\n",
    "                stack.pop()\n",
    "        if len(stack):\n",
    "            return False\n",
    "        return True"
   ]
  },
  {
   "cell_type": "code",
   "execution_count": 4,
   "metadata": {},
   "outputs": [
    {
     "name": "stdout",
     "output_type": "stream",
     "text": [
      "[1]\n",
      "[4, 5, 3, 2, 1]\n",
      "[1, 2]\n",
      "[4, 5, 3, 2, 1]\n",
      "[1, 2, 3]\n",
      "[4, 5, 3, 2, 1]\n",
      "[1, 2, 3, 4]\n",
      "[4, 5, 3, 2, 1]\n",
      "[1, 2, 3, 5]\n",
      "[5, 3, 2, 1]\n"
     ]
    },
    {
     "data": {
      "text/plain": [
       "True"
      ]
     },
     "execution_count": 4,
     "metadata": {},
     "output_type": "execute_result"
    }
   ],
   "source": [
    "pushV = [1,2,3,4,5]\n",
    "popV = [4,5,3,2,1]\n",
    "IsPopOrder(pushV,popV)"
   ]
  },
  {
   "cell_type": "code",
   "execution_count": 6,
   "metadata": {},
   "outputs": [
    {
     "name": "stdout",
     "output_type": "stream",
     "text": [
      "[1]\n",
      "[4, 3, 5, 1, 2]\n",
      "[1, 2]\n",
      "[4, 3, 5, 1, 2]\n",
      "[1, 2, 3]\n",
      "[4, 3, 5, 1, 2]\n",
      "[1, 2, 3, 4]\n",
      "[4, 3, 5, 1, 2]\n",
      "[1, 2, 5]\n",
      "[5, 1, 2]\n"
     ]
    },
    {
     "data": {
      "text/plain": [
       "False"
      ]
     },
     "execution_count": 6,
     "metadata": {},
     "output_type": "execute_result"
    }
   ],
   "source": [
    "pushV = [1,2,3,4,5]\n",
    "popV = [4,3,5,1,2]\n",
    "IsPopOrder(pushV,popV)"
   ]
  },
  {
   "cell_type": "markdown",
   "metadata": {},
   "source": [
    "Stack模仿数据弹出的一种动作。"
   ]
  },
  {
   "cell_type": "markdown",
   "metadata": {},
   "source": [
    "输入一个整数数组，判断该数组是不是某二叉搜索树的后序遍历的结果。如果是则输出Yes,否则输出No。假设输入的数组的任意两个数字都互不相同。\n",
    "- 二叉搜索树的后序遍历，先是左子树，后进入右子树，然后根节点\n",
    "- 解题思路：先将数组变为二叉搜索树编程，然后比较两者差异如果相同，输出Yes,如果不相同输出No\n",
    "- 解题思路：没有二叉作为对比，然后我们可以进行判断还原的二叉树是否符合规则。"
   ]
  },
  {
   "cell_type": "code",
   "execution_count": 39,
   "metadata": {
    "collapsed": true
   },
   "outputs": [],
   "source": [
    "def VerifySquenceOfBST(sequence):\n",
    "    n = len(sequence)\n",
    "    print(n)\n",
    "    if n==0:\n",
    "        return False\n",
    "    root = sequence[-1]\n",
    "    #二叉树中\n",
    "    i,j = 0,0\n",
    "    while sequence[i]<root:\n",
    "        i +=1\n",
    "        #print(i)\n",
    "    j = i\n",
    "    for k in range(j,n-1):\n",
    "        if sequence[k]<root:\n",
    "            return False\n",
    "        #print(j)\n",
    "    print(\"i={},j={}\".format(i,j))\n",
    "    left,right = True,True\n",
    "   \n",
    "    if i>0:\n",
    "        left = VerifySquenceOfBST(sequence[0:j])\n",
    "    if left ==True:\n",
    "        right = VerifySquenceOfBST(sequence[j:-1])\n",
    "    return left&right                    "
   ]
  },
  {
   "cell_type": "code",
   "execution_count": 44,
   "metadata": {},
   "outputs": [
    {
     "name": "stdout",
     "output_type": "stream",
     "text": [
      "i=3,j=3\n",
      "i=1,j=1\n",
      "i=1,j=1\n"
     ]
    },
    {
     "data": {
      "text/plain": [
       "True"
      ]
     },
     "execution_count": 44,
     "metadata": {},
     "output_type": "execute_result"
    }
   ],
   "source": [
    "VerifySquenceOfBST([5,7,6,9,11,10,8])"
   ]
  },
  {
   "cell_type": "code",
   "execution_count": 43,
   "metadata": {
    "collapsed": true
   },
   "outputs": [],
   "source": [
    "    def VerifySquenceOfBST(sequence):\n",
    "        if len(sequence) == 0:\n",
    "            return False\n",
    "        if len(sequence) == 1:\n",
    "            return True\n",
    "        i = 0\n",
    "        root = sequence[-1]\n",
    "        while sequence[i] < root:\n",
    "            i += 1\n",
    "        j = i\n",
    "        for k in range(j, len(sequence)-1):\n",
    "            if sequence[k] < root:\n",
    "                return False\n",
    "\n",
    "        print(\"i={},j={}\".format(i,j))\n",
    "        left, right = True, True\n",
    "        if j > 0:\n",
    "            left = VerifySquenceOfBST(sequence[:j])\n",
    "        if len(sequence) - j > 1:\n",
    "            right = VerifySquenceOfBST(sequence[j:-1])\n",
    "        return left and right"
   ]
  },
  {
   "cell_type": "code",
   "execution_count": 82,
   "metadata": {
    "collapsed": true
   },
   "outputs": [],
   "source": [
    "def Permutation(ss):\n",
    "    if len(ss)==0:\n",
    "        return None\n",
    "    ss = list(set(ss))\n",
    "    Recurlist(ss)\n",
    "def Recurlist(ss):\n",
    "    res = []\n",
    "    print(type(ss))\n",
    "    if len(ss)==1:\n",
    "        return ss\n",
    "    \n",
    "    for i in ss:\n",
    "        ret = ''.join(i)\n",
    "        ss.remove(i)\n",
    "        #print(type(ss))\n",
    "        ret = ret.join(Recurlist(ss)) \n",
    "        print(ret)\n",
    "        res.append(ret)\n",
    "    return res\n",
    "\n",
    "    "
   ]
  },
  {
   "cell_type": "code",
   "execution_count": 83,
   "metadata": {},
   "outputs": [
    {
     "name": "stdout",
     "output_type": "stream",
     "text": [
      "<class 'list'>\n",
      "<class 'list'>\n",
      "<class 'list'>\n",
      "c\n",
      "c\n",
      "None\n"
     ]
    }
   ],
   "source": [
    "res = Permutation('abc')\n",
    "print(res)"
   ]
  },
  {
   "cell_type": "code",
   "execution_count": 52,
   "metadata": {
    "collapsed": true
   },
   "outputs": [],
   "source": [
    "l1.remove('w')"
   ]
  },
  {
   "cell_type": "code",
   "execution_count": 73,
   "metadata": {},
   "outputs": [
    {
     "name": "stdout",
     "output_type": "stream",
     "text": [
      "<class 'str'>\n",
      "a\n",
      "['b', 'c'] type is <class 'list'>\n",
      "<class 'str'>\n",
      "c\n",
      "['b'] type is <class 'list'>\n"
     ]
    }
   ],
   "source": [
    "s = 'abc'\n",
    "s = list(set(s))\n",
    "for i in s:\n",
    "    print(type(i))\n",
    "    print(i)\n",
    "    s.remove(i)\n",
    "    print(\"{} type is {}\".format(s,type(s)))\n",
    "    "
   ]
  },
  {
   "cell_type": "code",
   "execution_count": 68,
   "metadata": {},
   "outputs": [
    {
     "ename": "TypeError",
     "evalue": "'NoneType' object is not iterable",
     "output_type": "error",
     "traceback": [
      "\u001b[1;31m---------------------------------------------------------------------------\u001b[0m",
      "\u001b[1;31mTypeError\u001b[0m                                 Traceback (most recent call last)",
      "\u001b[1;32m<ipython-input-68-7d2154f6de2f>\u001b[0m in \u001b[0;36m<module>\u001b[1;34m()\u001b[0m\n\u001b[1;32m----> 1\u001b[1;33m \u001b[1;32mfor\u001b[0m \u001b[0mi\u001b[0m \u001b[1;32min\u001b[0m \u001b[0ms\u001b[0m\u001b[1;33m:\u001b[0m\u001b[1;33m\u001b[0m\u001b[0m\n\u001b[0m\u001b[0;32m      2\u001b[0m \u001b[1;33m\u001b[0m\u001b[0m\n\u001b[0;32m      3\u001b[0m     \u001b[0mprint\u001b[0m\u001b[1;33m(\u001b[0m\u001b[0mtype\u001b[0m\u001b[1;33m(\u001b[0m\u001b[0mi\u001b[0m\u001b[1;33m)\u001b[0m\u001b[1;33m)\u001b[0m\u001b[1;33m\u001b[0m\u001b[0m\n",
      "\u001b[1;31mTypeError\u001b[0m: 'NoneType' object is not iterable"
     ]
    }
   ],
   "source": []
  },
  {
   "cell_type": "markdown",
   "metadata": {},
   "source": [
    "### 整数中1出现的次数（从1到n整数中1出现的次数）\n",
    "- 第一种解法，不考虑时间复杂度"
   ]
  },
  {
   "cell_type": "code",
   "execution_count": 91,
   "metadata": {
    "collapsed": true
   },
   "outputs": [],
   "source": [
    "def NumberOf1Between1AndN_Solution(n):\n",
    "    count1 =0\n",
    "    for i in range(n+1):\n",
    "        count1 = count1 + count(i)\n",
    "    return count1\n",
    "def count(i):\n",
    "    number = 0\n",
    "    while i:\n",
    "        if(i%10)==1:\n",
    "            number +=1\n",
    "        i = i//10\n",
    "    return number"
   ]
  },
  {
   "cell_type": "code",
   "execution_count": 92,
   "metadata": {},
   "outputs": [
    {
     "data": {
      "text/plain": [
       "2"
      ]
     },
     "execution_count": 92,
     "metadata": {},
     "output_type": "execute_result"
    }
   ],
   "source": [
    "NumberOf1Between1AndN_Solution(10)"
   ]
  },
  {
   "cell_type": "markdown",
   "metadata": {},
   "source": [
    "第二种解法找出数字的规律，然后写出算法"
   ]
  },
  {
   "cell_type": "code",
   "execution_count": 93,
   "metadata": {
    "collapsed": true
   },
   "outputs": [],
   "source": [
    "class Solution:\n",
    "    def NumberOf1Between1AndN_Solution(self, n):\n",
    "        res = 0\n",
    "        i = 1\n",
    "        while i <= n:\n",
    "            a = n/i\n",
    "            b = n%i\n",
    "            res += (a+8)/10*i + (a%10==1)*(b+1)\n",
    "            i *= 10\n",
    "        return res"
   ]
  },
  {
   "cell_type": "code",
   "execution_count": 94,
   "metadata": {},
   "outputs": [
    {
     "data": {
      "text/plain": [
       "'[2, 32, 323]'"
      ]
     },
     "execution_count": 94,
     "metadata": {},
     "output_type": "execute_result"
    }
   ],
   "source": [
    "l1 = [3,32,321]\n",
    "str(l1)"
   ]
  },
  {
   "cell_type": "code",
   "execution_count": 96,
   "metadata": {},
   "outputs": [
    {
     "data": {
      "text/plain": [
       "'232323'"
      ]
     },
     "execution_count": 96,
     "metadata": {},
     "output_type": "execute_result"
    }
   ],
   "source": [
    "ss =str()\n",
    "for i in l1:\n",
    "    ss = ss+str(i)\n",
    "ss"
   ]
  },
  {
   "cell_type": "code",
   "execution_count": 97,
   "metadata": {},
   "outputs": [
    {
     "data": {
      "text/plain": [
       "0"
      ]
     },
     "execution_count": 97,
     "metadata": {},
     "output_type": "execute_result"
    }
   ],
   "source": [
    "5%1"
   ]
  },
  {
   "cell_type": "markdown",
   "metadata": {},
   "source": [
    "### 把数组排成最小的数\n",
    "- 暴力解法"
   ]
  },
  {
   "cell_type": "code",
   "execution_count": 113,
   "metadata": {
    "collapsed": true
   },
   "outputs": [],
   "source": [
    "def PrintMinNumber(numbers):\n",
    "        # write code here\\\n",
    "    if not numbers:\n",
    "        return ''\n",
    "    lmd = lambda x,y:int(str(x)+str(y))-int(str(y)+str(x))\n",
    "    res = sorted(numbers,key=lmd)\n",
    "    return ''.join([str(i) for i in res])\n"
   ]
  },
  {
   "cell_type": "code",
   "execution_count": 114,
   "metadata": {},
   "outputs": [
    {
     "ename": "TypeError",
     "evalue": "<lambda>() missing 1 required positional argument: 'y'",
     "output_type": "error",
     "traceback": [
      "\u001b[1;31m---------------------------------------------------------------------------\u001b[0m",
      "\u001b[1;31mTypeError\u001b[0m                                 Traceback (most recent call last)",
      "\u001b[1;32m<ipython-input-114-1e086493ef4a>\u001b[0m in \u001b[0;36m<module>\u001b[1;34m()\u001b[0m\n\u001b[0;32m      1\u001b[0m \u001b[0mnumbers\u001b[0m\u001b[1;33m=\u001b[0m\u001b[1;33m[\u001b[0m\u001b[1;36m1\u001b[0m\u001b[1;33m,\u001b[0m\u001b[1;36m2\u001b[0m\u001b[1;33m,\u001b[0m\u001b[1;36m5\u001b[0m\u001b[1;33m,\u001b[0m\u001b[1;36m6\u001b[0m\u001b[1;33m,\u001b[0m\u001b[1;36m7\u001b[0m\u001b[1;33m]\u001b[0m\u001b[1;33m\u001b[0m\u001b[0m\n\u001b[1;32m----> 2\u001b[1;33m \u001b[0mPrintMinNumber\u001b[0m\u001b[1;33m(\u001b[0m\u001b[0mnumbers\u001b[0m\u001b[1;33m)\u001b[0m\u001b[1;33m\u001b[0m\u001b[0m\n\u001b[0m",
      "\u001b[1;32m<ipython-input-113-9780ed649e71>\u001b[0m in \u001b[0;36mPrintMinNumber\u001b[1;34m(numbers)\u001b[0m\n\u001b[0;32m      4\u001b[0m         \u001b[1;32mreturn\u001b[0m \u001b[1;34m''\u001b[0m\u001b[1;33m\u001b[0m\u001b[0m\n\u001b[0;32m      5\u001b[0m     \u001b[0mlmd\u001b[0m \u001b[1;33m=\u001b[0m \u001b[1;32mlambda\u001b[0m \u001b[0mx\u001b[0m\u001b[1;33m,\u001b[0m\u001b[0my\u001b[0m\u001b[1;33m:\u001b[0m\u001b[0mint\u001b[0m\u001b[1;33m(\u001b[0m\u001b[0mstr\u001b[0m\u001b[1;33m(\u001b[0m\u001b[0mx\u001b[0m\u001b[1;33m)\u001b[0m\u001b[1;33m+\u001b[0m\u001b[0mstr\u001b[0m\u001b[1;33m(\u001b[0m\u001b[0my\u001b[0m\u001b[1;33m)\u001b[0m\u001b[1;33m)\u001b[0m\u001b[1;33m-\u001b[0m\u001b[0mint\u001b[0m\u001b[1;33m(\u001b[0m\u001b[0mstr\u001b[0m\u001b[1;33m(\u001b[0m\u001b[0my\u001b[0m\u001b[1;33m)\u001b[0m\u001b[1;33m+\u001b[0m\u001b[0mstr\u001b[0m\u001b[1;33m(\u001b[0m\u001b[0mx\u001b[0m\u001b[1;33m)\u001b[0m\u001b[1;33m)\u001b[0m\u001b[1;33m\u001b[0m\u001b[0m\n\u001b[1;32m----> 6\u001b[1;33m     \u001b[0mres\u001b[0m \u001b[1;33m=\u001b[0m \u001b[0msorted\u001b[0m\u001b[1;33m(\u001b[0m\u001b[0mnumbers\u001b[0m\u001b[1;33m,\u001b[0m\u001b[0mkey\u001b[0m\u001b[1;33m=\u001b[0m\u001b[0mlmd\u001b[0m\u001b[1;33m)\u001b[0m\u001b[1;33m\u001b[0m\u001b[0m\n\u001b[0m\u001b[0;32m      7\u001b[0m     \u001b[1;32mreturn\u001b[0m \u001b[1;34m''\u001b[0m\u001b[1;33m.\u001b[0m\u001b[0mjoin\u001b[0m\u001b[1;33m(\u001b[0m\u001b[1;33m[\u001b[0m\u001b[0mstr\u001b[0m\u001b[1;33m(\u001b[0m\u001b[0mi\u001b[0m\u001b[1;33m)\u001b[0m \u001b[1;32mfor\u001b[0m \u001b[0mi\u001b[0m \u001b[1;32min\u001b[0m \u001b[0mres\u001b[0m\u001b[1;33m]\u001b[0m\u001b[1;33m)\u001b[0m\u001b[1;33m\u001b[0m\u001b[0m\n",
      "\u001b[1;31mTypeError\u001b[0m: <lambda>() missing 1 required positional argument: 'y'"
     ]
    }
   ],
   "source": [
    "numbers=[1,2,5,6,7]\n",
    "PrintMinNumber(numbers)"
   ]
  },
  {
   "cell_type": "code",
   "execution_count": 106,
   "metadata": {},
   "outputs": [
    {
     "data": {
      "text/plain": [
       "NoneType"
      ]
     },
     "execution_count": 106,
     "metadata": {},
     "output_type": "execute_result"
    }
   ],
   "source": [
    "numbers=[1,2,5,6,7]\n",
    "num = numbers.remove(5)\n",
    "type(num)"
   ]
  },
  {
   "cell_type": "code",
   "execution_count": 115,
   "metadata": {
    "collapsed": true
   },
   "outputs": [],
   "source": [
    "sorted??"
   ]
  },
  {
   "cell_type": "code",
   "execution_count": 120,
   "metadata": {
    "collapsed": true
   },
   "outputs": [],
   "source": [
    "def PrintMinNumber(numbers):        \n",
    "    if not numbers:\n",
    "            return ''\n",
    "    lmd = lambda x,y:int(str(x)+str(y)) - int(str(y)+str(x))\n",
    "    res = numbers.sort(cmp=lmd)\n",
    "    return ''.join([str(i) for i in res])\n"
   ]
  },
  {
   "cell_type": "code",
   "execution_count": 121,
   "metadata": {},
   "outputs": [
    {
     "ename": "TypeError",
     "evalue": "'cmp' is an invalid keyword argument for this function",
     "output_type": "error",
     "traceback": [
      "\u001b[1;31m---------------------------------------------------------------------------\u001b[0m",
      "\u001b[1;31mTypeError\u001b[0m                                 Traceback (most recent call last)",
      "\u001b[1;32m<ipython-input-121-1e086493ef4a>\u001b[0m in \u001b[0;36m<module>\u001b[1;34m()\u001b[0m\n\u001b[0;32m      1\u001b[0m \u001b[0mnumbers\u001b[0m\u001b[1;33m=\u001b[0m\u001b[1;33m[\u001b[0m\u001b[1;36m1\u001b[0m\u001b[1;33m,\u001b[0m\u001b[1;36m2\u001b[0m\u001b[1;33m,\u001b[0m\u001b[1;36m5\u001b[0m\u001b[1;33m,\u001b[0m\u001b[1;36m6\u001b[0m\u001b[1;33m,\u001b[0m\u001b[1;36m7\u001b[0m\u001b[1;33m]\u001b[0m\u001b[1;33m\u001b[0m\u001b[0m\n\u001b[1;32m----> 2\u001b[1;33m \u001b[0mPrintMinNumber\u001b[0m\u001b[1;33m(\u001b[0m\u001b[0mnumbers\u001b[0m\u001b[1;33m)\u001b[0m\u001b[1;33m\u001b[0m\u001b[0m\n\u001b[0m",
      "\u001b[1;32m<ipython-input-120-c18cd2429fc7>\u001b[0m in \u001b[0;36mPrintMinNumber\u001b[1;34m(numbers)\u001b[0m\n\u001b[0;32m      3\u001b[0m             \u001b[1;32mreturn\u001b[0m \u001b[1;34m''\u001b[0m\u001b[1;33m\u001b[0m\u001b[0m\n\u001b[0;32m      4\u001b[0m     \u001b[0mlmd\u001b[0m \u001b[1;33m=\u001b[0m \u001b[1;32mlambda\u001b[0m \u001b[0mx\u001b[0m\u001b[1;33m,\u001b[0m\u001b[0my\u001b[0m\u001b[1;33m:\u001b[0m\u001b[0mint\u001b[0m\u001b[1;33m(\u001b[0m\u001b[0mstr\u001b[0m\u001b[1;33m(\u001b[0m\u001b[0mx\u001b[0m\u001b[1;33m)\u001b[0m\u001b[1;33m+\u001b[0m\u001b[0mstr\u001b[0m\u001b[1;33m(\u001b[0m\u001b[0my\u001b[0m\u001b[1;33m)\u001b[0m\u001b[1;33m)\u001b[0m \u001b[1;33m-\u001b[0m \u001b[0mint\u001b[0m\u001b[1;33m(\u001b[0m\u001b[0mstr\u001b[0m\u001b[1;33m(\u001b[0m\u001b[0my\u001b[0m\u001b[1;33m)\u001b[0m\u001b[1;33m+\u001b[0m\u001b[0mstr\u001b[0m\u001b[1;33m(\u001b[0m\u001b[0mx\u001b[0m\u001b[1;33m)\u001b[0m\u001b[1;33m)\u001b[0m\u001b[1;33m\u001b[0m\u001b[0m\n\u001b[1;32m----> 5\u001b[1;33m     \u001b[0mres\u001b[0m \u001b[1;33m=\u001b[0m \u001b[0mnumbers\u001b[0m\u001b[1;33m.\u001b[0m\u001b[0msort\u001b[0m\u001b[1;33m(\u001b[0m\u001b[0mcmp\u001b[0m\u001b[1;33m=\u001b[0m\u001b[0mlmd\u001b[0m\u001b[1;33m)\u001b[0m\u001b[1;33m\u001b[0m\u001b[0m\n\u001b[0m\u001b[0;32m      6\u001b[0m     \u001b[1;32mreturn\u001b[0m \u001b[1;34m''\u001b[0m\u001b[1;33m.\u001b[0m\u001b[0mjoin\u001b[0m\u001b[1;33m(\u001b[0m\u001b[1;33m[\u001b[0m\u001b[0mstr\u001b[0m\u001b[1;33m(\u001b[0m\u001b[0mi\u001b[0m\u001b[1;33m)\u001b[0m \u001b[1;32mfor\u001b[0m \u001b[0mi\u001b[0m \u001b[1;32min\u001b[0m \u001b[0mres\u001b[0m\u001b[1;33m]\u001b[0m\u001b[1;33m)\u001b[0m\u001b[1;33m\u001b[0m\u001b[0m\n",
      "\u001b[1;31mTypeError\u001b[0m: 'cmp' is an invalid keyword argument for this function"
     ]
    }
   ],
   "source": [
    "numbers=[1,2,5,6,7]\n",
    "PrintMinNumber(numbers)"
   ]
  },
  {
   "cell_type": "code",
   "execution_count": 122,
   "metadata": {
    "collapsed": true
   },
   "outputs": [],
   "source": [
    "list.sort??"
   ]
  },
  {
   "cell_type": "code",
   "execution_count": 125,
   "metadata": {
    "collapsed": true
   },
   "outputs": [],
   "source": [
    "    def isUgle(num):\n",
    "        while (num%2==0):\n",
    "            num /=2\n",
    "        while (num%3==0):\n",
    "            num /=3\n",
    "        while (num%5==0):\n",
    "            num /=5\n",
    "        return (num==1)\n"
   ]
  },
  {
   "cell_type": "code",
   "execution_count": 129,
   "metadata": {},
   "outputs": [
    {
     "data": {
      "text/plain": [
       "True"
      ]
     },
     "execution_count": 129,
     "metadata": {},
     "output_type": "execute_result"
    }
   ],
   "source": [
    "isUgle(1)"
   ]
  },
  {
   "cell_type": "code",
   "execution_count": 135,
   "metadata": {
    "collapsed": true
   },
   "outputs": [],
   "source": [
    "class Solution:\n",
    "    def GetUglyNumber_Solution(self, index):\n",
    "        # write code here\n",
    "        if index<=0:\n",
    "            return 0\n",
    "        count,num = 0,0\n",
    "        while(count<index):\n",
    "            num +=1\n",
    "            if self.isUgle(num):\n",
    "                count +=1\n",
    "            \n",
    "        return num\n",
    "    def isUgle(self,num):\n",
    "        while (num%2==0):\n",
    "            num /=2\n",
    "        while (num%3==0):\n",
    "            num /=3\n",
    "        while (num%5==0):\n",
    "            num /=5\n",
    "        return (num==1)"
   ]
  },
  {
   "cell_type": "code",
   "execution_count": 137,
   "metadata": {},
   "outputs": [
    {
     "data": {
      "text/plain": [
       "2304"
      ]
     },
     "execution_count": 137,
     "metadata": {},
     "output_type": "execute_result"
    }
   ],
   "source": [
    "s =Solution()\n",
    "s.GetUglyNumber_Solution(114)"
   ]
  },
  {
   "cell_type": "code",
   "execution_count": 138,
   "metadata": {
    "collapsed": true
   },
   "outputs": [],
   "source": [
    "class Solution:\n",
    "    def FindNumbersWithSum(self, array, tsum):\n",
    "        # write code here\n",
    "        if not array and tsum<=0:\n",
    "            return None\n",
    "        odd =0\n",
    "        for i in array:\n",
    "            odd = tsum-i\n",
    "            if odd !=i and odd in array:\n",
    "                break\n",
    "        return i*odd"
   ]
  },
  {
   "cell_type": "code",
   "execution_count": 140,
   "metadata": {},
   "outputs": [
    {
     "data": {
      "text/plain": [
       "44"
      ]
     },
     "execution_count": 140,
     "metadata": {},
     "output_type": "execute_result"
    }
   ],
   "source": [
    "s =Solution()\n",
    "s.FindNumbersWithSum([1,2,4,7,11,15],15)"
   ]
  },
  {
   "cell_type": "code",
   "execution_count": 147,
   "metadata": {},
   "outputs": [
    {
     "data": {
      "text/plain": [
       "['I', 'am', 'a', 'student.']"
      ]
     },
     "execution_count": 147,
     "metadata": {},
     "output_type": "execute_result"
    }
   ],
   "source": [
    "s= \"I am a student.\"\n",
    "res = s.split(' ')\n",
    "res\n"
   ]
  },
  {
   "cell_type": "code",
   "execution_count": 153,
   "metadata": {},
   "outputs": [
    {
     "data": {
      "text/plain": [
       "['I', 'am', 'a', 'student.']"
      ]
     },
     "execution_count": 153,
     "metadata": {},
     "output_type": "execute_result"
    }
   ],
   "source": [
    "res[::-1]"
   ]
  },
  {
   "cell_type": "code",
   "execution_count": 167,
   "metadata": {
    "collapsed": true
   },
   "outputs": [],
   "source": [
    "class Solution:\n",
    "    def Add(self, num1, num2):\n",
    "        # write code here\n",
    "        print(num1,num2)\n",
    "        if num1==0:\n",
    "            return num2\n",
    "        return self.Add((num1&num2)<<1,num1^num2)"
   ]
  },
  {
   "cell_type": "code",
   "execution_count": 179,
   "metadata": {},
   "outputs": [
    {
     "ename": "SyntaxError",
     "evalue": "invalid syntax (<ipython-input-179-a6db7e33da28>, line 2)",
     "output_type": "error",
     "traceback": [
      "\u001b[1;36m  File \u001b[1;32m\"<ipython-input-179-a6db7e33da28>\"\u001b[1;36m, line \u001b[1;32m2\u001b[0m\n\u001b[1;33m    s.Add(`(-1),1)\u001b[0m\n\u001b[1;37m          ^\u001b[0m\n\u001b[1;31mSyntaxError\u001b[0m\u001b[1;31m:\u001b[0m invalid syntax\n"
     ]
    }
   ],
   "source": [
    "s = Solution()\n",
    "s.Add(num1=~(-1),1)"
   ]
  },
  {
   "cell_type": "code",
   "execution_count": 159,
   "metadata": {},
   "outputs": [
    {
     "data": {
      "text/plain": [
       "6"
      ]
     },
     "execution_count": 159,
     "metadata": {},
     "output_type": "execute_result"
    }
   ],
   "source": [
    "-1&3<<1"
   ]
  },
  {
   "cell_type": "code",
   "execution_count": 162,
   "metadata": {},
   "outputs": [
    {
     "data": {
      "text/plain": [
       "(4, 1)"
      ]
     },
     "execution_count": 162,
     "metadata": {},
     "output_type": "execute_result"
    }
   ],
   "source": [
    "(3&2)<<1,3^2"
   ]
  },
  {
   "cell_type": "code",
   "execution_count": 171,
   "metadata": {},
   "outputs": [
    {
     "data": {
      "text/plain": [
       "(4, -3)"
      ]
     },
     "execution_count": 171,
     "metadata": {},
     "output_type": "execute_result"
    }
   ],
   "source": [
    "(-1&2)<<1,-1^2"
   ]
  },
  {
   "cell_type": "code",
   "execution_count": 172,
   "metadata": {},
   "outputs": [
    {
     "data": {
      "text/plain": [
       "(8, -7)"
      ]
     },
     "execution_count": 172,
     "metadata": {},
     "output_type": "execute_result"
    }
   ],
   "source": [
    "(4&-3)<<1,4^-3"
   ]
  },
  {
   "cell_type": "code",
   "execution_count": 181,
   "metadata": {},
   "outputs": [
    {
     "data": {
      "text/plain": [
       "0"
      ]
     },
     "execution_count": 181,
     "metadata": {},
     "output_type": "execute_result"
    }
   ],
   "source": [
    "~-1"
   ]
  },
  {
   "cell_type": "code",
   "execution_count": 183,
   "metadata": {
    "collapsed": true
   },
   "outputs": [],
   "source": [
    "#字符串转数字\n",
    "def duplicate(numbers, duplication):\n",
    "        # write code here\n",
    "    if not numbers:\n",
    "        return False\n",
    "    for i in list(set(numbers)):\n",
    "        while(numbers.count(i)>1):\n",
    "            duplication[0]=i\n",
    "            return True,i\n",
    "            break"
   ]
  },
  {
   "cell_type": "code",
   "execution_count": 184,
   "metadata": {},
   "outputs": [
    {
     "data": {
      "text/plain": [
       "(True, 1)"
      ]
     },
     "execution_count": 184,
     "metadata": {},
     "output_type": "execute_result"
    }
   ],
   "source": [
    "duplicate([2,1,3,1,4],[2,1,3,1,4])"
   ]
  },
  {
   "cell_type": "markdown",
   "metadata": {
    "collapsed": true
   },
   "source": [
    "### 判断字符串是否代表数字\n",
    "请实现一个函数用来判断字符串是否表示数值（包括整数和小数）。例如，字符串\"+100\",\"5e2\",\"-123\",\"3.1416\"和\"-1E-16\"都表示数值。 但是\"12e\",\"1a3.14\",\"1.2.3\",\"+-5\"和\"12e+4.3\"都不是。"
   ]
  },
  {
   "cell_type": "code",
   "execution_count": null,
   "metadata": {
    "collapsed": true
   },
   "outputs": [],
   "source": [
    "class Solution:\n",
    "    # s字符串\n",
    "    def isNumeric(self, s):\n",
    "        # write code here\n",
    "        if not s:\n",
    "            return False\n",
    "        sign = ['+','-','e','E','.']\n",
    "        for i in s:\n",
    "            if i.isdigit() or i in sign:\n",
    "                return "
   ]
  },
  {
   "cell_type": "markdown",
   "metadata": {},
   "source": [
    "### 递归例子"
   ]
  },
  {
   "cell_type": "code",
   "execution_count": 16,
   "metadata": {},
   "outputs": [
    {
     "data": {
      "text/plain": [
       "75"
      ]
     },
     "execution_count": 16,
     "metadata": {},
     "output_type": "execute_result"
    }
   ],
   "source": [
    "list1 = [1,2,3,4,57,8]\n",
    "def sumArray(a):\n",
    "    if not a:\n",
    "        return 0\n",
    "    if len(a)==1:\n",
    "        return a[0]\n",
    "    return a[0]+sumArray(a[1:])\n",
    "\n",
    "sumArray(list1)"
   ]
  },
  {
   "cell_type": "code",
   "execution_count": 17,
   "metadata": {},
   "outputs": [
    {
     "data": {
      "text/plain": [
       "0"
      ]
     },
     "execution_count": 17,
     "metadata": {},
     "output_type": "execute_result"
    }
   ],
   "source": [
    "list1 = []\n",
    "sumArray(list1)"
   ]
  },
  {
   "cell_type": "code",
   "execution_count": 21,
   "metadata": {},
   "outputs": [
    {
     "data": {
      "text/plain": [
       "57"
      ]
     },
     "execution_count": 21,
     "metadata": {},
     "output_type": "execute_result"
    }
   ],
   "source": [
    "list1 = [1,2,3,4,57,8]\n",
    "def MaxArray(a):\n",
    "    if not a:\n",
    "        return []\n",
    "    if len(a)==1:\n",
    "        return a[0]\n",
    "    if len(a)==2:\n",
    "        return max(a[0],a[1])\n",
    "    return max(a[0],MaxArray(a[1:]))\n",
    "\n",
    "MaxArray(list1)"
   ]
  },
  {
   "cell_type": "code",
   "execution_count": 22,
   "metadata": {},
   "outputs": [
    {
     "name": "stderr",
     "output_type": "stream",
     "text": [
      "usage: ipykernel_launcher.py [-h] [--batch-size N] [--test-batch-size N]\n",
      "                             [--epochs N] [--lr LR] [--momentum M] [--no-cuda]\n",
      "                             [--seed S] [--log-interval N]\n",
      "ipykernel_launcher.py: error: unrecognized arguments: -f C:\\Users\\Geek_intern\\AppData\\Roaming\\jupyter\\runtime\\kernel-9437aebc-6c4b-4515-a49a-6e031aefb613.json\n"
     ]
    },
    {
     "ename": "SystemExit",
     "evalue": "2",
     "output_type": "error",
     "traceback": [
      "An exception has occurred, use %tb to see the full traceback.\n",
      "\u001b[1;31mSystemExit\u001b[0m\u001b[1;31m:\u001b[0m 2\n"
     ]
    },
    {
     "name": "stderr",
     "output_type": "stream",
     "text": [
      "C:\\Users\\Geek_intern\\Anaconda3\\lib\\site-packages\\IPython\\core\\interactiveshell.py:2870: UserWarning: To exit: use 'exit', 'quit', or Ctrl-D.\n",
      "  warn(\"To exit: use 'exit', 'quit', or Ctrl-D.\", stacklevel=1)\n"
     ]
    }
   ],
   "source": [
    "from __future__ import print_function\n",
    "import argparse\n",
    "import torch\n",
    "import torch.nn as nn\n",
    "import torch.nn.functional as F\n",
    "import torch.optim as optim\n",
    "from torchvision import datasets, transforms\n",
    "\n",
    "class Net(nn.Module):\n",
    "    def __init__(self):\n",
    "        super(Net, self).__init__()\n",
    "        self.conv1 = nn.Conv2d(1, 10, kernel_size=5)\n",
    "        self.conv2 = nn.Conv2d(10, 20, kernel_size=5)\n",
    "        self.conv2_drop = nn.Dropout2d()\n",
    "        self.fc1 = nn.Linear(320, 50)\n",
    "        self.fc2 = nn.Linear(50, 10)\n",
    "\n",
    "    def forward(self, x):\n",
    "        x = F.relu(F.max_pool2d(self.conv1(x), 2))\n",
    "        x = F.relu(F.max_pool2d(self.conv2_drop(self.conv2(x)), 2))\n",
    "        x = x.view(-1, 320)\n",
    "        x = F.relu(self.fc1(x))\n",
    "        x = F.dropout(x, training=self.training)\n",
    "        x = self.fc2(x)\n",
    "        return F.log_softmax(x, dim=1)\n",
    "\n",
    "def train(args, model, device, train_loader, optimizer, epoch):\n",
    "    model.train()\n",
    "    for batch_idx, (data, target) in enumerate(train_loader):\n",
    "        data, target = data.to(device), target.to(device)\n",
    "        optimizer.zero_grad()\n",
    "        output = model(data)\n",
    "        loss = F.nll_loss(output, target)\n",
    "        loss.backward()\n",
    "        optimizer.step()\n",
    "        if batch_idx % args.log_interval == 0:\n",
    "            print('Train Epoch: {} [{}/{} ({:.0f}%)]\\tLoss: {:.6f}'.format(\n",
    "                epoch, batch_idx * len(data), len(train_loader.dataset),\n",
    "                100. * batch_idx / len(train_loader), loss.item()))\n",
    "\n",
    "def test(args, model, device, test_loader):\n",
    "    model.eval()\n",
    "    test_loss = 0\n",
    "    correct = 0\n",
    "    with torch.no_grad():\n",
    "        for data, target in test_loader:\n",
    "            data, target = data.to(device), target.to(device)\n",
    "            output = model(data)\n",
    "            test_loss += F.nll_loss(output, target, reduction='sum').item() # sum up batch loss\n",
    "            pred = output.max(1, keepdim=True)[1] # get the index of the max log-probability\n",
    "            correct += pred.eq(target.view_as(pred)).sum().item()\n",
    "\n",
    "    test_loss /= len(test_loader.dataset)\n",
    "    print('\\nTest set: Average loss: {:.4f}, Accuracy: {}/{} ({:.0f}%)\\n'.format(\n",
    "        test_loss, correct, len(test_loader.dataset),\n",
    "        100. * correct / len(test_loader.dataset)))\n",
    "\n",
    "def main():\n",
    "    # Training settings\n",
    "    parser = argparse.ArgumentParser(description='PyTorch MNIST Example')\n",
    "    parser.add_argument('--batch-size', type=int, default=64, metavar='N',\n",
    "                        help='input batch size for training (default: 64)')\n",
    "    parser.add_argument('--test-batch-size', type=int, default=1000, metavar='N',\n",
    "                        help='input batch size for testing (default: 1000)')\n",
    "    parser.add_argument('--epochs', type=int, default=10, metavar='N',\n",
    "                        help='number of epochs to train (default: 10)')\n",
    "    parser.add_argument('--lr', type=float, default=0.01, metavar='LR',\n",
    "                        help='learning rate (default: 0.01)')\n",
    "    parser.add_argument('--momentum', type=float, default=0.5, metavar='M',\n",
    "                        help='SGD momentum (default: 0.5)')\n",
    "    parser.add_argument('--no-cuda', action='store_true', default=False,\n",
    "                        help='disables CUDA training')\n",
    "    parser.add_argument('--seed', type=int, default=1, metavar='S',\n",
    "                        help='random seed (default: 1)')\n",
    "    parser.add_argument('--log-interval', type=int, default=10, metavar='N',\n",
    "                        help='how many batches to wait before logging training status')\n",
    "    args = parser.parse_args()\n",
    "    use_cuda = not args.no_cuda and torch.cuda.is_available()\n",
    "\n",
    "    torch.manual_seed(args.seed)\n",
    "\n",
    "    device = torch.device(\"cuda\" if use_cuda else \"cpu\")\n",
    "\n",
    "    kwargs = {'num_workers': 1, 'pin_memory': True} if use_cuda else {}\n",
    "    train_loader = torch.utils.data.DataLoader(\n",
    "        datasets.MNIST('../data', train=True, download=True,\n",
    "                       transform=transforms.Compose([\n",
    "                           transforms.ToTensor(),\n",
    "                           transforms.Normalize((0.1307,), (0.3081,))\n",
    "                       ])),\n",
    "        batch_size=args.batch_size, shuffle=True, **kwargs)\n",
    "    test_loader = torch.utils.data.DataLoader(\n",
    "        datasets.MNIST('../data', train=False, transform=transforms.Compose([\n",
    "                           transforms.ToTensor(),\n",
    "                           transforms.Normalize((0.1307,), (0.3081,))\n",
    "                       ])),\n",
    "        batch_size=args.test_batch_size, shuffle=True, **kwargs)\n",
    "\n",
    "\n",
    "    model = Net().to(device)\n",
    "    optimizer = optim.SGD(model.parameters(), lr=args.lr, momentum=args.momentum)\n",
    "\n",
    "    for epoch in range(1, args.epochs + 1):\n",
    "        train(args, model, device, train_loader, optimizer, epoch)\n",
    "        test(args, model, device, test_loader)\n",
    "\n",
    "\n",
    "if __name__ == '__main__':\n",
    "    main()"
   ]
  },
  {
   "cell_type": "markdown",
   "metadata": {},
   "source": [
    "### 不用加减乘除做加法"
   ]
  },
  {
   "cell_type": "code",
   "execution_count": 5,
   "metadata": {},
   "outputs": [
    {
     "data": {
      "text/plain": [
       "1010"
      ]
     },
     "execution_count": 5,
     "metadata": {},
     "output_type": "execute_result"
    }
   ],
   "source": [
    "class Solution:\n",
    "    def Add(self, num1, num2):\n",
    "        # write code here\n",
    "        while num2:\n",
    "            sum_ = (num1 ^ num2) & 0xffffffff\n",
    "            carry = ((num1 & num2)<<1)& 0xffffffff\n",
    "            num1 = sum_\n",
    "            num2 = carry\n",
    "        if num1<0x7fffffff:\n",
    "            return num1\n",
    "        else:\n",
    "            return ~(num1^0xffffffff)\n",
    "a,b = 111,899\n",
    "s = Solution()\n",
    "s.Add(a,b)"
   ]
  },
  {
   "cell_type": "markdown",
   "metadata": {},
   "source": [
    "### 重建二叉树\n",
    "输入某二叉树的前序遍历和中序遍历的结果，请重建出该二叉树。假设输入的前序遍历和中序遍历的结果中都不含重复的数字。例如输入前序遍历序列{1,2,4,7,3,5,6,8}和中序遍历序列{4,7,2,1,5,3,8,6}，则重建二叉树并返回。"
   ]
  },
  {
   "cell_type": "code",
   "execution_count": 6,
   "metadata": {
    "collapsed": true
   },
   "outputs": [],
   "source": [
    "class Solution:\n",
    "    # 返回构造的TreeNode根节点\n",
    "    def reConstructBinaryTree(self, pre, tin):\n",
    "        if len(pre)==0 or len(tin)==0:\n",
    "            return None\n",
    "        if len(pre)==1:\n",
    "            return treeNode(pre[0])\n",
    "        root = treeNode(pre[0])\n",
    "        idx = tin.index[pre[0]]\n",
    "        root.left = self.reConstructBinaryTree(pre[1:idx+1],tin[:idx])\n",
    "        root.right = self.reConstructBinaryTree(pre[idx+1:],tin[idx+1:])\n",
    "        return root"
   ]
  },
  {
   "cell_type": "markdown",
   "metadata": {},
   "source": [
    "### 用两个栈实现对列\n",
    "栈先进后出，对列先进先出，都可以用list模拟"
   ]
  },
  {
   "cell_type": "code",
   "execution_count": 7,
   "metadata": {
    "collapsed": true
   },
   "outputs": [],
   "source": [
    "class Solution:\n",
    "    def __init__(self):\n",
    "        self.stack1 = []\n",
    "        self.stack2 = []\n",
    "    def push(self,node):\n",
    "        return self.stack1.append(node)\n",
    "    def pop(self):\n",
    "        if self.stack2 ==[]:\n",
    "            while self.stack2:\n",
    "                self.stack2.append(self.stack2.pop())\n",
    "        return self.stack2.pop()"
   ]
  },
  {
   "cell_type": "markdown",
   "metadata": {},
   "source": [
    "### 丑数\n",
    "把只包含质因子2、3和5的数称作丑数（Ugly Number）。例如6、8都是丑数，但14不是，因为它包含质因子7。 习惯上我们把1当做是第一个丑数。求按从小到大的顺序的第N个丑数。"
   ]
  },
  {
   "cell_type": "code",
   "execution_count": 15,
   "metadata": {},
   "outputs": [
    {
     "name": "stdout",
     "output_type": "stream",
     "text": [
      "selct from 2,3,5\n",
      "selct,2\n",
      "selct from 4,3,5\n",
      "selct,3\n",
      "selct from 4,6,5\n",
      "selct,4\n",
      "selct from 6,6,5\n",
      "selct,5\n",
      "selct from 6,6,10\n",
      "selct,6\n",
      "selct from 8,9,10\n",
      "selct,8\n",
      "selct from 10,9,10\n",
      "selct,9\n",
      "selct from 10,12,10\n",
      "selct,10\n",
      "selct from 12,12,15\n",
      "selct,12\n"
     ]
    },
    {
     "data": {
      "text/plain": [
       "[1, 2, 3, 4, 5, 6, 8, 9, 10, 12]"
      ]
     },
     "execution_count": 15,
     "metadata": {},
     "output_type": "execute_result"
    }
   ],
   "source": [
    "class Solution:\n",
    "    def GetUglyNumber_Solution(self, index):\n",
    "        #边界条件\n",
    "        if index<=0:\n",
    "            return 0\n",
    "        uglyNumber = [1]\n",
    "        twoIdx,threeIdx,fiveIdx = 0,0,0\n",
    "        for i in range(index-1):\n",
    "            new = min(uglyNumber[twoIdx]*2,uglyNumber[threeIdx]*3,uglyNumber[fiveIdx]*5)\n",
    "            print(\"selct from {},{},{}\".format(uglyNumber[twoIdx]*2,uglyNumber[threeIdx]*3,uglyNumber[fiveIdx]*5))\n",
    "            print('selct,%d'%new)\n",
    "            uglyNumber.append(new)\n",
    "            if new ==uglyNumber[twoIdx]*2:\n",
    "                twoIdx+=1\n",
    "            if new ==uglyNumber[threeIdx]*3:\n",
    "                threeIdx+=1\n",
    "            if new ==uglyNumber[fiveIdx]*5:\n",
    "                fiveIdx+=1\n",
    "        return uglyNumber\n",
    "s = Solution()\n",
    "s.GetUglyNumber_Solution(10)"
   ]
  },
  {
   "cell_type": "markdown",
   "metadata": {},
   "source": [
    "### 旋转矩阵的最小数字\n",
    "把一个数组最开始的若干个元素搬到数组的末尾，我们称之为数组的旋转。 输入一个非减排序的数组的一个旋转，输出旋转数组的最小元素。 例如数组{3,4,5,1,2}为{1,2,3,4,5}的一个旋转，该数组的最小值为1。 NOTE：给出的所有元素都大于0，若数组大小为0，请返回0。"
   ]
  },
  {
   "cell_type": "code",
   "execution_count": 19,
   "metadata": {},
   "outputs": [
    {
     "data": {
      "text/plain": [
       "2"
      ]
     },
     "execution_count": 19,
     "metadata": {},
     "output_type": "execute_result"
    }
   ],
   "source": [
    "class Solution:\n",
    "    def minNumberInRotateArray(self, rotateArray):\n",
    "        #排除边界条件\n",
    "        if not rotateArray:\n",
    "            return 0\n",
    "        if len(rotateArray)==1:\n",
    "            return rotateArray[0]\n",
    "        for i in range(len(rotateArray)-1):\n",
    "            if rotateArray[i]>rotateArray[i+1]:\n",
    "                return rotateArray[i+1]\n",
    "        return rotateArray[0]\n",
    "s = Solution()\n",
    "s.minNumberInRotateArray([2,3,4,5,6])"
   ]
  },
  {
   "cell_type": "markdown",
   "metadata": {},
   "source": [
    "### 二维数组的查找\n",
    "在一个二维数组中（每个一维数组的长度相同），每一行都按照从左到右递增的顺序排序，每一列都按照从上到下递增的顺序排序。请完成一个函数，输入这样的一个二维数组和一个整数，判断数组中是否含有该整数。"
   ]
  },
  {
   "cell_type": "code",
   "execution_count": 32,
   "metadata": {
    "collapsed": true
   },
   "outputs": [],
   "source": [
    "class Solution:\n",
    "    # array 二维列表\n",
    "    def Find(self, target, array):\n",
    "        # write code here\n",
    "        if not array:\n",
    "            return None\n",
    "        row,col = 0,len(array[0])-1\n",
    "        while row<len(array[0]) and col>=0:\n",
    "            print(\"find %d\"%(array[col][row]))\n",
    "            if array[col][row]==target:\n",
    "                return True\n",
    "            elif array[col][row]<target:\n",
    "                row+=1\n",
    "            else:\n",
    "                col-=1\n",
    "        return False"
   ]
  },
  {
   "cell_type": "code",
   "execution_count": 37,
   "metadata": {
    "collapsed": true
   },
   "outputs": [],
   "source": [
    "class Solution:\n",
    "    # array 二维列表\n",
    "    def Find(self, target, array):\n",
    "        # write code here\n",
    "        if not array:\n",
    "            return None\n",
    "        for i in range(len(array)):\n",
    "            if target in array[i]:\n",
    "                return True\n",
    "        return False"
   ]
  },
  {
   "cell_type": "code",
   "execution_count": 38,
   "metadata": {},
   "outputs": [
    {
     "data": {
      "text/plain": [
       "True"
      ]
     },
     "execution_count": 38,
     "metadata": {},
     "output_type": "execute_result"
    }
   ],
   "source": [
    "array = [[1,2,3],\n",
    "        [4,5,6],\n",
    "        [7,8,9]]\n",
    "target =3\n",
    "s = Solution()\n",
    "s.Find(array=array,target=target)"
   ]
  },
  {
   "cell_type": "markdown",
   "metadata": {},
   "source": [
    "### 二叉树和双向链表 ●(未弄懂，回去一定弄懂)\n",
    "输入一棵二叉搜索树，将该二叉搜索树转换成一个排序的双向链表。要求不能创建任何新的结点，只能调整树中结点指针的指向。"
   ]
  },
  {
   "cell_type": "code",
   "execution_count": 39,
   "metadata": {
    "collapsed": true
   },
   "outputs": [],
   "source": [
    "class Solution:\n",
    "    def Convert(self, pRootOfTree):\n",
    "        # 边界条件\n",
    "        if not pRootOfTree:\n",
    "            return pRootOfTree\n",
    "        if not pRootOfTree.left and not pRootOfTree.right:\n",
    "            return pRootOfTree\n",
    "        self.Convert(pRootOfTree.left)\n",
    "        left = pRootOfTree.left\n",
    "        if left:\n",
    "            while left.right:\n",
    "                left = left.right\n",
    "            pRootOfTree.left,left.right = left,pRootOfTree\n",
    "        self.Convert(pRootOfTree.right)\n",
    "        right = pRootOfTree.right\n",
    "        if right:\n",
    "            while right.left:\n",
    "                right = right.left\n",
    "            pRootOfTree.right,right.left = right,pRootOfTree\n",
    "        while pRootOfTree.left:\n",
    "            pRootOfTree = pRootOfTree.left\n",
    "        return pRootOfTree"
   ]
  },
  {
   "cell_type": "markdown",
   "metadata": {},
   "source": [
    "### 二叉树的后序遍历序列\n",
    "输入一个整数数组，判断该数组是不是某二叉搜索树的后序遍历的结果。如果是则输出Yes,否则输出No。假设输入的数组的任意两个数字都互不相同。"
   ]
  },
  {
   "cell_type": "code",
   "execution_count": 40,
   "metadata": {
    "collapsed": true
   },
   "outputs": [],
   "source": [
    "class Solution:\n",
    "    def VerifySquenceOfBST(self, sequence):\n",
    "        #边界条件\n",
    "        if len(sequence) ==0:\n",
    "            return False\n",
    "        if len(sequence)==1:\n",
    "            return True\n",
    "        i =0\n",
    "        root = sequence[-1]\n",
    "        while sequence[i]<root:\n",
    "            i+=1\n",
    "        #找出左子树\n",
    "        j = i\n",
    "        for k in range(j,len(sequence)-1):\n",
    "            if sequence[k]<root:\n",
    "                return False\n",
    "        left,right = True,True\n",
    "        if j>0:\n",
    "            left = self.VerifySquenceOfBST(sequence[:j])\n",
    "        if len(sequence)-j>1:\n",
    "            right = self.VerifySquenceOfBST(sequence[j:-1])\n",
    "        return left and right\n",
    "       "
   ]
  },
  {
   "cell_type": "markdown",
   "metadata": {},
   "source": [
    "### 二叉搜索树第k个节点\n",
    "给定一棵二叉搜索树，请找出其中的第k小的结点。例如， （5，3，7，2，4，6，8）    中，按结点数值大小顺序第三小结点的值为4。"
   ]
  },
  {
   "cell_type": "code",
   "execution_count": null,
   "metadata": {
    "collapsed": true
   },
   "outputs": [],
   "source": [
    "class Solution:\n",
    "    # 返回对应节点TreeNode\n",
    "    def KthNode(self, pRoot, k):\n",
    "        #边界条件\n",
    "        index =0\n",
    "        if not pRoot:\n",
    "            return None\n",
    "        node = KthNode(pRoot.left,k)\n",
    "        if node !=None:\n",
    "            return node\n",
    "        index +=1\n",
    "        if index==k:\n",
    "            return pRoot\n",
    "        node = KthNode(pRoot.right,k)\n",
    "        if node !=None:\n",
    "            return node\n",
    "        return None\n",
    "        "
   ]
  },
  {
   "cell_type": "markdown",
   "metadata": {},
   "source": [
    "### 二叉树中和为某个值的路径\n",
    "输入一颗二叉树的跟节点和一个整数，打印出二叉树中结点值的和为输入整数的所有路径。路径定义为从树的根结点开始往下一直到叶结点所经过的结点形成一条路径。(注意: 在返回值的list中，数组长度大的数组靠前)"
   ]
  },
  {
   "cell_type": "code",
   "execution_count": 1,
   "metadata": {},
   "outputs": [],
   "source": [
    "class Solution:\n",
    "    def Fibonacci(self, n):\n",
    "        # write code here\n",
    "        if n==0:\n",
    "            return 0\n",
    "        if n==1:\n",
    "            return 1\n",
    "        return self.Fibonacci(n-1)+self.Fibonacci(n-2)\n",
    "#斐波那契数列第二种解法\n",
    "class Solution:\n",
    "    def Fibonacci(self, n):\n",
    "        # write code here\n",
    "        if n ==0:\n",
    "            return 0\n",
    "        a,b = 0,1\n",
    "        while n>1:\n",
    "            n -=1\n",
    "            a,b = b,a+b\n",
    "           \n",
    "        return b"
   ]
  },
  {
   "cell_type": "code",
   "execution_count": 2,
   "metadata": {},
   "outputs": [
    {
     "data": {
      "text/plain": [
       "1"
      ]
     },
     "execution_count": 2,
     "metadata": {},
     "output_type": "execute_result"
    }
   ],
   "source": [
    "s =Solution()\n",
    "s.Fibonacci(2)"
   ]
  },
  {
   "cell_type": "markdown",
   "metadata": {},
   "source": [
    "### 跳台阶\n",
    "一只青蛙一次可以跳上1级台阶，也可以跳上2级。求该青蛙跳上一个n级的台阶总共有多少种跳法（先后次序不同算不同的结果）。"
   ]
  },
  {
   "cell_type": "code",
   "execution_count": 3,
   "metadata": {},
   "outputs": [
    {
     "data": {
      "text/plain": [
       "5"
      ]
     },
     "execution_count": 3,
     "metadata": {},
     "output_type": "execute_result"
    }
   ],
   "source": [
    "#算是另外一种斐波那契数列，当第一次跳一个台阶 f(n-1),当第二次跳2个台阶f(n-2)\n",
    "class Solution:\n",
    "    def jumpFloor(self, number):\n",
    "        #先考虑边界情况\n",
    "        if number <=3:\n",
    "            return number\n",
    "        a,b = 1,2\n",
    "        while number>2:\n",
    "            a,b = b,a+b\n",
    "            number -=1\n",
    "        return b\n",
    "s =Solution()\n",
    "s.jumpFloor(4)"
   ]
  },
  {
   "cell_type": "markdown",
   "metadata": {},
   "source": [
    "### 变态跳台阶\n",
    "结果为$ 2^{n-1}$\n",
    "### 矩形覆盖\n",
    "我们可以用$2*1$的小矩形横着或者竖着去覆盖更大的矩形。请问用n个$2*1$的小矩形无重叠地覆盖一个$2*n$的大矩形，总共有多少种方法？\n",
    "一个$2*1$的小矩形，分横放和竖放两种方法\n",
    "### 二进制1的个数\n",
    "输入一个整数，输出该数二进制表示中1的个数。其中负数用补码表示。"
   ]
  },
  {
   "cell_type": "code",
   "execution_count": 5,
   "metadata": {},
   "outputs": [
    {
     "data": {
      "text/plain": [
       "1"
      ]
     },
     "execution_count": 5,
     "metadata": {},
     "output_type": "execute_result"
    }
   ],
   "source": [
    "###Python解法\n",
    "class Solution:\n",
    "    def NumberOf1(self, n):\n",
    "        # write code here\n",
    "        return bin(n).count(\"1\") if n>=0 else bin(2**32+n).count(\"1\")\n",
    "s= Solution()\n",
    "s.NumberOf1(2)"
   ]
  },
  {
   "cell_type": "code",
   "execution_count": 6,
   "metadata": {},
   "outputs": [
    {
     "data": {
      "text/plain": [
       "1"
      ]
     },
     "execution_count": 6,
     "metadata": {},
     "output_type": "execute_result"
    }
   ],
   "source": [
    "### python解法不好，不能抓住精髓所在\n",
    "class Solution:\n",
    "    def NumberOf1(self, n):\n",
    "        count = 0\n",
    "        if n<0:\n",
    "            #取补码\n",
    "             n = n& 0xffffffff\n",
    "        while n:\n",
    "            count +=1\n",
    "            n = (n-1)&n\n",
    "        return count\n",
    "    def powerOf2(self, n):\n",
    "        if n&(n-1) == 0:\n",
    "            return True\n",
    "        else:\n",
    "            return False\n",
    "        # 判断两个数的二进制表示有多少位不一样, 直接比较两个数的二进制异或就可以\n",
    "    def andOr(self, m, n):\n",
    "        diff = m^n\n",
    "        count = 0\n",
    "        while diff:\n",
    "            count += 1\n",
    "            diff = diff&(diff-1)\n",
    "        return count\n",
    "s= Solution()\n",
    "s.NumberOf1(2)"
   ]
  },
  {
   "cell_type": "markdown",
   "metadata": {},
   "source": [
    "###  数值的整数次方\n",
    "给定一个double类型的浮点数base和int类型的整数exponent。求base的exponent次方。"
   ]
  },
  {
   "cell_type": "code",
   "execution_count": 8,
   "metadata": {},
   "outputs": [
    {
     "name": "stdout",
     "output_type": "stream",
     "text": [
      "1.0240000000000019e-07\n"
     ]
    }
   ],
   "source": [
    "class Solution:\n",
    "    def Power(self, base, exponent):\n",
    "        if exponent == 0:\n",
    "            return 1\n",
    "        if exponent == 1:\n",
    "            return base\n",
    "        if exponent == -1:\n",
    "            return 1/base\n",
    "\n",
    "        result = self.Power(base, exponent >> 1)\n",
    "        result *= result\n",
    "        if (exponent & 0x1) == 1:\n",
    "            result *= base\n",
    "        return result\n",
    "\n",
    "S = Solution()\n",
    "print(S.Power(5, -10))"
   ]
  },
  {
   "cell_type": "markdown",
   "metadata": {},
   "source": [
    "### 调整数组顺序使奇数位于偶数前面\n",
    "输入一个整数数组，实现一个函数来调整该数组中数字的顺序，使得所有的奇数位于数组的前半部分，所有的偶数位于数组的后半部分，并保证奇数和奇数，偶数和偶数之间的相对位置不变。"
   ]
  },
  {
   "cell_type": "code",
   "execution_count": 9,
   "metadata": {},
   "outputs": [],
   "source": [
    "# 暴力法\n",
    "class Solution:\n",
    "    def reOrderArray(self, array):\n",
    "        num1 = [i for i in array if i%2==0]\n",
    "        num2 = [i for i in array if i%2!=0]\n",
    "        num2.extend(num1)\n",
    "        return num2\n",
    "class Solution:\n",
    "    # 一个类似于快排的方法, 只是简单的满足了奇数在前,偶数在后, 奇数的顺序发生了改变\n",
    "    def reOrderArray(self, array):\n",
    "        if len(array) < 1:\n",
    "            return\n",
    "        elif len(array) == 1:\n",
    "            return array\n",
    "\n",
    "        front = 0\n",
    "        rear = len(array)-1\n",
    "        while front <= rear:\n",
    "            while array[front] & 0x1 == 1:\n",
    "                front += 1\n",
    "            while array[rear] & 0x1 == 0:\n",
    "                rear -= 1\n",
    "            array[front], array[rear] = array[rear], array[front]\n",
    "        array[front], array[rear] = array[rear], array[front]\n",
    "        return array"
   ]
  },
  {
   "cell_type": "code",
   "execution_count": 10,
   "metadata": {},
   "outputs": [
    {
     "name": "stdout",
     "output_type": "stream",
     "text": [
      "[-1, 9, -3, 7, -5, -6, 4, 8, 2, 10, -10]\n"
     ]
    }
   ],
   "source": [
    "S = Solution()\n",
    "# print(S.reOrderArray3([1, 2, 3, 4, 5, 6, 7, 8, 9, 10, 11, 12, 13]))\n",
    "# print(S.ReorderOddEven([1, 2, 3, 4, 5, 6, 7, 8, 9, 10, 11, 12, 13]))\n",
    "print(S.reOrderArray([-1, 2, -3, 4, -5, -6, 7, 8, 9, 10, -10]))"
   ]
  },
  {
   "cell_type": "markdown",
   "metadata": {
    "collapsed": true
   },
   "source": [
    "### 链表中倒数第k个结点\n",
    "输入一个链表，输出该链表中倒数第k个结点。"
   ]
  },
  {
   "cell_type": "code",
   "execution_count": 1,
   "metadata": {
    "collapsed": true
   },
   "outputs": [],
   "source": [
    "class Solution:\n",
    "    def FindKthToTail(self, head, k):\n",
    "        #先判断特殊情况\n",
    "        if head == None or k==0:\n",
    "            return None\n",
    "        p1 = head\n",
    "        p2 = head\n",
    "        for i in range(k-1):\n",
    "            p1 = p1.next\n",
    "            if p1 ==None:\n",
    "                return None\n",
    "        while p1:\n",
    "            p1 = p1.next\n",
    "            p2 = p2.next\n",
    "        return p2\n",
    "        "
   ]
  },
  {
   "cell_type": "markdown",
   "metadata": {},
   "source": [
    "### 反向链表\n",
    "输入一个链表，反转链表后，输出新链表的表头。"
   ]
  },
  {
   "cell_type": "code",
   "execution_count": 3,
   "metadata": {},
   "outputs": [],
   "source": [
    "class Solution:\n",
    "    # 返回ListNode\n",
    "    def ReverseList(self, pHead):\n",
    "        #普通方法\n",
    "        if pHead ==None or pHead.next ==None:\n",
    "            return pHead\n",
    "        p = pHead\n",
    "        r = None\n",
    "        while p:\n",
    "            pNext = p.next\n",
    "            p.next = r\n",
    "            r = p\n",
    "            p = pnext\n",
    "        return p"
   ]
  },
  {
   "cell_type": "code",
   "execution_count": 11,
   "metadata": {},
   "outputs": [
    {
     "name": "stdout",
     "output_type": "stream",
     "text": [
      "13 11 10\n",
      "<__main__.ListNode object at 0x00000251B62BCA20>\n",
      "<__main__.ListNode object at 0x00000251B62BC978>\n"
     ]
    }
   ],
   "source": [
    "class ListNode:\n",
    "    def __init__(self, x=None):\n",
    "        self.val = x\n",
    "        self.next = None\n",
    "class Solution:\n",
    "    # 返回ListNode\n",
    "    def ReverseList(self, pHead):\n",
    "        #递归的方法，终止条件\n",
    "        if pHead ==None or pHead.next ==None:\n",
    "            return pHead \n",
    "        newhead = self.ReverseList(pHead.next)\n",
    "        \n",
    "        pHead.next.next = pHead\n",
    "        pHead.next = None\n",
    "        return newhead\n",
    "node1 = ListNode(10)\n",
    "node2 = ListNode(11)\n",
    "node3 = ListNode(13)\n",
    "node1.next = node2\n",
    "node2.next = node3\n",
    "\n",
    "singleNode = ListNode(12)\n",
    "\n",
    "test = ListNode()\n",
    "\n",
    "S = Solution()\n",
    "node1 = S.ReverseList(node1)\n",
    "print(node1.val,node1.next.val,node1.next.next.val)\n",
    "print(S.ReverseList(test))\n",
    "print(S.ReverseList(singleNode))"
   ]
  },
  {
   "cell_type": "markdown",
   "metadata": {},
   "source": [
    "### 合并两个排序的链表\n",
    "输入两个单调递增的链表，输出两个链表合成后的链表，当然我们需要合成后的链表满足单调不减规则。"
   ]
  },
  {
   "cell_type": "code",
   "execution_count": 14,
   "metadata": {},
   "outputs": [
    {
     "name": "stdout",
     "output_type": "stream",
     "text": [
      "0 1 2\n"
     ]
    }
   ],
   "source": [
    "class ListNode:\n",
    "    def __init__(self, x):\n",
    "        self.val = x\n",
    "        self.next = None\n",
    "class Solution:\n",
    "    # 返回合并后列表\n",
    "    def Merge(self, pHead1, pHead2):\n",
    "        head = ListNode(0)\n",
    "        p = head\n",
    "        while pHead1 and pHead2:\n",
    "            if pHead1.val <= pHead2.val:\n",
    "                p.next = pHead1\n",
    "                pHead1 = pHead1.next\n",
    "            else:\n",
    "                p.next = pHead2\n",
    "                pHead2 = pHead2.next\n",
    "            p = p.next\n",
    "        if pHead1:\n",
    "            p.next = pHead1\n",
    "        if pHead2:\n",
    "            p.next = pHead2\n",
    "        return head\n",
    "#写单测\n",
    "node1 = ListNode(1)\n",
    "node2 = ListNode(3)\n",
    "node3 = ListNode(5)\n",
    "node1.next = node2\n",
    "node2.next = node3\n",
    "\n",
    "node4 = ListNode(2)\n",
    "node5 = ListNode(4)\n",
    "node6 = ListNode(6)\n",
    "node4.next = node5\n",
    "node5.next = node6\n",
    "\n",
    "s = Solution()\n",
    "l1 = s.Merge(node1,node4)\n",
    "print(l1.val,l1.next.val,l1.next.next.val)\n",
    "        "
   ]
  },
  {
   "cell_type": "code",
   "execution_count": 15,
   "metadata": {},
   "outputs": [
    {
     "name": "stdout",
     "output_type": "stream",
     "text": [
      "1 2 3\n"
     ]
    }
   ],
   "source": [
    "### 第二种解法递归\n",
    "class ListNode:\n",
    "    def __init__(self, x):\n",
    "        self.val = x\n",
    "        self.next = None\n",
    "class Solution:\n",
    "    # 返回合并后列表\n",
    "    def Merge(self, pHead1, pHead2):\n",
    "        #边界条件\n",
    "        if pHead1 ==None:\n",
    "            return pHead2\n",
    "        if pHead2 ==None:\n",
    "            return pHead1        \n",
    "        head = None\n",
    "        if pHead1.val <= pHead2.val:\n",
    "            head = pHead1\n",
    "            head.next = self.Merge(pHead1.next,pHead2)\n",
    "        else:\n",
    "            head = pHead2\n",
    "            head.next = self.Merge(pHead1,pHead2.next)\n",
    "        return head\n",
    "#写单测\n",
    "node1 = ListNode(1)\n",
    "node2 = ListNode(3)\n",
    "node3 = ListNode(5)\n",
    "node1.next = node2\n",
    "node2.next = node3\n",
    "\n",
    "node4 = ListNode(2)\n",
    "node5 = ListNode(4)\n",
    "node6 = ListNode(6)\n",
    "node4.next = node5\n",
    "node5.next = node6\n",
    "\n",
    "s = Solution()\n",
    "l1 = s.Merge(node1,node4)\n",
    "print(l1.val,l1.next.val,l1.next.next.val)"
   ]
  },
  {
   "cell_type": "markdown",
   "metadata": {},
   "source": [
    "### 树的子结构(多复习)\n",
    "输入两棵二叉树A，B，判断B是不是A的子结构。（ps：我们约定空树不是任意一个树的子结构）"
   ]
  },
  {
   "cell_type": "code",
   "execution_count": 17,
   "metadata": {},
   "outputs": [
    {
     "name": "stdout",
     "output_type": "stream",
     "text": [
      "True\n"
     ]
    }
   ],
   "source": [
    "class TreeNode:\n",
    "    def __init__(self, x):\n",
    "        self.val = x\n",
    "        self.left = None\n",
    "        self.right = None\n",
    "#这个只能用递归，没啥好办法\n",
    "class Solution:\n",
    "    def HasSubtree(self, pRoot1, pRoot2):\n",
    "        if not pRoot1 or not pRoot2:\n",
    "            return False\n",
    "        else:\n",
    "            return self.isSonTree(pRoot1,pRoot2) or self.isSonTree(pRoot1.left,pRoot2) or self.isSonTree(pRoot1.left,pRoot2)\n",
    "    def isSonTree(self,pRoot1,pRoot2):\n",
    "        if pRoot2 == None:\n",
    "            return True\n",
    "        if pRoot1 ==None:\n",
    "            return False\n",
    "        if pRoot1.val != pRoot2.val:\n",
    "            return False\n",
    "        return self.isSonTree(pRoot1.left,pRoot2.left) and self.isSonTree(pRoot1.right,pRoot2.right)\n",
    "    \n",
    "pRoot1 = TreeNode(8)\n",
    "pRoot2 = TreeNode(8)\n",
    "pRoot3 = TreeNode(7)\n",
    "pRoot4 = TreeNode(9)\n",
    "pRoot5 = TreeNode(2)\n",
    "pRoot6 = TreeNode(4)\n",
    "pRoot7 = TreeNode(7)\n",
    "pRoot1.left = pRoot2\n",
    "pRoot1.right = pRoot3\n",
    "pRoot2.left = pRoot4\n",
    "pRoot2.right = pRoot5\n",
    "pRoot5.left = pRoot6\n",
    "pRoot5.right = pRoot7\n",
    "\n",
    "pRoot8 = TreeNode(8)\n",
    "pRoot9 = TreeNode(9)\n",
    "pRoot10 = TreeNode(2)\n",
    "pRoot8.left = pRoot9\n",
    "pRoot8.right = pRoot10\n",
    "\n",
    "S = Solution()\n",
    "print(S.HasSubtree(pRoot1, pRoot8))"
   ]
  },
  {
   "cell_type": "markdown",
   "metadata": {},
   "source": [
    "### 二叉树的镜象\n",
    "操作给定的二叉树，将其变换为源二叉树的镜像。"
   ]
  },
  {
   "cell_type": "code",
   "execution_count": 30,
   "metadata": {},
   "outputs": [
    {
     "name": "stdout",
     "output_type": "stream",
     "text": [
      "8 7 8\n"
     ]
    }
   ],
   "source": [
    "class TreeNode:\n",
    "    def __init__(self, x):\n",
    "        self.val = x\n",
    "        self.left = None\n",
    "        self.right = None\n",
    "class Solution:\n",
    "    # 返回镜像树的根节点\n",
    "    def Mirror(self, root):\n",
    "        if not root:\n",
    "            return root\n",
    "        root.left,root.right = root.right,root.left\n",
    "        self.Mirror(root.left)\n",
    "        self.Mirror(root.right)\n",
    "        return root\n",
    "    def Mirror2(self,root):\n",
    "    #利用对列\n",
    "        if not root:\n",
    "            return root\n",
    "        stack = [root]\n",
    "        while len(stack)>0:\n",
    "        #index = len(stack-1)\n",
    "            tree = stack.pop()\n",
    "        \n",
    "        #index -=1\n",
    "            if tree.left !=None or tree.right !=None:\n",
    "                tree.left,tree.right = tree.right,tree.left\n",
    "            if tree.left:\n",
    "                stack.append(tree.left)\n",
    "            if tree.right:\n",
    "                stack.append(tree.right)\n",
    "        \n",
    "        \n",
    "pRoot1 = TreeNode(8)\n",
    "pRoot2 = TreeNode(8)\n",
    "pRoot3 = TreeNode(7)\n",
    "pRoot4 = TreeNode(9)\n",
    "pRoot5 = TreeNode(2)\n",
    "pRoot6 = TreeNode(4)\n",
    "pRoot7 = TreeNode(7)\n",
    "pRoot1.left = pRoot2\n",
    "pRoot1.right = pRoot3\n",
    "pRoot2.left = pRoot4\n",
    "pRoot2.right = pRoot5\n",
    "pRoot5.left = pRoot6\n",
    "pRoot5.right = pRoot7\n",
    "s =Solution()\n",
    "root2 = s.Mirror(pRoot1)\n",
    "print(root2.val,root2.left.val,root2.right.val)"
   ]
  },
  {
   "cell_type": "code",
   "execution_count": null,
   "metadata": {
    "collapsed": true
   },
   "outputs": [],
   "source": [
    "# 非递归实现\n"
   ]
  },
  {
   "cell_type": "markdown",
   "metadata": {},
   "source": [
    "### 顺时针打印矩阵\n",
    "输入一个矩阵，按照从外向里以顺时针的顺序依次打印出每一个数字，例如，如果输入如下4 X 4矩阵： 1 2 3 4 5 6 7 8 9 10 11 12 13 14 15 16 则依次打印出数字1,2,3,4,8,12,16,15,14,13,9,5,6,7,11,10."
   ]
  },
  {
   "cell_type": "code",
   "execution_count": 38,
   "metadata": {},
   "outputs": [
    {
     "name": "stdout",
     "output_type": "stream",
     "text": [
      "rencent matrix:[[8, 12, 16], [7, 11, 15], [6, 10, 14], [5, 9, 13]]\n",
      "rencent matrix:[[15, 14, 13], [11, 10, 9], [7, 6, 5]]\n",
      "rencent matrix:[[9, 5], [10, 6], [11, 7]]\n",
      "rencent matrix:[[6, 7], [10, 11]]\n",
      "rencent matrix:[[11], [10]]\n",
      "rencent matrix:[[10]]\n"
     ]
    },
    {
     "data": {
      "text/plain": [
       "[1, 2, 3, 4, 8, 12, 16, 15, 14, 13, 9, 5, 6, 7, 11, 10]"
      ]
     },
     "execution_count": 38,
     "metadata": {},
     "output_type": "execute_result"
    }
   ],
   "source": [
    "class Solution:\n",
    "    # matrix类型为二维列表，需要返回列表\n",
    "    def printMatrix(self, matrix):\n",
    "        #边界条件\n",
    "        if not matrix:\n",
    "            return []\n",
    "        res = []\n",
    "        while matrix:\n",
    "            res = res+(matrix.pop(0))\n",
    "            if not matrix:\n",
    "                break\n",
    "            matrix = self.turn(matrix)\n",
    "            print('rencent matrix:{}'.format(matrix))\n",
    "        return res\n",
    "    def turn(self,matrix):\n",
    "        m,n = len(matrix),len(matrix[0])\n",
    "        res = []\n",
    "        for j in range(n-1,-1,-1):\n",
    "            ret=[]\n",
    "            for i in range(m):\n",
    "                ret.append(matrix[i][j])\n",
    "            res.append(ret)\n",
    "        return res\n",
    "matrix =[[ 1,  2,  3,  4],\n",
    " [ 5,  6,  7,  8],\n",
    " [ 9, 10, 11, 12],\n",
    " [13, 14, 15, 16]]\n",
    "s = Solution()\n",
    "s.printMatrix(matrix)\n",
    "#        "
   ]
  },
  {
   "cell_type": "markdown",
   "metadata": {},
   "source": [
    "### 包含最小元素的数据栈\n",
    "定义栈的数据结构，请在该类型中实现一个能够得到栈中所含最小元素的min函数（时间复杂度应为O（1））。"
   ]
  },
  {
   "cell_type": "markdown",
   "metadata": {},
   "source": [
    "### 栈的压入和弹出序列\n",
    "输入两个整数序列，第一个序列表示栈的压入顺序，请判断第二个序列是否可能为该栈的弹出顺序。假设压入栈的所有数字均不相等。例如序列1,2,3,4,5是某栈的压入顺序，序列4,5,3,2,1是该压栈序列对应的一个弹出序列，但4,3,5,1,2就不可能是该压栈序列的弹出序列。（注意：这两个序列的长度是相等的）"
   ]
  },
  {
   "cell_type": "markdown",
   "metadata": {},
   "source": [
    "### 从下向上打印二叉树\n",
    "从上往下打印出二叉树的每个节点，同层节点从左至右打印"
   ]
  },
  {
   "cell_type": "code",
   "execution_count": 63,
   "metadata": {
    "collapsed": true
   },
   "outputs": [],
   "source": [
    "class Solution:\n",
    "    # 返回从上到下每个节点值列表，例：[1,2,3]\n",
    "    def PrintFromTopToBottom(self, root):\n",
    "        if not root:\n",
    "            return []\n",
    "        deque,nodes = [],[root]\n",
    "        while nodes:\n",
    "            node = nodes.pop(0)\n",
    "            deque.append(node.val)\n",
    "            if node.left:\n",
    "                nodes.append(node.left)\n",
    "            if node.right:\n",
    "                nodes.append(node.right)\n",
    "        return deque"
   ]
  },
  {
   "cell_type": "markdown",
   "metadata": {},
   "source": [
    "### 二叉搜索树后序遍历\n",
    "输入一个整数数组，判断该数组是不是某二叉搜索树的后序遍历的结果。如果是则输出Yes,否则输出No。假设输入的数组的任意两个数字都互不相同。"
   ]
  },
  {
   "cell_type": "code",
   "execution_count": null,
   "metadata": {
    "collapsed": true
   },
   "outputs": [],
   "source": [
    "class Solution:\n",
    "    def VerifySquenceOfBST(self, sequence):\n",
    "        #边界条件\n",
    "        if len()"
   ]
  },
  {
   "cell_type": "markdown",
   "metadata": {},
   "source": [
    "### 复杂链表的复制\n",
    "输入一个复杂链表（每个节点中有节点值，以及两个指针，一个指向下一个节点，另一个特殊指针指向任意一个节点），返回结果为复制后复杂链表的head。（注意，输出结果中请不要返回参数中的节点引用，否则判题程序会直接返回空）"
   ]
  },
  {
   "cell_type": "code",
   "execution_count": 31,
   "metadata": {},
   "outputs": [
    {
     "name": "stdout",
     "output_type": "stream",
     "text": [
      "6 10\n"
     ]
    }
   ],
   "source": [
    "'''\n",
    "操作给定的二叉树，将其变换为源二叉树的镜像。\n",
    "'''\n",
    "\n",
    "# -*- coding:utf-8 -*-\n",
    "class TreeNode:\n",
    "    def __init__(self, x):\n",
    "        self.val = x\n",
    "        self.left = None\n",
    "        self.right = None\n",
    "class Solution:\n",
    "    # 递归实现\n",
    "    def Mirror(self, root):\n",
    "        if root == None:\n",
    "            return\n",
    "        if root.left == None and root.right == None:\n",
    "            return root\n",
    "\n",
    "        pTemp = root.left\n",
    "        root.left = root.right\n",
    "        root.right = pTemp\n",
    "\n",
    "        self.Mirror(root.left)\n",
    "        self.Mirror(root.right)\n",
    "\n",
    "    # 非递归实现\n",
    "    def Mirror2(self, root):\n",
    "        if root == None:\n",
    "            return\n",
    "        stackNode = []\n",
    "        stackNode.append(root)\n",
    "        while len(stackNode) > 0:\n",
    "            #nodeNum = len(stackNode) - 1\n",
    "            #print(stackNode)\n",
    "            # stackNode[nodeNum]\n",
    "            tree =stackNode.pop()\n",
    "           #nodeNum -= 1\n",
    "            if tree.left != None or tree.right != None:\n",
    "                tree.left, tree.right = tree.right, tree.left\n",
    "            if tree.left:\n",
    "                stackNode.append(tree.left)\n",
    "                #nodeNum += 1\n",
    "            if tree.right:\n",
    "                stackNode.append(tree.right)\n",
    "                #nodeNum += 1\n",
    "    # 非递归实现\n",
    "    def MirrorNoRecursion(self, root):\n",
    "        if root == None:\n",
    "            return\n",
    "        nodeQue = [root]\n",
    "        while len(nodeQue) > 0:\n",
    "            curLevel, count = len(nodeQue), 0\n",
    "            while count < curLevel:\n",
    "                count += 1\n",
    "                pRoot = nodeQue.pop(0)\n",
    "                pRoot.left, pRoot.right = pRoot.right, pRoot.left\n",
    "                if pRoot.left:\n",
    "                    nodeQue.append(pRoot.left)\n",
    "                if pRoot.right:\n",
    "                    nodeQue.append(pRoot.right)\n",
    "\n",
    "pNode1 = TreeNode(8)\n",
    "pNode2 = TreeNode(6)\n",
    "pNode3 = TreeNode(10)\n",
    "pNode4 = TreeNode(5)\n",
    "pNode5 = TreeNode(7)\n",
    "pNode6 = TreeNode(9)\n",
    "pNode7 = TreeNode(11)\n",
    "\n",
    "pNode1.left = pNode2\n",
    "pNode1.right = pNode3\n",
    "pNode2.left = pNode4\n",
    "pNode2.right = pNode5\n",
    "pNode3.left = pNode6\n",
    "pNode3.right = pNode7\n",
    "\n",
    "S = Solution()\n",
    "S.Mirror2(pNode1)\n",
    "print(pNode1.right.val,pNode1.left.val)"
   ]
  },
  {
   "cell_type": "markdown",
   "metadata": {},
   "source": [
    "### 字符串的排列\n",
    "输入一个字符串,按字典序打印出该字符串中字符的所有排列。例如输入字符串abc,则打印出由字符a,b,c所能排列出来的所有字符串abc,acb,bac,bca,cab和cba。\n",
    "输入描述:\n",
    "输入一个字符串,长度不超过9(可能有字符重复),字符只包括大小写字母。"
   ]
  },
  {
   "cell_type": "markdown",
   "metadata": {},
   "source": [
    "### 数组出现次数超过一半的数字\n",
    "数组中有一个数字出现的次数超过数组长度的一半，请找出这个数字。例如输入一个长度为9的数组{1,2,3,2,2,2,5,4,2}。由于数字2在数组中出现了5次，超过数组长度的一半，因此输出2。如果不存在则输出0。"
   ]
  },
  {
   "cell_type": "markdown",
   "metadata": {},
   "source": [
    "### 孩子们的游戏\n",
    "亦是如此。HF作为牛客的资深元老,自然也准备了一些小游戏。其中,有个游戏是这样的:首先,让小朋友们围成一个大圈。然后,他随机指定一个数m,让编号为0的小朋友开始报数。每次喊到m-1的那个小朋友要出列唱首歌,然后可以在礼品箱中任意的挑选礼物,并且不再回到圈中,从他的下一个小朋友开始,继续0...m-1报数....这样下去....直到剩下最后一个小朋友,可以不用表演,并且拿到牛客名贵的“名侦探柯南”典藏版(名额有限哦!!^_^)。请你试着想下,哪个小朋友会得到这份礼品呢？(注：小朋友的编号是从0到n-1)"
   ]
  },
  {
   "cell_type": "code",
   "execution_count": 43,
   "metadata": {
    "collapsed": true
   },
   "outputs": [],
   "source": [
    "class Solution:\n",
    "    def LastRemaining_Solution(self, n, m):\n",
    "        if m<1 or n<1:\n",
    "            return -1\n",
    "        res = list(range(n))\n",
    "        i =0\n",
    "        while len(res)>1:\n",
    "            i = (m+i-1)%len(res)\n",
    "            delet = res.pop(i)\n",
    "            print(\"remind:{},delete：{}\".format(res,delet))\n",
    "        return res[0]\n",
    "            "
   ]
  },
  {
   "cell_type": "code",
   "execution_count": 47,
   "metadata": {},
   "outputs": [
    {
     "name": "stdout",
     "output_type": "stream",
     "text": [
      "remind:[0, 1, 3, 4, 5, 6, 7, 8],delete：2\n",
      "remind:[0, 1, 3, 4, 6, 7, 8],delete：5\n",
      "remind:[0, 1, 3, 4, 6, 7],delete：8\n",
      "remind:[0, 1, 4, 6, 7],delete：3\n",
      "remind:[0, 1, 4, 6],delete：7\n",
      "remind:[0, 1, 6],delete：4\n",
      "remind:[0, 6],delete：1\n",
      "remind:[0],delete：6\n"
     ]
    },
    {
     "data": {
      "text/plain": [
       "0"
      ]
     },
     "execution_count": 47,
     "metadata": {},
     "output_type": "execute_result"
    }
   ],
   "source": [
    "s = Solution()\n",
    "s.LastRemaining_Solution(9, 3)"
   ]
  },
  {
   "cell_type": "markdown",
   "metadata": {},
   "source": [
    "### 求$1+2+3+....+n$的大小\n",
    "求1+2+3+...+n，要求不能使用乘除法、for、while、if、else、switch、case等关键字及条件判断语句（A?B:C）。"
   ]
  },
  {
   "cell_type": "code",
   "execution_count": 51,
   "metadata": {},
   "outputs": [
    {
     "name": "stdout",
     "output_type": "stream",
     "text": [
      "5050\n"
     ]
    }
   ],
   "source": [
    "# -*- coding:utf-8 -*-\n",
    "class Solution:\n",
    "    def Sum_Solution(self, n):\n",
    "        return self.sumN(n)\n",
    "\n",
    "    def sum0(self, n):\n",
    "        return 0\n",
    "\n",
    "    # 利用非0值作两次非运算返回false, 0作两次非运算返回True\n",
    "    def sumN(self, n):\n",
    "        fun = {False: self.sum0, True: self.sumN}\n",
    "        # 此处的fun[not not n] 不能写作func[not not n-1], 否则测试用例为0的话, 就会无限次迭代\n",
    "        return n + fun[not not n](n - 1)\n",
    "\n",
    "    def Sum_Solution2(self, n):\n",
    "        return n and self.Sum_Solution(n - 1) + n\n",
    "\n",
    "s = Solution()\n",
    "print(s.Sum_Solution(100))"
   ]
  },
  {
   "cell_type": "markdown",
   "metadata": {},
   "source": [
    "### 字符串的排列(待完成)\n",
    "输入一个字符串,按字典序打印出该字符串中字符的所有排列。例如输入字符串abc,则打印出由字符a,b,c所能排列出来的所有字符串abc,acb,bac,bca,cab和cba。\n",
    "输入描述:\n",
    "输入一个字符串,长度不超过9(可能有字符重复),字符只包括大小写字母。"
   ]
  },
  {
   "cell_type": "code",
   "execution_count": null,
   "metadata": {
    "collapsed": true
   },
   "outputs": [],
   "source": [
    "class Solution:\n",
    "    def Permutation(self, ss):\n",
    "        # write code heredef Permutation(ss):\n",
    "        #边界条件\n",
    "        if not ss:\n",
    "            return []\n",
    "        if len(ss)==1:\n",
    "            return [ss]\n",
    "        "
   ]
  },
  {
   "cell_type": "code",
   "execution_count": 62,
   "metadata": {},
   "outputs": [
    {
     "name": "stdout",
     "output_type": "stream",
     "text": [
      "['d', 'r', 'b', 'a', 'c']\n",
      "['r', 'b', 'a', 'c']\n",
      "['b', 'a', 'c']\n",
      "['a', 'c']\n",
      "['c']\n",
      "c\n",
      "c\n",
      "crc\n",
      "cdcdcrc\n"
     ]
    }
   ],
   "source": [
    "class Solution:\n",
    "    def Permutation(self, ss):\n",
    "        # write code heredef Permutation(ss):\n",
    "        if not ss:\n",
    "            return []\n",
    "        if len(ss)==1:\n",
    "            return [ss]\n",
    "        charlist = list(ss)\n",
    "        pstr = []\n",
    "        for \n",
    "\n",
    "s =Solution()\n",
    "s.Permutation('abcdr')"
   ]
  },
  {
   "cell_type": "markdown",
   "metadata": {},
   "source": [
    "### 数组中的逆序对\n",
    "在数组中的两个数字，如果前面一个数字大于后面的数字，则这两个数字组成一个逆序对。输入一个数组,求出这个数组中的逆序对的总数P。并将P对1000000007取模的结果输出。 即输出P%1000000007\n",
    "输入描述:\n",
    "题目保证输入的数组中没有的相同的数字\n",
    "\n",
    "数据范围：\n",
    "\n",
    "对于%50的数据,$size<=10^4$\n",
    "\n",
    "对于%75的数据,$size<=10^5$\n",
    "\n",
    "对于%100的数据,$size<=2*10^5$"
   ]
  },
  {
   "cell_type": "code",
   "execution_count": null,
   "metadata": {
    "collapsed": true
   },
   "outputs": [],
   "source": [
    "# -*- coding:utf-8 -*-\n",
    "class Solution:\n",
    "    def InversePairs(self, data):\n",
    "        # write code here"
   ]
  },
  {
   "cell_type": "markdown",
   "metadata": {},
   "source": [
    "### 矩阵中的路径\n",
    "请设计一个函数，用来判断在一个矩阵中是否存在一条包含某字符串所有字符的路径。路径可以从矩阵中的任意一个格子开始，每一步可以在矩阵中向左，向右，向上，向下移动一个格子。如果一条路径经过了矩阵中的某一个格子，则之后不能再次进入这个格子。 例如 $a b c e s f c s a d e e$ 这样的$3 X 4 $矩阵中包含一条字符串\"bcced\"的路径，但是矩阵中不包含\"abcb\"路径，因为字符串的第一个字符b占据了矩阵中的第一行第二个格子之后，路径不能再次进入该格子。"
   ]
  },
  {
   "cell_type": "code",
   "execution_count": null,
   "metadata": {},
   "outputs": [],
   "source": []
  }
 ],
 "metadata": {
  "kernelspec": {
   "display_name": "Python 3",
   "language": "python",
   "name": "python3"
  },
  "language_info": {
   "codemirror_mode": {
    "name": "ipython",
    "version": 3
   },
   "file_extension": ".py",
   "mimetype": "text/x-python",
   "name": "python",
   "nbconvert_exporter": "python",
   "pygments_lexer": "ipython3",
   "version": "3.6.6"
  },
  "nbTranslate": {
   "displayLangs": [
    "*"
   ],
   "hotkey": "alt-t",
   "langInMainMenu": true,
   "sourceLang": "en",
   "targetLang": "fr",
   "useGoogleTranslate": true
  },
  "toc": {
   "base_numbering": 1,
   "nav_menu": {},
   "number_sections": true,
   "sideBar": true,
   "skip_h1_title": false,
   "title_cell": "Table of Contents",
   "title_sidebar": "Contents",
   "toc_cell": false,
   "toc_position": {
    "height": "calc(100% - 180px)",
    "left": "10px",
    "top": "150px",
    "width": "307px"
   },
   "toc_section_display": true,
   "toc_window_display": true
  }
 },
 "nbformat": 4,
 "nbformat_minor": 2
}
