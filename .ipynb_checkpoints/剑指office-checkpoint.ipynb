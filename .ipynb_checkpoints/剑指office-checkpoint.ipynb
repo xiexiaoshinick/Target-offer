{
 "cells": [
  {
   "cell_type": "code",
   "execution_count": 27,
   "metadata": {
    "collapsed": true
   },
   "outputs": [],
   "source": [
    "    def replaceSpace(s):\n",
    "        # write code here\n",
    "        string = []\n",
    "        if len(s)==0:\n",
    "            return s\n",
    "        for i in s:\n",
    "            if i ==' ':\n",
    "                string.append(\"%20\") \n",
    "            else:\n",
    "                string.append(i)\n",
    "        return ''.join(string)"
   ]
  },
  {
   "cell_type": "markdown",
   "metadata": {},
   "source": [
    "请实现一个函数，将一个字符串中的空格替换成“%20”。例如，当字符串为We Are Happy.则经过替换之后的字符串为We%20Are%20Happy。"
   ]
  },
  {
   "cell_type": "code",
   "execution_count": 28,
   "metadata": {},
   "outputs": [
    {
     "data": {
      "text/plain": [
       "''"
      ]
     },
     "execution_count": 28,
     "metadata": {},
     "output_type": "execute_result"
    }
   ],
   "source": [
    "replaceSpace(\"\")"
   ]
  },
  {
   "cell_type": "markdown",
   "metadata": {},
   "source": [
    "输入一个链表，按链表值从尾到头的顺序返回一个ArrayList。"
   ]
  },
  {
   "cell_type": "code",
   "execution_count": 29,
   "metadata": {
    "collapsed": true
   },
   "outputs": [],
   "source": [
    "def printListFromTailToHead(self, listNode):\n",
    "        l=[]\n",
    "        while listNode:\n",
    "            l.append(listNode.val)\n",
    "            listNode=listNode.next\n",
    "        l.reverse()\n",
    "        return l"
   ]
  },
  {
   "cell_type": "code",
   "execution_count": 18,
   "metadata": {},
   "outputs": [
    {
     "ename": "SyntaxError",
     "evalue": "invalid syntax (<ipython-input-18-f574735834ed>, line 1)",
     "output_type": "error",
     "traceback": [
      "\u001b[1;36m  File \u001b[1;32m\"<ipython-input-18-f574735834ed>\"\u001b[1;36m, line \u001b[1;32m1\u001b[0m\n\u001b[1;33m    s == not s\u001b[0m\n\u001b[1;37m           ^\u001b[0m\n\u001b[1;31mSyntaxError\u001b[0m\u001b[1;31m:\u001b[0m invalid syntax\n"
     ]
    }
   ],
   "source": [
    "用两个栈来实现一个队列，完成队列的Push和Pop操作。 队列中的元素为int类型。"
   ]
  },
  {
   "cell_type": "code",
   "execution_count": 32,
   "metadata": {
    "collapsed": true
   },
   "outputs": [],
   "source": [
    "    def minNumberInRotateArray(rotateArray):\n",
    "        # write code here\n",
    "        if len(rotateArray)==0:\n",
    "            return 0\n",
    "        i =0\n",
    "        j = len(rotateArray)-1\n",
    "        #m = int((i+j)/2)\n",
    "        mid = j\n",
    "        while(rotateArray[i]>=rotateArray[j]):\n",
    "            if (j-i)==1:\n",
    "                mid = j\n",
    "                break\n",
    "            mid = int((i+j)/2)\n",
    "            if(rotateArray[mid]>=rotateArray[i]):\n",
    "                i = mid\n",
    "            elif (rotateArray[mid]<=rotateArray[j]):\n",
    "                j = mid\n",
    "        return rotateArray[mid]"
   ]
  },
  {
   "cell_type": "code",
   "execution_count": 33,
   "metadata": {},
   "outputs": [
    {
     "data": {
      "text/plain": [
       "154"
      ]
     },
     "execution_count": 33,
     "metadata": {},
     "output_type": "execute_result"
    }
   ],
   "source": [
    "p = [6501,6828,6963,7036,7422,7674,8146,8468,8704,8717,9170,9359,9719,9895,9896,9913,9962,\n",
    "     154,293,334,492,1323,1479,1539,1727,1870,1943,2383,2392,2996,3282,3812,3903,4465,4605,\n",
    "     4665,4772,4828,5142,5437,5448,5668,5706,5725,6300,6335]\n",
    "minNumberInRotateArray(p)"
   ]
  },
  {
   "cell_type": "code",
   "execution_count": 34,
   "metadata": {},
   "outputs": [
    {
     "data": {
      "text/plain": [
       "2178309"
      ]
     },
     "execution_count": 34,
     "metadata": {},
     "output_type": "execute_result"
    }
   ],
   "source": [
    "def Fibonacci( n):\n",
    "        # write code here\n",
    "    if n <= 1:\n",
    "        return n\n",
    "    else:\n",
    "        return(Fibonacci(n-1) + Fibonacci(n-2))\n",
    "Fibonacci(32)"
   ]
  },
  {
   "cell_type": "code",
   "execution_count": 38,
   "metadata": {},
   "outputs": [
    {
     "data": {
      "text/plain": [
       "2"
      ]
     },
     "execution_count": 38,
     "metadata": {},
     "output_type": "execute_result"
    }
   ],
   "source": [
    "#利用迭代来实现斐波那契数列\n",
    "def Fibonacci( n):\n",
    "    list1 = [0,1]\n",
    "    if n<2:\n",
    "        return list1[n]\n",
    "    else:\n",
    "        x ,y =0,1\n",
    "        for i in range(2,n+1):\n",
    "            x ,y = y,x+y\n",
    "        return y\n",
    "Fibonacci(3)"
   ]
  },
  {
   "cell_type": "code",
   "execution_count": 36,
   "metadata": {},
   "outputs": [
    {
     "data": {
      "text/plain": [
       "0"
      ]
     },
     "execution_count": 36,
     "metadata": {},
     "output_type": "execute_result"
    }
   ],
   "source": [
    "Fibonacci(0)"
   ]
  },
  {
   "cell_type": "code",
   "execution_count": 1,
   "metadata": {},
   "outputs": [
    {
     "data": {
      "text/plain": [
       "5"
      ]
     },
     "execution_count": 1,
     "metadata": {},
     "output_type": "execute_result"
    }
   ],
   "source": [
    "n =11\n",
    "n//2"
   ]
  },
  {
   "cell_type": "code",
   "execution_count": 2,
   "metadata": {
    "collapsed": true
   },
   "outputs": [],
   "source": [
    "    def NumberOf1( n):\n",
    "        # write code here\n",
    "        count = 0\n",
    "        if n<0:\n",
    "            n = ~n\n",
    "        while n:\n",
    "            if n%2==1:\n",
    "                count +=1\n",
    "            n=n//2\n",
    "        return count"
   ]
  },
  {
   "cell_type": "code",
   "execution_count": 3,
   "metadata": {},
   "outputs": [
    {
     "data": {
      "text/plain": [
       "2"
      ]
     },
     "execution_count": 3,
     "metadata": {},
     "output_type": "execute_result"
    }
   ],
   "source": [
    "NumberOf1(5)"
   ]
  },
  {
   "cell_type": "code",
   "execution_count": 5,
   "metadata": {},
   "outputs": [
    {
     "data": {
      "text/plain": [
       "31"
      ]
     },
     "execution_count": 5,
     "metadata": {},
     "output_type": "execute_result"
    }
   ],
   "source": [
    "NumberOf1(-2147483648\n",
    ")"
   ]
  },
  {
   "cell_type": "code",
   "execution_count": 8,
   "metadata": {},
   "outputs": [
    {
     "data": {
      "text/plain": [
       "'-10000000000000000000000000000000'"
      ]
     },
     "execution_count": 8,
     "metadata": {},
     "output_type": "execute_result"
    }
   ],
   "source": [
    "bin(-2147483648).replace(\"0b\",\"\")"
   ]
  },
  {
   "cell_type": "code",
   "execution_count": 11,
   "metadata": {},
   "outputs": [
    {
     "data": {
      "text/plain": [
       "1"
      ]
     },
     "execution_count": 11,
     "metadata": {},
     "output_type": "execute_result"
    }
   ],
   "source": [
    "bin(2**32+(-2147483648)).replace(\"0b\",\"\").count(\"1\")"
   ]
  },
  {
   "cell_type": "code",
   "execution_count": 1,
   "metadata": {
    "collapsed": true
   },
   "outputs": [],
   "source": [
    "class Solution:\n",
    "    # matrix类型为二维列表，需要返回列表\n",
    "    def printMatrix(self, matrix):\n",
    "        res = []\n",
    "        while matrix:\n",
    "            res += matrix.pop(0)\n",
    "            if not matrix:\n",
    "                break\n",
    "            matrix = self.turn(matrix)\n",
    "        return res\n",
    "    \n",
    "    def turn(self, matrix):\n",
    "        m, n = len(matrix), len(matrix[0])\n",
    "        tp = []\n",
    "        for j in range(n):\n",
    "            t = []\n",
    "            for i in range(m):\n",
    "                t.append(matrix[i][j])\n",
    "            tp.append(t)\n",
    "        tp.reverse()\n",
    "        return tp"
   ]
  },
  {
   "cell_type": "code",
   "execution_count": 3,
   "metadata": {},
   "outputs": [
    {
     "ename": "TypeError",
     "evalue": "printMatrix() missing 1 required positional argument: 'matrix'",
     "output_type": "error",
     "traceback": [
      "\u001b[1;31m---------------------------------------------------------------------------\u001b[0m",
      "\u001b[1;31mTypeError\u001b[0m                                 Traceback (most recent call last)",
      "\u001b[1;32m<ipython-input-3-cf32e5b43f5d>\u001b[0m in \u001b[0;36m<module>\u001b[1;34m()\u001b[0m\n\u001b[0;32m      1\u001b[0m \u001b[0ml1\u001b[0m \u001b[1;33m=\u001b[0m \u001b[1;33m[\u001b[0m\u001b[1;33m[\u001b[0m\u001b[1;36m1\u001b[0m\u001b[1;33m,\u001b[0m\u001b[1;36m2\u001b[0m\u001b[1;33m,\u001b[0m\u001b[1;36m3\u001b[0m\u001b[1;33m,\u001b[0m\u001b[1;36m4\u001b[0m\u001b[1;33m]\u001b[0m\u001b[1;33m,\u001b[0m\u001b[1;33m[\u001b[0m\u001b[1;36m5\u001b[0m\u001b[1;33m,\u001b[0m\u001b[1;36m6\u001b[0m\u001b[1;33m,\u001b[0m\u001b[1;36m7\u001b[0m\u001b[1;33m,\u001b[0m\u001b[1;36m8\u001b[0m\u001b[1;33m]\u001b[0m\u001b[1;33m,\u001b[0m\u001b[1;33m[\u001b[0m\u001b[1;36m9\u001b[0m\u001b[1;33m,\u001b[0m\u001b[1;36m10\u001b[0m\u001b[1;33m,\u001b[0m\u001b[1;36m11\u001b[0m\u001b[1;33m,\u001b[0m\u001b[1;36m12\u001b[0m\u001b[1;33m]\u001b[0m\u001b[1;33m,\u001b[0m\u001b[1;33m[\u001b[0m\u001b[1;36m13\u001b[0m\u001b[1;33m,\u001b[0m\u001b[1;36m14\u001b[0m\u001b[1;33m,\u001b[0m\u001b[1;36m15\u001b[0m\u001b[1;33m,\u001b[0m\u001b[1;36m16\u001b[0m\u001b[1;33m]\u001b[0m\u001b[1;33m]\u001b[0m\u001b[1;33m\u001b[0m\u001b[0m\n\u001b[0;32m      2\u001b[0m \u001b[0ms\u001b[0m\u001b[1;33m=\u001b[0m \u001b[0mSolution\u001b[0m\u001b[1;33m\u001b[0m\u001b[0m\n\u001b[1;32m----> 3\u001b[1;33m \u001b[0ms\u001b[0m\u001b[1;33m.\u001b[0m\u001b[0mprintMatrix\u001b[0m\u001b[1;33m(\u001b[0m\u001b[0ml1\u001b[0m\u001b[1;33m)\u001b[0m\u001b[1;33m\u001b[0m\u001b[0m\n\u001b[0m",
      "\u001b[1;31mTypeError\u001b[0m: printMatrix() missing 1 required positional argument: 'matrix'"
     ]
    }
   ],
   "source": [
    "l1 = [[1,2,3,4],[5,6,7,8],[9,10,11,12],[13,14,15,16]]\n",
    "s= Solution\n",
    "s.printMatrix(l1)"
   ]
  },
  {
   "cell_type": "code",
   "execution_count": 10,
   "metadata": {},
   "outputs": [
    {
     "data": {
      "text/plain": [
       "([1, 2, 3, 4], [[5, 6, 7, 8], [9, 10, 11, 12], [13, 14, 15, 16]])"
      ]
     },
     "execution_count": 10,
     "metadata": {},
     "output_type": "execute_result"
    }
   ],
   "source": [
    "l1 = [[1,2,3,4],[5,6,7,8],[9,10,11,12],[13,14,15,16]]\n",
    "l1.pop(0),l1"
   ]
  },
  {
   "cell_type": "code",
   "execution_count": 11,
   "metadata": {},
   "outputs": [
    {
     "data": {
      "text/plain": [
       "3"
      ]
     },
     "execution_count": 11,
     "metadata": {},
     "output_type": "execute_result"
    }
   ],
   "source": [
    "len(l1)"
   ]
  },
  {
   "cell_type": "code",
   "execution_count": 12,
   "metadata": {},
   "outputs": [
    {
     "data": {
      "text/plain": [
       "4"
      ]
     },
     "execution_count": 12,
     "metadata": {},
     "output_type": "execute_result"
    }
   ],
   "source": [
    "len(l1[0])"
   ]
  },
  {
   "cell_type": "code",
   "execution_count": 13,
   "metadata": {},
   "outputs": [
    {
     "data": {
      "text/plain": [
       "[[8, 12, 16], [7, 11, 15], [6, 10, 14], [5, 9, 13]]"
      ]
     },
     "execution_count": 13,
     "metadata": {},
     "output_type": "execute_result"
    }
   ],
   "source": [
    "    def turn( matrix):\n",
    "        m, n = len(matrix), len(matrix[0])\n",
    "        tp = []\n",
    "        for j in range(n):\n",
    "            t = []\n",
    "            for i in range(m):\n",
    "                t.append(matrix[i][j])\n",
    "            tp.append(t)\n",
    "        tp.reverse()\n",
    "        return tp\n",
    "    turn(l1)"
   ]
  },
  {
   "cell_type": "code",
   "execution_count": 3,
   "metadata": {
    "collapsed": true
   },
   "outputs": [],
   "source": [
    "    def IsPopOrder(pushV, popV):\n",
    "        # write code here\n",
    "        stack = []\n",
    "        if not pushV or not popV:\n",
    "            return None\n",
    "        if len(pushV) != len(popV):\n",
    "            return False\n",
    "        for v in pushV:\n",
    "            stack.append(v)\n",
    "            print(stack)\n",
    "            print(popV)\n",
    "            while stack and stack[-1] == popV[0]:\n",
    "                popV.pop(0)\n",
    "                stack.pop()\n",
    "        if len(stack):\n",
    "            return False\n",
    "        return True"
   ]
  },
  {
   "cell_type": "code",
   "execution_count": 4,
   "metadata": {},
   "outputs": [
    {
     "name": "stdout",
     "output_type": "stream",
     "text": [
      "[1]\n",
      "[4, 5, 3, 2, 1]\n",
      "[1, 2]\n",
      "[4, 5, 3, 2, 1]\n",
      "[1, 2, 3]\n",
      "[4, 5, 3, 2, 1]\n",
      "[1, 2, 3, 4]\n",
      "[4, 5, 3, 2, 1]\n",
      "[1, 2, 3, 5]\n",
      "[5, 3, 2, 1]\n"
     ]
    },
    {
     "data": {
      "text/plain": [
       "True"
      ]
     },
     "execution_count": 4,
     "metadata": {},
     "output_type": "execute_result"
    }
   ],
   "source": [
    "pushV = [1,2,3,4,5]\n",
    "popV = [4,5,3,2,1]\n",
    "IsPopOrder(pushV,popV)"
   ]
  },
  {
   "cell_type": "code",
   "execution_count": 6,
   "metadata": {},
   "outputs": [
    {
     "name": "stdout",
     "output_type": "stream",
     "text": [
      "[1]\n",
      "[4, 3, 5, 1, 2]\n",
      "[1, 2]\n",
      "[4, 3, 5, 1, 2]\n",
      "[1, 2, 3]\n",
      "[4, 3, 5, 1, 2]\n",
      "[1, 2, 3, 4]\n",
      "[4, 3, 5, 1, 2]\n",
      "[1, 2, 5]\n",
      "[5, 1, 2]\n"
     ]
    },
    {
     "data": {
      "text/plain": [
       "False"
      ]
     },
     "execution_count": 6,
     "metadata": {},
     "output_type": "execute_result"
    }
   ],
   "source": [
    "pushV = [1,2,3,4,5]\n",
    "popV = [4,3,5,1,2]\n",
    "IsPopOrder(pushV,popV)"
   ]
  },
  {
   "cell_type": "markdown",
   "metadata": {},
   "source": [
    "Stack模仿数据弹出的一种动作。"
   ]
  },
  {
   "cell_type": "markdown",
   "metadata": {},
   "source": [
    "输入一个整数数组，判断该数组是不是某二叉搜索树的后序遍历的结果。如果是则输出Yes,否则输出No。假设输入的数组的任意两个数字都互不相同。\n",
    "- 二叉搜索树的后序遍历，先是左子树，后进入右子树，然后根节点\n",
    "- 解题思路：先将数组变为二叉搜索树编程，然后比较两者差异如果相同，输出Yes,如果不相同输出No\n",
    "- 解题思路：没有二叉作为对比，然后我们可以进行判断还原的二叉树是否符合规则。"
   ]
  },
  {
   "cell_type": "code",
   "execution_count": 39,
   "metadata": {
    "collapsed": true
   },
   "outputs": [],
   "source": [
    "def VerifySquenceOfBST(sequence):\n",
    "    n = len(sequence)\n",
    "    print(n)\n",
    "    if n==0:\n",
    "        return False\n",
    "    root = sequence[-1]\n",
    "    #二叉树中\n",
    "    i,j = 0,0\n",
    "    while sequence[i]<root:\n",
    "        i +=1\n",
    "        #print(i)\n",
    "    j = i\n",
    "    for k in range(j,n-1):\n",
    "        if sequence[k]<root:\n",
    "            return False\n",
    "        #print(j)\n",
    "    print(\"i={},j={}\".format(i,j))\n",
    "    left,right = True,True\n",
    "   \n",
    "    if i>0:\n",
    "        left = VerifySquenceOfBST(sequence[0:j])\n",
    "    if left ==True:\n",
    "        right = VerifySquenceOfBST(sequence[j:-1])\n",
    "    return left&right                    "
   ]
  },
  {
   "cell_type": "code",
   "execution_count": 44,
   "metadata": {},
   "outputs": [
    {
     "name": "stdout",
     "output_type": "stream",
     "text": [
      "i=3,j=3\n",
      "i=1,j=1\n",
      "i=1,j=1\n"
     ]
    },
    {
     "data": {
      "text/plain": [
       "True"
      ]
     },
     "execution_count": 44,
     "metadata": {},
     "output_type": "execute_result"
    }
   ],
   "source": [
    "VerifySquenceOfBST([5,7,6,9,11,10,8])"
   ]
  },
  {
   "cell_type": "code",
   "execution_count": 43,
   "metadata": {
    "collapsed": true
   },
   "outputs": [],
   "source": [
    "    def VerifySquenceOfBST(sequence):\n",
    "        if len(sequence) == 0:\n",
    "            return False\n",
    "        if len(sequence) == 1:\n",
    "            return True\n",
    "        i = 0\n",
    "        root = sequence[-1]\n",
    "        while sequence[i] < root:\n",
    "            i += 1\n",
    "        j = i\n",
    "        for k in range(j, len(sequence)-1):\n",
    "            if sequence[k] < root:\n",
    "                return False\n",
    "\n",
    "        print(\"i={},j={}\".format(i,j))\n",
    "        left, right = True, True\n",
    "        if j > 0:\n",
    "            left = VerifySquenceOfBST(sequence[:j])\n",
    "        if len(sequence) - j > 1:\n",
    "            right = VerifySquenceOfBST(sequence[j:-1])\n",
    "        return left and right"
   ]
  },
  {
   "cell_type": "code",
   "execution_count": 82,
   "metadata": {
    "collapsed": true
   },
   "outputs": [],
   "source": [
    "def Permutation(ss):\n",
    "    if len(ss)==0:\n",
    "        return None\n",
    "    ss = list(set(ss))\n",
    "    Recurlist(ss)\n",
    "def Recurlist(ss):\n",
    "    res = []\n",
    "    print(type(ss))\n",
    "    if len(ss)==1:\n",
    "        return ss\n",
    "    \n",
    "    for i in ss:\n",
    "        ret = ''.join(i)\n",
    "        ss.remove(i)\n",
    "        #print(type(ss))\n",
    "        ret = ret.join(Recurlist(ss)) \n",
    "        print(ret)\n",
    "        res.append(ret)\n",
    "    return res\n",
    "\n",
    "    "
   ]
  },
  {
   "cell_type": "code",
   "execution_count": 83,
   "metadata": {},
   "outputs": [
    {
     "name": "stdout",
     "output_type": "stream",
     "text": [
      "<class 'list'>\n",
      "<class 'list'>\n",
      "<class 'list'>\n",
      "c\n",
      "c\n",
      "None\n"
     ]
    }
   ],
   "source": [
    "res = Permutation('abc')\n",
    "print(res)"
   ]
  },
  {
   "cell_type": "code",
   "execution_count": 52,
   "metadata": {
    "collapsed": true
   },
   "outputs": [],
   "source": [
    "l1.remove('w')"
   ]
  },
  {
   "cell_type": "code",
   "execution_count": 73,
   "metadata": {},
   "outputs": [
    {
     "name": "stdout",
     "output_type": "stream",
     "text": [
      "<class 'str'>\n",
      "a\n",
      "['b', 'c'] type is <class 'list'>\n",
      "<class 'str'>\n",
      "c\n",
      "['b'] type is <class 'list'>\n"
     ]
    }
   ],
   "source": [
    "s = 'abc'\n",
    "s = list(set(s))\n",
    "for i in s:\n",
    "    print(type(i))\n",
    "    print(i)\n",
    "    s.remove(i)\n",
    "    print(\"{} type is {}\".format(s,type(s)))\n",
    "    "
   ]
  },
  {
   "cell_type": "code",
   "execution_count": 68,
   "metadata": {},
   "outputs": [
    {
     "ename": "TypeError",
     "evalue": "'NoneType' object is not iterable",
     "output_type": "error",
     "traceback": [
      "\u001b[1;31m---------------------------------------------------------------------------\u001b[0m",
      "\u001b[1;31mTypeError\u001b[0m                                 Traceback (most recent call last)",
      "\u001b[1;32m<ipython-input-68-7d2154f6de2f>\u001b[0m in \u001b[0;36m<module>\u001b[1;34m()\u001b[0m\n\u001b[1;32m----> 1\u001b[1;33m \u001b[1;32mfor\u001b[0m \u001b[0mi\u001b[0m \u001b[1;32min\u001b[0m \u001b[0ms\u001b[0m\u001b[1;33m:\u001b[0m\u001b[1;33m\u001b[0m\u001b[0m\n\u001b[0m\u001b[0;32m      2\u001b[0m \u001b[1;33m\u001b[0m\u001b[0m\n\u001b[0;32m      3\u001b[0m     \u001b[0mprint\u001b[0m\u001b[1;33m(\u001b[0m\u001b[0mtype\u001b[0m\u001b[1;33m(\u001b[0m\u001b[0mi\u001b[0m\u001b[1;33m)\u001b[0m\u001b[1;33m)\u001b[0m\u001b[1;33m\u001b[0m\u001b[0m\n",
      "\u001b[1;31mTypeError\u001b[0m: 'NoneType' object is not iterable"
     ]
    }
   ],
   "source": []
  },
  {
   "cell_type": "markdown",
   "metadata": {},
   "source": [
    "### 整数中1出现的次数（从1到n整数中1出现的次数）\n",
    "- 第一种解法，不考虑时间复杂度"
   ]
  },
  {
   "cell_type": "code",
   "execution_count": 91,
   "metadata": {
    "collapsed": true
   },
   "outputs": [],
   "source": [
    "def NumberOf1Between1AndN_Solution(n):\n",
    "    count1 =0\n",
    "    for i in range(n+1):\n",
    "        count1 = count1 + count(i)\n",
    "    return count1\n",
    "def count(i):\n",
    "    number = 0\n",
    "    while i:\n",
    "        if(i%10)==1:\n",
    "            number +=1\n",
    "        i = i//10\n",
    "    return number"
   ]
  },
  {
   "cell_type": "code",
   "execution_count": 92,
   "metadata": {},
   "outputs": [
    {
     "data": {
      "text/plain": [
       "2"
      ]
     },
     "execution_count": 92,
     "metadata": {},
     "output_type": "execute_result"
    }
   ],
   "source": [
    "NumberOf1Between1AndN_Solution(10)"
   ]
  },
  {
   "cell_type": "markdown",
   "metadata": {},
   "source": [
    "第二种解法找出数字的规律，然后写出算法"
   ]
  },
  {
   "cell_type": "code",
   "execution_count": 93,
   "metadata": {
    "collapsed": true
   },
   "outputs": [],
   "source": [
    "class Solution:\n",
    "    def NumberOf1Between1AndN_Solution(self, n):\n",
    "        res = 0\n",
    "        i = 1\n",
    "        while i <= n:\n",
    "            a = n/i\n",
    "            b = n%i\n",
    "            res += (a+8)/10*i + (a%10==1)*(b+1)\n",
    "            i *= 10\n",
    "        return res"
   ]
  },
  {
   "cell_type": "code",
   "execution_count": 94,
   "metadata": {},
   "outputs": [
    {
     "data": {
      "text/plain": [
       "'[2, 32, 323]'"
      ]
     },
     "execution_count": 94,
     "metadata": {},
     "output_type": "execute_result"
    }
   ],
   "source": [
    "l1 = [3,32,321]\n",
    "str(l1)"
   ]
  },
  {
   "cell_type": "code",
   "execution_count": 96,
   "metadata": {},
   "outputs": [
    {
     "data": {
      "text/plain": [
       "'232323'"
      ]
     },
     "execution_count": 96,
     "metadata": {},
     "output_type": "execute_result"
    }
   ],
   "source": [
    "ss =str()\n",
    "for i in l1:\n",
    "    ss = ss+str(i)\n",
    "ss"
   ]
  },
  {
   "cell_type": "code",
   "execution_count": 97,
   "metadata": {},
   "outputs": [
    {
     "data": {
      "text/plain": [
       "0"
      ]
     },
     "execution_count": 97,
     "metadata": {},
     "output_type": "execute_result"
    }
   ],
   "source": [
    "5%1"
   ]
  },
  {
   "cell_type": "markdown",
   "metadata": {},
   "source": [
    "### 把数组排成最小的数\n",
    "- 暴力解法"
   ]
  },
  {
   "cell_type": "code",
   "execution_count": 113,
   "metadata": {
    "collapsed": true
   },
   "outputs": [],
   "source": [
    "def PrintMinNumber(numbers):\n",
    "        # write code here\\\n",
    "    if not numbers:\n",
    "        return ''\n",
    "    lmd = lambda x,y:int(str(x)+str(y))-int(str(y)+str(x))\n",
    "    res = sorted(numbers,key=lmd)\n",
    "    return ''.join([str(i) for i in res])\n"
   ]
  },
  {
   "cell_type": "code",
   "execution_count": 114,
   "metadata": {},
   "outputs": [
    {
     "ename": "TypeError",
     "evalue": "<lambda>() missing 1 required positional argument: 'y'",
     "output_type": "error",
     "traceback": [
      "\u001b[1;31m---------------------------------------------------------------------------\u001b[0m",
      "\u001b[1;31mTypeError\u001b[0m                                 Traceback (most recent call last)",
      "\u001b[1;32m<ipython-input-114-1e086493ef4a>\u001b[0m in \u001b[0;36m<module>\u001b[1;34m()\u001b[0m\n\u001b[0;32m      1\u001b[0m \u001b[0mnumbers\u001b[0m\u001b[1;33m=\u001b[0m\u001b[1;33m[\u001b[0m\u001b[1;36m1\u001b[0m\u001b[1;33m,\u001b[0m\u001b[1;36m2\u001b[0m\u001b[1;33m,\u001b[0m\u001b[1;36m5\u001b[0m\u001b[1;33m,\u001b[0m\u001b[1;36m6\u001b[0m\u001b[1;33m,\u001b[0m\u001b[1;36m7\u001b[0m\u001b[1;33m]\u001b[0m\u001b[1;33m\u001b[0m\u001b[0m\n\u001b[1;32m----> 2\u001b[1;33m \u001b[0mPrintMinNumber\u001b[0m\u001b[1;33m(\u001b[0m\u001b[0mnumbers\u001b[0m\u001b[1;33m)\u001b[0m\u001b[1;33m\u001b[0m\u001b[0m\n\u001b[0m",
      "\u001b[1;32m<ipython-input-113-9780ed649e71>\u001b[0m in \u001b[0;36mPrintMinNumber\u001b[1;34m(numbers)\u001b[0m\n\u001b[0;32m      4\u001b[0m         \u001b[1;32mreturn\u001b[0m \u001b[1;34m''\u001b[0m\u001b[1;33m\u001b[0m\u001b[0m\n\u001b[0;32m      5\u001b[0m     \u001b[0mlmd\u001b[0m \u001b[1;33m=\u001b[0m \u001b[1;32mlambda\u001b[0m \u001b[0mx\u001b[0m\u001b[1;33m,\u001b[0m\u001b[0my\u001b[0m\u001b[1;33m:\u001b[0m\u001b[0mint\u001b[0m\u001b[1;33m(\u001b[0m\u001b[0mstr\u001b[0m\u001b[1;33m(\u001b[0m\u001b[0mx\u001b[0m\u001b[1;33m)\u001b[0m\u001b[1;33m+\u001b[0m\u001b[0mstr\u001b[0m\u001b[1;33m(\u001b[0m\u001b[0my\u001b[0m\u001b[1;33m)\u001b[0m\u001b[1;33m)\u001b[0m\u001b[1;33m-\u001b[0m\u001b[0mint\u001b[0m\u001b[1;33m(\u001b[0m\u001b[0mstr\u001b[0m\u001b[1;33m(\u001b[0m\u001b[0my\u001b[0m\u001b[1;33m)\u001b[0m\u001b[1;33m+\u001b[0m\u001b[0mstr\u001b[0m\u001b[1;33m(\u001b[0m\u001b[0mx\u001b[0m\u001b[1;33m)\u001b[0m\u001b[1;33m)\u001b[0m\u001b[1;33m\u001b[0m\u001b[0m\n\u001b[1;32m----> 6\u001b[1;33m     \u001b[0mres\u001b[0m \u001b[1;33m=\u001b[0m \u001b[0msorted\u001b[0m\u001b[1;33m(\u001b[0m\u001b[0mnumbers\u001b[0m\u001b[1;33m,\u001b[0m\u001b[0mkey\u001b[0m\u001b[1;33m=\u001b[0m\u001b[0mlmd\u001b[0m\u001b[1;33m)\u001b[0m\u001b[1;33m\u001b[0m\u001b[0m\n\u001b[0m\u001b[0;32m      7\u001b[0m     \u001b[1;32mreturn\u001b[0m \u001b[1;34m''\u001b[0m\u001b[1;33m.\u001b[0m\u001b[0mjoin\u001b[0m\u001b[1;33m(\u001b[0m\u001b[1;33m[\u001b[0m\u001b[0mstr\u001b[0m\u001b[1;33m(\u001b[0m\u001b[0mi\u001b[0m\u001b[1;33m)\u001b[0m \u001b[1;32mfor\u001b[0m \u001b[0mi\u001b[0m \u001b[1;32min\u001b[0m \u001b[0mres\u001b[0m\u001b[1;33m]\u001b[0m\u001b[1;33m)\u001b[0m\u001b[1;33m\u001b[0m\u001b[0m\n",
      "\u001b[1;31mTypeError\u001b[0m: <lambda>() missing 1 required positional argument: 'y'"
     ]
    }
   ],
   "source": [
    "numbers=[1,2,5,6,7]\n",
    "PrintMinNumber(numbers)"
   ]
  },
  {
   "cell_type": "code",
   "execution_count": 106,
   "metadata": {},
   "outputs": [
    {
     "data": {
      "text/plain": [
       "NoneType"
      ]
     },
     "execution_count": 106,
     "metadata": {},
     "output_type": "execute_result"
    }
   ],
   "source": [
    "numbers=[1,2,5,6,7]\n",
    "num = numbers.remove(5)\n",
    "type(num)"
   ]
  },
  {
   "cell_type": "code",
   "execution_count": 115,
   "metadata": {
    "collapsed": true
   },
   "outputs": [],
   "source": [
    "sorted??"
   ]
  },
  {
   "cell_type": "code",
   "execution_count": 120,
   "metadata": {
    "collapsed": true
   },
   "outputs": [],
   "source": [
    "def PrintMinNumber(numbers):        \n",
    "    if not numbers:\n",
    "            return ''\n",
    "    lmd = lambda x,y:int(str(x)+str(y)) - int(str(y)+str(x))\n",
    "    res = numbers.sort(cmp=lmd)\n",
    "    return ''.join([str(i) for i in res])\n"
   ]
  },
  {
   "cell_type": "code",
   "execution_count": 121,
   "metadata": {},
   "outputs": [
    {
     "ename": "TypeError",
     "evalue": "'cmp' is an invalid keyword argument for this function",
     "output_type": "error",
     "traceback": [
      "\u001b[1;31m---------------------------------------------------------------------------\u001b[0m",
      "\u001b[1;31mTypeError\u001b[0m                                 Traceback (most recent call last)",
      "\u001b[1;32m<ipython-input-121-1e086493ef4a>\u001b[0m in \u001b[0;36m<module>\u001b[1;34m()\u001b[0m\n\u001b[0;32m      1\u001b[0m \u001b[0mnumbers\u001b[0m\u001b[1;33m=\u001b[0m\u001b[1;33m[\u001b[0m\u001b[1;36m1\u001b[0m\u001b[1;33m,\u001b[0m\u001b[1;36m2\u001b[0m\u001b[1;33m,\u001b[0m\u001b[1;36m5\u001b[0m\u001b[1;33m,\u001b[0m\u001b[1;36m6\u001b[0m\u001b[1;33m,\u001b[0m\u001b[1;36m7\u001b[0m\u001b[1;33m]\u001b[0m\u001b[1;33m\u001b[0m\u001b[0m\n\u001b[1;32m----> 2\u001b[1;33m \u001b[0mPrintMinNumber\u001b[0m\u001b[1;33m(\u001b[0m\u001b[0mnumbers\u001b[0m\u001b[1;33m)\u001b[0m\u001b[1;33m\u001b[0m\u001b[0m\n\u001b[0m",
      "\u001b[1;32m<ipython-input-120-c18cd2429fc7>\u001b[0m in \u001b[0;36mPrintMinNumber\u001b[1;34m(numbers)\u001b[0m\n\u001b[0;32m      3\u001b[0m             \u001b[1;32mreturn\u001b[0m \u001b[1;34m''\u001b[0m\u001b[1;33m\u001b[0m\u001b[0m\n\u001b[0;32m      4\u001b[0m     \u001b[0mlmd\u001b[0m \u001b[1;33m=\u001b[0m \u001b[1;32mlambda\u001b[0m \u001b[0mx\u001b[0m\u001b[1;33m,\u001b[0m\u001b[0my\u001b[0m\u001b[1;33m:\u001b[0m\u001b[0mint\u001b[0m\u001b[1;33m(\u001b[0m\u001b[0mstr\u001b[0m\u001b[1;33m(\u001b[0m\u001b[0mx\u001b[0m\u001b[1;33m)\u001b[0m\u001b[1;33m+\u001b[0m\u001b[0mstr\u001b[0m\u001b[1;33m(\u001b[0m\u001b[0my\u001b[0m\u001b[1;33m)\u001b[0m\u001b[1;33m)\u001b[0m \u001b[1;33m-\u001b[0m \u001b[0mint\u001b[0m\u001b[1;33m(\u001b[0m\u001b[0mstr\u001b[0m\u001b[1;33m(\u001b[0m\u001b[0my\u001b[0m\u001b[1;33m)\u001b[0m\u001b[1;33m+\u001b[0m\u001b[0mstr\u001b[0m\u001b[1;33m(\u001b[0m\u001b[0mx\u001b[0m\u001b[1;33m)\u001b[0m\u001b[1;33m)\u001b[0m\u001b[1;33m\u001b[0m\u001b[0m\n\u001b[1;32m----> 5\u001b[1;33m     \u001b[0mres\u001b[0m \u001b[1;33m=\u001b[0m \u001b[0mnumbers\u001b[0m\u001b[1;33m.\u001b[0m\u001b[0msort\u001b[0m\u001b[1;33m(\u001b[0m\u001b[0mcmp\u001b[0m\u001b[1;33m=\u001b[0m\u001b[0mlmd\u001b[0m\u001b[1;33m)\u001b[0m\u001b[1;33m\u001b[0m\u001b[0m\n\u001b[0m\u001b[0;32m      6\u001b[0m     \u001b[1;32mreturn\u001b[0m \u001b[1;34m''\u001b[0m\u001b[1;33m.\u001b[0m\u001b[0mjoin\u001b[0m\u001b[1;33m(\u001b[0m\u001b[1;33m[\u001b[0m\u001b[0mstr\u001b[0m\u001b[1;33m(\u001b[0m\u001b[0mi\u001b[0m\u001b[1;33m)\u001b[0m \u001b[1;32mfor\u001b[0m \u001b[0mi\u001b[0m \u001b[1;32min\u001b[0m \u001b[0mres\u001b[0m\u001b[1;33m]\u001b[0m\u001b[1;33m)\u001b[0m\u001b[1;33m\u001b[0m\u001b[0m\n",
      "\u001b[1;31mTypeError\u001b[0m: 'cmp' is an invalid keyword argument for this function"
     ]
    }
   ],
   "source": [
    "numbers=[1,2,5,6,7]\n",
    "PrintMinNumber(numbers)"
   ]
  },
  {
   "cell_type": "code",
   "execution_count": 122,
   "metadata": {
    "collapsed": true
   },
   "outputs": [],
   "source": [
    "list.sort??"
   ]
  },
  {
   "cell_type": "code",
   "execution_count": 125,
   "metadata": {
    "collapsed": true
   },
   "outputs": [],
   "source": [
    "    def isUgle(num):\n",
    "        while (num%2==0):\n",
    "            num /=2\n",
    "        while (num%3==0):\n",
    "            num /=3\n",
    "        while (num%5==0):\n",
    "            num /=5\n",
    "        return (num==1)\n"
   ]
  },
  {
   "cell_type": "code",
   "execution_count": 129,
   "metadata": {},
   "outputs": [
    {
     "data": {
      "text/plain": [
       "True"
      ]
     },
     "execution_count": 129,
     "metadata": {},
     "output_type": "execute_result"
    }
   ],
   "source": [
    "isUgle(1)"
   ]
  },
  {
   "cell_type": "code",
   "execution_count": 135,
   "metadata": {
    "collapsed": true
   },
   "outputs": [],
   "source": [
    "class Solution:\n",
    "    def GetUglyNumber_Solution(self, index):\n",
    "        # write code here\n",
    "        if index<=0:\n",
    "            return 0\n",
    "        count,num = 0,0\n",
    "        while(count<index):\n",
    "            num +=1\n",
    "            if self.isUgle(num):\n",
    "                count +=1\n",
    "            \n",
    "        return num\n",
    "    def isUgle(self,num):\n",
    "        while (num%2==0):\n",
    "            num /=2\n",
    "        while (num%3==0):\n",
    "            num /=3\n",
    "        while (num%5==0):\n",
    "            num /=5\n",
    "        return (num==1)"
   ]
  },
  {
   "cell_type": "code",
   "execution_count": 137,
   "metadata": {},
   "outputs": [
    {
     "data": {
      "text/plain": [
       "2304"
      ]
     },
     "execution_count": 137,
     "metadata": {},
     "output_type": "execute_result"
    }
   ],
   "source": [
    "s =Solution()\n",
    "s.GetUglyNumber_Solution(114)"
   ]
  },
  {
   "cell_type": "code",
   "execution_count": 138,
   "metadata": {
    "collapsed": true
   },
   "outputs": [],
   "source": [
    "class Solution:\n",
    "    def FindNumbersWithSum(self, array, tsum):\n",
    "        # write code here\n",
    "        if not array and tsum<=0:\n",
    "            return None\n",
    "        odd =0\n",
    "        for i in array:\n",
    "            odd = tsum-i\n",
    "            if odd !=i and odd in array:\n",
    "                break\n",
    "        return i*odd"
   ]
  },
  {
   "cell_type": "code",
   "execution_count": 140,
   "metadata": {},
   "outputs": [
    {
     "data": {
      "text/plain": [
       "44"
      ]
     },
     "execution_count": 140,
     "metadata": {},
     "output_type": "execute_result"
    }
   ],
   "source": [
    "s =Solution()\n",
    "s.FindNumbersWithSum([1,2,4,7,11,15],15)"
   ]
  },
  {
   "cell_type": "code",
   "execution_count": 147,
   "metadata": {},
   "outputs": [
    {
     "data": {
      "text/plain": [
       "['I', 'am', 'a', 'student.']"
      ]
     },
     "execution_count": 147,
     "metadata": {},
     "output_type": "execute_result"
    }
   ],
   "source": [
    "s= \"I am a student.\"\n",
    "res = s.split(' ')\n",
    "res\n"
   ]
  },
  {
   "cell_type": "code",
   "execution_count": 153,
   "metadata": {},
   "outputs": [
    {
     "data": {
      "text/plain": [
       "['I', 'am', 'a', 'student.']"
      ]
     },
     "execution_count": 153,
     "metadata": {},
     "output_type": "execute_result"
    }
   ],
   "source": [
    "res[::-1]"
   ]
  },
  {
   "cell_type": "code",
   "execution_count": 167,
   "metadata": {
    "collapsed": true
   },
   "outputs": [],
   "source": [
    "class Solution:\n",
    "    def Add(self, num1, num2):\n",
    "        # write code here\n",
    "        print(num1,num2)\n",
    "        if num1==0:\n",
    "            return num2\n",
    "        return self.Add((num1&num2)<<1,num1^num2)"
   ]
  },
  {
   "cell_type": "code",
   "execution_count": 179,
   "metadata": {},
   "outputs": [
    {
     "ename": "SyntaxError",
     "evalue": "invalid syntax (<ipython-input-179-a6db7e33da28>, line 2)",
     "output_type": "error",
     "traceback": [
      "\u001b[1;36m  File \u001b[1;32m\"<ipython-input-179-a6db7e33da28>\"\u001b[1;36m, line \u001b[1;32m2\u001b[0m\n\u001b[1;33m    s.Add(`(-1),1)\u001b[0m\n\u001b[1;37m          ^\u001b[0m\n\u001b[1;31mSyntaxError\u001b[0m\u001b[1;31m:\u001b[0m invalid syntax\n"
     ]
    }
   ],
   "source": [
    "s = Solution()\n",
    "s.Add(num1=~(-1),1)"
   ]
  },
  {
   "cell_type": "code",
   "execution_count": 159,
   "metadata": {},
   "outputs": [
    {
     "data": {
      "text/plain": [
       "6"
      ]
     },
     "execution_count": 159,
     "metadata": {},
     "output_type": "execute_result"
    }
   ],
   "source": [
    "-1&3<<1"
   ]
  },
  {
   "cell_type": "code",
   "execution_count": 162,
   "metadata": {},
   "outputs": [
    {
     "data": {
      "text/plain": [
       "(4, 1)"
      ]
     },
     "execution_count": 162,
     "metadata": {},
     "output_type": "execute_result"
    }
   ],
   "source": [
    "(3&2)<<1,3^2"
   ]
  },
  {
   "cell_type": "code",
   "execution_count": 171,
   "metadata": {},
   "outputs": [
    {
     "data": {
      "text/plain": [
       "(4, -3)"
      ]
     },
     "execution_count": 171,
     "metadata": {},
     "output_type": "execute_result"
    }
   ],
   "source": [
    "(-1&2)<<1,-1^2"
   ]
  },
  {
   "cell_type": "code",
   "execution_count": 172,
   "metadata": {},
   "outputs": [
    {
     "data": {
      "text/plain": [
       "(8, -7)"
      ]
     },
     "execution_count": 172,
     "metadata": {},
     "output_type": "execute_result"
    }
   ],
   "source": [
    "(4&-3)<<1,4^-3"
   ]
  },
  {
   "cell_type": "code",
   "execution_count": 181,
   "metadata": {},
   "outputs": [
    {
     "data": {
      "text/plain": [
       "0"
      ]
     },
     "execution_count": 181,
     "metadata": {},
     "output_type": "execute_result"
    }
   ],
   "source": [
    "~-1"
   ]
  },
  {
   "cell_type": "code",
   "execution_count": 183,
   "metadata": {
    "collapsed": true
   },
   "outputs": [],
   "source": [
    "#字符串转数字\n",
    "def duplicate(numbers, duplication):\n",
    "        # write code here\n",
    "    if not numbers:\n",
    "        return False\n",
    "    for i in list(set(numbers)):\n",
    "        while(numbers.count(i)>1):\n",
    "            duplication[0]=i\n",
    "            return True,i\n",
    "            break"
   ]
  },
  {
   "cell_type": "code",
   "execution_count": 184,
   "metadata": {},
   "outputs": [
    {
     "data": {
      "text/plain": [
       "(True, 1)"
      ]
     },
     "execution_count": 184,
     "metadata": {},
     "output_type": "execute_result"
    }
   ],
   "source": [
    "duplicate([2,1,3,1,4],[2,1,3,1,4])"
   ]
  },
  {
   "cell_type": "markdown",
   "metadata": {
    "collapsed": true
   },
   "source": [
    "### 判断字符串是否代表数字\n",
    "请实现一个函数用来判断字符串是否表示数值（包括整数和小数）。例如，字符串\"+100\",\"5e2\",\"-123\",\"3.1416\"和\"-1E-16\"都表示数值。 但是\"12e\",\"1a3.14\",\"1.2.3\",\"+-5\"和\"12e+4.3\"都不是。"
   ]
  },
  {
   "cell_type": "code",
   "execution_count": null,
   "metadata": {
    "collapsed": true
   },
   "outputs": [],
   "source": [
    "class Solution:\n",
    "    # s字符串\n",
    "    def isNumeric(self, s):\n",
    "        # write code here\n",
    "        if not s:\n",
    "            return False\n",
    "        sign = ['+','-','e','E','.']\n",
    "        for i in s:\n",
    "            if i.isdigit() or i in sign:\n",
    "                return "
   ]
  },
  {
   "cell_type": "markdown",
   "metadata": {},
   "source": [
    "### 递归例子"
   ]
  },
  {
   "cell_type": "code",
   "execution_count": 16,
   "metadata": {},
   "outputs": [
    {
     "data": {
      "text/plain": [
       "75"
      ]
     },
     "execution_count": 16,
     "metadata": {},
     "output_type": "execute_result"
    }
   ],
   "source": [
    "list1 = [1,2,3,4,57,8]\n",
    "def sumArray(a):\n",
    "    if not a:\n",
    "        return 0\n",
    "    if len(a)==1:\n",
    "        return a[0]\n",
    "    return a[0]+sumArray(a[1:])\n",
    "\n",
    "sumArray(list1)"
   ]
  },
  {
   "cell_type": "code",
   "execution_count": 17,
   "metadata": {},
   "outputs": [
    {
     "data": {
      "text/plain": [
       "0"
      ]
     },
     "execution_count": 17,
     "metadata": {},
     "output_type": "execute_result"
    }
   ],
   "source": [
    "list1 = []\n",
    "sumArray(list1)"
   ]
  },
  {
   "cell_type": "code",
   "execution_count": 21,
   "metadata": {},
   "outputs": [
    {
     "data": {
      "text/plain": [
       "57"
      ]
     },
     "execution_count": 21,
     "metadata": {},
     "output_type": "execute_result"
    }
   ],
   "source": [
    "list1 = [1,2,3,4,57,8]\n",
    "def MaxArray(a):\n",
    "    if not a:\n",
    "        return []\n",
    "    if len(a)==1:\n",
    "        return a[0]\n",
    "    if len(a)==2:\n",
    "        return max(a[0],a[1])\n",
    "    return max(a[0],MaxArray(a[1:]))\n",
    "\n",
    "MaxArray(list1)"
   ]
  },
  {
   "cell_type": "code",
   "execution_count": 22,
   "metadata": {},
   "outputs": [
    {
     "name": "stderr",
     "output_type": "stream",
     "text": [
      "usage: ipykernel_launcher.py [-h] [--batch-size N] [--test-batch-size N]\n",
      "                             [--epochs N] [--lr LR] [--momentum M] [--no-cuda]\n",
      "                             [--seed S] [--log-interval N]\n",
      "ipykernel_launcher.py: error: unrecognized arguments: -f C:\\Users\\Geek_intern\\AppData\\Roaming\\jupyter\\runtime\\kernel-9437aebc-6c4b-4515-a49a-6e031aefb613.json\n"
     ]
    },
    {
     "ename": "SystemExit",
     "evalue": "2",
     "output_type": "error",
     "traceback": [
      "An exception has occurred, use %tb to see the full traceback.\n",
      "\u001b[1;31mSystemExit\u001b[0m\u001b[1;31m:\u001b[0m 2\n"
     ]
    },
    {
     "name": "stderr",
     "output_type": "stream",
     "text": [
      "C:\\Users\\Geek_intern\\Anaconda3\\lib\\site-packages\\IPython\\core\\interactiveshell.py:2870: UserWarning: To exit: use 'exit', 'quit', or Ctrl-D.\n",
      "  warn(\"To exit: use 'exit', 'quit', or Ctrl-D.\", stacklevel=1)\n"
     ]
    }
   ],
   "source": [
    "from __future__ import print_function\n",
    "import argparse\n",
    "import torch\n",
    "import torch.nn as nn\n",
    "import torch.nn.functional as F\n",
    "import torch.optim as optim\n",
    "from torchvision import datasets, transforms\n",
    "\n",
    "class Net(nn.Module):\n",
    "    def __init__(self):\n",
    "        super(Net, self).__init__()\n",
    "        self.conv1 = nn.Conv2d(1, 10, kernel_size=5)\n",
    "        self.conv2 = nn.Conv2d(10, 20, kernel_size=5)\n",
    "        self.conv2_drop = nn.Dropout2d()\n",
    "        self.fc1 = nn.Linear(320, 50)\n",
    "        self.fc2 = nn.Linear(50, 10)\n",
    "\n",
    "    def forward(self, x):\n",
    "        x = F.relu(F.max_pool2d(self.conv1(x), 2))\n",
    "        x = F.relu(F.max_pool2d(self.conv2_drop(self.conv2(x)), 2))\n",
    "        x = x.view(-1, 320)\n",
    "        x = F.relu(self.fc1(x))\n",
    "        x = F.dropout(x, training=self.training)\n",
    "        x = self.fc2(x)\n",
    "        return F.log_softmax(x, dim=1)\n",
    "\n",
    "def train(args, model, device, train_loader, optimizer, epoch):\n",
    "    model.train()\n",
    "    for batch_idx, (data, target) in enumerate(train_loader):\n",
    "        data, target = data.to(device), target.to(device)\n",
    "        optimizer.zero_grad()\n",
    "        output = model(data)\n",
    "        loss = F.nll_loss(output, target)\n",
    "        loss.backward()\n",
    "        optimizer.step()\n",
    "        if batch_idx % args.log_interval == 0:\n",
    "            print('Train Epoch: {} [{}/{} ({:.0f}%)]\\tLoss: {:.6f}'.format(\n",
    "                epoch, batch_idx * len(data), len(train_loader.dataset),\n",
    "                100. * batch_idx / len(train_loader), loss.item()))\n",
    "\n",
    "def test(args, model, device, test_loader):\n",
    "    model.eval()\n",
    "    test_loss = 0\n",
    "    correct = 0\n",
    "    with torch.no_grad():\n",
    "        for data, target in test_loader:\n",
    "            data, target = data.to(device), target.to(device)\n",
    "            output = model(data)\n",
    "            test_loss += F.nll_loss(output, target, reduction='sum').item() # sum up batch loss\n",
    "            pred = output.max(1, keepdim=True)[1] # get the index of the max log-probability\n",
    "            correct += pred.eq(target.view_as(pred)).sum().item()\n",
    "\n",
    "    test_loss /= len(test_loader.dataset)\n",
    "    print('\\nTest set: Average loss: {:.4f}, Accuracy: {}/{} ({:.0f}%)\\n'.format(\n",
    "        test_loss, correct, len(test_loader.dataset),\n",
    "        100. * correct / len(test_loader.dataset)))\n",
    "\n",
    "def main():\n",
    "    # Training settings\n",
    "    parser = argparse.ArgumentParser(description='PyTorch MNIST Example')\n",
    "    parser.add_argument('--batch-size', type=int, default=64, metavar='N',\n",
    "                        help='input batch size for training (default: 64)')\n",
    "    parser.add_argument('--test-batch-size', type=int, default=1000, metavar='N',\n",
    "                        help='input batch size for testing (default: 1000)')\n",
    "    parser.add_argument('--epochs', type=int, default=10, metavar='N',\n",
    "                        help='number of epochs to train (default: 10)')\n",
    "    parser.add_argument('--lr', type=float, default=0.01, metavar='LR',\n",
    "                        help='learning rate (default: 0.01)')\n",
    "    parser.add_argument('--momentum', type=float, default=0.5, metavar='M',\n",
    "                        help='SGD momentum (default: 0.5)')\n",
    "    parser.add_argument('--no-cuda', action='store_true', default=False,\n",
    "                        help='disables CUDA training')\n",
    "    parser.add_argument('--seed', type=int, default=1, metavar='S',\n",
    "                        help='random seed (default: 1)')\n",
    "    parser.add_argument('--log-interval', type=int, default=10, metavar='N',\n",
    "                        help='how many batches to wait before logging training status')\n",
    "    args = parser.parse_args()\n",
    "    use_cuda = not args.no_cuda and torch.cuda.is_available()\n",
    "\n",
    "    torch.manual_seed(args.seed)\n",
    "\n",
    "    device = torch.device(\"cuda\" if use_cuda else \"cpu\")\n",
    "\n",
    "    kwargs = {'num_workers': 1, 'pin_memory': True} if use_cuda else {}\n",
    "    train_loader = torch.utils.data.DataLoader(\n",
    "        datasets.MNIST('../data', train=True, download=True,\n",
    "                       transform=transforms.Compose([\n",
    "                           transforms.ToTensor(),\n",
    "                           transforms.Normalize((0.1307,), (0.3081,))\n",
    "                       ])),\n",
    "        batch_size=args.batch_size, shuffle=True, **kwargs)\n",
    "    test_loader = torch.utils.data.DataLoader(\n",
    "        datasets.MNIST('../data', train=False, transform=transforms.Compose([\n",
    "                           transforms.ToTensor(),\n",
    "                           transforms.Normalize((0.1307,), (0.3081,))\n",
    "                       ])),\n",
    "        batch_size=args.test_batch_size, shuffle=True, **kwargs)\n",
    "\n",
    "\n",
    "    model = Net().to(device)\n",
    "    optimizer = optim.SGD(model.parameters(), lr=args.lr, momentum=args.momentum)\n",
    "\n",
    "    for epoch in range(1, args.epochs + 1):\n",
    "        train(args, model, device, train_loader, optimizer, epoch)\n",
    "        test(args, model, device, test_loader)\n",
    "\n",
    "\n",
    "if __name__ == '__main__':\n",
    "    main()"
   ]
  },
  {
   "cell_type": "markdown",
   "metadata": {},
   "source": [
    "### 不用加减乘除做加法"
   ]
  },
  {
   "cell_type": "code",
   "execution_count": 5,
   "metadata": {},
   "outputs": [
    {
     "data": {
      "text/plain": [
       "1010"
      ]
     },
     "execution_count": 5,
     "metadata": {},
     "output_type": "execute_result"
    }
   ],
   "source": [
    "class Solution:\n",
    "    def Add(self, num1, num2):\n",
    "        # write code here\n",
    "        while num2:\n",
    "            sum_ = (num1 ^ num2) & 0xffffffff\n",
    "            carry = ((num1 & num2)<<1)& 0xffffffff\n",
    "            num1 = sum_\n",
    "            num2 = carry\n",
    "        if num1<0x7fffffff:\n",
    "            return num1\n",
    "        else:\n",
    "            return ~(num1^0xffffffff)\n",
    "a,b = 111,899\n",
    "s = Solution()\n",
    "s.Add(a,b)"
   ]
  },
  {
   "cell_type": "markdown",
   "metadata": {},
   "source": [
    "### 重建二叉树\n",
    "输入某二叉树的前序遍历和中序遍历的结果，请重建出该二叉树。假设输入的前序遍历和中序遍历的结果中都不含重复的数字。例如输入前序遍历序列{1,2,4,7,3,5,6,8}和中序遍历序列{4,7,2,1,5,3,8,6}，则重建二叉树并返回。"
   ]
  },
  {
   "cell_type": "code",
   "execution_count": 6,
   "metadata": {
    "collapsed": true
   },
   "outputs": [],
   "source": [
    "class Solution:\n",
    "    # 返回构造的TreeNode根节点\n",
    "    def reConstructBinaryTree(self, pre, tin):\n",
    "        if len(pre)==0 or len(tin)==0:\n",
    "            return None\n",
    "        if len(pre)==1:\n",
    "            return treeNode(pre[0])\n",
    "        root = treeNode(pre[0])\n",
    "        idx = tin.index[pre[0]]\n",
    "        root.left = self.reConstructBinaryTree(pre[1:idx+1],tin[:idx])\n",
    "        root.right = self.reConstructBinaryTree(pre[idx+1:],tin[idx+1:])\n",
    "        return root"
   ]
  },
  {
   "cell_type": "markdown",
   "metadata": {},
   "source": [
    "### 用两个栈实现对列\n",
    "栈先进后出，对列先进先出，都可以用list模拟"
   ]
  },
  {
   "cell_type": "code",
   "execution_count": 7,
   "metadata": {
    "collapsed": true
   },
   "outputs": [],
   "source": [
    "class Solution:\n",
    "    def __init__(self):\n",
    "        self.stack1 = []\n",
    "        self.stack2 = []\n",
    "    def push(self,node):\n",
    "        return self.stack1.append(node)\n",
    "    def pop(self):\n",
    "        if self.stack2 ==[]:\n",
    "            while self.stack2:\n",
    "                self.stack2.append(self.stack2.pop())\n",
    "        return self.stack2.pop()"
   ]
  },
  {
   "cell_type": "markdown",
   "metadata": {},
   "source": [
    "### 丑数\n",
    "把只包含质因子2、3和5的数称作丑数（Ugly Number）。例如6、8都是丑数，但14不是，因为它包含质因子7。 习惯上我们把1当做是第一个丑数。求按从小到大的顺序的第N个丑数。"
   ]
  },
  {
   "cell_type": "code",
   "execution_count": 15,
   "metadata": {},
   "outputs": [
    {
     "name": "stdout",
     "output_type": "stream",
     "text": [
      "selct from 2,3,5\n",
      "selct,2\n",
      "selct from 4,3,5\n",
      "selct,3\n",
      "selct from 4,6,5\n",
      "selct,4\n",
      "selct from 6,6,5\n",
      "selct,5\n",
      "selct from 6,6,10\n",
      "selct,6\n",
      "selct from 8,9,10\n",
      "selct,8\n",
      "selct from 10,9,10\n",
      "selct,9\n",
      "selct from 10,12,10\n",
      "selct,10\n",
      "selct from 12,12,15\n",
      "selct,12\n"
     ]
    },
    {
     "data": {
      "text/plain": [
       "[1, 2, 3, 4, 5, 6, 8, 9, 10, 12]"
      ]
     },
     "execution_count": 15,
     "metadata": {},
     "output_type": "execute_result"
    }
   ],
   "source": [
    "class Solution:\n",
    "    def GetUglyNumber_Solution(self, index):\n",
    "        #边界条件\n",
    "        if index<=0:\n",
    "            return 0\n",
    "        uglyNumber = [1]\n",
    "        twoIdx,threeIdx,fiveIdx = 0,0,0\n",
    "        for i in range(index-1):\n",
    "            new = min(uglyNumber[twoIdx]*2,uglyNumber[threeIdx]*3,uglyNumber[fiveIdx]*5)\n",
    "            print(\"selct from {},{},{}\".format(uglyNumber[twoIdx]*2,uglyNumber[threeIdx]*3,uglyNumber[fiveIdx]*5))\n",
    "            print('selct,%d'%new)\n",
    "            uglyNumber.append(new)\n",
    "            if new ==uglyNumber[twoIdx]*2:\n",
    "                twoIdx+=1\n",
    "            if new ==uglyNumber[threeIdx]*3:\n",
    "                threeIdx+=1\n",
    "            if new ==uglyNumber[fiveIdx]*5:\n",
    "                fiveIdx+=1\n",
    "        return uglyNumber\n",
    "s = Solution()\n",
    "s.GetUglyNumber_Solution(10)"
   ]
  },
  {
   "cell_type": "markdown",
   "metadata": {},
   "source": [
    "### 旋转矩阵的最小数字\n",
    "把一个数组最开始的若干个元素搬到数组的末尾，我们称之为数组的旋转。 输入一个非减排序的数组的一个旋转，输出旋转数组的最小元素。 例如数组{3,4,5,1,2}为{1,2,3,4,5}的一个旋转，该数组的最小值为1。 NOTE：给出的所有元素都大于0，若数组大小为0，请返回0。"
   ]
  },
  {
   "cell_type": "code",
   "execution_count": 19,
   "metadata": {},
   "outputs": [
    {
     "data": {
      "text/plain": [
       "2"
      ]
     },
     "execution_count": 19,
     "metadata": {},
     "output_type": "execute_result"
    }
   ],
   "source": [
    "class Solution:\n",
    "    def minNumberInRotateArray(self, rotateArray):\n",
    "        #排除边界条件\n",
    "        if not rotateArray:\n",
    "            return 0\n",
    "        if len(rotateArray)==1:\n",
    "            return rotateArray[0]\n",
    "        for i in range(len(rotateArray)-1):\n",
    "            if rotateArray[i]>rotateArray[i+1]:\n",
    "                return rotateArray[i+1]\n",
    "        return rotateArray[0]\n",
    "s = Solution()\n",
    "s.minNumberInRotateArray([2,3,4,5,6])"
   ]
  },
  {
   "cell_type": "markdown",
   "metadata": {},
   "source": [
    "### 二维数组的查找\n",
    "在一个二维数组中（每个一维数组的长度相同），每一行都按照从左到右递增的顺序排序，每一列都按照从上到下递增的顺序排序。请完成一个函数，输入这样的一个二维数组和一个整数，判断数组中是否含有该整数。"
   ]
  },
  {
   "cell_type": "code",
   "execution_count": 32,
   "metadata": {
    "collapsed": true
   },
   "outputs": [],
   "source": [
    "class Solution:\n",
    "    # array 二维列表\n",
    "    def Find(self, target, array):\n",
    "        # write code here\n",
    "        if not array:\n",
    "            return None\n",
    "        row,col = 0,len(array[0])-1\n",
    "        while row<len(array[0]) and col>=0:\n",
    "            print(\"find %d\"%(array[col][row]))\n",
    "            if array[col][row]==target:\n",
    "                return True\n",
    "            elif array[col][row]<target:\n",
    "                row+=1\n",
    "            else:\n",
    "                col-=1\n",
    "        return False"
   ]
  },
  {
   "cell_type": "code",
   "execution_count": 37,
   "metadata": {
    "collapsed": true
   },
   "outputs": [],
   "source": [
    "class Solution:\n",
    "    # array 二维列表\n",
    "    def Find(self, target, array):\n",
    "        # write code here\n",
    "        if not array:\n",
    "            return None\n",
    "        for i in range(len(array)):\n",
    "            if target in array[i]:\n",
    "                return True\n",
    "        return False"
   ]
  },
  {
   "cell_type": "code",
   "execution_count": 38,
   "metadata": {},
   "outputs": [
    {
     "data": {
      "text/plain": [
       "True"
      ]
     },
     "execution_count": 38,
     "metadata": {},
     "output_type": "execute_result"
    }
   ],
   "source": [
    "array = [[1,2,3],\n",
    "        [4,5,6],\n",
    "        [7,8,9]]\n",
    "target =3\n",
    "s = Solution()\n",
    "s.Find(array=array,target=target)"
   ]
  },
  {
   "cell_type": "markdown",
   "metadata": {},
   "source": [
    "### <span class=\"burk\"> 二叉树和双向链表 ●(未弄懂，回去一定弄懂)</span>\n",
    "输入一棵二叉搜索树，将该二叉搜索树转换成一个排序的双向链表。要求不能创建任何新的结点，只能调整树中结点指针的指向。"
   ]
  },
  {
   "cell_type": "code",
   "execution_count": 39,
   "metadata": {
    "collapsed": true
   },
   "outputs": [],
   "source": [
    "class Solution:\n",
    "    def Convert(self, pRootOfTree):\n",
    "        # 边界条件\n",
    "        if not pRootOfTree:\n",
    "            return pRootOfTree\n",
    "        if not pRootOfTree.left and not pRootOfTree.right:\n",
    "            return pRootOfTree\n",
    "        self.Convert(pRootOfTree.left)\n",
    "        left = pRootOfTree.left\n",
    "        if left:\n",
    "            while left.right:\n",
    "                left = left.right\n",
    "            pRootOfTree.left,left.right = left,pRootOfTree\n",
    "        self.Convert(pRootOfTree.right)\n",
    "        right = pRootOfTree.right\n",
    "        if right:\n",
    "            while right.left:\n",
    "                right = right.left\n",
    "            pRootOfTree.right,right.left = right,pRootOfTree\n",
    "        while pRootOfTree.left:\n",
    "            pRootOfTree = pRootOfTree.left\n",
    "        return pRootOfTree"
   ]
  },
  {
   "cell_type": "markdown",
   "metadata": {},
   "source": [
    "### 二叉树的后序遍历序列\n",
    "输入一个整数数组，判断该数组是不是某二叉搜索树的后序遍历的结果。如果是则输出Yes,否则输出No。假设输入的数组的任意两个数字都互不相同。"
   ]
  },
  {
   "cell_type": "code",
   "execution_count": 40,
   "metadata": {
    "collapsed": true
   },
   "outputs": [],
   "source": [
    "class Solution:\n",
    "    def VerifySquenceOfBST(self, sequence):\n",
    "        #边界条件\n",
    "        if len(sequence) ==0:\n",
    "            return False\n",
    "        if len(sequence)==1:\n",
    "            return True\n",
    "        i =0\n",
    "        root = sequence[-1]\n",
    "        while sequence[i]<root:\n",
    "            i+=1\n",
    "        #找出左子树\n",
    "        j = i\n",
    "        for k in range(j,len(sequence)-1):\n",
    "            if sequence[k]<root:\n",
    "                return False\n",
    "        left,right = True,True\n",
    "        if j>0:\n",
    "            left = self.VerifySquenceOfBST(sequence[:j])\n",
    "        if len(sequence)-j>1:\n",
    "            right = self.VerifySquenceOfBST(sequence[j:-1])\n",
    "        return left and right\n",
    "       "
   ]
  },
  {
   "cell_type": "markdown",
   "metadata": {},
   "source": [
    "### 二叉搜索树第k个节点\n",
    "给定一棵二叉搜索树，请找出其中的第k小的结点。例如， （5，3，7，2，4，6，8）    中，按结点数值大小顺序第三小结点的值为4。"
   ]
  },
  {
   "cell_type": "code",
   "execution_count": null,
   "metadata": {
    "collapsed": true
   },
   "outputs": [],
   "source": [
    "class Solution:\n",
    "    # 返回对应节点TreeNode\n",
    "    def KthNode(self, pRoot, k):\n",
    "        #边界条件\n",
    "        index =0\n",
    "        if not pRoot:\n",
    "            return None\n",
    "        node = KthNode(pRoot.left,k)\n",
    "        if node !=None:\n",
    "            return node\n",
    "        index +=1\n",
    "        if index==k:\n",
    "            return pRoot\n",
    "        node = KthNode(pRoot.right,k)\n",
    "        if node !=None:\n",
    "            return node\n",
    "        return None\n",
    "        "
   ]
  },
  {
   "cell_type": "markdown",
   "metadata": {},
   "source": [
    "### 二叉树中和为某个值的路径\n",
    "输入一颗二叉树的跟节点和一个整数，打印出二叉树中结点值的和为输入整数的所有路径。路径定义为从树的根结点开始往下一直到叶结点所经过的结点形成一条路径。(注意: 在返回值的list中，数组长度大的数组靠前)"
   ]
  },
  {
   "cell_type": "code",
   "execution_count": 41,
   "metadata": {},
   "outputs": [
    {
     "name": "stdout",
     "output_type": "stream",
     "text": [
      "[[10, 5, 7], [10, 12]]\n"
     ]
    }
   ],
   "source": [
    "class TreeNode:\n",
    "    def __init__(self, x):\n",
    "        self.val = x\n",
    "        self.left = None\n",
    "        self.right = None\n",
    "class Solution:\n",
    "    # 返回二维列表，内部每个列表表示找到的路径\n",
    "    def FindPath(self, root, expectNumber):\n",
    "        if not root:\n",
    "            return []\n",
    "        if root.left ==None and root.right ==None and root.val == expectNumber:\n",
    "            return [[root.val]]\n",
    "        res = []\n",
    "        left = self.FindPath(root.left,expectNumber-root.val)\n",
    "        right = self.FindPath(root.right,expectNumber-root.val)\n",
    "        for i in left+right:\n",
    "            res.append([root.val]+i)\n",
    "        return res\n",
    "pNode1 = TreeNode(10)\n",
    "pNode2 = TreeNode(5)\n",
    "pNode3 = TreeNode(12)\n",
    "pNode4 = TreeNode(4)\n",
    "pNode5 = TreeNode(7)\n",
    "\n",
    "\n",
    "pNode1.left = pNode2\n",
    "pNode1.right = pNode3\n",
    "pNode2.left = pNode4\n",
    "pNode2.right = pNode5\n",
    "S = Solution()\n",
    "print(S.FindPath(pNode1, 22))      "
   ]
  },
  {
   "cell_type": "code",
   "execution_count": 1,
   "metadata": {
    "collapsed": true
   },
   "outputs": [],
   "source": [
    "class Solution:\n",
    "    def Fibonacci(self, n):\n",
    "        # write code here\n",
    "        if n==0:\n",
    "            return 0\n",
    "        if n==1:\n",
    "            return 1\n",
    "        return self.Fibonacci(n-1)+self.Fibonacci(n-2)\n",
    "#斐波那契数列第二种解法\n",
    "class Solution:\n",
    "    def Fibonacci(self, n):\n",
    "        # write code here\n",
    "        if n ==0:\n",
    "            return 0\n",
    "        a,b = 0,1\n",
    "        while n>1:\n",
    "            n -=1\n",
    "            a,b = b,a+b\n",
    "           \n",
    "        return b"
   ]
  },
  {
   "cell_type": "code",
   "execution_count": 2,
   "metadata": {},
   "outputs": [
    {
     "data": {
      "text/plain": [
       "1"
      ]
     },
     "execution_count": 2,
     "metadata": {},
     "output_type": "execute_result"
    }
   ],
   "source": [
    "s =Solution()\n",
    "s.Fibonacci(2)"
   ]
  },
  {
   "cell_type": "markdown",
   "metadata": {},
   "source": [
    "### 跳台阶\n",
    "一只青蛙一次可以跳上1级台阶，也可以跳上2级。求该青蛙跳上一个n级的台阶总共有多少种跳法（先后次序不同算不同的结果）。"
   ]
  },
  {
   "cell_type": "code",
   "execution_count": 3,
   "metadata": {},
   "outputs": [
    {
     "data": {
      "text/plain": [
       "5"
      ]
     },
     "execution_count": 3,
     "metadata": {},
     "output_type": "execute_result"
    }
   ],
   "source": [
    "#算是另外一种斐波那契数列，当第一次跳一个台阶 f(n-1),当第二次跳2个台阶f(n-2)\n",
    "class Solution:\n",
    "    def jumpFloor(self, number):\n",
    "        #先考虑边界情况\n",
    "        if number <=3:\n",
    "            return number\n",
    "        a,b = 1,2\n",
    "        while number>2:\n",
    "            a,b = b,a+b\n",
    "            number -=1\n",
    "        return b\n",
    "s =Solution()\n",
    "s.jumpFloor(4)"
   ]
  },
  {
   "cell_type": "markdown",
   "metadata": {},
   "source": [
    "### 变态跳台阶\n",
    "结果为$ 2^{n-1}$\n",
    "### 矩形覆盖\n",
    "我们可以用$2*1$的小矩形横着或者竖着去覆盖更大的矩形。请问用n个$2*1$的小矩形无重叠地覆盖一个$2*n$的大矩形，总共有多少种方法？\n",
    "一个$2*1$的小矩形，分横放和竖放两种方法\n",
    "### 二进制1的个数\n",
    "输入一个整数，输出该数二进制表示中1的个数。其中负数用补码表示。"
   ]
  },
  {
   "cell_type": "code",
   "execution_count": 5,
   "metadata": {},
   "outputs": [
    {
     "data": {
      "text/plain": [
       "1"
      ]
     },
     "execution_count": 5,
     "metadata": {},
     "output_type": "execute_result"
    }
   ],
   "source": [
    "###Python解法\n",
    "class Solution:\n",
    "    def NumberOf1(self, n):\n",
    "        # write code here\n",
    "        return bin(n).count(\"1\") if n>=0 else bin(2**32+n).count(\"1\")\n",
    "s= Solution()\n",
    "s.NumberOf1(2)"
   ]
  },
  {
   "cell_type": "code",
   "execution_count": 6,
   "metadata": {},
   "outputs": [
    {
     "data": {
      "text/plain": [
       "1"
      ]
     },
     "execution_count": 6,
     "metadata": {},
     "output_type": "execute_result"
    }
   ],
   "source": [
    "### python解法不好，不能抓住精髓所在\n",
    "class Solution:\n",
    "    def NumberOf1(self, n):\n",
    "        count = 0\n",
    "        if n<0:\n",
    "            #取补码\n",
    "             n = n& 0xffffffff\n",
    "        while n:\n",
    "            count +=1\n",
    "            n = (n-1)&n\n",
    "        return count\n",
    "    def powerOf2(self, n):\n",
    "        if n&(n-1) == 0:\n",
    "            return True\n",
    "        else:\n",
    "            return False\n",
    "        # 判断两个数的二进制表示有多少位不一样, 直接比较两个数的二进制异或就可以\n",
    "    def andOr(self, m, n):\n",
    "        diff = m^n\n",
    "        count = 0\n",
    "        while diff:\n",
    "            count += 1\n",
    "            diff = diff&(diff-1)\n",
    "        return count\n",
    "s= Solution()\n",
    "s.NumberOf1(2)"
   ]
  },
  {
   "cell_type": "markdown",
   "metadata": {},
   "source": [
    "###  数值的整数次方\n",
    "给定一个double类型的浮点数base和int类型的整数exponent。求base的exponent次方。"
   ]
  },
  {
   "cell_type": "code",
   "execution_count": 8,
   "metadata": {},
   "outputs": [
    {
     "name": "stdout",
     "output_type": "stream",
     "text": [
      "1.0240000000000019e-07\n"
     ]
    }
   ],
   "source": [
    "class Solution:\n",
    "    def Power(self, base, exponent):\n",
    "        if exponent == 0:\n",
    "            return 1\n",
    "        if exponent == 1:\n",
    "            return base\n",
    "        if exponent == -1:\n",
    "            return 1/base\n",
    "\n",
    "        result = self.Power(base, exponent >> 1)\n",
    "        result *= result\n",
    "        if (exponent & 0x1) == 1:\n",
    "            result *= base\n",
    "        return result\n",
    "\n",
    "S = Solution()\n",
    "print(S.Power(5, -10))"
   ]
  },
  {
   "cell_type": "markdown",
   "metadata": {},
   "source": [
    "### 调整数组顺序使奇数位于偶数前面\n",
    "输入一个整数数组，实现一个函数来调整该数组中数字的顺序，使得所有的奇数位于数组的前半部分，所有的偶数位于数组的后半部分，并保证奇数和奇数，偶数和偶数之间的相对位置不变。"
   ]
  },
  {
   "cell_type": "code",
   "execution_count": 9,
   "metadata": {
    "collapsed": true
   },
   "outputs": [],
   "source": [
    "# 暴力法\n",
    "class Solution:\n",
    "    def reOrderArray(self, array):\n",
    "        num1 = [i for i in array if i%2==0]\n",
    "        num2 = [i for i in array if i%2!=0]\n",
    "        num2.extend(num1)\n",
    "        return num2\n",
    "class Solution:\n",
    "    # 一个类似于快排的方法, 只是简单的满足了奇数在前,偶数在后, 奇数的顺序发生了改变\n",
    "    def reOrderArray(self, array):\n",
    "        if len(array) < 1:\n",
    "            return\n",
    "        elif len(array) == 1:\n",
    "            return array\n",
    "\n",
    "        front = 0\n",
    "        rear = len(array)-1\n",
    "        while front <= rear:\n",
    "            while array[front] & 0x1 == 1:\n",
    "                front += 1\n",
    "            while array[rear] & 0x1 == 0:\n",
    "                rear -= 1\n",
    "            array[front], array[rear] = array[rear], array[front]\n",
    "        array[front], array[rear] = array[rear], array[front]\n",
    "        return array"
   ]
  },
  {
   "cell_type": "code",
   "execution_count": 10,
   "metadata": {},
   "outputs": [
    {
     "name": "stdout",
     "output_type": "stream",
     "text": [
      "[-1, 9, -3, 7, -5, -6, 4, 8, 2, 10, -10]\n"
     ]
    }
   ],
   "source": [
    "S = Solution()\n",
    "# print(S.reOrderArray3([1, 2, 3, 4, 5, 6, 7, 8, 9, 10, 11, 12, 13]))\n",
    "# print(S.ReorderOddEven([1, 2, 3, 4, 5, 6, 7, 8, 9, 10, 11, 12, 13]))\n",
    "print(S.reOrderArray([-1, 2, -3, 4, -5, -6, 7, 8, 9, 10, -10]))"
   ]
  },
  {
   "cell_type": "markdown",
   "metadata": {
    "collapsed": true
   },
   "source": [
    "### 链表中倒数第k个结点\n",
    "输入一个链表，输出该链表中倒数第k个结点。"
   ]
  },
  {
   "cell_type": "code",
   "execution_count": 1,
   "metadata": {
    "collapsed": true
   },
   "outputs": [],
   "source": [
    "class Solution:\n",
    "    def FindKthToTail(self, head, k):\n",
    "        #先判断特殊情况\n",
    "        if head == None or k==0:\n",
    "            return None\n",
    "        p1 = head\n",
    "        p2 = head\n",
    "        for i in range(k-1):\n",
    "            p1 = p1.next\n",
    "            if p1 ==None:\n",
    "                return None\n",
    "        while p1:\n",
    "            p1 = p1.next\n",
    "            p2 = p2.next\n",
    "        return p2\n",
    "        "
   ]
  },
  {
   "cell_type": "markdown",
   "metadata": {},
   "source": [
    "### 反向链表\n",
    "输入一个链表，反转链表后，输出新链表的表头。"
   ]
  },
  {
   "cell_type": "code",
   "execution_count": 3,
   "metadata": {
    "collapsed": true
   },
   "outputs": [],
   "source": [
    "class Solution:\n",
    "    # 返回ListNode\n",
    "    def ReverseList(self, pHead):\n",
    "        #普通方法\n",
    "        if pHead ==None or pHead.next ==None:\n",
    "            return pHead\n",
    "        p = pHead\n",
    "        r = None\n",
    "        while p:\n",
    "            pNext = p.next\n",
    "            p.next = r\n",
    "            r = p\n",
    "            p = pnext\n",
    "        return p"
   ]
  },
  {
   "cell_type": "code",
   "execution_count": 11,
   "metadata": {},
   "outputs": [
    {
     "name": "stdout",
     "output_type": "stream",
     "text": [
      "13 11 10\n",
      "<__main__.ListNode object at 0x00000251B62BCA20>\n",
      "<__main__.ListNode object at 0x00000251B62BC978>\n"
     ]
    }
   ],
   "source": [
    "class ListNode:\n",
    "    def __init__(self, x=None):\n",
    "        self.val = x\n",
    "        self.next = None\n",
    "class Solution:\n",
    "    # 返回ListNode\n",
    "    def ReverseList(self, pHead):\n",
    "        #递归的方法，终止条件\n",
    "        if pHead ==None or pHead.next ==None:\n",
    "            return pHead \n",
    "        newhead = self.ReverseList(pHead.next)\n",
    "        \n",
    "        pHead.next.next = pHead\n",
    "        pHead.next = None\n",
    "        return newhead\n",
    "node1 = ListNode(10)\n",
    "node2 = ListNode(11)\n",
    "node3 = ListNode(13)\n",
    "node1.next = node2\n",
    "node2.next = node3\n",
    "\n",
    "singleNode = ListNode(12)\n",
    "\n",
    "test = ListNode()\n",
    "\n",
    "S = Solution()\n",
    "node1 = S.ReverseList(node1)\n",
    "print(node1.val,node1.next.val,node1.next.next.val)\n",
    "print(S.ReverseList(test))\n",
    "print(S.ReverseList(singleNode))"
   ]
  },
  {
   "cell_type": "markdown",
   "metadata": {},
   "source": [
    "### 合并两个排序的链表\n",
    "输入两个单调递增的链表，输出两个链表合成后的链表，当然我们需要合成后的链表满足单调不减规则。"
   ]
  },
  {
   "cell_type": "code",
   "execution_count": 14,
   "metadata": {},
   "outputs": [
    {
     "name": "stdout",
     "output_type": "stream",
     "text": [
      "0 1 2\n"
     ]
    }
   ],
   "source": [
    "class ListNode:\n",
    "    def __init__(self, x):\n",
    "        self.val = x\n",
    "        self.next = None\n",
    "class Solution:\n",
    "    # 返回合并后列表\n",
    "    def Merge(self, pHead1, pHead2):\n",
    "        head = ListNode(0)\n",
    "        p = head\n",
    "        while pHead1 and pHead2:\n",
    "            if pHead1.val <= pHead2.val:\n",
    "                p.next = pHead1\n",
    "                pHead1 = pHead1.next\n",
    "            else:\n",
    "                p.next = pHead2\n",
    "                pHead2 = pHead2.next\n",
    "            p = p.next\n",
    "        if pHead1:\n",
    "            p.next = pHead1\n",
    "        if pHead2:\n",
    "            p.next = pHead2\n",
    "        return head\n",
    "#写单测\n",
    "node1 = ListNode(1)\n",
    "node2 = ListNode(3)\n",
    "node3 = ListNode(5)\n",
    "node1.next = node2\n",
    "node2.next = node3\n",
    "\n",
    "node4 = ListNode(2)\n",
    "node5 = ListNode(4)\n",
    "node6 = ListNode(6)\n",
    "node4.next = node5\n",
    "node5.next = node6\n",
    "\n",
    "s = Solution()\n",
    "l1 = s.Merge(node1,node4)\n",
    "print(l1.val,l1.next.val,l1.next.next.val)\n",
    "        "
   ]
  },
  {
   "cell_type": "code",
   "execution_count": 15,
   "metadata": {},
   "outputs": [
    {
     "name": "stdout",
     "output_type": "stream",
     "text": [
      "1 2 3\n"
     ]
    }
   ],
   "source": [
    "### 第二种解法递归\n",
    "class ListNode:\n",
    "    def __init__(self, x):\n",
    "        self.val = x\n",
    "        self.next = None\n",
    "class Solution:\n",
    "    # 返回合并后列表\n",
    "    def Merge(self, pHead1, pHead2):\n",
    "        #边界条件\n",
    "        if pHead1 ==None:\n",
    "            return pHead2\n",
    "        if pHead2 ==None:\n",
    "            return pHead1        \n",
    "        head = None\n",
    "        if pHead1.val <= pHead2.val:\n",
    "            head = pHead1\n",
    "            head.next = self.Merge(pHead1.next,pHead2)\n",
    "        else:\n",
    "            head = pHead2\n",
    "            head.next = self.Merge(pHead1,pHead2.next)\n",
    "        return head\n",
    "#写单测\n",
    "node1 = ListNode(1)\n",
    "node2 = ListNode(3)\n",
    "node3 = ListNode(5)\n",
    "node1.next = node2\n",
    "node2.next = node3\n",
    "\n",
    "node4 = ListNode(2)\n",
    "node5 = ListNode(4)\n",
    "node6 = ListNode(6)\n",
    "node4.next = node5\n",
    "node5.next = node6\n",
    "\n",
    "s = Solution()\n",
    "l1 = s.Merge(node1,node4)\n",
    "print(l1.val,l1.next.val,l1.next.next.val)"
   ]
  },
  {
   "cell_type": "markdown",
   "metadata": {},
   "source": [
    "### 树的子结构(多复习)\n",
    "输入两棵二叉树A，B，判断B是不是A的子结构。（ps：我们约定空树不是任意一个树的子结构）"
   ]
  },
  {
   "cell_type": "code",
   "execution_count": 17,
   "metadata": {},
   "outputs": [
    {
     "name": "stdout",
     "output_type": "stream",
     "text": [
      "True\n"
     ]
    }
   ],
   "source": [
    "class TreeNode:\n",
    "    def __init__(self, x):\n",
    "        self.val = x\n",
    "        self.left = None\n",
    "        self.right = None\n",
    "#这个只能用递归，没啥好办法\n",
    "class Solution:\n",
    "    def HasSubtree(self, pRoot1, pRoot2):\n",
    "        if not pRoot1 or not pRoot2:\n",
    "            return False\n",
    "        else:\n",
    "            return self.isSonTree(pRoot1,pRoot2) or self.isSonTree(pRoot1.left,pRoot2) or self.isSonTree(pRoot1.left,pRoot2)\n",
    "    def isSonTree(self,pRoot1,pRoot2):\n",
    "        if pRoot2 == None:\n",
    "            return True\n",
    "        if pRoot1 ==None:\n",
    "            return False\n",
    "        if pRoot1.val != pRoot2.val:\n",
    "            return False\n",
    "        return self.isSonTree(pRoot1.left,pRoot2.left) and self.isSonTree(pRoot1.right,pRoot2.right)\n",
    "    \n",
    "pRoot1 = TreeNode(8)\n",
    "pRoot2 = TreeNode(8)\n",
    "pRoot3 = TreeNode(7)\n",
    "pRoot4 = TreeNode(9)\n",
    "pRoot5 = TreeNode(2)\n",
    "pRoot6 = TreeNode(4)\n",
    "pRoot7 = TreeNode(7)\n",
    "pRoot1.left = pRoot2\n",
    "pRoot1.right = pRoot3\n",
    "pRoot2.left = pRoot4\n",
    "pRoot2.right = pRoot5\n",
    "pRoot5.left = pRoot6\n",
    "pRoot5.right = pRoot7\n",
    "\n",
    "pRoot8 = TreeNode(8)\n",
    "pRoot9 = TreeNode(9)\n",
    "pRoot10 = TreeNode(2)\n",
    "pRoot8.left = pRoot9\n",
    "pRoot8.right = pRoot10\n",
    "\n",
    "S = Solution()\n",
    "print(S.HasSubtree(pRoot1, pRoot8))"
   ]
  },
  {
   "cell_type": "markdown",
   "metadata": {},
   "source": [
    "### 二叉树的镜象\n",
    "操作给定的二叉树，将其变换为源二叉树的镜像。"
   ]
  },
  {
   "cell_type": "code",
   "execution_count": 30,
   "metadata": {},
   "outputs": [
    {
     "name": "stdout",
     "output_type": "stream",
     "text": [
      "8 7 8\n"
     ]
    }
   ],
   "source": [
    "class TreeNode:\n",
    "    def __init__(self, x):\n",
    "        self.val = x\n",
    "        self.left = None\n",
    "        self.right = None\n",
    "class Solution:\n",
    "    # 返回镜像树的根节点\n",
    "    def Mirror(self, root):\n",
    "        if not root:\n",
    "            return root\n",
    "        root.left,root.right = root.right,root.left\n",
    "        self.Mirror(root.left)\n",
    "        self.Mirror(root.right)\n",
    "        return root\n",
    "    def Mirror2(self,root):\n",
    "    #利用对列\n",
    "        if not root:\n",
    "            return root\n",
    "        stack = [root]\n",
    "        while len(stack)>0:\n",
    "        #index = len(stack-1)\n",
    "            tree = stack.pop()\n",
    "        \n",
    "        #index -=1\n",
    "            if tree.left !=None or tree.right !=None:\n",
    "                tree.left,tree.right = tree.right,tree.left\n",
    "            if tree.left:\n",
    "                stack.append(tree.left)\n",
    "            if tree.right:\n",
    "                stack.append(tree.right)\n",
    "        \n",
    "        \n",
    "pRoot1 = TreeNode(8)\n",
    "pRoot2 = TreeNode(8)\n",
    "pRoot3 = TreeNode(7)\n",
    "pRoot4 = TreeNode(9)\n",
    "pRoot5 = TreeNode(2)\n",
    "pRoot6 = TreeNode(4)\n",
    "pRoot7 = TreeNode(7)\n",
    "pRoot1.left = pRoot2\n",
    "pRoot1.right = pRoot3\n",
    "pRoot2.left = pRoot4\n",
    "pRoot2.right = pRoot5\n",
    "pRoot5.left = pRoot6\n",
    "pRoot5.right = pRoot7\n",
    "s =Solution()\n",
    "root2 = s.Mirror(pRoot1)\n",
    "print(root2.val,root2.left.val,root2.right.val)"
   ]
  },
  {
   "cell_type": "code",
   "execution_count": null,
   "metadata": {
    "collapsed": true
   },
   "outputs": [],
   "source": [
    "# 非递归实现\n"
   ]
  },
  {
   "cell_type": "markdown",
   "metadata": {},
   "source": [
    "### 顺时针打印矩阵\n",
    "输入一个矩阵，按照从外向里以顺时针的顺序依次打印出每一个数字，例如，如果输入如下4 X 4矩阵： 1 2 3 4 5 6 7 8 9 10 11 12 13 14 15 16 则依次打印出数字1,2,3,4,8,12,16,15,14,13,9,5,6,7,11,10."
   ]
  },
  {
   "cell_type": "code",
   "execution_count": 38,
   "metadata": {},
   "outputs": [
    {
     "name": "stdout",
     "output_type": "stream",
     "text": [
      "rencent matrix:[[8, 12, 16], [7, 11, 15], [6, 10, 14], [5, 9, 13]]\n",
      "rencent matrix:[[15, 14, 13], [11, 10, 9], [7, 6, 5]]\n",
      "rencent matrix:[[9, 5], [10, 6], [11, 7]]\n",
      "rencent matrix:[[6, 7], [10, 11]]\n",
      "rencent matrix:[[11], [10]]\n",
      "rencent matrix:[[10]]\n"
     ]
    },
    {
     "data": {
      "text/plain": [
       "[1, 2, 3, 4, 8, 12, 16, 15, 14, 13, 9, 5, 6, 7, 11, 10]"
      ]
     },
     "execution_count": 38,
     "metadata": {},
     "output_type": "execute_result"
    }
   ],
   "source": [
    "class Solution:\n",
    "    # matrix类型为二维列表，需要返回列表\n",
    "    def printMatrix(self, matrix):\n",
    "        #边界条件\n",
    "        if not matrix:\n",
    "            return []\n",
    "        res = []\n",
    "        while matrix:\n",
    "            res = res+(matrix.pop(0))\n",
    "            if not matrix:\n",
    "                break\n",
    "            matrix = self.turn(matrix)\n",
    "            print('rencent matrix:{}'.format(matrix))\n",
    "        return res\n",
    "    def turn(self,matrix):\n",
    "        m,n = len(matrix),len(matrix[0])\n",
    "        res = []\n",
    "        for j in range(n-1,-1,-1):\n",
    "            ret=[]\n",
    "            for i in range(m):\n",
    "                ret.append(matrix[i][j])\n",
    "            res.append(ret)\n",
    "        return res\n",
    "matrix =[[ 1,  2,  3,  4],\n",
    " [ 5,  6,  7,  8],\n",
    " [ 9, 10, 11, 12],\n",
    " [13, 14, 15, 16]]\n",
    "s = Solution()\n",
    "s.printMatrix(matrix)\n",
    "#        "
   ]
  },
  {
   "cell_type": "markdown",
   "metadata": {},
   "source": [
    "### 包含最小元素的数据栈\n",
    "定义栈的数据结构，请在该类型中实现一个能够得到栈中所含最小元素的min函数（时间复杂度应为O（1））。"
   ]
  },
  {
   "cell_type": "code",
   "execution_count": 11,
   "metadata": {
    "collapsed": true
   },
   "outputs": [],
   "source": [
    "class Solution:    \n",
    "    def __init__(self):\n",
    "        self.stack = []\n",
    "        self.curmin = float('inf')\n",
    "        \n",
    "    def push(self, node):\n",
    "        self.curmin = min(self.curmin, node) \n",
    "        self.stack.append([node, self.curmin])\n",
    "        \n",
    "    def pop(self):\n",
    "        if not self.stack:\n",
    "            return None\n",
    "        node = self.stack[-1]\n",
    "        self.stack.remove(node)\n",
    "        return node[0]\n",
    "    \n",
    "    def top(self):\n",
    "        if not self.stack:\n",
    "            return None\n",
    "        return self.stack[-1][0]\n",
    "    \n",
    "    def min(self):\n",
    "        if not self.stack:\n",
    "            return None\n",
    "        return self.stack[-1][1]"
   ]
  },
  {
   "cell_type": "markdown",
   "metadata": {},
   "source": [
    "### 栈的压入和弹出序列\n",
    "输入两个整数序列，第一个序列表示栈的压入顺序，请判断第二个序列是否可能为该栈的弹出顺序。假设压入栈的所有数字均不相等。例如序列1,2,3,4,5是某栈的压入顺序，序列4,5,3,2,1是该压栈序列对应的一个弹出序列，但4,3,5,1,2就不可能是该压栈序列的弹出序列。（注意：这两个序列的长度是相等的）"
   ]
  },
  {
   "cell_type": "markdown",
   "metadata": {},
   "source": [
    "### 从下向上打印二叉树\n",
    "从上往下打印出二叉树的每个节点，同层节点从左至右打印"
   ]
  },
  {
   "cell_type": "code",
   "execution_count": 63,
   "metadata": {
    "collapsed": true
   },
   "outputs": [],
   "source": [
    "class Solution:\n",
    "    # 返回从上到下每个节点值列表，例：[1,2,3]\n",
    "    def PrintFromTopToBottom(self, root):\n",
    "        if not root:\n",
    "            return []\n",
    "        deque,nodes = [],[root]\n",
    "        while nodes:\n",
    "            node = nodes.pop(0)\n",
    "            deque.append(node.val)\n",
    "            if node.left:\n",
    "                nodes.append(node.left)\n",
    "            if node.right:\n",
    "                nodes.append(node.right)\n",
    "        return deque"
   ]
  },
  {
   "cell_type": "markdown",
   "metadata": {},
   "source": [
    "### 二叉搜索树后序遍历\n",
    "输入一个整数数组，判断该数组是不是某二叉搜索树的后序遍历的结果。如果是则输出Yes,否则输出No。假设输入的数组的任意两个数字都互不相同。"
   ]
  },
  {
   "cell_type": "code",
   "execution_count": 39,
   "metadata": {
    "collapsed": true
   },
   "outputs": [],
   "source": [
    "class Solution:\n",
    "    def VerifySquenceOfBST(self, sequence):\n",
    "        #边界条件\n",
    "        if len(sequence)==0:\n",
    "            return False\n",
    "        if len(sequence)==1:\n",
    "            return True\n",
    "        root = sequence[-1]\n",
    "        while sequence[i]<root:\n",
    "            i +=1\n",
    "        j = i\n",
    "        for k  in arr[j:]:\n",
    "            if k<root:\n",
    "                return False\n",
    "        if j>0:\n",
    "            left = self.VerifySquenceOfBST(sequence[:j])\n",
    "        if len(sequence)-j>1:\n",
    "            right = self.VerifySquenceOfBST(sequence[j:])\n",
    "        return left and right\n"
   ]
  },
  {
   "cell_type": "markdown",
   "metadata": {},
   "source": [
    "### 复杂链表的复制\n",
    "输入一个复杂链表（每个节点中有节点值，以及两个指针，一个指向下一个节点，另一个特殊指针指向任意一个节点），返回结果为复制后复杂链表的head。（注意，输出结果中请不要返回参数中的节点引用，否则判题程序会直接返回空）"
   ]
  },
  {
   "cell_type": "code",
   "execution_count": 31,
   "metadata": {},
   "outputs": [
    {
     "name": "stdout",
     "output_type": "stream",
     "text": [
      "6 10\n"
     ]
    }
   ],
   "source": [
    "'''\n",
    "操作给定的二叉树，将其变换为源二叉树的镜像。\n",
    "'''\n",
    "\n",
    "# -*- coding:utf-8 -*-\n",
    "class TreeNode:\n",
    "    def __init__(self, x):\n",
    "        self.val = x\n",
    "        self.left = None\n",
    "        self.right = None\n",
    "class Solution:\n",
    "    # 递归实现\n",
    "    def Mirror(self, root):\n",
    "        if root == None:\n",
    "            return\n",
    "        if root.left == None and root.right == None:\n",
    "            return root\n",
    "\n",
    "        pTemp = root.left\n",
    "        root.left = root.right\n",
    "        root.right = pTemp\n",
    "\n",
    "        self.Mirror(root.left)\n",
    "        self.Mirror(root.right)\n",
    "\n",
    "    # 非递归实现\n",
    "    def Mirror2(self, root):\n",
    "        if root == None:\n",
    "            return\n",
    "        stackNode = []\n",
    "        stackNode.append(root)\n",
    "        while len(stackNode) > 0:\n",
    "            #nodeNum = len(stackNode) - 1\n",
    "            #print(stackNode)\n",
    "            # stackNode[nodeNum]\n",
    "            tree =stackNode.pop()\n",
    "           #nodeNum -= 1\n",
    "            if tree.left != None or tree.right != None:\n",
    "                tree.left, tree.right = tree.right, tree.left\n",
    "            if tree.left:\n",
    "                stackNode.append(tree.left)\n",
    "                #nodeNum += 1\n",
    "            if tree.right:\n",
    "                stackNode.append(tree.right)\n",
    "                #nodeNum += 1\n",
    "    # 非递归实现\n",
    "    def MirrorNoRecursion(self, root):\n",
    "        if root == None:\n",
    "            return\n",
    "        nodeQue = [root]\n",
    "        while len(nodeQue) > 0:\n",
    "            curLevel, count = len(nodeQue), 0\n",
    "            while count < curLevel:\n",
    "                count += 1\n",
    "                pRoot = nodeQue.pop(0)\n",
    "                pRoot.left, pRoot.right = pRoot.right, pRoot.left\n",
    "                if pRoot.left:\n",
    "                    nodeQue.append(pRoot.left)\n",
    "                if pRoot.right:\n",
    "                    nodeQue.append(pRoot.right)\n",
    "\n",
    "pNode1 = TreeNode(8)\n",
    "pNode2 = TreeNode(6)\n",
    "pNode3 = TreeNode(10)\n",
    "pNode4 = TreeNode(5)\n",
    "pNode5 = TreeNode(7)\n",
    "pNode6 = TreeNode(9)\n",
    "pNode7 = TreeNode(11)\n",
    "\n",
    "pNode1.left = pNode2\n",
    "pNode1.right = pNode3\n",
    "pNode2.left = pNode4\n",
    "pNode2.right = pNode5\n",
    "pNode3.left = pNode6\n",
    "pNode3.right = pNode7\n",
    "\n",
    "S = Solution()\n",
    "S.Mirror2(pNode1)\n",
    "print(pNode1.right.val,pNode1.left.val)"
   ]
  },
  {
   "cell_type": "code",
   "execution_count": 46,
   "metadata": {
    "collapsed": true
   },
   "outputs": [],
   "source": [
    "### 复杂链表的复制\n",
    "\n",
    "# -*- coding:utf-8 -*-\n",
    "# class RandomListNode:\n",
    "#     def __init__(self, x):\n",
    "#         self.label = x\n",
    "#         self.next = None\n",
    "#         self.random = None\n",
    "class Solution():\n",
    "    def Clone(self,pHead):\n",
    "        if not pHead:\n",
    "            return None\n",
    "        dummy = pHead\n",
    "        while dummy:\n",
    "            dummynext = dummy.next\n",
    "            copyNode = RandomListNode(dummy.label)\n",
    "            dummy.next = copyNode\n",
    "            copyNode.next = dummynext\n",
    "            dummy = dummynext\n",
    "        dummy = pHead\n",
    "        while dummy:\n",
    "            dummyrandom = dummy.random\n",
    "            copyNode = dummy.next\n",
    "            if dummyrandom:\n",
    "                copyNode.random = dummyrandom.next\n",
    "            dummy = copyNode.next\n",
    "            \n",
    "        #第三步，将连接断开\n",
    "        dummy = pHead\n",
    "        copyHead = pHead.next\n",
    "        while dummy:\n",
    "            copyNode = dummy.next\n",
    "            dummynext = copyNode.next\n",
    "            dummy.next = dummynext\n",
    "            if dummynext:\n",
    "                copyNode.next = dummynext.next\n",
    "            else:\n",
    "                copyNode.next = None\n",
    "            dummy = dummynext\n",
    "        return copyHead\n",
    "        "
   ]
  },
  {
   "cell_type": "markdown",
   "metadata": {},
   "source": [
    "### 字符串的排列\n",
    "输入一个字符串,按字典序打印出该字符串中字符的所有排列。例如输入字符串abc,则打印出由字符a,b,c所能排列出来的所有字符串abc,acb,bac,bca,cab和cba。\n",
    "输入描述:\n",
    "输入一个字符串,长度不超过9(可能有字符重复),字符只包括大小写字母。"
   ]
  },
  {
   "cell_type": "code",
   "execution_count": 15,
   "metadata": {},
   "outputs": [
    {
     "name": "stdout",
     "output_type": "stream",
     "text": [
      "['abbc', 'abcb', 'acbb', 'babc', 'bacb', 'bbac', 'bbca', 'bcab', 'bcba', 'cabb', 'cbab', 'cbba']\n",
      "['a', 'ab', 'abb', 'abbc', 'abc', 'ac', 'b', 'bb', 'bbc', 'bc', 'c']\n"
     ]
    }
   ],
   "source": [
    "class Solution:\n",
    "    def Permutation(self, ss):\n",
    "        if not len(ss):\n",
    "            return []\n",
    "        if len(ss) == 1:\n",
    "            return list(ss)\n",
    "        charList = list(ss)\n",
    "        charList.sort()\n",
    "        pStr = []\n",
    "        for i in range(len(charList)):\n",
    "            if i>0 and charList[i]==charList[i-1]:\n",
    "                continue\n",
    "            temp = self.Permutation(''.join(charList[:i])+''.join(charList[i+1:]))\n",
    "            for j in temp:\n",
    "                pStr.append(charList[i]+j)\n",
    "        return pStr\n",
    "    def group(self, ss):\n",
    "        if not len(ss):\n",
    "            return []\n",
    "        if len(ss) == 1:\n",
    "            return list(ss)\n",
    "        charList = list(ss)\n",
    "        charList.sort()\n",
    "        pStr = []\n",
    "        for i in range(len(charList)):\n",
    "            pStr.append(charList[i])\n",
    "            if i > 0 and charList[i] == charList[i - 1]:\n",
    "                continue\n",
    "            temp = self.group(''.join(charList[i + 1:]))\n",
    "            for j in temp:\n",
    "                pStr.append(charList[i] + j)\n",
    "            pStr = list(set(pStr))\n",
    "            pStr.sort()\n",
    "        return pStr\n",
    "ss = 'acbb'\n",
    "S = Solution()\n",
    "print(S.Permutation(ss))\n",
    "print(S.group(ss))"
   ]
  },
  {
   "cell_type": "code",
   "execution_count": 51,
   "metadata": {},
   "outputs": [
    {
     "name": "stdout",
     "output_type": "stream",
     "text": [
      "['b']\n"
     ]
    }
   ],
   "source": [
    "# -*- coding:utf-8 -*-\n",
    "class Solution:\n",
    "    def Permutation(self, ss):\n",
    "        # write code heredef Permutation(ss):\n",
    "        if len(ss)==0:\n",
    "            return None\n",
    "        ss = list(ss)\n",
    "        result = self.Recurlist(ss)\n",
    "        return result\n",
    "    def Recurlist(self,ss):\n",
    "        res = []\n",
    "        #print(type(ss))\n",
    "        if len(ss)==1:\n",
    "            return ss\n",
    "        for i in ss:\n",
    "            ret = ''.join(i)\n",
    "            ss.remove(i)\n",
    "            #print(type(ss))\n",
    "            ret = ret.join(self.Recurlist(ss)) \n",
    "            #print(ret)\n",
    "            res.append(ret)\n",
    "        return res\n",
    "ss = 'acbb'\n",
    "S = Solution()\n",
    "print(S.Permutation(ss))\n",
    "#print(S.group(ss))"
   ]
  },
  {
   "cell_type": "markdown",
   "metadata": {},
   "source": [
    "### 数组出现次数超过一半的数字\n",
    "数组中有一个数字出现的次数超过数组长度的一半，请找出这个数字。例如输入一个长度为9的数组{1,2,3,2,2,2,5,4,2}。由于数字2在数组中出现了5次，超过数组长度的一半，因此输出2。如果不存在则输出0。"
   ]
  },
  {
   "cell_type": "code",
   "execution_count": 18,
   "metadata": {},
   "outputs": [
    {
     "name": "stdout",
     "output_type": "stream",
     "text": [
      "2\n"
     ]
    }
   ],
   "source": [
    "class Solution:\n",
    "    def MoreThanHalfNum_Solution(self, numbers):\n",
    "        #自己暴力解法 边界条件\n",
    "        if not numbers:\n",
    "            return None\n",
    "        if len(numbers)==1:\n",
    "            return numbers[0]\n",
    "        lis = list(set(numbers))\n",
    "        for i in lis:\n",
    "            if numbers.count(i)>int(len(numbers)/2):\n",
    "                return i\n",
    "        return None\n",
    "s =Solution()\n",
    "print(s.MoreThanHalfNum_Solution([1,2,3,2,2,2,5,4,2]))\n",
    "        "
   ]
  },
  {
   "cell_type": "code",
   "execution_count": 20,
   "metadata": {},
   "outputs": [
    {
     "name": "stdout",
     "output_type": "stream",
     "text": [
      "2\n"
     ]
    }
   ],
   "source": [
    "# 剑指解法 \n",
    "class Solution:\n",
    "    def MoreThanHalfNum_Solution(self, numbers):\n",
    "        #自己暴力解法 边界条件\n",
    "        if not numbers:\n",
    "            return None\n",
    "        if len(numbers)==1:\n",
    "            return numbers[0]\n",
    "        #基于划分算法进行寻找\n",
    "        lenght = len(numbers)\n",
    "        middle = lenght>>1#利用左移进行/2操作\n",
    "        start,end = 0,lenght -1\n",
    "        index = self.Partition(numbers,lenght,start,end)\n",
    "        while index != middle:\n",
    "            if index >middle:\n",
    "                end = index-1\n",
    "                index = index = self.Partition(numbers,lenght,start,end)\n",
    "            else:\n",
    "                start = index +1\n",
    "                index = index = self.Partition(numbers,lenght,start,end)\n",
    "        result = numbers[middle]\n",
    "        if not self.CheckMoreThanHalf(numbers, lenght, result):\n",
    "            result = 0\n",
    "        return result\n",
    "    def Partition(self, numbers, length, start, end):\n",
    "        if numbers == None or length <= 0 or start < 0 or end >= length:\n",
    "            return None\n",
    "        if end == start:\n",
    "            return end\n",
    "        pivotvlue = numbers[start]\n",
    "        leftmark = start + 1\n",
    "        rightmark = end\n",
    "\n",
    "        done = False\n",
    "\n",
    "        while not done:\n",
    "            while numbers[leftmark] <= pivotvlue and leftmark <= rightmark:\n",
    "                leftmark += 1\n",
    "            while numbers[rightmark] >= pivotvlue and rightmark >= leftmark:\n",
    "                rightmark -= 1\n",
    "\n",
    "            if leftmark > rightmark:\n",
    "                done = True\n",
    "            else:\n",
    "                numbers[leftmark], numbers[rightmark] = numbers[rightmark], numbers[leftmark]\n",
    "        numbers[rightmark], numbers[start] = numbers[start], numbers[rightmark]\n",
    "        return rightmark\n",
    "    def CheckMoreThanHalf(self, numbers, length, number):\n",
    "        times = 0\n",
    "        for i in range(length):\n",
    "            if numbers[i] == number:\n",
    "                times += 1\n",
    "        if times*2 <= length:\n",
    "            return False\n",
    "        return True        \n",
    "s =Solution()\n",
    "print(s.MoreThanHalfNum_Solution([1,2,3,2,2,2,5,4,2]))"
   ]
  },
  {
   "cell_type": "markdown",
   "metadata": {},
   "source": [
    "### 孩子们的游戏\n",
    "亦是如此。HF作为牛客的资深元老,自然也准备了一些小游戏。其中,有个游戏是这样的:首先,让小朋友们围成一个大圈。然后,他随机指定一个数m,让编号为0的小朋友开始报数。每次喊到m-1的那个小朋友要出列唱首歌,然后可以在礼品箱中任意的挑选礼物,并且不再回到圈中,从他的下一个小朋友开始,继续0...m-1报数....这样下去....直到剩下最后一个小朋友,可以不用表演,并且拿到牛客名贵的“名侦探柯南”典藏版(名额有限哦!!^_^)。请你试着想下,哪个小朋友会得到这份礼品呢？(注：小朋友的编号是从0到n-1)"
   ]
  },
  {
   "cell_type": "code",
   "execution_count": 43,
   "metadata": {
    "collapsed": true
   },
   "outputs": [],
   "source": [
    "class Solution:\n",
    "    def LastRemaining_Solution(self, n, m):\n",
    "        if m<1 or n<1:\n",
    "            return -1\n",
    "        res = list(range(n))\n",
    "        i =0\n",
    "        while len(res)>1:\n",
    "            i = (m+i-1)%len(res)\n",
    "            delet = res.pop(i)\n",
    "            print(\"remind:{},delete：{}\".format(res,delet))\n",
    "        return res[0]\n",
    "            "
   ]
  },
  {
   "cell_type": "code",
   "execution_count": 47,
   "metadata": {},
   "outputs": [
    {
     "name": "stdout",
     "output_type": "stream",
     "text": [
      "remind:[0, 1, 3, 4, 5, 6, 7, 8],delete：2\n",
      "remind:[0, 1, 3, 4, 6, 7, 8],delete：5\n",
      "remind:[0, 1, 3, 4, 6, 7],delete：8\n",
      "remind:[0, 1, 4, 6, 7],delete：3\n",
      "remind:[0, 1, 4, 6],delete：7\n",
      "remind:[0, 1, 6],delete：4\n",
      "remind:[0, 6],delete：1\n",
      "remind:[0],delete：6\n"
     ]
    },
    {
     "data": {
      "text/plain": [
       "0"
      ]
     },
     "execution_count": 47,
     "metadata": {},
     "output_type": "execute_result"
    }
   ],
   "source": [
    "s = Solution()\n",
    "s.LastRemaining_Solution(9, 3)"
   ]
  },
  {
   "cell_type": "markdown",
   "metadata": {},
   "source": [
    "### 求$1+2+3+....+n$的大小\n",
    "求1+2+3+...+n，要求不能使用乘除法、for、while、if、else、switch、case等关键字及条件判断语句（A?B:C）。"
   ]
  },
  {
   "cell_type": "code",
   "execution_count": 51,
   "metadata": {},
   "outputs": [
    {
     "name": "stdout",
     "output_type": "stream",
     "text": [
      "5050\n"
     ]
    }
   ],
   "source": [
    "# -*- coding:utf-8 -*-\n",
    "class Solution:\n",
    "    def Sum_Solution(self, n):\n",
    "        return self.sumN(n)\n",
    "\n",
    "    def sum0(self, n):\n",
    "        return 0\n",
    "\n",
    "    # 利用非0值作两次非运算返回false, 0作两次非运算返回True\n",
    "    def sumN(self, n):\n",
    "        fun = {False: self.sum0, True: self.sumN}\n",
    "        # 此处的fun[not not n] 不能写作func[not not n-1], 否则测试用例为0的话, 就会无限次迭代\n",
    "        return n + fun[not not n](n - 1)\n",
    "\n",
    "    def Sum_Solution2(self, n):\n",
    "        return n and self.Sum_Solution(n - 1) + n\n",
    "\n",
    "s = Solution()\n",
    "print(s.Sum_Solution(100))"
   ]
  },
  {
   "cell_type": "markdown",
   "metadata": {},
   "source": [
    "### 字符串的排列(待完成)\n",
    "输入一个字符串,按字典序打印出该字符串中字符的所有排列。例如输入字符串abc,则打印出由字符a,b,c所能排列出来的所有字符串abc,acb,bac,bca,cab和cba。\n",
    "输入描述:\n",
    "输入一个字符串,长度不超过9(可能有字符重复),字符只包括大小写字母。"
   ]
  },
  {
   "cell_type": "code",
   "execution_count": null,
   "metadata": {
    "collapsed": true
   },
   "outputs": [],
   "source": [
    "class Solution:\n",
    "    def Permutation(self, ss):\n",
    "        # write code heredef Permutation(ss):\n",
    "        #边界条件\n",
    "        if not ss:\n",
    "            return []\n",
    "        if len(ss)==1:\n",
    "            return [ss]\n",
    "        "
   ]
  },
  {
   "cell_type": "code",
   "execution_count": 62,
   "metadata": {},
   "outputs": [
    {
     "name": "stdout",
     "output_type": "stream",
     "text": [
      "['d', 'r', 'b', 'a', 'c']\n",
      "['r', 'b', 'a', 'c']\n",
      "['b', 'a', 'c']\n",
      "['a', 'c']\n",
      "['c']\n",
      "c\n",
      "c\n",
      "crc\n",
      "cdcdcrc\n"
     ]
    }
   ],
   "source": [
    "class Solution:\n",
    "    def Permutation(self, ss):\n",
    "        # write code heredef Permutation(ss):\n",
    "        if not ss:\n",
    "            return []\n",
    "        if len(ss)==1:\n",
    "            return [ss]\n",
    "        charlist = list(ss)\n",
    "        pstr = []\n",
    "        for \n",
    "\n",
    "s =Solution()\n",
    "s.Permutation('abcdr')"
   ]
  },
  {
   "cell_type": "markdown",
   "metadata": {},
   "source": [
    "### 数组中的逆序对\n",
    "在数组中的两个数字，如果前面一个数字大于后面的数字，则这两个数字组成一个逆序对。输入一个数组,求出这个数组中的逆序对的总数P。并将P对1000000007取模的结果输出。 即输出P%1000000007\n",
    "输入描述:\n",
    "题目保证输入的数组中没有的相同的数字\n",
    "\n",
    "数据范围：\n",
    "\n",
    "对于%50的数据,$size<=10^4$\n",
    "\n",
    "对于%75的数据,$size<=10^5$\n",
    "\n",
    "对于%100的数据,$size<=2*10^5$"
   ]
  },
  {
   "cell_type": "code",
   "execution_count": 9,
   "metadata": {},
   "outputs": [
    {
     "name": "stdout",
     "output_type": "stream",
     "text": [
      "lenght:4\n",
      "3\n",
      "lenght:100\n",
      "2519\n"
     ]
    }
   ],
   "source": [
    "# -*- coding:utf-8 -*-\n",
    "class Solution:\n",
    "    def InversePairs(self, data):\n",
    "        # write code here\n",
    "        if not data or len(data)<=1:\n",
    "            return 0\n",
    "        count,length = 0,len(data)\n",
    "        print('lenght:%d'%length)\n",
    "        for i in range(length-1):\n",
    "            for j in range(i+1,length):\n",
    "                if data[j]<data[i]:\n",
    "                    count +=1\n",
    "        return count%1007\n",
    "s = Solution()\n",
    "print(s.InversePairs([1,2,3,0]))\n",
    "print(s.InversePairs([364,637,341,406,747,995,234,971,571,219,993,407,416,366,315,301,601,650,418,355,460,505,360,965,516,648,727,667,465,849,455,181,486,149,588,233,144,174,557,67,746,550,474,162,268,142,463,221,882,576,604,739,288,569,256,936,275,401,497,82,935,983,583,523,697,478,147,795,380,973,958,115,773,870,259,655,446,863,735,784,3,671,433,630,425,930,64,266,235,187,284,665,874,80,45,848,38,811,267,575]))"
   ]
  },
  {
   "cell_type": "markdown",
   "metadata": {},
   "source": [
    "#### 常用的排序算法"
   ]
  },
  {
   "cell_type": "code",
   "execution_count": 17,
   "metadata": {},
   "outputs": [
    {
     "name": "stdout",
     "output_type": "stream",
     "text": [
      "第0次\n",
      "第1次\n",
      "swap 3 and 2\n",
      "[2, 2, 4, 5, 3, 3, 8, 5]\n",
      "第2次\n",
      "swap 4 and 3\n",
      "[2, 2, 3, 5, 4, 3, 8, 5]\n",
      "第3次\n",
      "swap 5 and 3\n",
      "[2, 2, 3, 3, 4, 5, 8, 5]\n",
      "第4次\n",
      "第5次\n",
      "第6次\n",
      "swap 8 and 5\n",
      "[2, 2, 3, 3, 4, 5, 5, 8]\n",
      "第7次\n",
      "[2, 2, 3, 3, 4, 5, 5, 8]\n"
     ]
    }
   ],
   "source": [
    "#### 简单排序min\n",
    "def sort(arr):\n",
    "    for i in range(len(arr)):\n",
    "        print(\"第%d次\"%i)\n",
    "        min = i\n",
    "        for j in range(i,len(arr)):\n",
    "            if arr[j]<arr[min]:\n",
    "                min = j\n",
    "        if (min!=i):\n",
    "            print(\"swap {} and {}\".format(arr[i],arr[min]))\n",
    "            arr[i],arr[min] = arr[min],arr[i]\n",
    "            print(arr)\n",
    "    return arr\n",
    " \n",
    "\n",
    "arr=[2,3,4,5,2,3,8,5]\n",
    "print(sort(arr))"
   ]
  },
  {
   "cell_type": "code",
   "execution_count": 21,
   "metadata": {},
   "outputs": [
    {
     "name": "stdout",
     "output_type": "stream",
     "text": [
      "第0次\n",
      "swap 5 and 2\n",
      "swap 5 and 3\n",
      "swap 8 and 5\n",
      "[2, 3, 4, 2, 3, 5, 5, 8]\n",
      "第1次\n",
      "swap 4 and 2\n",
      "swap 4 and 3\n",
      "[2, 3, 2, 3, 4, 5, 5, 8]\n",
      "第2次\n",
      "swap 3 and 2\n",
      "[2, 2, 3, 3, 4, 5, 5, 8]\n",
      "第3次\n",
      "[2, 2, 3, 3, 4, 5, 5, 8]\n",
      "第4次\n",
      "[2, 2, 3, 3, 4, 5, 5, 8]\n",
      "第5次\n",
      "[2, 2, 3, 3, 4, 5, 5, 8]\n",
      "第6次\n",
      "[2, 2, 3, 3, 4, 5, 5, 8]\n",
      "第7次\n",
      "[2, 2, 3, 3, 4, 5, 5, 8]\n",
      "[2, 2, 3, 3, 4, 5, 5, 8]\n"
     ]
    }
   ],
   "source": [
    "#冒泡排序\n",
    "def sort(arr):\n",
    "    for i in range(len(arr)):\n",
    "        print(\"第%d次\"%i)\n",
    "        for j in range(0,len(arr)-i-1):\n",
    "            if arr[j]>arr[j+1]:\n",
    "                print(\"swap {} and {}\".format(arr[j],arr[j+1]))\n",
    "                arr[j],arr[j+1] = arr[j+1],arr[j]\n",
    "        print(arr)\n",
    "    return arr\n",
    " \n",
    "\n",
    "arr=[2,3,4,5,2,3,8,5]\n",
    "print(sort(arr))"
   ]
  },
  {
   "cell_type": "code",
   "execution_count": 15,
   "metadata": {},
   "outputs": [
    {
     "name": "stdout",
     "output_type": "stream",
     "text": [
      "第1次\n",
      "第2次\n",
      "第3次\n",
      "第4次\n",
      "swap 2 and 5\n",
      "[2, 3, 4, 2, 5, 3, 8, 5]\n",
      "swap 2 and 4\n",
      "[2, 3, 2, 4, 5, 3, 8, 5]\n",
      "swap 2 and 3\n",
      "[2, 2, 3, 4, 5, 3, 8, 5]\n",
      "第5次\n",
      "swap 3 and 5\n",
      "[2, 2, 3, 4, 3, 5, 8, 5]\n",
      "swap 3 and 4\n",
      "[2, 2, 3, 3, 4, 5, 8, 5]\n",
      "第6次\n",
      "第7次\n",
      "swap 5 and 8\n",
      "[2, 2, 3, 3, 4, 5, 5, 8]\n",
      "[2, 2, 3, 3, 4, 5, 5, 8]\n"
     ]
    }
   ],
   "source": [
    "#### 插入排序\n",
    "def sort(arr):\n",
    "    for j in range(1,len(arr)):\n",
    "        i=j\n",
    "        print(\"第%d次\"%j)\n",
    "        while i>0 and arr[i]<arr[i-1]:\n",
    "            print(\"swap {} and {}\".format(arr[i],arr[i-1]))\n",
    "            arr[i-1],arr[i] = arr[i],arr[i-1]\n",
    "            print(arr)\n",
    "            i=i-1\n",
    "    return arr\n",
    " \n",
    " \n",
    "arr=[2,3,4,5,2,3,8,5]\n",
    "print(sort(arr))"
   ]
  },
  {
   "cell_type": "code",
   "execution_count": 25,
   "metadata": {},
   "outputs": [
    {
     "name": "stdout",
     "output_type": "stream",
     "text": [
      "gap = 4\n",
      "[2, 3, 4, 5, 2, 3, 8, 5]\n",
      "swap 3 and 5\n",
      "[2, 3, 4, 3, 2, 5, 8, 5]\n",
      "[2, 3, 4, 3, 2, 5, 8, 5]\n",
      "[2, 3, 4, 3, 2, 5, 8, 5]\n",
      "None\n"
     ]
    }
   ],
   "source": [
    "#希尔排序\n",
    "def shell_sort(arr):\n",
    "    n = len(arr)\n",
    "    gap = n//2\n",
    "    while gap>=1:\n",
    "        print(\"gap = %d\"%gap)\n",
    "        for j in range(gap,n):\n",
    "            i = j\n",
    "            while (i-gap)>=0:\n",
    "                if arr[i]<arr[i-gap]:\n",
    "                    print(\"swap {} and {}\".format(arr[i],arr[i-gap]))\n",
    "                    arr[i],arr[i-gap] = arr[i-gap],arr[i]\n",
    "                    i -= gap\n",
    "                else:\n",
    "                    break\n",
    "            print(arr)\n",
    "            gap=gap//2\n",
    "arr=[2,3,4,5,2,3,8,5]\n",
    "print(shell_sort(arr))            "
   ]
  },
  {
   "cell_type": "code",
   "execution_count": 35,
   "metadata": {},
   "outputs": [
    {
     "name": "stdout",
     "output_type": "stream",
     "text": [
      "[3, 1, 4, 9, 10, 7, 5, 8, 2, 6]\n",
      "[3, 1, 4, 9, 10, 7, 5, 8, 2, 6]\n",
      "[3, 1, 7, 9, 10, 4, 5, 8, 2, 6]\n",
      "[3, 10, 7, 9, 6, 4, 5, 8, 2, 1]\n",
      "[10, 9, 7, 8, 6, 4, 5, 3, 2, 1]\n",
      "swap 1 and 10\n",
      "swap 2 and 9\n",
      "swap 1 and 8\n",
      "swap 1 and 7\n",
      "swap 4 and 6\n",
      "swap 2 and 5\n",
      "swap 1 and 4\n",
      "swap 2 and 3\n",
      "swap 1 and 2\n",
      "[1, 2, 3, 4, 5, 6, 7, 8, 9, 10]\n"
     ]
    }
   ],
   "source": [
    "# 堆排序\n",
    "def heapSort(arr):\n",
    "    n = len(arr)\n",
    "    for i in range(n//2-1,-1,-1):\n",
    "        adjustHeap(arr,i,n-1)\n",
    "        print(arr)\n",
    "    for j in range(n-1,0,-1):\n",
    "        arr[0],arr[j] = arr[j],arr[0]\n",
    "        print(\"swap {} and {}\".format(arr[0],arr[j]))\n",
    "        adjustHeap(arr,0,j-1)\n",
    "    return arr\n",
    "\n",
    "\n",
    "def adjustHeap(arr,start,end):\n",
    "    root = start\n",
    "    while True:\n",
    "        # 从root开始对最大堆调整\n",
    "        child = 2 * root + 1\n",
    "        if child > end:\n",
    "            break\n",
    "        # 找出两个child中交大的一个\n",
    "        if child + 1 <= end and arr[child] < arr[child + 1]:\n",
    "            child += 1\n",
    "\n",
    "        if arr[root] < arr[child]:\n",
    "            # 最大堆小于较大的child, 交换顺序\n",
    "            arr[root], arr[child] = arr[child], arr[root]\n",
    "            # 正在调整的节点设置为root\n",
    "            root = child\n",
    "        else:\n",
    "            # 无需调整的时候, 退出\n",
    "            break\n",
    "arr=[3, 1, 4, 9, 6, 7, 5, 8, 2, 10]\n",
    "print(heapSort(arr))"
   ]
  },
  {
   "cell_type": "code",
   "execution_count": 36,
   "metadata": {},
   "outputs": [
    {
     "name": "stdout",
     "output_type": "stream",
     "text": [
      "[2, 2, 3, 3, 4, 5, 5, 8]\n"
     ]
    }
   ],
   "source": [
    "#### 复习归并排序算法\n",
    "def margSort(arr):\n",
    "    if len(arr)<=1:\n",
    "        return arr\n",
    "    mid = len(arr)//2\n",
    "    left = margSort(arr[:mid])\n",
    "    right = margSort(arr[mid:])\n",
    "    result = []\n",
    "    i,j=0,0\n",
    "    while i <len(left) and j <len(right):\n",
    "        if left[i]<=right[j]:\n",
    "            result.append(left[i])\n",
    "            i +=1\n",
    "        else:\n",
    "            result.append(right[j])\n",
    "            j +=1\n",
    "    result +=left[i:]\n",
    "    result +=right[j:]\n",
    "    return result\n",
    "\n",
    "arr=[2,3,4,5,2,3,8,5]\n",
    "print(margSort(arr))  \n",
    "        "
   ]
  },
  {
   "cell_type": "code",
   "execution_count": 38,
   "metadata": {},
   "outputs": [
    {
     "name": "stdout",
     "output_type": "stream",
     "text": [
      "-1\n",
      "0\n",
      "0\n",
      "[0, 1, 2, 3]\n"
     ]
    }
   ],
   "source": [
    "# 利用分治法进行统计逆序对\n",
    "#### 复习归并排序算法\n",
    "class Solution():\n",
    "    def __init__(self):\n",
    "        self.count =0\n",
    "    def margSort(self,arr):\n",
    "        if len(arr)<=1:\n",
    "            return arr\n",
    "        mid = len(arr)//2\n",
    "        left = self.margSort(arr[:mid])\n",
    "        right = self.margSort(arr[mid:])\n",
    "        \n",
    "        result = []\n",
    "        i,j=0,0\n",
    "\n",
    "        while i <len(left) and j <len(right):\n",
    "            if left[i]<=right[j]:\n",
    "                result.append(left[i])\n",
    "                i +=1\n",
    "            else:\n",
    "                result.append(right[j])\n",
    "                self.count +=1\n",
    "                j +=1\n",
    "        result +=left[i:]\n",
    "        self.count +=len(left)-i-1\n",
    "        result +=right[j:]\n",
    "        print(self.count)\n",
    "        return result\n",
    "s = Solution()\n",
    "print(s.margSort([1,2,3,0]))   \n"
   ]
  },
  {
   "cell_type": "code",
   "execution_count": 77,
   "metadata": {},
   "outputs": [
    {
     "name": "stdout",
     "output_type": "stream",
     "text": [
      "1\n",
      "2\n",
      "3\n",
      "4\n",
      "5\n",
      "5\n"
     ]
    }
   ],
   "source": [
    "# -*- coding:utf-8 -*-\n",
    "class Solution:\n",
    "    def InversePairs(self, data):\n",
    "        # 普通解法\n",
    "        if not data or len(data)<=1:\n",
    "            return 0\n",
    "        n_length = len(data)\n",
    "        count = 0\n",
    "        for i in range(1,n_length):\n",
    "            for j in range(i):\n",
    "                #print(\"i:{},j:{}\".format(i,j))\n",
    "                if data[j]>data[i]:\n",
    "                    count = count+1\n",
    "                    #print(count)\n",
    "        return count%1000000007\n",
    "s = Solution()\n",
    "print(s.InversePairs([1,2,3,2,0]))                     \n",
    "            "
   ]
  },
  {
   "cell_type": "code",
   "execution_count": 97,
   "metadata": {},
   "outputs": [
    {
     "name": "stdout",
     "output_type": "stream",
     "text": [
      "3\n"
     ]
    }
   ],
   "source": [
    "# -*- coding:utf-8 -*-\n",
    "class Solution:\n",
    "    def InversePairs(self, data):\n",
    "        length = len(data)\n",
    "        if data == None or length <= 0:\n",
    "            return 0\n",
    "        copy = [0]*length\n",
    "        for i in range(length):\n",
    "            copy[i] = data[i]\n",
    "\n",
    "        count = self.InversePairsCore(data, copy, 0, length-1)\n",
    "        return count\n",
    "    \n",
    "    def InversePairsCore(self, data, copy, start, end):\n",
    "        if start == end:\n",
    "            copy[start] = data[start]\n",
    "            return 0\n",
    "        length = (end - start)//2\n",
    "        left = self.InversePairsCore(copy, data, start, start+length)\n",
    "        right = self.InversePairsCore(copy, data, start+length+1, end)\n",
    "\n",
    "        # i初始化为前半段最后一个数字的下标\n",
    "        i = start + length\n",
    "        # j初始化为后半段最后一个数字的下标\n",
    "        j = end\n",
    "\n",
    "        indexCopy = end\n",
    "        count = 0\n",
    "        while i >= start and j >= start+length+1:\n",
    "            if data[i] > data[j]:\n",
    "                copy[indexCopy] = data[i]\n",
    "                indexCopy -= 1\n",
    "                i -= 1\n",
    "                count += j - start - length\n",
    "            else:\n",
    "                copy[indexCopy] = data[j]\n",
    "                indexCopy -= 1\n",
    "                j -= 1\n",
    "\n",
    "        while i >= start:\n",
    "            copy[indexCopy] = data[i]\n",
    "            indexCopy -= 1\n",
    "            i -= 1\n",
    "        while j >= start+length+1:\n",
    "            copy[indexCopy] = data[j]\n",
    "            indexCopy -= 1\n",
    "            j -= 1\n",
    "        return left + right + count\n",
    "    \n",
    "s = Solution()\n",
    "print(s.InversePairs([1,2,3,0]))"
   ]
  },
  {
   "cell_type": "code",
   "execution_count": 107,
   "metadata": {},
   "outputs": [
    {
     "name": "stdout",
     "output_type": "stream",
     "text": [
      "recent data = [2, 3]\n",
      "copy=[1, 2, 3]\n",
      "recent data = [3]\n",
      "copy=[1, 2, 3]\n",
      "recent data = []\n",
      "copy=[1, 2, 3]\n"
     ]
    },
    {
     "data": {
      "text/plain": [
       "0"
      ]
     },
     "execution_count": 107,
     "metadata": {},
     "output_type": "execute_result"
    }
   ],
   "source": [
    "def InversePairs2(data):\n",
    "    if len(data) <= 0:\n",
    "        return 0\n",
    "    count = 0\n",
    "    copy = list(data)\n",
    "    copy.sort()\n",
    "    i = 0\n",
    "    while len(copy) > i:\n",
    "        count += data.index(copy[i])\n",
    "        data.remove(copy[i])\n",
    "        print(\"recent data = {}\\ncopy={}\".format(data,copy))\n",
    "        i += 1\n",
    "    return count\n",
    "InversePairs2([1,2,3,])"
   ]
  },
  {
   "cell_type": "markdown",
   "metadata": {},
   "source": [
    "### <span class=\"mark\">矩阵中的路径</span>\n",
    "请设计一个函数，用来判断在一个矩阵中是否存在一条包含某字符串所有字符的路径。路径可以从矩阵中的任意一个格子开始，每一步可以在矩阵中向左，向右，向上，向下移动一个格子。如果一条路径经过了矩阵中的某一个格子，则之后不能再次进入这个格子。 例如 $a b c e s f c s a d e e$ 这样的$3 X 4 $矩阵中包含一条字符串\"bcced\"的路径，但是矩阵中不包含\"abcb\"路径，因为字符串的第一个字符b占据了矩阵中的第一行第二个格子之后，路径不能再次进入该格子。"
   ]
  },
  {
   "cell_type": "code",
   "execution_count": null,
   "metadata": {
    "collapsed": true
   },
   "outputs": [],
   "source": [
    "class Solution:\n",
    "    def hasPath(self, matrix, rows, cols, path):\n",
    "        # 暴力法\n",
    "        #边界条件\n",
    "        if not data"
   ]
  },
  {
   "cell_type": "markdown",
   "metadata": {},
   "source": [
    "### 最小的K个数\n",
    "输入n个整数，找出其中最小的K个数。例如输入4,5,1,6,2,7,3,8这8个数字，则最小的4个数字是1,2,3,4,。"
   ]
  },
  {
   "cell_type": "code",
   "execution_count": 4,
   "metadata": {},
   "outputs": [
    {
     "data": {
      "text/plain": [
       "[1, 2, 3, 4]"
      ]
     },
     "execution_count": 4,
     "metadata": {},
     "output_type": "execute_result"
    }
   ],
   "source": [
    "# -*- coding:utf-8 -*-\n",
    "class Solution:\n",
    "    def GetLeastNumbers_Solution(self, tinput, k):\n",
    "        if tinput == [] or k > len(tinput):\n",
    "            return []\n",
    "        tinput =self.quick_sort(tinput)\n",
    "        return tinput[: k]\n",
    "    \n",
    "    def quick_sort(self,tinput):\n",
    "        if len(tinput)<=1:\n",
    "            return tinput\n",
    "        else:\n",
    "            povit = tinput[0]\n",
    "            left = [i for i in tinput[1:] if i<=povit]\n",
    "            right = [i for i in tinput[1:] if i>povit]\n",
    "            return self.quick_sort(left) +[povit]+self.quick_sort(right)\n",
    "s = Solution()\n",
    "#s.quick_sort([4,5,1,6,2,7,3,8])\n",
    "s.GetLeastNumbers_Solution([4,5,1,6,2,7,3,8],4)"
   ]
  },
  {
   "cell_type": "markdown",
   "metadata": {
    "collapsed": true
   },
   "source": [
    "### 连续子数组最大和\n",
    "HZ偶尔会拿些专业问题来忽悠那些非计算机专业的同学。今天测试组开完会后,他又发话了:在古老的一维模式识别中,常常需要计算连续子向量的最大和,当向量全为正数的时候,问题很好解决。但是,如果向量中包含负数,是否应该包含某个负数,并期望旁边的正数会弥补它呢？例如:{6,-3,-2,7,-15,1,2,2},连续子向量的最大和为8(从第0个开始,到第3个为止)。给一个数组，返回它的最大连续子序列的和，你会不会被他忽悠住？(子向量的长度至少是1)"
   ]
  },
  {
   "cell_type": "code",
   "execution_count": 13,
   "metadata": {},
   "outputs": [
    {
     "data": {
      "text/plain": [
       "8"
      ]
     },
     "execution_count": 13,
     "metadata": {},
     "output_type": "execute_result"
    }
   ],
   "source": [
    "class Solution:\n",
    "    def FindGreatestSumOfSubArray(self, array):\n",
    "        # write code here\n",
    "        n_lenght = len(array)\n",
    "        if not array and n_lenght<=0:\n",
    "            return 0\n",
    "        # 动态规划的方法\n",
    "        sum_final,sum_temp = 0,float('-inf')\n",
    "        for i in range(n_lenght):\n",
    "            sum_final = max(sum_final+array[i],array[i])\n",
    "            sum_temp = max(sum_final,sum_temp)\n",
    "        return sum_temp\n",
    "s = Solution()\n",
    "s.FindGreatestSumOfSubArray([6,-3,-2,7,-15,1,2,2])"
   ]
  },
  {
   "cell_type": "markdown",
   "metadata": {},
   "source": [
    "### 整数中1出现的次数\n",
    "求出1~13的整数中1出现的次数,并算出100~1300的整数中1出现的次数？为此他特别数了一下1~13中包含1的数字有1、10、11、12、13因此共出现6次,但是对于后面问题他就没辙了。ACMer希望你们帮帮他,并把问题更加普遍化,可以很快的求出任意非负整数区间中1出现的次数（从1 到 n 中1出现的次数）。"
   ]
  },
  {
   "cell_type": "code",
   "execution_count": null,
   "metadata": {
    "collapsed": true
   },
   "outputs": [],
   "source": [
    "class Solution:\n",
    "    def NumberOf1Between1AndN_Solution(self, n):\n",
    "        # 第一种普通方法,遍历的办法\n",
    "        count = 0\n",
    "        for i in range(n+1):\n",
    "            count+=self.countOne(i)\n",
    "        return count\n",
    "    def countOne(self,n):\n",
    "        number =0\n",
    "        while n:\n",
    "            if (n%10)==1:\n",
    "                number+=1\n",
    "            n //=10\n",
    "        return number\n",
    "            "
   ]
  },
  {
   "cell_type": "code",
   "execution_count": 57,
   "metadata": {},
   "outputs": [
    {
     "data": {
      "text/plain": [
       "6"
      ]
     },
     "execution_count": 57,
     "metadata": {},
     "output_type": "execute_result"
    }
   ],
   "source": [
    "class Solution:\n",
    "    def NumberOf1Between1AndN_Solution(self, num):\n",
    "        #数学规律法,利用分开统计每一位的方法\n",
    "        if(num<=0):\n",
    "            return 0\n",
    "        count = 0\n",
    "        base = 1\n",
    "        remain =0\n",
    "        while(num):\n",
    "            current = num%10 #当前值\n",
    "            num = num//10#剩余值\n",
    "            if current>1:\n",
    "                count +=(num+1)*base\n",
    "            elif current ==1:\n",
    "                count = num*base +(remain+1)\n",
    "            else:\n",
    "                count +=num*base\n",
    "            #下一位要用到的基和剩余不完整的部分\n",
    "            remain +=current*base\n",
    "            base*=10\n",
    "            \n",
    "        return count\n",
    "s =Solution()\n",
    "s.NumberOf1Between1AndN_Solution()                  "
   ]
  },
  {
   "cell_type": "markdown",
   "metadata": {},
   "source": [
    "### 把数组排成最小的数\n",
    "输入一个正整数数组，把数组里所有数字拼接起来排成一个数，打印能拼接出的所有数字中最小的一个。例如输入数组{3，32，321}，则打印出这三个数字能排成的最小数字为321323。\n",
    "- 思路：如果两个数a,b 如果拼接的结果ab>ba，则把数组b,放在a前面\n",
    "- 最后将排序完的数组拼接起来"
   ]
  },
  {
   "cell_type": "code",
   "execution_count": 64,
   "metadata": {},
   "outputs": [
    {
     "data": {
      "text/plain": [
       "'321323'"
      ]
     },
     "execution_count": 64,
     "metadata": {},
     "output_type": "execute_result"
    }
   ],
   "source": [
    "class Solution:\n",
    "    def PrintMinNumber(self, numbers):\n",
    "        # write code here\\\n",
    "        if not numbers:\n",
    "            return ''\n",
    "        lmd = lambda x,y:int(str(x)+str(y)) - int(str(y)+str(x))\n",
    "        for i in range(len(numbers)):\n",
    "            for j in range(1,len(numbers)-i):\n",
    "                if lmd(numbers[j-1],numbers[j])>0:\n",
    "                    numbers[j],numbers[j-1]  = numbers[j-1],numbers[j]\n",
    "        return ''.join([str(i) for i in numbers])\n",
    "s =Solution()\n",
    "s.PrintMinNumber([3,32,321])"
   ]
  },
  {
   "cell_type": "markdown",
   "metadata": {},
   "source": [
    "### 第一个只出现一次的字符串\n",
    "在一个字符串($0<=字符串长度<=10000$，全部由字母组成)中找到第一个只出现一次的字符,并返回它的位置, 如果没有则返回 -1（需要区分大小写）.\n",
    "- 普通利用内置函数.count\n",
    "- 利用hash表"
   ]
  },
  {
   "cell_type": "code",
   "execution_count": 67,
   "metadata": {},
   "outputs": [
    {
     "name": "stdout",
     "output_type": "stream",
     "text": [
      "1\n"
     ]
    }
   ],
   "source": [
    "class Solution:\n",
    "    def FirstNotRepeatingChar(self, s):\n",
    "        # 使用内置函数，面试时候会禁止\n",
    "        if len(s)==0:\n",
    "            return -1\n",
    "        for i,c in enumerate(s):\n",
    "            if s.count(c)==1:\n",
    "                return i\n",
    "        return -1\n",
    "s =Solution()\n",
    "print(s.FirstNotRepeatingChar('abaccdeff'))"
   ]
  },
  {
   "cell_type": "code",
   "execution_count": 71,
   "metadata": {},
   "outputs": [
    {
     "name": "stdout",
     "output_type": "stream",
     "text": [
      "1\n"
     ]
    }
   ],
   "source": [
    "class Solution:\n",
    "    def FirstNotRepeatingChar(self, s):\n",
    "        # 使用内置函数，面试时候会禁止\n",
    "        if len(s)<=0 or not s:\n",
    "            return -1\n",
    "        alphabet ={}\n",
    "        alist = list(s)\n",
    "        for i in alist:\n",
    "            if i not in alphabet.keys():\n",
    "                alphabet[i]=0\n",
    "            alphabet[i]+=1\n",
    "        for i,c in enumerate(alist):#保证第一个\n",
    "            if alphabet[c]==1:\n",
    "                return i\n",
    "        return -1\n",
    "s =Solution()\n",
    "print(s.FirstNotRepeatingChar('abaccdeff'))"
   ]
  },
  {
   "cell_type": "markdown",
   "metadata": {},
   "source": [
    "### 两个链表的第一个公共节点\n",
    "输入两个链表，找出它们的第一个公共结点。"
   ]
  },
  {
   "cell_type": "code",
   "execution_count": null,
   "metadata": {
    "collapsed": true
   },
   "outputs": [],
   "source": [
    "# -*- coding:utf-8 -*-\n",
    "# class ListNode:\n",
    "#     def __init__(self, x):\n",
    "#         self.val = x\n",
    "#         self.next = None\n",
    "class Solution:\n",
    "    def FindFirstCommonNode(self, pHead1, pHead2):\n",
    "        #输入的为单向链表，则先遍历两个链表找出链表的长度\n",
    "        n_length1,n_length2 = 0,0\n",
    "        while pHead1:\n",
    "            pHead1 = pHead1.next\n",
    "            n_length1 +=1\n",
    "        while pHead2:\n",
    "            pHead2 = pHead2.next\n",
    "            n_length2 +=1\n",
    "        if n_length1>n_length2:\n",
    "            while(n_length1-n_length2-i):\n",
    "                pHead1= pHead1.next\n",
    "                i+=1\n",
    "        else:\n",
    "                while(n_length2-n_length1-i):\n",
    "                pHead2= pHead2.next\n",
    "                i+=1\n",
    "        p,q=pHead1,pHead2\n",
    "        while p!=q:\n",
    "            p = p.next\n",
    "            q = q.next\n",
    "        return p\n",
    " # -*- coding:utf-8 -*-\n",
    "class ListNode:\n",
    "    def __init__(self, x):\n",
    "        self.val = x\n",
    "        self.next = None\n",
    "class Solution:\n",
    "    def FindFirstCommonNode(self, pHead1, pHead2):\n",
    "        nLength1 = self.GetListLength(pHead1)\n",
    "        nLength2 = self.GetListLength(pHead2)\n",
    "        nLengthDiff = abs(nLength1 - nLength2)\n",
    "\n",
    "        if nLength1 > nLength2:\n",
    "            pListHeadLong = pHead1\n",
    "            pListHeadShort = pHead2\n",
    "        else:\n",
    "            pListHeadLong = pHead2\n",
    "            pListHeadShort = pHead1\n",
    "\n",
    "        for i in range(nLengthDiff):\n",
    "            pListHeadLong = pListHeadLong.next\n",
    "\n",
    "        while pListHeadLong != None and pListHeadShort != None and pListHeadLong != pListHeadShort:\n",
    "            pListHeadLong = pListHeadLong.next\n",
    "            pListHeadShort = pListHeadShort.next\n",
    "\n",
    "        pFirstCommonNode = pListHeadLong\n",
    "        return pFirstCommonNode\n",
    "\n",
    "    def GetListLength(self, pHead):\n",
    "        nLength = 0\n",
    "        while pHead != None:\n",
    "            pHead = pHead.next\n",
    "            nLength += 1\n",
    "        return nLength           "
   ]
  },
  {
   "cell_type": "code",
   "execution_count": 110,
   "metadata": {
    "collapsed": true
   },
   "outputs": [],
   "source": [
    "class Solution:\n",
    "    def FindFirstCommonNode(self, pHead1, pHead2):\n",
    "        #边界条件\n",
    "        if not pHead1 and pHead2:\n",
    "            return None\n",
    "        p1,p2 = pHead1,pHead2\n",
    "        #每个链表走两遍，自然就可以走到一起了\n",
    "        while p1 !=p2:\n",
    "            p1 = pHead2 if not p1 else p1.next\n",
    "            p2 = pHead1 if not p2 else p1.next\n",
    "        return p1"
   ]
  },
  {
   "cell_type": "markdown",
   "metadata": {},
   "source": [
    "### 数字在排序列表出现的次数\n",
    "统计一个数字在排序数组中出现的次数。\n",
    "- 分别统计数字k在前面出现的左边和在后面出现坐标\n",
    "- 右边坐标减去左边坐标即可"
   ]
  },
  {
   "cell_type": "code",
   "execution_count": 117,
   "metadata": {},
   "outputs": [
    {
     "data": {
      "text/plain": [
       "0"
      ]
     },
     "execution_count": 117,
     "metadata": {},
     "output_type": "execute_result"
    }
   ],
   "source": [
    "class Solution:\n",
    "    def GetNumberOfK(self, data, k):\n",
    "        # 分别统计数字k\n",
    "        if not data:\n",
    "            return 0\n",
    "        n_length = len(data)\n",
    "        left_loc,right_loc=0,n_length-1\n",
    "        while data[left_loc]!=k:\n",
    "            left_loc+=1\n",
    "            if(left_loc==n_length):\n",
    "                return 0   \n",
    "        while data[right_loc]!=k:\n",
    "            right_loc-=1\n",
    "            if(right_loc==0):\n",
    "                return 0\n",
    "        return right_loc-left_loc+1\n",
    "s = Solution()\n",
    "s.GetNumberOfK([2,2,4],1)\n",
    "        "
   ]
  },
  {
   "cell_type": "code",
   "execution_count": 120,
   "metadata": {},
   "outputs": [
    {
     "ename": "SyntaxError",
     "evalue": "invalid character in identifier (<ipython-input-120-d25f08afa944>, line 6)",
     "output_type": "error",
     "traceback": [
      "\u001b[1;36m  File \u001b[1;32m\"<ipython-input-120-d25f08afa944>\"\u001b[1;36m, line \u001b[1;32m6\u001b[0m\n\u001b[1;33m    firstIndex  = self.getFirstIndex(data, k, l, r)\u001b[0m\n\u001b[1;37m              ^\u001b[0m\n\u001b[1;31mSyntaxError\u001b[0m\u001b[1;31m:\u001b[0m invalid character in identifier\n"
     ]
    }
   ],
   "source": [
    "# 利用二分查找\n",
    "class Solution:\n",
    "    def GetNumberOfK(self, data, k):\n",
    "        l = 0\n",
    "        r = len(data)-1\n",
    "        firstIndex  = self.getFirstIndex(data, k, l, r)\n",
    "        lastIndex = self.getLastIndex(data, k, l, r)\n",
    "        #print (lastIndex, firstIndex )\n",
    "        return lastIndex - firstIndex + 1\n",
    "\n",
    "    def getFirstIndex(self, data, k, l, r):\n",
    "        #print (l,r)\n",
    "        if l > r:\n",
    "            return -1\n",
    "        mid = int((r+l)/2)\n",
    "        if data[mid] == k and (mid==0 or data[mid-1] != k):\n",
    "            return mid\n",
    "        else:\n",
    "            if data[mid]>=k:\n",
    "                return self.getFirstIndex(data, k, l, mid-1)\n",
    "            else:\n",
    "                return self.getFirstIndex(data, k, mid+1, r)\n",
    "\n",
    "    def getLastIndex(self, data, k, l, r):\n",
    "        while l<=r:\n",
    "            #print(l,r)\n",
    "            mid = int((l+r)/2)\n",
    "            if data[mid] == k and (mid==len(data)-1 or data[mid+1] != k):\n",
    "                return mid\n",
    "            else:\n",
    "                if data[mid] >k:\n",
    "                    r = mid -1\n",
    "                else:\n",
    "                    l = mid+1\n",
    "        return -2"
   ]
  },
  {
   "cell_type": "markdown",
   "metadata": {},
   "source": [
    "### 二叉树的深度\n",
    "输入一棵二叉树，求该树的深度。从根结点到叶结点依次经过的结点（含根、叶结点）形成树的一条路径，最长路径的长度为树的深度。"
   ]
  },
  {
   "cell_type": "code",
   "execution_count": 123,
   "metadata": {
    "collapsed": true
   },
   "outputs": [],
   "source": [
    "# -*- coding:utf-8 -*-\n",
    "# class TreeNode:\n",
    "#     def __init__(self, x):\n",
    "#         self.val = x\n",
    "#         self.left = None\n",
    "#         self.right = None\n",
    "class Solution:\n",
    "    def TreeDepth(self, pRoot):\n",
    "        # write code here\n",
    "        if pRoot == None:\n",
    "            return 0\n",
    "        p = pRoot\n",
    "        # 递归的写法\n",
    "        left = self.TreeDepth(p.left)+1\n",
    "        right = self.TreeDepth(p.right)+1\n",
    "        return max(left,right)\n"
   ]
  },
  {
   "cell_type": "code",
   "execution_count": 74,
   "metadata": {},
   "outputs": [
    {
     "data": {
      "text/plain": [
       "4"
      ]
     },
     "execution_count": 74,
     "metadata": {},
     "output_type": "execute_result"
    }
   ],
   "source": [
    "# -*- coding:utf-8 -*-\n",
    "# class TreeNode:\n",
    "#     def __init__(self, x):\n",
    "#         self.val = x\n",
    "#         self.left = None\n",
    "#         self.right = None\n",
    "class Solution:\n",
    "    def TreeDepth(self, pRoot):\n",
    "        #迭代写法利用按层遍历然后加计数\n",
    "        if not pRoot:\n",
    "            return 0\n",
    "        queue = [pRoot]\n",
    "        count = 0\n",
    "        while queue:\n",
    "            temp = []#存储同层的节点\n",
    "            n_length = len(queue)#该层节点个数\n",
    "            if n_length !=0:\n",
    "                count +=1\n",
    "            for i in range(n_length):\n",
    "                node = queue.pop(0)\n",
    "                if node.left:\n",
    "                    queue.append(node.left)\n",
    "                if node.right:\n",
    "                    queue.append(node.right)\n",
    "        return count\n",
    "            \n",
    "s=Solution()\n",
    "s.TreeDepth(pNode1)        \n",
    "        "
   ]
  },
  {
   "cell_type": "code",
   "execution_count": 71,
   "metadata": {},
   "outputs": [
    {
     "ename": "SyntaxError",
     "evalue": "invalid syntax (<ipython-input-71-e6186089b6de>, line 18)",
     "output_type": "error",
     "traceback": [
      "\u001b[1;36m  File \u001b[1;32m\"<ipython-input-71-e6186089b6de>\"\u001b[1;36m, line \u001b[1;32m18\u001b[0m\n\u001b[1;33m    else:\u001b[0m\n\u001b[1;37m       ^\u001b[0m\n\u001b[1;31mSyntaxError\u001b[0m\u001b[1;31m:\u001b[0m invalid syntax\n"
     ]
    }
   ],
   "source": [
    "class Solution:\n",
    "    def TreeDepth(self, pRoot):\n",
    "        if not pRoot:\n",
    "            return 0\n",
    "        \n",
    "        lst = []\n",
    "        deep = 0\n",
    "        lst.append(pRoot)\n",
    "        lst.append('null')\n",
    "        while lst:\n",
    "            tmp = lst.pop(0)\n",
    "            if tmp != 'null':\n",
    "                print(tmp.val)\n",
    "                if tmp.left:\n",
    "                    lst.append(tmp.left)\n",
    "                if tmp.right:\n",
    "                    lst.append(tmp.right\n",
    "            else:\n",
    "                print tmp\n",
    "                deep += 1\n",
    "            if lst:\n",
    "                lst.append('null')\n",
    "        return deep\n",
    "s.Solution()\n",
    "s.TreeDepth(pNode1)"
   ]
  },
  {
   "cell_type": "markdown",
   "metadata": {},
   "source": [
    "#### 二叉树的遍历的写法（补充知识）\n",
    "- 前序遍历：递归和迭代\n",
    "- 中序遍历：递归和迭代\n",
    "- 后序遍历：递归和迭代\n",
    "- 层次遍历：递归和迭代"
   ]
  },
  {
   "cell_type": "code",
   "execution_count": null,
   "metadata": {
    "collapsed": true
   },
   "outputs": [],
   "source": [
    "def front_Recursive(self,root):\n",
    "    if root ==None:\n",
    "        return 0\n",
    "    print(root.val)\n",
    "    self.front_Recursive(root.left)\n",
    "    self.front_Recursive(root.right)\n",
    "def middle_digui(self, root):\n",
    "    \"\"\"利用递归实现树的中序遍历\"\"\"\n",
    "    if root == None:\n",
    "        return\n",
    "    self.middle_digui(root.lchild)\n",
    "    print( root.elem,)\n",
    "    self.middle_digui(root.rchild)\n",
    "\n",
    "\n",
    "def later_digui(self, root):\n",
    "    \"\"\"利用递归实现树的后序遍历\"\"\"\n",
    "    if root == None:\n",
    "        return\n",
    "    self.later_digui(root.lchild)\n",
    "    self.later_digui(root.rchild)\n",
    "    print( root.elem,)"
   ]
  },
  {
   "cell_type": "code",
   "execution_count": 42,
   "metadata": {},
   "outputs": [],
   "source": [
    "### 递归用法\n",
    "class TreeNode:\n",
    "    def __init__(self, x):\n",
    "        self.val = x\n",
    "        self.left = None\n",
    "        self.right = None\n",
    "class Solution:\n",
    "    def __init__(self):\n",
    "        self.result = []\n",
    "        \n",
    "    def front_Rec(self,root):\n",
    "        if root ==None:\n",
    "            return []\n",
    "        self.result.append(root.val)\n",
    "        self.front_Rec(root.left)\n",
    "        self.front_Rec(root.right)\n",
    "        #return res\n",
    "        \n",
    "    def in_Rec(self,root):\n",
    "        if root == None:\n",
    "            return []\n",
    "        self.in_Rec(root.left)\n",
    "        self.result.append(root.val)\n",
    "        ##print(root.val)\n",
    "        self.in_Rec(root.right)\n",
    "    def back_Rec(self,root):\n",
    "        if root == None:\n",
    "            return\n",
    "        self.back_Rec(root.left)\n",
    "        self.back_Rec(root.right)\n",
    "        self.result.append(root.val)"
   ]
  },
  {
   "cell_type": "code",
   "execution_count": 41,
   "metadata": {},
   "outputs": [
    {
     "name": "stdout",
     "output_type": "stream",
     "text": [
      "前序遍历:[1, 2, 4, 8, 9, 5, 3, 6, 7]\n",
      "中序遍历:[8, 4, 9, 2, 5, 1, 6, 3, 7]\n",
      "后序遍历:[8, 9, 4, 5, 2, 6, 7, 3, 1]\n"
     ]
    }
   ],
   "source": [
    "s =Solution()\n",
    "s.front_Rec(pNode1)\n",
    "print(\"前序遍历:{}\".format(s.result))\n",
    "s =Solution()\n",
    "s.in_Rec(pNode1)\n",
    "print(\"中序遍历:{}\".format(s.result))\n",
    "s =Solution()\n",
    "s.back_Rec(pNode1)\n",
    "print(\"后序遍历:{}\".format(s.result))"
   ]
  },
  {
   "cell_type": "code",
   "execution_count": 30,
   "metadata": {},
   "outputs": [
    {
     "data": {
      "text/plain": [
       "[2, 4, 8, 9, 5, 3, 6, 7, 1]"
      ]
     },
     "execution_count": 30,
     "metadata": {},
     "output_type": "execute_result"
    }
   ],
   "source": [
    "s =Solution()\n",
    "s.back_Rec(pNode1)\n",
    "s.result"
   ]
  },
  {
   "cell_type": "code",
   "execution_count": 35,
   "metadata": {},
   "outputs": [
    {
     "name": "stdout",
     "output_type": "stream",
     "text": [
      "1\n"
     ]
    }
   ],
   "source": [
    "s =Solution()\n",
    "s.in_Rec(pNode1)\n",
    "#s.result"
   ]
  },
  {
   "cell_type": "markdown",
   "metadata": {},
   "source": [
    "新建测试二叉树  \n",
    "![](Btree.jpg)"
   ]
  },
  {
   "cell_type": "code",
   "execution_count": 68,
   "metadata": {},
   "outputs": [],
   "source": [
    "### 迭代用法\n",
    "class TreeNode:\n",
    "    def __init__(self, x):\n",
    "        self.val = x\n",
    "        self.left = None\n",
    "        self.right = None\n",
    "class Solution:\n",
    "     # 前序   \n",
    "    def front_Ite(self,root):\n",
    "        if root ==None:\n",
    "            return []\n",
    "        queue = [root]\n",
    "        result =[]\n",
    "        while queue:\n",
    "            cur = queue.pop()#堆栈进先出\n",
    "            result.append(cur.val)\n",
    "            if cur.left:\n",
    "                queue.append(cur.right)\n",
    "            if cur.right:\n",
    "                queue.append(cur.left)\n",
    "        return result\n",
    "    \n",
    "    def in_Rec(self,root):\n",
    "        if root == None:\n",
    "            return []\n",
    "        stack = []\n",
    "        result =[]\n",
    "        node = root\n",
    "        while stack or node:\n",
    "            while node:\n",
    "                stack.append(node)\n",
    "                node = node.left\n",
    "            node = stack.pop()\n",
    "            result.append(node.val)\n",
    "            node = node.right\n",
    "        return result\n",
    "    #后序实现很巧妙，反向的前序\n",
    "    def back_Rec(self,root):\n",
    "        if root == None:\n",
    "            return\n",
    "        stack = [root]\n",
    "        result =[]\n",
    "        while stack:\n",
    "            cur = stack.pop()\n",
    "            result.append(cur.val)\n",
    "            if cur.right:\n",
    "                stack.append(cur.left)\n",
    "            if cur.left:\n",
    "                stack.append(cur.right)\n",
    "        return result[::-1]\n",
    "    def layer(self,root):\n",
    "        if not root:\n",
    "            return []\n",
    "        queue = [root]\n",
    "        result =[]\n",
    "        while queue:\n",
    "            cur = queue.pop(0)#对列先进先出\n",
    "            #print(cur.val)\n",
    "            result.append(cur.val)\n",
    "            if cur.left:\n",
    "                queue.append(cur.left)\n",
    "            if cur.right:\n",
    "                queue.append(cur.right)\n",
    "        return result"
   ]
  },
  {
   "cell_type": "code",
   "execution_count": 69,
   "metadata": {},
   "outputs": [
    {
     "name": "stdout",
     "output_type": "stream",
     "text": [
      "前序遍历&深度优先:[1, 2, 4, 8, 9, 5, 3, 6, 7]\n",
      "中序遍历:[8, 4, 9, 2, 5, 1, 6, 3, 7]\n",
      "后序遍历:[8, 9, 4, 5, 2, 6, 7, 3, 1]\n"
     ]
    }
   ],
   "source": [
    "s =Solution()\n",
    "print(\"前序遍历&深度优先:{}\".format(s.front_Ite(pNode1)))\n",
    "print(\"中序遍历:{}\".format(s.in_Rec(pNode1)))\n",
    "print(\"后序遍历:{}\".format(s.back_Rec(pNode1)))"
   ]
  },
  {
   "cell_type": "code",
   "execution_count": 52,
   "metadata": {},
   "outputs": [],
   "source": [
    "pNode1 = TreeNode(1)\n",
    "pNode2 = TreeNode(2)\n",
    "pNode3 = TreeNode(3)\n",
    "pNode4 = TreeNode(4)\n",
    "pNode5 = TreeNode(5)\n",
    "pNode6 = TreeNode(6)\n",
    "pNode7 = TreeNode(7)\n",
    "pNode8 = TreeNode(8)\n",
    "pNode9 = TreeNode(9)\n",
    "\n",
    "pNode1.left = pNode2\n",
    "pNode1.right = pNode3\n",
    "pNode2.left = pNode4\n",
    "pNode2.right = pNode5\n",
    "pNode3.left = pNode6\n",
    "pNode3.right = pNode7\n",
    "pNode4.left = pNode8\n",
    "pNode4.right = pNode9"
   ]
  },
  {
   "cell_type": "markdown",
   "metadata": {},
   "source": [
    "### 平衡二叉树\n",
    "输入一棵二叉树，判断该二叉树是否是平衡二叉树。\n",
    "- 利用二叉树的深度进行计算两边的深度相差小于等于1"
   ]
  },
  {
   "cell_type": "code",
   "execution_count": 124,
   "metadata": {
    "collapsed": true
   },
   "outputs": [],
   "source": [
    "# -*- coding:utf-8 -*-\n",
    "# class TreeNode:\n",
    "#     def __init__(self, x):\n",
    "#         self.val = x\n",
    "#         self.left = None\n",
    "#         self.right = None\n",
    "class Solution:\n",
    "    def IsBalanced_Solution(self, pRoot):\n",
    "        # write code here\n",
    "        if not pRoot:\n",
    "            return True\n",
    "        if abs(self.depth(pRoot.right)-self.depth(pRoot.left))>1:\n",
    "            return False\n",
    "        return self.IsBalanced_Solution(pRoot.right) and self.IsBalanced_Solution(pRoot.left)\n",
    "    def depth(self,pRoot):\n",
    "        if pRoot == None:\n",
    "            return 0\n",
    "        p = pRoot\n",
    "        right = self.depth(p.right)+1\n",
    "        left = self.depth(p.left)+1\n",
    "        return max(right,left)\n",
    "        "
   ]
  },
  {
   "cell_type": "markdown",
   "metadata": {},
   "source": [
    "### 数组中只出现一次的数字(<span class=\"girk\">追求速度，没看解析</span>)\n",
    "一个整型数组里除了两个数字之外，其他的数字都出现了偶数次。请写程序找出这两个只出现一次的数字\n",
    "- 思路利用hash表看一看能不能通过"
   ]
  },
  {
   "cell_type": "code",
   "execution_count": 134,
   "metadata": {},
   "outputs": [
    {
     "name": "stdout",
     "output_type": "stream",
     "text": [
      "[4, 6]\n"
     ]
    }
   ],
   "source": [
    "class Solution:\n",
    "    # 返回[a,b] 其中ab是出现一次的两个数字\n",
    "    def FindNumsAppearOnce(self, array):\n",
    "        #边界条件啥时候不能忘\n",
    "        if not array:\n",
    "            return None\n",
    "        number = {}\n",
    "        for i in array:\n",
    "            if i not in number.keys():\n",
    "                number[i]=1\n",
    "            else:\n",
    "                number[i]+=1\n",
    "        return [i for i in number.keys() if number[i]==1]\n",
    "    \n",
    "aList = [2, 4, 3, 6, 3, 2, 5, 5]\n",
    "s = Solution()\n",
    "print(s.FindNumsAppearOnce(aList))\n",
    "        "
   ]
  },
  {
   "cell_type": "markdown",
   "metadata": {},
   "source": [
    "### 和为S的连续正数序列\n",
    "题目描述  \n",
    "小明很喜欢数学,有一天他在做数学作业时,要求计算出9~16的和,他马上就写出了正确答案是100。但是他并不满足于此,他在想究竟有多少种连续的正数序列的和为100(至少包括两个数)。没多久,他就得到另一组连续正数和为100的序列:18,19,20,21,22。现在把问题交给你,你能不能也很快的找出所有和为S的连续正数序列? Good Luck!  \n",
    "输出描述:  \n",
    "输出所有和为S的连续正数序列。序列内按照从小至大的顺序，序列间按照开始数字从小到大的顺序"
   ]
  },
  {
   "cell_type": "code",
   "execution_count": 135,
   "metadata": {},
   "outputs": [
    {
     "data": {
      "text/plain": [
       "[[9, 10, 11, 12, 13, 14, 15, 16], [18, 19, 20, 21, 22]]"
      ]
     },
     "execution_count": 135,
     "metadata": {},
     "output_type": "execute_result"
    }
   ],
   "source": [
    "class Solution:\n",
    "    def FindContinuousSequence(self, tsum):\n",
    "        if tsum < 1:\n",
    "            return []\n",
    "        #暴力法\n",
    "        result = []\n",
    "        for i in range(1,tsum-1):\n",
    "            cursum = i\n",
    "            cur = [i]\n",
    "            for j in range(i+1,tsum-i):\n",
    "                cursum +=j\n",
    "                cur.append(j)\n",
    "                if cursum == tsum:\n",
    "                    result.append(cur)\n",
    "                    break\n",
    "                elif cursum > tsum:\n",
    "                    break\n",
    "        return result\n",
    "    \n",
    "s =Solution()\n",
    "s.FindContinuousSequence(100)\n",
    "                    \n",
    "        "
   ]
  },
  {
   "cell_type": "code",
   "execution_count": 85,
   "metadata": {},
   "outputs": [
    {
     "data": {
      "text/plain": [
       "[[18, 19, 20, 21, 22], [9, 10, 11, 12, 13, 14, 15, 16]]"
      ]
     },
     "execution_count": 85,
     "metadata": {},
     "output_type": "execute_result"
    }
   ],
   "source": [
    "#规律解法\n",
    "import math\n",
    "class Solution:\n",
    "    def FindContinuousSequence(self, tsum):\n",
    "        if tsum < 1:\n",
    "            return []\n",
    "        result = []\n",
    "        s_len = int(math.sqrt(2*tsum))#序列的长度\n",
    "        for n in range(2,s_len-1):\n",
    "            if ((n&1)==1 and tsum%n==0)or (tsum%n)*2==n:\n",
    "                k= int((tsum-n*(n-1)/2)/n)\n",
    "                result.append(list(range(k,k+n)))\n",
    "        return result\n",
    "s =Solution()\n",
    "s.FindContinuousSequence(100)"
   ]
  },
  {
   "cell_type": "markdown",
   "metadata": {},
   "source": [
    "链接：https://www.nowcoder.com/questionTerminal/c451a3fd84b64cb19485dad758a55ebe\n",
    "来源：牛客网\n",
    "\n",
    "- 1）由于我们要找的是和为S的连续正数序列，因此这个序列是个公差为1的等差数列，而这个序列的中间值代表了平均值的大小。假设序列长度为n，那么这个序列的中间值可以通过（S / n）得到，知道序列的中间值和长度，也就不难求出这段序列了。\n",
    "- 2）满足条件的n分两种情况：\n",
    "- n为奇数时，序列中间的数正好是序列的平均值，所以条件为：(n & 1) == 1 && sum % n == 0；\n",
    "- n为偶数时，序列中间两个数的平均值是序列的平均值，而这个平均值的小数部分为0.5，所以条件为：(sum % n) * 2 == n.\n",
    "- 3）由题可知n >= 2，那么n的最大值是多少呢？我们完全可以将n从2到S全部遍历一次，但是大部分遍历是不必要的。为了让n尽可能大，我们让序列从1开始，\n",
    "- 根据等差数列的求和公式：S = (1 - n) * n / 2+n*a1，得到.n<$\\sqrt{2*tsum}$\n",
    "\n",
    "- 最后举一个例子，假设输入sum = 100，我们只需遍历n = 13~2的情况（按题意应从大到小遍历），n = 8时，得到序列[9, 10, 11, 12, 13, 14, 15, 16]；n  = 5时，得到序列[18, 19, 20, 21, 22]。"
   ]
  },
  {
   "cell_type": "markdown",
   "metadata": {},
   "source": [
    "### 和为S的两个数字\n",
    "题目描述  \n",
    "输入一个递增排序的数组和一个数字S，在数组中查找两个数，使得他们的和正好是S，如果有多对数字的和等于S，输出两个数的乘积最小的。\n",
    "输出描述:  \n",
    "对应每个测试案例，输出两个数，小的先输出。"
   ]
  },
  {
   "cell_type": "code",
   "execution_count": 138,
   "metadata": {},
   "outputs": [
    {
     "name": "stdout",
     "output_type": "stream",
     "text": [
      "[15, 0]\n"
     ]
    }
   ],
   "source": [
    "class Solution:\n",
    "    def FindNumbersWithSum(self, array, tsum):\n",
    "        # write code here\n",
    "        if not array and tsum<=0:\n",
    "            return []\n",
    "        time = {}\n",
    "        for i in array:\n",
    "            if (tsum-i)!=i and (tsum-i)in array:\n",
    "                time[(tsum-i)*i] = [i,(tsum-i)]\n",
    "        return time[min(time.keys())]\n",
    "    \n",
    "test = [0,1,2,4,7,11,15]\n",
    "s = Solution()\n",
    "print(s.FindNumbersWithSum(test, 15))"
   ]
  },
  {
   "cell_type": "markdown",
   "metadata": {},
   "source": [
    "### 左旋字符串\n",
    "汇编语言中有一种移位指令叫做循环左移（ROL），现在有个简单的任务，就是用字符串模拟这个指令的运算结果。对于一个给定的字符序列S，请你把其循环左移K位后的序列输出。例如，字符序列S=”abcXYZdef”,要求输出循环左移3位后的结果，即“XYZdefabc”。是不是很简单？OK，搞定它！"
   ]
  },
  {
   "cell_type": "code",
   "execution_count": 80,
   "metadata": {},
   "outputs": [
    {
     "data": {
      "text/plain": [
       "'XYZdefabc'"
      ]
     },
     "execution_count": 80,
     "metadata": {},
     "output_type": "execute_result"
    }
   ],
   "source": [
    "class Solution:\n",
    "    def LeftRotateString(self, s, n):\n",
    "        # 边界条件\n",
    "        if not s or len(s)<n:\n",
    "            return None\n",
    "        sRemind = s[n:]\n",
    "        sLeft = s[:n]\n",
    "        return sRemind+sLeft\n",
    "s = Solution()\n",
    "s.LeftRotateString('abcXYZdef',3)"
   ]
  },
  {
   "cell_type": "markdown",
   "metadata": {},
   "source": [
    "### 翻转单词序列\n",
    "牛客最近来了一个新员工Fish，每天早晨总是会拿着一本英文杂志，写些句子在本子上。同事Cat对Fish写的内容颇感兴趣，有一天他向Fish借来翻看，但却读不懂它的意思。例如，“student. a am I”。后来才意识到，这家伙原来把句子单词的顺序翻转了，正确的句子应该是“I am a student.”。Cat对一一的翻转这些单词顺序可不在行，你能帮助他么？"
   ]
  },
  {
   "cell_type": "code",
   "execution_count": 88,
   "metadata": {
    "collapsed": true
   },
   "outputs": [],
   "source": [
    "class Solution:\n",
    "    def ReverseSentence(self, s):\n",
    "        alist = s.spilt(' ')\n",
    "        return ' '.join(i for i in alist[::-1] )"
   ]
  },
  {
   "cell_type": "code",
   "execution_count": 89,
   "metadata": {},
   "outputs": [
    {
     "name": "stdout",
     "output_type": "stream",
     "text": [
      "a-b-c\n"
     ]
    }
   ],
   "source": [
    "str = \"-\";\n",
    "seq = (\"a\", \"b\", \"c\"); # 字符串序列\n",
    "print(str.join( seq ));"
   ]
  },
  {
   "cell_type": "markdown",
   "metadata": {},
   "source": [
    "### 扑克牌顺子\n",
    "LL今天心情特别好,因为他去买了一副扑克牌,发现里面居然有2个大王,2个小王(一副牌原本是54张^_^)...他随机从中抽出了5张牌,想测测自己的手气,看看能不能抽到顺子,如果抽到的话,他决定去买体育彩票,嘿嘿！！“红心A,黑桃3,小王,大王,方片5”,“Oh My God!”不是顺子.....LL不高兴了,他想了想,决定大\\小 王可以看成任何数字,并且A看作1,J为11,Q为12,K为13。上面的5张牌就可以变成“1,2,3,4,5”(大小王分别看作2和4),“So Lucky!”。LL决定去买体育彩票啦。 现在,要求你使用这幅牌模拟上面的过程,然后告诉我们LL的运气如何， 如果牌能组成顺子就输出true，否则就输出false。为了方便起见,你可以认为大小王是0。\n",
    "- 首先进行排序，统计0的个数\n",
    "- 计算间隔如果等于0的个数则返回true，否则返回false"
   ]
  },
  {
   "cell_type": "code",
   "execution_count": 26,
   "metadata": {},
   "outputs": [
    {
     "name": "stdout",
     "output_type": "stream",
     "text": [
      "sortlist:[0, 0, 0, 1, 2, 4, 7]\n",
      "zero:3\n",
      "id:4-id3=1\n",
      "id:5-id4=2\n",
      "id:6-id5=3\n",
      "count3\n"
     ]
    },
    {
     "data": {
      "text/plain": [
       "True"
      ]
     },
     "execution_count": 26,
     "metadata": {},
     "output_type": "execute_result"
    }
   ],
   "source": [
    "class Solution:\n",
    "    def IsContinuous(self, numbers):\n",
    "        # 边界条件\n",
    "        if not numbers:\n",
    "            return False\n",
    "        numSort,zeroNum = self.selctSort(numbers)\n",
    "        print(\"sortlist:{}\\nzero:{}\".format(numSort,zeroNum))\n",
    "        count = 0\n",
    "        for i in range(zeroNum+1,len(numbers)):\n",
    "            count +=numSort[i]-numSort[i-1]-1\n",
    "            print(\"id:{}-id{}={}\".format(i,i-1,numSort[i]-numSort[i-1]))\n",
    "        print('count%d'%count)\n",
    "        if count <=zeroNum:\n",
    "            return True\n",
    "        else:\n",
    "            return False\n",
    "    def selctSort(self,numbers):\n",
    "        count,length = 0,len(numbers)\n",
    "        for i in range(length):\n",
    "            min1 = i\n",
    "            for j in range(i,length):\n",
    "                if numbers[j]<numbers[min1]:\n",
    "                    min1 = j\n",
    "            if min1 !=i:\n",
    "                numbers[min1],numbers[i] = numbers[i],numbers[min1]\n",
    "            if numbers[i]==0:\n",
    "                count +=1\n",
    "        return numbers,count\n",
    "                    \n",
    "s = Solution()\n",
    "s.IsContinuous([1,2,4,7,0,0,0])\n",
    "        \n",
    "        "
   ]
  },
  {
   "cell_type": "markdown",
   "metadata": {},
   "source": [
    "### 把字符串转化为整数\n",
    "题目描述\n",
    "将一个字符串转换成一个整数(实现Integer.valueOf(string)的功能，但是string不符合数字要求时返回0)，要求不能使用字符串转换整数的库函数。 数值为0或者字符串不是一个合法的数值则返回0。\n",
    "输入描述:\n",
    "输入一个字符串,包括数字字母符号,可以为空\n",
    "输出描述:\n",
    "如果是合法的数值表达则返回该数字，否则返回0\n",
    "\n",
    "- 思路:先检查符号可以有也可以没有"
   ]
  },
  {
   "cell_type": "code",
   "execution_count": 30,
   "metadata": {},
   "outputs": [
    {
     "data": {
      "text/plain": [
       "1234"
      ]
     },
     "execution_count": 30,
     "metadata": {},
     "output_type": "execute_result"
    }
   ],
   "source": [
    "class Solution:\n",
    "    def StrToInt(self, s):\n",
    "        # write code here\n",
    "        if not s:\n",
    "            return 0\n",
    "        sign = '+'\n",
    "        if s[0] in ['+','-']:\n",
    "            sign,s = s[0],s[1:]\n",
    "        res = 0\n",
    "        num_dict = {'0':0,'1':1,'2':2,'3':3,'4':4,'5':5,'6':6,'7':7,'8':8,'9':9}\n",
    "        for v in s:\n",
    "            if v in num_dict.keys():\n",
    "                res = res*10 + num_dict[v]\n",
    "            else:\n",
    "                return 0\n",
    "        return res if sign =='+' else -res\n",
    "s = Solution()\n",
    "s.StrToInt('+1234')"
   ]
  },
  {
   "cell_type": "markdown",
   "metadata": {},
   "source": [
    "### 数组中重复的数字\n",
    "在一个长度为n的数组里的所有数字都在0到n-1的范围内。 数组中某些数字是重复的，但不知道有几个数字是重复的。也不知道每个数字重复几次。请找出数组中任意一个重复的数字。 例如，如果输入长度为7的数组{2,3,1,0,2,5,3}，那么对应的输出是第一个重复的数字2。"
   ]
  },
  {
   "cell_type": "code",
   "execution_count": 36,
   "metadata": {},
   "outputs": [
    {
     "name": "stdout",
     "output_type": "stream",
     "text": [
      "None\n"
     ]
    }
   ],
   "source": [
    "#辅助空间发\n",
    "class Solution:\n",
    "    # 函数返回True/False\n",
    "    def duplicate(self, numbers, duplication):\n",
    "        #边界条件\n",
    "        if numbers == None or len(numbers) <= 0:\n",
    "            return False\n",
    "        for i in numbers:\n",
    "            if i < 0 or i > len(numbers) - 1:\n",
    "                return False\n",
    "        n_length = len(numbers)\n",
    "        res = [0]*n_length\n",
    "        for i in numbers:\n",
    "            res[i] +=1\n",
    "        dupulication[0]=[res.index(i) for i in res if i>1 ]\n",
    "test = [2, 3, 1, 0, 2, 5, 3]\n",
    "s = Solution()\n",
    "dupulication = [0]\n",
    "print(s.duplicate(test,dupulication))\n",
    "            "
   ]
  },
  {
   "cell_type": "code",
   "execution_count": 33,
   "metadata": {},
   "outputs": [
    {
     "name": "stdout",
     "output_type": "stream",
     "text": [
      "[1, 3, 2, 0, 2, 5, 3]\n",
      "[3, 1, 2, 0, 2, 5, 3]\n",
      "[0, 1, 2, 3, 2, 5, 3]\n",
      "id:4is2->2\n",
      "True\n"
     ]
    }
   ],
   "source": [
    "#一边比较一边排序\n",
    "class Solution:\n",
    "    # 这里要特别注意~找到任意重复的一个值并赋值到duplication[0]\n",
    "    # 函数返回True/False\n",
    "    def duplicate(self, numbers, duplication):\n",
    "        if numbers == None or len(numbers) <= 0:\n",
    "            return False\n",
    "        for i in numbers:\n",
    "            if i < 0 or i > len(numbers) - 1:\n",
    "                return False\n",
    "        for i in range(len(numbers)):\n",
    "            while numbers[i] != i:\n",
    "                if numbers[i] == numbers[numbers[i]]:\n",
    "                    print(\"id:{}is{}->{}\".format(i,numbers[i],numbers[numbers[i]]))\n",
    "                    duplication[0] = numbers[i]\n",
    "                    return True\n",
    "                else:\n",
    "                    index = numbers[i]\n",
    "                    numbers[i], numbers[index] = numbers[index], numbers[i]\n",
    "                    print(numbers)\n",
    "        return False\n",
    "test = [2, 3, 1, 0, 2, 5, 3]\n",
    "s = Solution()\n",
    "dupulication = [0]\n",
    "print(s.duplicate(test,dupulication))"
   ]
  },
  {
   "cell_type": "markdown",
   "metadata": {},
   "source": [
    "### 构建乘积数组(明天看一看)\n",
    "给定一个数组A[0,1,...,n-1],请构建一个数组B[0,1,...,n-1],其中B中的元素B[i]=A[0]*A[1]*...*A[i-1]*A[i+1]*...*A[n-1]。不能使用除法。"
   ]
  },
  {
   "cell_type": "code",
   "execution_count": 139,
   "metadata": {
    "collapsed": true
   },
   "outputs": [],
   "source": [
    "class Solution:\n",
    "    def multiply(self, A):\n",
    "        # write code here\n",
    "        if not A:\n",
    "            return []\n",
    "        B = []\n",
    "        cur = 1\n",
    "        for i in range(len(A)):\n",
    "            for j in range(len(A)):\n",
    "                if i != j:\n",
    "                    cur *= A[j]\n",
    "            B.append(cur)\n",
    "            cur = 1\n",
    "        return B"
   ]
  },
  {
   "cell_type": "markdown",
   "metadata": {},
   "source": [
    "### 正则表达式匹配\n",
    "请实现一个函数用来匹配包括'.'和'*'的正则表达式。模式中的字符'.'表示任意一个字符，而'*'表示它前面的字符可以出现任意次（包含0次）。 在本题中，匹配是指字符串的所有字符匹配整个模式。例如，字符串\"aaa\"与模式\"a.a\"和\"ab*ac*a\"匹配，但是与\"aa.a\"和\"ab*a\"均不匹配"
   ]
  },
  {
   "cell_type": "code",
   "execution_count": null,
   "metadata": {
    "collapsed": true
   },
   "outputs": [],
   "source": [
    "class Solution:\n",
    "    # s, pattern都是字符串\n",
    "    def match(self, s, pattern):\n",
    "        if not s or not pattern:\n",
    "            return False\n",
    "        if s==pattern:\n",
    "            return True\n",
    "        elif pattern = '':\n",
    "            return False\n",
    "        elif s=='':\n",
    "            "
   ]
  },
  {
   "cell_type": "code",
   "execution_count": 37,
   "metadata": {},
   "outputs": [],
   "source": [
    "# -*- coding:utf-8 -*-\n",
    "class Solution:\n",
    "    # s, pattern都是字符串\n",
    "    def match(self, s, pattern):\n",
    "        m, n = len(s), len(pattern)\n",
    "        match = [[False for j in range(n+1)] for i in range(m+1)]\n",
    "        match[0][0] = True\n",
    "        for j in range(n+1):\n",
    "            if j > 1 and pattern[j-1] == '*':\n",
    "                match[0][j] = match[0][j-2]\n",
    "            for i in range(1, m+1):\n",
    "                for j in range(1, n+1):\n",
    "                    if s[i-1] == pattern[j-1] or pattern[j-1] == '.':\n",
    "                        match[i][j] = match[i-1][j-1]\n",
    "                    elif j > 1 and pattern[j-1] == '*':\n",
    "                        if s[i-1] == pattern[j-2] or pattern[j-2] == '.':\n",
    "                            match[i][j] = match[i-1][j] or match[i][j-2]\n",
    "                        else:\n",
    "                            match[i][j] = match[i][j-2]\n",
    "        return match[m][n]\n"
   ]
  },
  {
   "cell_type": "markdown",
   "metadata": {},
   "source": [
    "### 表示字符的字符串\n",
    "请实现一个函数用来判断字符串是否表示数值（包括整数和小数）。例如，字符串\"+100\",\"5e2\",\"-123\",\"3.1416\"和\"-1E-16\"都表示数值。 但是\"12e\",\"1a3.14\",\"1.2.3\",\"+-5\"和\"12e+4.3\"都不是。"
   ]
  },
  {
   "cell_type": "code",
   "execution_count": null,
   "metadata": {
    "collapsed": true
   },
   "outputs": [],
   "source": [
    "class Solution:\n",
    "    # s字符串\n",
    "    def isNumeric(self, s):\n",
    "        #边界条件：\n",
    "        if not s:\n",
    "            return False\n",
    "        #排除第一位+-号的的干扰\n",
    "        if s[0] in ['+','-']:\n",
    "            "
   ]
  },
  {
   "cell_type": "markdown",
   "metadata": {},
   "source": [
    "### 字符流第一个不相同字符\n",
    "请实现一个函数用来找出字符流中第一个只出现一次的字符。例如，当从字符流中只读出前两个字符\"go\"时，第一个只出现一次的字符是\"g\"。当从该字符流中读出前六个字符“google\"时，第一个只出现一次的字符是\"l\"。"
   ]
  },
  {
   "cell_type": "code",
   "execution_count": null,
   "metadata": {
    "collapsed": true
   },
   "outputs": [],
   "source": [
    "class Solution:\n",
    "    # 返回对应char\n",
    "    def __init__(self):\n",
    "         self.s = ''\n",
    "    def FirstAppearingOnce(self):\n",
    "        # write code here\n",
    "        s={}\n",
    "        for i in self.s:\n",
    "            if i not in s.keys():\n",
    "                s[i]=1\n",
    "            s[i] +=1\n",
    "            return i\n",
    "        return '#'\n",
    "                \n",
    "    def Insert(self, char):\n",
    "        # write code here\n",
    "        self.s = self.s + char"
   ]
  },
  {
   "cell_type": "markdown",
   "metadata": {},
   "source": [
    "### 链表环的入口\n",
    "请实现一个函数用来找出字符流中第一个只出现一次的字符。例如，当从字符流中只读出前两个字符\"go\"时，第一个只出现一次的字符是\"g\"。当从该字符流中读出前六个字符“google\"时，第一个只出现一次的字符是\"l\"。"
   ]
  },
  {
   "cell_type": "code",
   "execution_count": null,
   "metadata": {
    "collapsed": true
   },
   "outputs": [],
   "source": []
  },
  {
   "cell_type": "markdown",
   "metadata": {},
   "source": [
    "### 删除链表的重复节点\n",
    "在一个排序的链表中，存在重复的结点，请删除该链表中重复的结点，重复的结点不保留，返回链表头指针。 例如，链表1->2->3->3->4->4->5 处理后为 1->2->5"
   ]
  },
  {
   "cell_type": "code",
   "execution_count": null,
   "metadata": {
    "collapsed": true
   },
   "outputs": [],
   "source": [
    "class Solution:\n",
    "    def deleteDuplication(self, pHead):\n",
    "        # write code here\n",
    "        if pHead is None or pHead.next is None:\n",
    "            return pHead\n",
    "        #如果是排序的链表，只可能前后重复\n",
    "        if pHead.val = pHead.next.val:\n",
    "            pNode = pHead.next\n",
    "        while (pNode !=None and )"
   ]
  },
  {
   "cell_type": "code",
   "execution_count": null,
   "metadata": {
    "collapsed": true
   },
   "outputs": [],
   "source": [
    "#迭代法\n",
    "class Solution:\n",
    "    def deleteDuplication(self, pHead):\n",
    "        # write code here\n",
    "        if pHead is None or pHead.next is None:\n",
    "            return pHead\n",
    "        #如果是排序的链表，只可能前后重复\n",
    "        p,q = pHead,pHead.next\n",
    "        while p:\n",
    "            if (p.val==q.val):\n",
    "                q = q.next\n",
    "                p.next = q\n",
    "            q = q.next\n",
    "            p = p.next\n",
    "        return p\n"
   ]
  },
  {
   "cell_type": "markdown",
   "metadata": {},
   "source": [
    "### 二叉树下一节点\n",
    "给定一个二叉树和其中的一个结点，请找出中序遍历顺序的下一个结点并且返回。注意，树中的结点不仅包含左右子结点，同时包含指向父结点的指针。"
   ]
  },
  {
   "cell_type": "code",
   "execution_count": null,
   "metadata": {
    "collapsed": true
   },
   "outputs": [],
   "source": [
    "class TreeLinkNode:\n",
    "     def __init__(self, x):\n",
    "            self.val = x\n",
    "            self.left = None\n",
    "            self.right = None\n",
    "            self.next = None\n",
    "#暴力递归算法\n",
    "class Solution:\n",
    "    def GetNext(self, pNode):\n",
    "        #首先将指针指向root节点\n",
    "        dummy = pNode\n",
    "        while dummy.next:\n",
    "            dummy = dummy.next\n",
    "        self.result = []\n",
    "        self.midTraversal(dummy)#进行中序遍历\n",
    "        if (self.result.index(pNode)+1)!=len(self.result):#pNode不是最后一个\n",
    "            nextNode = self.result[self.result.index(pNode)+1]\n",
    "        else:\n",
    "            nextNode = None\n",
    "        return nextNode\n",
    "    def midTraversal(self,root):\n",
    "        if not root:return \n",
    "        self.midTraversal(root.left)\n",
    "        self.result.append(root)\n",
    "        self.midTraversal（root.right）"
   ]
  },
  {
   "cell_type": "code",
   "execution_count": 87,
   "metadata": {},
   "outputs": [],
   "source": [
    "#分三种情况\n",
    "class Solution:\n",
    "    def GetNext(self, pNode):\n",
    "        #边界条件\n",
    "        if not pNode:return \n",
    "        pRight = pNode.right\n",
    "        if pRight:\n",
    "            while pRight.left:\n",
    "                pRight = pRight.left\n",
    "            return pRight\n",
    "        else:\n",
    "            if pNode.next and pNode.next.left == pNode:\n",
    "                return pNode.next\n",
    "            elif pNode.next and pNode.next.next.right ==pNode:\n",
    "                pNode = pNode.next\n",
    "                while pNode.next and pNode.next.right == pNode:\n",
    "                    pNode = pNode.next\n",
    "                # 遍历终止时当前节点有父节点, 说明当前节点是父节点的左子节点, 输入节点的下一个结点为当前节点的父节点\n",
    "                # 反之终止时当前节点没有父节点, 说明当前节点在位于根节点的右子树, 没有下一个结点\n",
    "                if pNode.next:\n",
    "                    return pNode.next\n",
    "        return None\n",
    "                "
   ]
  },
  {
   "cell_type": "markdown",
   "metadata": {
    "lang": "en"
   },
   "source": [
    "### 对称二叉树<span class=\"burk\">（暂时没找到好的迭代方法）</span>\n",
    "请实现一个函数，用来判断一颗二叉树是不是对称的。注意，如果一个二叉树同此二叉树的镜像是同样的，定义其为对称的。\n",
    "- 递归\n",
    "- 利用层次遍历，分析每层的元素的个数和一一对应，如果不对应即为False"
   ]
  },
  {
   "cell_type": "code",
   "execution_count": 98,
   "metadata": {},
   "outputs": [
    {
     "data": {
      "text/plain": [
       "False"
      ]
     },
     "execution_count": 98,
     "metadata": {},
     "output_type": "execute_result"
    }
   ],
   "source": [
    "#递归版本，比较容易想到\n",
    "class Solution:\n",
    "    def isSymmetrical(self, pRoot):\n",
    "        # write code here\n",
    "        if pRoot ==None:\n",
    "            return True\n",
    "        return self.comRoot(pRoot.right,pRoot.left)\n",
    "    def comRoot(self,right,left):\n",
    "        if left == None and right == None:\n",
    "            return True\n",
    "        if left == None or right == None:\n",
    "            return False\n",
    "        if (left.val !=right.val):\n",
    "            return False\n",
    "        else:\n",
    "            return self.comRoot(right.left,left.right) and self.comRoot(right.right,left.left)\n",
    "    def isSymmetrical2(self,pRoot):\n",
    "        #迭代写法利用按层遍历然后加计数\n",
    "        if not pRoot:\n",
    "            return True\n",
    "        queue = [pRoot]\n",
    "        result = True\n",
    "        while queue and result:\n",
    "            #temp = []#存储同层的节点\n",
    "            n_length = len(queue)#该层节点个数\n",
    "            tem = [i.val for i in queue]\n",
    "            if tem ==tem[::-1]:\n",
    "                result = True\n",
    "            else:\n",
    "                result = False\n",
    "            for i in range(n_length):\n",
    "                node = queue.pop(0)\n",
    "                if node.left:\n",
    "                    queue.append(node.left)\n",
    "                if node.right:\n",
    "                    queue.append(node.right)\n",
    "        return result\n",
    "s = Solution()\n",
    "s.isSymmetrical2(pNode1)"
   ]
  },
  {
   "cell_type": "code",
   "execution_count": null,
   "metadata": {
    "collapsed": true
   },
   "outputs": [],
   "source": [
    "    def isSymmetrical2(self,pRoot):\n",
    "        #迭代写法利用按层遍历然后加计数\n",
    "        if not pRoot:\n",
    "            return True\n",
    "        self.result = []\n",
    "        self.midTraversal(dummy)#进行中序遍历\n",
    "        if self.result == self.result[::-1]:\n",
    "            return True\n",
    "        else:\n",
    "            return None\n",
    "    def midTraversal(self,root):\n",
    "        if not root:return \n",
    "        self.midTraversal(root.left)\n",
    "        self.result.append(root.val)\n",
    "        self.midTraversal（root.right）"
   ]
  },
  {
   "cell_type": "markdown",
   "metadata": {},
   "source": [
    "### 按之字形打印二叉树\n",
    "请实现一个函数按照之字形打印二叉树，即第一行按照从左到右的顺序打印，第二层按照从右至左的顺序打印，第三行按照从左到右的顺序打印，其他行以此类推。\n",
    "- 思路:层次遍历，然后按照cont去打印"
   ]
  },
  {
   "cell_type": "code",
   "execution_count": 101,
   "metadata": {},
   "outputs": [
    {
     "data": {
      "text/plain": [
       "[[1], [3, 2], [4, 5, 6, 7], [9, 8]]"
      ]
     },
     "execution_count": 101,
     "metadata": {},
     "output_type": "execute_result"
    }
   ],
   "source": [
    "class Solution:\n",
    "    def TreeDepth(self, pRoot):\n",
    "        #迭代写法利用按层遍历然后加计数\n",
    "        if not pRoot:\n",
    "            return 0\n",
    "        queue = [pRoot]\n",
    "        count = 1\n",
    "        result = []\n",
    "        while queue:\n",
    "            temp = [i.val for i in queue]#存储同层的数值\n",
    "            n_length = len(queue)#该层节点个数\n",
    "            if count%2==0:\n",
    "                result.append(temp[::-1])\n",
    "            else:\n",
    "                result.append(temp)            \n",
    "            if n_length !=0:\n",
    "                count +=1\n",
    "            for i in range(n_length):\n",
    "                node = queue.pop(0)\n",
    "                if node.left:\n",
    "                    queue.append(node.left)\n",
    "                if node.right:\n",
    "                    queue.append(node.right)\n",
    "    \n",
    "        return result\n",
    "s = Solution()\n",
    "s.TreeDepth(pNode1)"
   ]
  },
  {
   "cell_type": "code",
   "execution_count": 102,
   "metadata": {},
   "outputs": [
    {
     "data": {
      "text/plain": [
       "[[1], [3, 2], [4, 5, 6, 7], [9, 8]]"
      ]
     },
     "execution_count": 102,
     "metadata": {},
     "output_type": "execute_result"
    }
   ],
   "source": [
    "# -*- coding:utf-8 -*-\n",
    "# class TreeNode:\n",
    "#     def __init__(self, x):\n",
    "#         self.val = x\n",
    "#         self.left = None\n",
    "#         self.right = None\n",
    "class Solution:\n",
    "    def Print(self, pRoot):\n",
    "        # write code here\n",
    "        if pRoot == None:\n",
    "            return []\n",
    "        res = []\n",
    "        stack = [pRoot]\n",
    "        countPrint = 1\n",
    "        while stack:\n",
    "            temp = [root.val for root in stack]\n",
    "            if countPrint%2==0:\n",
    "                res.append(temp[::-1])\n",
    "            else:\n",
    "                res.append(temp)\n",
    "            rot = []\n",
    "            countPrint +=1\n",
    "            for root in stack:\n",
    "                if root.left:\n",
    "                    rot.append(root.left)\n",
    "                if root.right:\n",
    "                    rot.append(root.right)\n",
    "            stack = rot\n",
    "        return res\n",
    "s = Solution()\n",
    "s.Print(pNode1)"
   ]
  },
  {
   "cell_type": "markdown",
   "metadata": {},
   "source": [
    "### 二叉树打印成多行\n",
    "\n",
    "从上到下按层打印二叉树，同一层结点从左至右输出。每一层输出一行。"
   ]
  },
  {
   "cell_type": "code",
   "execution_count": 104,
   "metadata": {},
   "outputs": [
    {
     "data": {
      "text/plain": [
       "[[1], [2, 3], [4, 5, 6, 7], [8, 9]]"
      ]
     },
     "execution_count": 104,
     "metadata": {},
     "output_type": "execute_result"
    }
   ],
   "source": [
    "# -*- coding:utf-8 -*-\n",
    "# class TreeNode:\n",
    "#     def __init__(self, x):\n",
    "#         self.val = x\n",
    "#         self.left = None\n",
    "#         self.right = None\n",
    "class Solution:\n",
    "    def Print(self, pRoot):\n",
    "        # write code here\n",
    "        if pRoot == None:\n",
    "            return []\n",
    "        res = []\n",
    "        stack = [pRoot]\n",
    "        countPrint = 1\n",
    "        while stack:\n",
    "            temp = [root.val for root in stack]\n",
    "            res.append(temp)\n",
    "            rot = []\n",
    "            for root in stack:\n",
    "                if root.left:\n",
    "                    rot.append(root.left)\n",
    "                if root.right:\n",
    "                    rot.append(root.right)\n",
    "            stack = rot\n",
    "        return res\n",
    "s = Solution()\n",
    "s.Print(pNode1)"
   ]
  },
  {
   "cell_type": "markdown",
   "metadata": {},
   "source": [
    "### 序列化二叉树(<span class=\"burk\">未完成</span>)\n",
    "请实现两个函数，分别用来序列化和反序列化二叉树"
   ]
  },
  {
   "cell_type": "code",
   "execution_count": 118,
   "metadata": {},
   "outputs": [
    {
     "name": "stdout",
     "output_type": "stream",
     "text": [
      "1!2!4!8!#!#!9!#!#!5!#!#!3!6!#!#!7!#!#!\n",
      "['1', '2', '4', '8', '#', '#', '9', '#', '#', '5', '#', '#', '3', '6', '#', '#', '7', '#', '#', '']\n",
      "0\n",
      "1\n",
      "2\n",
      "3\n",
      "4\n",
      "5\n"
     ]
    },
    {
     "ename": "TypeError",
     "evalue": "'NoneType' object is not iterable",
     "output_type": "error",
     "traceback": [
      "\u001b[1;31m---------------------------------------------------------------------------\u001b[0m",
      "\u001b[1;31mTypeError\u001b[0m                                 Traceback (most recent call last)",
      "\u001b[1;32m<ipython-input-118-0d008bb1f781>\u001b[0m in \u001b[0;36m<module>\u001b[1;34m()\u001b[0m\n\u001b[0;32m     33\u001b[0m \u001b[0mss\u001b[0m \u001b[1;33m=\u001b[0m \u001b[0ms\u001b[0m\u001b[1;33m.\u001b[0m\u001b[0mSerialize\u001b[0m\u001b[1;33m(\u001b[0m\u001b[0mpNode1\u001b[0m\u001b[1;33m)\u001b[0m\u001b[1;33m\u001b[0m\u001b[0m\n\u001b[0;32m     34\u001b[0m \u001b[0mprint\u001b[0m\u001b[1;33m(\u001b[0m\u001b[0mss\u001b[0m\u001b[1;33m)\u001b[0m\u001b[1;33m\u001b[0m\u001b[0m\n\u001b[1;32m---> 35\u001b[1;33m \u001b[0ms\u001b[0m\u001b[1;33m.\u001b[0m\u001b[0mDeserialize\u001b[0m\u001b[1;33m(\u001b[0m\u001b[0mss\u001b[0m\u001b[1;33m)\u001b[0m\u001b[1;33m\u001b[0m\u001b[0m\n\u001b[0m",
      "\u001b[1;32m<ipython-input-118-0d008bb1f781>\u001b[0m in \u001b[0;36mDeserialize\u001b[1;34m(self, s)\u001b[0m\n\u001b[0;32m     17\u001b[0m         \u001b[0mprint\u001b[0m\u001b[1;33m(\u001b[0m\u001b[0ml\u001b[0m\u001b[1;33m)\u001b[0m\u001b[1;33m\u001b[0m\u001b[0m\n\u001b[0;32m     18\u001b[0m         \u001b[0mself\u001b[0m\u001b[1;33m.\u001b[0m\u001b[0mindex\u001b[0m \u001b[1;33m=\u001b[0m \u001b[1;33m-\u001b[0m\u001b[1;36m1\u001b[0m\u001b[1;33m\u001b[0m\u001b[0m\n\u001b[1;32m---> 19\u001b[1;33m         \u001b[0mroot\u001b[0m \u001b[1;33m=\u001b[0m \u001b[0mself\u001b[0m\u001b[1;33m.\u001b[0m\u001b[0mRecursion\u001b[0m\u001b[1;33m(\u001b[0m\u001b[0ml\u001b[0m\u001b[1;33m)\u001b[0m\u001b[1;33m\u001b[0m\u001b[0m\n\u001b[0m\u001b[0;32m     20\u001b[0m         \u001b[1;32mreturn\u001b[0m \u001b[0mroot\u001b[0m\u001b[1;33m\u001b[0m\u001b[0m\n\u001b[0;32m     21\u001b[0m     \u001b[1;32mdef\u001b[0m \u001b[0mRecursion\u001b[0m\u001b[1;33m(\u001b[0m\u001b[0mself\u001b[0m\u001b[1;33m,\u001b[0m\u001b[0mlis\u001b[0m\u001b[1;33m)\u001b[0m\u001b[1;33m:\u001b[0m\u001b[1;33m\u001b[0m\u001b[0m\n",
      "\u001b[1;32m<ipython-input-118-0d008bb1f781>\u001b[0m in \u001b[0;36mRecursion\u001b[1;34m(self, lis)\u001b[0m\n\u001b[0;32m     27\u001b[0m         \u001b[1;32mif\u001b[0m \u001b[0mlis\u001b[0m\u001b[1;33m[\u001b[0m\u001b[0mself\u001b[0m\u001b[1;33m.\u001b[0m\u001b[0mindex\u001b[0m\u001b[1;33m]\u001b[0m\u001b[1;33m!=\u001b[0m\u001b[1;34m'#'\u001b[0m\u001b[1;33m:\u001b[0m\u001b[1;33m\u001b[0m\u001b[0m\n\u001b[0;32m     28\u001b[0m             \u001b[0mroot\u001b[0m \u001b[1;33m=\u001b[0m \u001b[0mTreeNode\u001b[0m\u001b[1;33m(\u001b[0m\u001b[0mint\u001b[0m\u001b[1;33m(\u001b[0m\u001b[0mlis\u001b[0m\u001b[1;33m[\u001b[0m\u001b[0mself\u001b[0m\u001b[1;33m.\u001b[0m\u001b[0mindex\u001b[0m\u001b[1;33m]\u001b[0m\u001b[1;33m)\u001b[0m\u001b[1;33m)\u001b[0m\u001b[1;33m\u001b[0m\u001b[0m\n\u001b[1;32m---> 29\u001b[1;33m             \u001b[0mroot\u001b[0m\u001b[1;33m.\u001b[0m\u001b[0mleft\u001b[0m \u001b[1;33m=\u001b[0m \u001b[0mself\u001b[0m\u001b[1;33m.\u001b[0m\u001b[0mRecursion\u001b[0m\u001b[1;33m(\u001b[0m\u001b[0mlis\u001b[0m\u001b[1;33m)\u001b[0m\u001b[1;33m\u001b[0m\u001b[0m\n\u001b[0m\u001b[0;32m     30\u001b[0m             \u001b[0mroot\u001b[0m\u001b[1;33m,\u001b[0m\u001b[0mright\u001b[0m \u001b[1;33m=\u001b[0m \u001b[0mself\u001b[0m\u001b[1;33m.\u001b[0m\u001b[0mRecursion\u001b[0m\u001b[1;33m(\u001b[0m\u001b[0mlis\u001b[0m\u001b[1;33m)\u001b[0m\u001b[1;33m\u001b[0m\u001b[0m\n\u001b[0;32m     31\u001b[0m         \u001b[1;32mreturn\u001b[0m \u001b[0mroot\u001b[0m\u001b[1;33m\u001b[0m\u001b[0m\n",
      "\u001b[1;32m<ipython-input-118-0d008bb1f781>\u001b[0m in \u001b[0;36mRecursion\u001b[1;34m(self, lis)\u001b[0m\n\u001b[0;32m     27\u001b[0m         \u001b[1;32mif\u001b[0m \u001b[0mlis\u001b[0m\u001b[1;33m[\u001b[0m\u001b[0mself\u001b[0m\u001b[1;33m.\u001b[0m\u001b[0mindex\u001b[0m\u001b[1;33m]\u001b[0m\u001b[1;33m!=\u001b[0m\u001b[1;34m'#'\u001b[0m\u001b[1;33m:\u001b[0m\u001b[1;33m\u001b[0m\u001b[0m\n\u001b[0;32m     28\u001b[0m             \u001b[0mroot\u001b[0m \u001b[1;33m=\u001b[0m \u001b[0mTreeNode\u001b[0m\u001b[1;33m(\u001b[0m\u001b[0mint\u001b[0m\u001b[1;33m(\u001b[0m\u001b[0mlis\u001b[0m\u001b[1;33m[\u001b[0m\u001b[0mself\u001b[0m\u001b[1;33m.\u001b[0m\u001b[0mindex\u001b[0m\u001b[1;33m]\u001b[0m\u001b[1;33m)\u001b[0m\u001b[1;33m)\u001b[0m\u001b[1;33m\u001b[0m\u001b[0m\n\u001b[1;32m---> 29\u001b[1;33m             \u001b[0mroot\u001b[0m\u001b[1;33m.\u001b[0m\u001b[0mleft\u001b[0m \u001b[1;33m=\u001b[0m \u001b[0mself\u001b[0m\u001b[1;33m.\u001b[0m\u001b[0mRecursion\u001b[0m\u001b[1;33m(\u001b[0m\u001b[0mlis\u001b[0m\u001b[1;33m)\u001b[0m\u001b[1;33m\u001b[0m\u001b[0m\n\u001b[0m\u001b[0;32m     30\u001b[0m             \u001b[0mroot\u001b[0m\u001b[1;33m,\u001b[0m\u001b[0mright\u001b[0m \u001b[1;33m=\u001b[0m \u001b[0mself\u001b[0m\u001b[1;33m.\u001b[0m\u001b[0mRecursion\u001b[0m\u001b[1;33m(\u001b[0m\u001b[0mlis\u001b[0m\u001b[1;33m)\u001b[0m\u001b[1;33m\u001b[0m\u001b[0m\n\u001b[0;32m     31\u001b[0m         \u001b[1;32mreturn\u001b[0m \u001b[0mroot\u001b[0m\u001b[1;33m\u001b[0m\u001b[0m\n",
      "\u001b[1;32m<ipython-input-118-0d008bb1f781>\u001b[0m in \u001b[0;36mRecursion\u001b[1;34m(self, lis)\u001b[0m\n\u001b[0;32m     27\u001b[0m         \u001b[1;32mif\u001b[0m \u001b[0mlis\u001b[0m\u001b[1;33m[\u001b[0m\u001b[0mself\u001b[0m\u001b[1;33m.\u001b[0m\u001b[0mindex\u001b[0m\u001b[1;33m]\u001b[0m\u001b[1;33m!=\u001b[0m\u001b[1;34m'#'\u001b[0m\u001b[1;33m:\u001b[0m\u001b[1;33m\u001b[0m\u001b[0m\n\u001b[0;32m     28\u001b[0m             \u001b[0mroot\u001b[0m \u001b[1;33m=\u001b[0m \u001b[0mTreeNode\u001b[0m\u001b[1;33m(\u001b[0m\u001b[0mint\u001b[0m\u001b[1;33m(\u001b[0m\u001b[0mlis\u001b[0m\u001b[1;33m[\u001b[0m\u001b[0mself\u001b[0m\u001b[1;33m.\u001b[0m\u001b[0mindex\u001b[0m\u001b[1;33m]\u001b[0m\u001b[1;33m)\u001b[0m\u001b[1;33m)\u001b[0m\u001b[1;33m\u001b[0m\u001b[0m\n\u001b[1;32m---> 29\u001b[1;33m             \u001b[0mroot\u001b[0m\u001b[1;33m.\u001b[0m\u001b[0mleft\u001b[0m \u001b[1;33m=\u001b[0m \u001b[0mself\u001b[0m\u001b[1;33m.\u001b[0m\u001b[0mRecursion\u001b[0m\u001b[1;33m(\u001b[0m\u001b[0mlis\u001b[0m\u001b[1;33m)\u001b[0m\u001b[1;33m\u001b[0m\u001b[0m\n\u001b[0m\u001b[0;32m     30\u001b[0m             \u001b[0mroot\u001b[0m\u001b[1;33m,\u001b[0m\u001b[0mright\u001b[0m \u001b[1;33m=\u001b[0m \u001b[0mself\u001b[0m\u001b[1;33m.\u001b[0m\u001b[0mRecursion\u001b[0m\u001b[1;33m(\u001b[0m\u001b[0mlis\u001b[0m\u001b[1;33m)\u001b[0m\u001b[1;33m\u001b[0m\u001b[0m\n\u001b[0;32m     31\u001b[0m         \u001b[1;32mreturn\u001b[0m \u001b[0mroot\u001b[0m\u001b[1;33m\u001b[0m\u001b[0m\n",
      "\u001b[1;32m<ipython-input-118-0d008bb1f781>\u001b[0m in \u001b[0;36mRecursion\u001b[1;34m(self, lis)\u001b[0m\n\u001b[0;32m     28\u001b[0m             \u001b[0mroot\u001b[0m \u001b[1;33m=\u001b[0m \u001b[0mTreeNode\u001b[0m\u001b[1;33m(\u001b[0m\u001b[0mint\u001b[0m\u001b[1;33m(\u001b[0m\u001b[0mlis\u001b[0m\u001b[1;33m[\u001b[0m\u001b[0mself\u001b[0m\u001b[1;33m.\u001b[0m\u001b[0mindex\u001b[0m\u001b[1;33m]\u001b[0m\u001b[1;33m)\u001b[0m\u001b[1;33m)\u001b[0m\u001b[1;33m\u001b[0m\u001b[0m\n\u001b[0;32m     29\u001b[0m             \u001b[0mroot\u001b[0m\u001b[1;33m.\u001b[0m\u001b[0mleft\u001b[0m \u001b[1;33m=\u001b[0m \u001b[0mself\u001b[0m\u001b[1;33m.\u001b[0m\u001b[0mRecursion\u001b[0m\u001b[1;33m(\u001b[0m\u001b[0mlis\u001b[0m\u001b[1;33m)\u001b[0m\u001b[1;33m\u001b[0m\u001b[0m\n\u001b[1;32m---> 30\u001b[1;33m             \u001b[0mroot\u001b[0m\u001b[1;33m,\u001b[0m\u001b[0mright\u001b[0m \u001b[1;33m=\u001b[0m \u001b[0mself\u001b[0m\u001b[1;33m.\u001b[0m\u001b[0mRecursion\u001b[0m\u001b[1;33m(\u001b[0m\u001b[0mlis\u001b[0m\u001b[1;33m)\u001b[0m\u001b[1;33m\u001b[0m\u001b[0m\n\u001b[0m\u001b[0;32m     31\u001b[0m         \u001b[1;32mreturn\u001b[0m \u001b[0mroot\u001b[0m\u001b[1;33m\u001b[0m\u001b[0m\n\u001b[0;32m     32\u001b[0m \u001b[0ms\u001b[0m \u001b[1;33m=\u001b[0m \u001b[0mSolution\u001b[0m\u001b[1;33m(\u001b[0m\u001b[1;33m)\u001b[0m\u001b[1;33m\u001b[0m\u001b[0m\n",
      "\u001b[1;31mTypeError\u001b[0m: 'NoneType' object is not iterable"
     ]
    }
   ],
   "source": [
    "#利用什么序列化就需要利用什么反序列化，本题我利用前序遍历\n",
    "# -*- coding:utf-8 -*-\n",
    "# class TreeNode:\n",
    "#     def __init__(self, x):\n",
    "#         self.val = x\n",
    "#         self.left = None\n",
    "#         self.right = None\n",
    "class Solution:\n",
    "    def Serialize(self, root):\n",
    "        # write code here\n",
    "        if not root:\n",
    "            return \"#!\"\n",
    "        return str(root.val)+'!'+self.Serialize(root.left)+self.Serialize(root.right)\n",
    "    def Deserialize(self, s):\n",
    "        # write code here\n",
    "        l = s.split('!')\n",
    "        print(l)\n",
    "        self.index = -1\n",
    "        root = self.Recursion(l)\n",
    "        return root\n",
    "    def Recursion(self,lis):\n",
    "        self.index +=1\n",
    "        print(self.index)\n",
    "        if self.index >=len(lis):\n",
    "            return None\n",
    "        root = None\n",
    "        if lis[self.index]!='#':\n",
    "            root = TreeNode(int(lis[self.index]))\n",
    "            root.left = self.Recursion(lis)\n",
    "            root,right = self.Recursion(lis)\n",
    "        return root\n",
    "s = Solution()\n",
    "ss = s.Serialize(pNode1)\n",
    "print(ss)\n",
    "s.Deserialize(ss)"
   ]
  },
  {
   "cell_type": "markdown",
   "metadata": {},
   "source": [
    "### 二叉树的第K个节点（有问题提交不通过）\n",
    "给定一棵二叉搜索树，请找出其中的第k小的结点。例如， （5，3，7，2，4，6，8）    中，按结点数值大小顺序第三小结点的值为4。\n",
    "- 二叉搜素数是排好序的\n",
    "- 先搜索左序列，如果不够然后右子树"
   ]
  },
  {
   "cell_type": "code",
   "execution_count": null,
   "metadata": {
    "collapsed": true
   },
   "outputs": [],
   "source": [
    "    def in_Rec(self,root):\n",
    "        if root == None:\n",
    "            return []\n",
    "        stack = []\n",
    "        result =[]\n",
    "        node = root\n",
    "        while stack or node:\n",
    "            while node:\n",
    "                stack.append(node)\n",
    "                node = node.left\n",
    "            node = stack.pop()\n",
    "            result.append(node.val)\n",
    "            node = node.right\n",
    "        return result"
   ]
  },
  {
   "cell_type": "code",
   "execution_count": 126,
   "metadata": {},
   "outputs": [
    {
     "data": {
      "text/plain": [
       "8"
      ]
     },
     "execution_count": 126,
     "metadata": {},
     "output_type": "execute_result"
    }
   ],
   "source": [
    "#迭代\n",
    "class Solution:\n",
    "    # 利用中序遍历\n",
    "    def KthNode(self, pRoot, k):\n",
    "        if not pRoot or k==0:\n",
    "            return None\n",
    "        stack = []\n",
    "        #result = []\n",
    "        node = pRoot\n",
    "        count = 0\n",
    "        while stack or node:\n",
    "            while node:\n",
    "                stack.append(node)\n",
    "                node = node.left\n",
    "            node = stack.pop()\n",
    "            #result.append(node.val)\n",
    "            count +=1\n",
    "            if count ==k:\n",
    "                return node.val\n",
    "            node = node.right\n",
    "        return None  \n",
    "s = Solution()\n",
    "s.KthNode(pNode1,1)"
   ]
  },
  {
   "cell_type": "code",
   "execution_count": 127,
   "metadata": {
    "collapsed": true
   },
   "outputs": [],
   "source": [
    "class Solution:\n",
    "    # 返回对应节点TreeNode\n",
    "    def __init__(self):\n",
    "        self.index =0\n",
    "    def KthNode(self, pRoot, k):\n",
    "        #边界条件\n",
    "        \n",
    "        if not pRoot or k==0:\n",
    "            return None\n",
    "        node = self.KthNode(pRoot.left,k)\n",
    "        if node !=None:\n",
    "            return node\n",
    "        self.index +=1\n",
    "        if self.index==k:\n",
    "            return pRoot\n",
    "        node = self.KthNode(pRoot.right,k)\n",
    "        if node !=None:\n",
    "            return node\n",
    "        return None"
   ]
  },
  {
   "cell_type": "markdown",
   "metadata": {},
   "source": [
    "### 数据流的中位数\n",
    "如何得到一个数据流中的中位数？\n",
    "- 如果从数据流中读出奇数个数值，那么中位数就是所有数值排序之后位于中间的数值。\n",
    "- 如果从数据流中读出偶数个数值，那么中位数就是所有数值排序之后中间两个数的平均值。\n",
    "- 我们使用Insert()方法读取数据流，使用GetMedian()方法获取当前读取数据的中位数。\n",
    "思路：建立一个平衡二叉树"
   ]
  },
  {
   "cell_type": "code",
   "execution_count": null,
   "metadata": {
    "collapsed": true
   },
   "outputs": [],
   "source": [
    "class Solution:\n",
    "    def __init__(self):\n",
    "        self.lis = []\n",
    "    def Insert(self, num):\n",
    "        # write code here\n",
    "        self.lis.append(num)\n",
    "    def GetMedian(self):\n",
    "        # write code here\n",
    "        n = len(self.lis)\n",
    "        lis.sort()\n",
    "        if n%2==1:\n",
    "            return lis[n//2+1]\n",
    "        else:\n",
    "            return (lis[n/2]+lis[n/2+1])/2"
   ]
  },
  {
   "cell_type": "code",
   "execution_count": 128,
   "metadata": {},
   "outputs": [
    {
     "ename": "SyntaxError",
     "evalue": "invalid character in identifier (<ipython-input-128-2cd491f8e1fc>, line 5)",
     "output_type": "error",
     "traceback": [
      "\u001b[1;36m  File \u001b[1;32m\"<ipython-input-128-2cd491f8e1fc>\"\u001b[1;36m, line \u001b[1;32m5\u001b[0m\n\u001b[1;33m    \u001b[0m\n\u001b[1;37m    ^\u001b[0m\n\u001b[1;31mSyntaxError\u001b[0m\u001b[1;31m:\u001b[0m invalid character in identifier\n"
     ]
    }
   ],
   "source": [
    "#链接：https://www.nowcoder.com/questionTerminal/9be0172896bd43948f8a32fb954e1be1\n",
    "#来源：牛客网\n",
    "\n",
    "# -*- coding:utf-8 -*-\n",
    " \n",
    "class Solution:\n",
    "    def __init__(self):\n",
    "        self.minNums=[]\n",
    "        self.maxNums=[]\n",
    " \n",
    "    def maxHeapInsert(self,num):\n",
    "        self.maxNums.append(num)\n",
    "        lens = len(self.maxNums)\n",
    "        i = lens - 1\n",
    "        while i > 0:\n",
    "            if self.maxNums[i] > self.maxNums[(i - 1) / 2]:\n",
    "                t = self.maxNums[(i - 1) / 2]\n",
    "                self.maxNums[(i - 1) / 2] = self.maxNums[i]\n",
    "                self.maxNums[i] = t\n",
    "                i = (i - 1) / 2\n",
    "            else:\n",
    "                break\n",
    " \n",
    "    def maxHeapPop(self):\n",
    "        t = self.maxNums[0]\n",
    "        self.maxNums[0] = self.maxNums[-1]\n",
    "        self.maxNums.pop()\n",
    "        lens = len(self.maxNums)\n",
    "        i = 0\n",
    "        while 2 * i + 1 < lens:\n",
    "            nexti = 2 * i + 1\n",
    "            if (nexti + 1 < lens) and self.maxNums[nexti + 1] > self.maxNums[nexti]:\n",
    "                nexti += 1\n",
    "            if self.maxNums[nexti] > self.maxNums[i]:\n",
    "                tmp = self.maxNums[i]\n",
    "                self.maxNums[i] = self.maxNums[nexti]\n",
    "                self.maxNums[nexti] = tmp\n",
    "                i = nexti\n",
    "            else:\n",
    "                break\n",
    "        return  t\n",
    " \n",
    "    def minHeapInsert(self,num):\n",
    "        self.minNums.append(num)\n",
    "        lens = len(self.minNums)\n",
    "        i = lens - 1\n",
    "        while i > 0:\n",
    "            if self.minNums[i] < self.minNums[(i - 1) / 2]:\n",
    "                t = self.minNums[(i - 1) / 2]\n",
    "                self.minNums[(i - 1) / 2] = self.minNums[i]\n",
    "                self.minNums[i] = t\n",
    "                i = (i - 1) / 2\n",
    "            else:\n",
    "                break\n",
    " \n",
    "    def minHeapPop(self):\n",
    "        t = self.minNums[0]\n",
    "        self.minNums[0] = self.minNums[-1]\n",
    "        self.minNums.pop()\n",
    "        lens = len(self.minNums)\n",
    "        i = 0\n",
    "        while 2 * i + 1 < lens:\n",
    "            nexti = 2 * i + 1\n",
    "            if (nexti + 1 < lens) and self.minNums[nexti + 1] < self.minNums[nexti]:\n",
    "                nexti += 1\n",
    "            if self.minNums[nexti] < self.minNums[i]:\n",
    "                tmp = self.minNums[i]\n",
    "                self.minNums[i] = self.minNums[nexti]\n",
    "                self.minNums[nexti] = tmp\n",
    "                i = nexti\n",
    "            else:\n",
    "                break\n",
    "        return t\n",
    " \n",
    "    def Insert(self, num):\n",
    "        if (len(self.minNums)+len(self.maxNums))&1==0:\n",
    "            if len(self.maxNums)>0 and num < self.maxNums[0]:\n",
    "                self.maxHeapInsert(num)\n",
    "                num = self.maxHeapPop()\n",
    "            self.minHeapInsert(num)\n",
    "        else:\n",
    "            if len(self.minNums)>0 and num > self.minNums[0]:\n",
    "                self.minHeapInsert(num)\n",
    "                num = self.minHeapPop()\n",
    "            self.maxHeapInsert(num)\n",
    " \n",
    "    def GetMedian(self,n=None):\n",
    "        allLen = len(self.minNums) + len(self.maxNums)\n",
    "        if allLen ==0:\n",
    "            return -1\n",
    "        if allLen &1==1:\n",
    "            return self.minNums[0]\n",
    "        else:\n",
    "            return (self.maxNums[0] + self.minNums[0]+0.0)/2\n",
    " \n",
    "t = Solution()\n",
    "t.Insert(5)\n",
    "print t.GetMedian()\n",
    "t.Insert(2)\n",
    "print t.GetMedian()\n",
    "t.Insert(3)\n",
    "print t.GetMedian()\n",
    "t.Insert(4)\n",
    "print t.GetMedian()\n",
    "t.Insert(1)\n",
    "print t.GetMedian()\n",
    "t.Insert(6)\n",
    "print t.GetMedian()\n",
    "t.Insert(7)\n",
    "print t.GetMedian()\n",
    "t.Insert(0)\n",
    "print t.GetMedian()\n",
    "t.Insert(8)\n",
    "print t.GetMedian()"
   ]
  },
  {
   "cell_type": "markdown",
   "metadata": {},
   "source": [
    "### 滑动窗口最大值\n",
    "给定一个数组和滑动窗口的大小，找出所有滑动窗口里数值的最大值。例如，如果输入数组{2,3,4,2,6,2,5,1}及滑动窗口的大小3，那么一共存在6个滑动窗口，他们的最大值分别为{4,4,6,6,6,5}； 针对数组{2,3,4,2,6,2,5,1}的滑动窗口有以下6个： {[2,3,4],2,6,2,5,1}， {2,[3,4,2],6,2,5,1}， {2,3,[4,2,6],2,5,1}， {2,3,4,[2,6,2],5,1}， {2,3,4,2,[6,2,5],1}， {2,3,4,2,6,[2,5,1]}。"
   ]
  },
  {
   "cell_type": "code",
   "execution_count": 129,
   "metadata": {
    "collapsed": true
   },
   "outputs": [],
   "source": [
    "class Solution:\n",
    "    def maxInWindows(self, num, size):\n",
    "        # write code here\n",
    "        if not num or len(num)<size or size==0:\n",
    "            return []\n",
    "        res = []\n",
    "        for i in range(len(num)-size+1):\n",
    "            temp = num[i:(i+size)]\n",
    "            res.append(max(temp))\n",
    "        return res\n"
   ]
  },
  {
   "cell_type": "markdown",
   "metadata": {},
   "source": [
    "### 机器人的运动范围\n",
    "地上有一个m行和n列的方格。一个机器人从坐标0,0的格子开始移动，每一次只能向左，右，上，下四个方向移动一格，但是不能进入行坐标和列坐标的数位之和大于k的格子。 例如，当k为18时，机器人能够进入方格（35,37），因为3+5+3+7 = 18。但是，它不能进入方格（35,38），因为3+5+3+8 = 19。请问该机器人能够达到多少个格子？"
   ]
  },
  {
   "cell_type": "code",
   "execution_count": null,
   "metadata": {
    "collapsed": true
   },
   "outputs": [],
   "source": []
  }
 ],
 "metadata": {
  "kernelspec": {
   "display_name": "Python 3",
   "language": "python",
   "name": "python3"
  },
  "language_info": {
   "codemirror_mode": {
    "name": "ipython",
    "version": 3
   },
   "file_extension": ".py",
   "mimetype": "text/x-python",
   "name": "python",
   "nbconvert_exporter": "python",
   "pygments_lexer": "ipython3",
   "version": "3.6.6"
  },
  "nbTranslate": {
   "displayLangs": [
    "*"
   ],
   "hotkey": "alt-t",
   "langInMainMenu": true,
   "sourceLang": "en",
   "targetLang": "fr",
   "useGoogleTranslate": true
  },
  "toc": {
   "base_numbering": 1,
   "nav_menu": {},
   "number_sections": true,
   "sideBar": true,
   "skip_h1_title": false,
   "title_cell": "Table of Contents",
   "title_sidebar": "Contents",
   "toc_cell": false,
   "toc_position": {
    "height": "calc(100% - 180px)",
    "left": "10px",
    "top": "150px",
    "width": "307px"
   },
   "toc_section_display": true,
   "toc_window_display": true
  }
 },
 "nbformat": 4,
 "nbformat_minor": 2
}
