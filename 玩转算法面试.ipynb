{
 "cells": [
  {
   "cell_type": "code",
   "execution_count": 1,
   "metadata": {},
   "outputs": [],
   "source": [
    "import numpy\n",
    "import pandas\n",
    "import scipy\n",
    "import matplotlib as mpl\n",
    "#import matplotlib.pyplot as plt\n",
    "import matplotlib.pyplot as plt\n",
    "from sklearn.linear_model import LinearRegression"
   ]
  },
  {
   "cell_type": "code",
   "execution_count": 2,
   "metadata": {},
   "outputs": [],
   "source": [
    "import scipy.io as sio"
   ]
  },
  {
   "cell_type": "markdown",
   "metadata": {},
   "source": [
    "## 数组问题\n",
    "#### 给定一个数组nums,写一个函数将素组中所有的0移动到数组的末尾，维持其他非零元素的位置"
   ]
  },
  {
   "cell_type": "code",
   "execution_count": 13,
   "metadata": {},
   "outputs": [],
   "source": [
    "class Solution:\n",
    "    def moveZero(self,nums):\n",
    "        if not nums:\n",
    "            return []\n",
    "        n_length = len(nums)\n",
    "        nums = [i for i in nums if i!=0]\n",
    "        for j in range(len(nums),n_length):\n",
    "            nums.append(0)\n",
    "        return nums"
   ]
  },
  {
   "cell_type": "code",
   "execution_count": 24,
   "metadata": {},
   "outputs": [
    {
     "data": {
      "text/plain": [
       "[1, 2, 3, 3, 0, 0]"
      ]
     },
     "execution_count": 24,
     "metadata": {},
     "output_type": "execute_result"
    }
   ],
   "source": [
    "nums = [1,0,2,3,0,4]\n",
    "s = Solution()\n",
    "s.moveZero(nums)"
   ]
  },
  {
   "cell_type": "code",
   "execution_count": 26,
   "metadata": {},
   "outputs": [
    {
     "data": {
      "text/plain": [
       "[1, 2, 3, 4, 0, 0]"
      ]
     },
     "execution_count": 26,
     "metadata": {},
     "output_type": "execute_result"
    }
   ],
   "source": [
    "### 减少空间复杂度\n",
    "#加入辅助的k\n",
    "class Solution:\n",
    "    def moveZero(self,nums):\n",
    "        if not nums:\n",
    "            return []\n",
    "        n_length,k = len(nums),0\n",
    "        for i in range(n_length):\n",
    "            if nums[i]!=0:\n",
    "                if (i!=k):#可以多想一步\n",
    "                    nums[k],nums[i] = nums[i],nums[k]\n",
    "                    k +=1\n",
    "        return nums\n",
    "nums = [1,0,2,3,0,4]\n",
    "s = Solution()\n",
    "s.moveZero(nums)"
   ]
  },
  {
   "cell_type": "markdown",
   "metadata": {},
   "source": [
    "#### 删除元素 \n",
    "给定一个nums和一个元素val,将数组中所有的等于val的元素删除，并返回剩余的元素的个数\n",
    "- 如何定义删除？\n",
    "- 剩余的元素是否需要原来顺序\n",
    "- 是否具有空间复杂度要求"
   ]
  },
  {
   "cell_type": "code",
   "execution_count": 28,
   "metadata": {},
   "outputs": [
    {
     "data": {
      "text/plain": [
       "4"
      ]
     },
     "execution_count": 28,
     "metadata": {},
     "output_type": "execute_result"
    }
   ],
   "source": [
    "class Solution:\n",
    "    def removeElemt(self,nums,values):\n",
    "        if not nums:\n",
    "            return []\n",
    "        n_length = len(nums)\n",
    "        nums = [i for i in nums if i!=values]\n",
    "        return len(nums)\n",
    "nums = [1,0,2,3,0,4]\n",
    "s = Solution()\n",
    "s.removeElemt(nums,0)"
   ]
  },
  {
   "cell_type": "code",
   "execution_count": 32,
   "metadata": {},
   "outputs": [
    {
     "data": {
      "text/plain": [
       "4"
      ]
     },
     "execution_count": 32,
     "metadata": {},
     "output_type": "execute_result"
    }
   ],
   "source": [
    "class Solution:\n",
    "    def removeElemt(self,nums,values):\n",
    "        if not nums:\n",
    "            return []\n",
    "        n_length = len(nums)\n",
    "        for i in nums:\n",
    "            if i==values:\n",
    "                nums.remove(i)\n",
    "        return len(nums)\n",
    "nums = [1,0,2,3,0,4]\n",
    "s = Solution()\n",
    "s.removeElemt(nums,0)"
   ]
  },
  {
   "cell_type": "markdown",
   "metadata": {},
   "source": [
    "### 双索引的问题\n",
    "#### sort colors\n",
    "数组中只有 0,1,2，三个元素，对数组进行排序"
   ]
  },
  {
   "cell_type": "code",
   "execution_count": 33,
   "metadata": {},
   "outputs": [
    {
     "data": {
      "text/plain": [
       "[0, 0, 1, 2, 2, 2]"
      ]
     },
     "execution_count": 33,
     "metadata": {},
     "output_type": "execute_result"
    }
   ],
   "source": [
    "class Solution:\n",
    "    #时间复杂度O(n)\n",
    "    #ko\n",
    "    def removeElemt(self,nums,values):\n",
    "        if not nums:\n",
    "            return []\n",
    "        n_length = len(nums)\n",
    "        count = {0:0,1:0,2:0}\n",
    "        for i in nums:\n",
    "            if (i>=0 and i<=2):\n",
    "                count[i]+=1\n",
    "            \n",
    "        return [0]*count[0]+[1]*count[1]+[2]*count[2]\n",
    "nums = [1,0,2,2,0,2]\n",
    "s = Solution()\n",
    "s.removeElemt(nums,0)"
   ]
  },
  {
   "cell_type": "code",
   "execution_count": 38,
   "metadata": {},
   "outputs": [
    {
     "data": {
      "text/plain": [
       "[0, 0, 1, 2, 2, 2]"
      ]
     },
     "execution_count": 38,
     "metadata": {},
     "output_type": "execute_result"
    }
   ],
   "source": [
    "### 三路快排\n",
    "####选择有很多重复的元素，然后将数据分为left，middle，right,然后对left和right进行排序即可\n",
    "class Solution:\n",
    "    def sort3ways(self,nums,values):\n",
    "        if not nums:\n",
    "            return []\n",
    "        pivot = 1\n",
    "        left = [i for i in nums if i<pivot]\n",
    "        mid  = [i for i in nums if i==pivot]\n",
    "        right  = [i for i in nums if i>pivot]  \n",
    "        return left+mid+right\n",
    "nums = [1,0,2,2,0,2]\n",
    "s = Solution()\n",
    "s.sort3ways(nums,0)"
   ]
  },
  {
   "cell_type": "code",
   "execution_count": 42,
   "metadata": {},
   "outputs": [
    {
     "data": {
      "text/plain": [
       "[0, 0, 1, 2, 2, 2]"
      ]
     },
     "execution_count": 42,
     "metadata": {},
     "output_type": "execute_result"
    }
   ],
   "source": [
    "class Solution:\n",
    "    def sort3ways(self,nums,values):\n",
    "        if not nums:\n",
    "            return []\n",
    "        zero = -1\n",
    "        two = len(nums)\n",
    "        i = 0\n",
    "        while(i<two):\n",
    "            if nums[i]==1:\n",
    "                i+=1\n",
    "            elif nums[i]==2:\n",
    "                two -=1\n",
    "                nums[i],nums[two] = nums[two],nums[i]\n",
    "                i -=1\n",
    "            else:\n",
    "                zero+=1\n",
    "                nums[i],nums[zero] = nums[zero],nums[i]\n",
    "                i+=1\n",
    "        return nums\n",
    "nums = [1,0,2,2,0,2]\n",
    "s = Solution()\n",
    "s.sort3ways(nums,0)"
   ]
  },
  {
   "cell_type": "markdown",
   "metadata": {},
   "source": [
    "#### leetcode88，合并排序数组\n",
    "将有序数组num1,num2归并到num1中\n",
    "#### leetcode 215 找出序列中的第k大的元素\n",
    "利用快排，然后丢弃元素的方法"
   ]
  },
  {
   "cell_type": "markdown",
   "metadata": {},
   "source": [
    "#### leetcode two sum\n",
    "    给定一个数组和一个targt，在其中寻找两个元素，使sum = target,返回两个元素索引"
   ]
  },
  {
   "cell_type": "code",
   "execution_count": 43,
   "metadata": {},
   "outputs": [
    {
     "name": "stdout",
     "output_type": "stream",
     "text": [
      "[15, 0]\n"
     ]
    }
   ],
   "source": [
    "#哈希表解法\n",
    "class Solution:\n",
    "    def FindNumbersWithSum(self, array, tsum):\n",
    "        # write code here\n",
    "        if not array and tsum<=0:\n",
    "            return []\n",
    "        time = {}\n",
    "        for i in array:\n",
    "            if (tsum-i)!=i and (tsum-i)in array:\n",
    "                time[(tsum-i)*i] = [i,(tsum-i)]\n",
    "        return time[min(time.keys())]\n",
    "    \n",
    "test = [0,1,2,4,7,11,15]\n",
    "s = Solution()\n",
    "print(s.FindNumbersWithSum(test, 15))"
   ]
  },
  {
   "cell_type": "code",
   "execution_count": 49,
   "metadata": {},
   "outputs": [
    {
     "name": "stdout",
     "output_type": "stream",
     "text": [
      "(1, 6)\n"
     ]
    }
   ],
   "source": [
    "class Solution:\n",
    "    def FindNumbersWithSum(self, array, target):\n",
    "        # write code here\n",
    "        if not array and target<=0:\n",
    "            return []\n",
    "        i,j = 0,len(array)-1\n",
    "        while i<j:\n",
    "            if(array[i]+array[j]>target):\n",
    "                j -=1\n",
    "            elif(array[i]+array[j]<target):\n",
    "                i+=1\n",
    "            else:\n",
    "                return i,j\n",
    "        return None,None\n",
    "test = [0,1,2,4,7,11,15]\n",
    "s = Solution()\n",
    "print(s.FindNumbersWithSum(test, 16))"
   ]
  },
  {
   "cell_type": "markdown",
   "metadata": {},
   "source": [
    "#### teetcode 125 回文字符串（对撞指针）\n",
    "给定一个字符串，只看其中的数字和字母，忽略大小写，判断字符串是否为回文串"
   ]
  },
  {
   "cell_type": "markdown",
   "metadata": {},
   "source": [
    "#### 345 翻转字符串"
   ]
  },
  {
   "cell_type": "markdown",
   "metadata": {},
   "source": [
    "#### 翻转字符串的元音字母\n",
    "例如‘hello’->‘holle’"
   ]
  },
  {
   "cell_type": "markdown",
   "metadata": {},
   "source": [
    "#### leetcode11 container with most water"
   ]
  },
  {
   "cell_type": "markdown",
   "metadata": {},
   "source": [
    "### 滑动窗口问题\n",
    "#### LeetCode 209 minimum size subarray Sum\n",
    "给定一个整形数组合一个数s,找到最短的一个连续数组使sum>s,返回这个最短的连续数组的连续最长子数组和长度值"
   ]
  },
  {
   "cell_type": "code",
   "execution_count": 53,
   "metadata": {},
   "outputs": [
    {
     "name": "stdout",
     "output_type": "stream",
     "text": [
      "2\n"
     ]
    }
   ],
   "source": [
    "class Solution:\n",
    "    def FindNumbersWithSumMin(self, array, target):\n",
    "        # write code here\n",
    "        if not array and target<=0:\n",
    "            return []\n",
    "        l,r = 0,-1#nums[l,r]为我们的滑动窗口\n",
    "        sumArray = 0\n",
    "        minLen = len(array)+1\n",
    "        while l<len(nums):\n",
    "            if sumArray<target and r+1<len(array):\n",
    "                r+=1\n",
    "                sumArray +=array[r]\n",
    "            else:\n",
    "                sumArray -=array[l]\n",
    "                l+=1   \n",
    "            if sumArray>=target:\n",
    "                minLen = min(minLen,r-l+1)\n",
    "        return  0 if minLen == len(array)+1 else minLen\n",
    "test = [2,3,1,2,4,3]\n",
    "s = Solution()\n",
    "print(s.FindNumbersWithSumMin(test, 6))"
   ]
  },
  {
   "cell_type": "markdown",
   "metadata": {},
   "source": [
    "#### & leetcode 3 一个字符串没有重复字母的子串)\n",
    "->'abcabcbb'-'abc"
   ]
  },
  {
   "cell_type": "code",
   "execution_count": 97,
   "metadata": {},
   "outputs": [
    {
     "data": {
      "text/plain": [
       "4"
      ]
     },
     "execution_count": 97,
     "metadata": {},
     "output_type": "execute_result"
    }
   ],
   "source": [
    "# 哈希表算法\n",
    "class Solution:\n",
    "    def findLongestString(self,array):\n",
    "        if not array:\n",
    "            return \n",
    "        digit = {}\n",
    "        l,r = 0,-1#nums[l,r]为我们的滑动窗口\n",
    "        maxLen = 0\n",
    "        while l<(len(array))and r+1<len(array):\n",
    "\n",
    "            if array[r+1] not in digit.keys():\n",
    "                digit[array[r+1]] =0\n",
    "            \n",
    "            if digit[array[r+1]]==0 and r+1<len(array):\n",
    "                r+=1\n",
    "                digit[array[r]] +=1\n",
    "                \n",
    "            else:\n",
    "                digit[array[l]] -=1\n",
    "                l+=1   \n",
    "            \n",
    "            maxLen =max(maxLen,r-l+1)\n",
    "        return maxLen\n",
    "nums = 'abcabcdbbc'\n",
    "s = Solution()\n",
    "s.findLongestString(nums)"
   ]
  },
  {
   "cell_type": "markdown",
   "metadata": {},
   "source": [
    "#### leetcode438 Find all Anagrams in aString"
   ]
  },
  {
   "cell_type": "markdown",
   "metadata": {},
   "source": [
    "####  leetcode76 Minimum Wind subbstring\n"
   ]
  },
  {
   "cell_type": "markdown",
   "metadata": {},
   "source": [
    "## 查找表相关问题"
   ]
  },
  {
   "cell_type": "markdown",
   "metadata": {},
   "source": [
    "### 基本语法\n",
    "#### LeetCode 349 两个数组的并集\n"
   ]
  },
  {
   "cell_type": "code",
   "execution_count": 70,
   "metadata": {},
   "outputs": [
    {
     "data": {
      "text/plain": [
       "[2, 3]"
      ]
     },
     "execution_count": 70,
     "metadata": {},
     "output_type": "execute_result"
    }
   ],
   "source": [
    "class Solution:\n",
    "    def Intersection(self,array1,array2):\n",
    "        if not array1 or not array2:\n",
    "            return []\n",
    "        set1 = set(array2)\n",
    "        set2 = set(array2)\n",
    "        res = [i for i in set2 if i in set1]\n",
    "        return res\n",
    "nums = [1,2,2,1,2,3,4]\n",
    "nums2 = [2,3]\n",
    "s = Solution()\n",
    "s.Intersection(nums,nums2)"
   ]
  },
  {
   "cell_type": "markdown",
   "metadata": {},
   "source": [
    "#### leetcode350 两个数组的交集"
   ]
  },
  {
   "cell_type": "code",
   "execution_count": 75,
   "metadata": {},
   "outputs": [
    {
     "data": {
      "text/plain": [
       "[2, 2, 3]"
      ]
     },
     "execution_count": 75,
     "metadata": {},
     "output_type": "execute_result"
    }
   ],
   "source": [
    "class Solution:\n",
    "    def Intersection2(self,array1,array2):\n",
    "        if not array1 or not array2:\n",
    "            return []\n",
    "        dict1 = {}\n",
    "        dict2 = {}\n",
    "        res = []\n",
    "        for i in array1:\n",
    "            if i not in dict1.keys():\n",
    "                dict1[i]=0\n",
    "            dict1[i] +=1\n",
    "        for i in array2:\n",
    "            if i not in dict2.keys():\n",
    "                dict2[i]=0\n",
    "            dict2[i] +=1\n",
    "        for i in dict2.keys():\n",
    "            if i in dict2.keys():\n",
    "                res = res+ [i]*min(dict1[i],dict2[i])\n",
    "        return res\n",
    "nums = [1,2,2,1,2,3,4]\n",
    "nums2 = [2,2,3,3]\n",
    "s = Solution()\n",
    "s.Intersection2(nums,nums2)"
   ]
  },
  {
   "cell_type": "markdown",
   "metadata": {},
   "source": [
    "#### leetcode 233Vaild Anagra,\n",
    "#### leetcode 202 happy numbers"
   ]
  },
  {
   "cell_type": "markdown",
   "metadata": {},
   "source": [
    "#### leetcode word Pattern"
   ]
  },
  {
   "cell_type": "markdown",
   "metadata": {},
   "source": [
    "#### leetcode 205 两个字符串是否同构"
   ]
  },
  {
   "cell_type": "markdown",
   "metadata": {},
   "source": [
    "#### LeetCode 451 给定一个字符串按照字母出现的频率进行重组整个字符串"
   ]
  },
  {
   "cell_type": "markdown",
   "metadata": {},
   "source": [
    "### 一个使用查找表的经典问题\n",
    "#### Two sum"
   ]
  },
  {
   "cell_type": "code",
   "execution_count": 83,
   "metadata": {},
   "outputs": [
    {
     "data": {
      "text/plain": [
       "[0, 4]"
      ]
     },
     "execution_count": 83,
     "metadata": {},
     "output_type": "execute_result"
    }
   ],
   "source": [
    "class Solution:\n",
    "    def twoSum(self,array,target):\n",
    "        if not array and target<0:\n",
    "            return None\n",
    "        n_length = len(array)\n",
    "        dict1 = {array[i]:i for i in range(n_length)}\n",
    "        for i in dict1.keys():\n",
    "            if target - i in dict1.keys():\n",
    "                return [dict1[i],dict1[target-i]]\n",
    "        return []\n",
    "nums = [1,2,3,6,9]\n",
    "\n",
    "s = Solution()\n",
    "s.twoSum(nums,10)"
   ]
  },
  {
   "cell_type": "code",
   "execution_count": 89,
   "metadata": {},
   "outputs": [
    {
     "data": {
      "text/plain": [
       "[4, 4]"
      ]
     },
     "execution_count": 89,
     "metadata": {},
     "output_type": "execute_result"
    }
   ],
   "source": [
    "#改进版\n",
    "# 一边建表一遍查找\n",
    "class Solution:\n",
    "    def twoSum(self,array,target):\n",
    "        if not array and target<0:\n",
    "            return None\n",
    "        n_length = len(array)\n",
    "        dict1 = {}\n",
    "        for i in range(n_length):\n",
    "            dict1[array[i]] = i\n",
    "            if target - i in dict1.keys():\n",
    "                return [dict1[target-i],dict1[array[i]]]       \n",
    "        return []\n",
    "nums = [1,2,2,3,6,9]\n",
    "\n",
    "s = Solution()\n",
    "s.twoSum(nums,10)"
   ]
  },
  {
   "cell_type": "markdown",
   "metadata": {},
   "source": [
    "#### leetcode15 3SUM"
   ]
  },
  {
   "cell_type": "markdown",
   "metadata": {},
   "source": [
    "#### leetcode18 fourSum"
   ]
  },
  {
   "cell_type": "markdown",
   "metadata": {},
   "source": [
    "#### leetcode16 3Sum closest"
   ]
  },
  {
   "cell_type": "markdown",
   "metadata": {},
   "source": [
    "### 灵活选择查找表\n",
    "#### LeetCode 454 4SumII"
   ]
  },
  {
   "cell_type": "code",
   "execution_count": 99,
   "metadata": {},
   "outputs": [],
   "source": [
    "class Solution:\n",
    "    def fourSum(self,A,B,C,D):\n",
    "        # 将c+d放入查找表\n",
    "        if not len(A)==len(B)==len(C)==len(D):\n",
    "            return None\n",
    "        dict1 = {}\n",
    "        res = 0\n",
    "        for i in C:\n",
    "            for j in D:\n",
    "                if i+j not in dict1.keys():\n",
    "                    dict1[i+j]= 0\n",
    "                dict1[i+j] +=1\n",
    "        for i in A:\n",
    "            for j in B:\n",
    "                if -(i+j) in dict1.keys():\n",
    "                    res= res + dict1[-(i+j)]\n",
    "        return res"
   ]
  },
  {
   "cell_type": "markdown",
   "metadata": {},
   "source": [
    "#### leetcode49 Group Anagrams"
   ]
  },
  {
   "cell_type": "markdown",
   "metadata": {},
   "source": [
    "### 灵活选择键值\n",
    "#### leetcode 447 numberOfBoomerangs"
   ]
  },
  {
   "cell_type": "code",
   "execution_count": 111,
   "metadata": {},
   "outputs": [
    {
     "name": "stdout",
     "output_type": "stream",
     "text": [
      "{1: 4, 4: 2}\n"
     ]
    },
    {
     "data": {
      "text/plain": [
       "14"
      ]
     },
     "execution_count": 111,
     "metadata": {},
     "output_type": "execute_result"
    }
   ],
   "source": [
    "class Solution:\n",
    "    def numberOfBoomerangs(self,piont):\n",
    "        # 将c+d放入查找表\n",
    "        if not piont:\n",
    "            return None\n",
    "        dict1 = {}#建立一个距离的查找表\n",
    "        res = 0\n",
    "        for i in piont:\n",
    "            for j in piont:  \n",
    "                if i!=j:\n",
    "                    if self.distance(i,j)not in dict1.keys():\n",
    "                        dict1[self.distance(i,j)]= 0\n",
    "                    dict1[self.distance(i,j)] +=1\n",
    "        print(dict1)\n",
    "        for key,value in dict1.items():\n",
    "            res +=value*(value-1)    \n",
    "        return res\n",
    "    def distance(self,a,b):\n",
    "        return (a[0]-b[0])*(a[0]-b[0])+(a[1]-b[1])*(a[1]-b[1])\n",
    "num = [[0,0],[1,0],[2,0]]\n",
    "s = Solution()\n",
    "s.numberOfBoomerangs(num)"
   ]
  },
  {
   "cell_type": "markdown",
   "metadata": {},
   "source": [
    "#### leetcode149 Max pionts on the line"
   ]
  },
  {
   "cell_type": "markdown",
   "metadata": {},
   "source": [
    "### 滑动窗口和查找表\n",
    "#### leetcode 219 Contains Duplicate II"
   ]
  },
  {
   "cell_type": "code",
   "execution_count": 119,
   "metadata": {},
   "outputs": [
    {
     "data": {
      "text/plain": [
       "False"
      ]
     },
     "execution_count": 119,
     "metadata": {},
     "output_type": "execute_result"
    }
   ],
   "source": [
    "class Solution:\n",
    "    def ContainDuplicate(self,array,k):\n",
    "        if not array or len(array)<k:\n",
    "            return False\n",
    "        index = 0\n",
    "        while index+k+1<len(array):\n",
    "            if array[index+k] in array[index:index+k]:\n",
    "                return True\n",
    "            else:\n",
    "                index+=1\n",
    "        return False\n",
    "num = [1,2,3,4,1,2,5,6,4]\n",
    "s = Solution()\n",
    "s.ContainDuplicate(num,2)            "
   ]
  },
  {
   "cell_type": "markdown",
   "metadata": {},
   "source": [
    "## 链表\n",
    "### 链表基础\n",
    "#### LeetCode206翻转链表"
   ]
  },
  {
   "cell_type": "code",
   "execution_count": 1,
   "metadata": {},
   "outputs": [
    {
     "name": "stdout",
     "output_type": "stream",
     "text": [
      "10->11->13->14->None\n",
      "14->13->11->10->None\n",
      "10->11->13->14->None\n"
     ]
    }
   ],
   "source": [
    "class ListNode:\n",
    "    def __init__(self, x=None):\n",
    "        self.val = x\n",
    "        self.next = None\n",
    "    def printListNode(self,head):\n",
    "        if not head:\n",
    "            print('None')\n",
    "        cur = head\n",
    "        while cur:\n",
    "            print(cur.val,end ='->')\n",
    "            cur = cur.next\n",
    "        print('None')\n",
    "class Solution:\n",
    "    # 返回ListNode\n",
    "    def ReverseList(self, pHead):\n",
    "        #普通方法\n",
    "        if pHead ==None or pHead.next ==None:\n",
    "            return pHead\n",
    "        p = pHead\n",
    "        r = None\n",
    "        while p:\n",
    "            pNext = p.next\n",
    "            p.next = r\n",
    "            r = p\n",
    "            p = pNext\n",
    "        return r\n",
    "    def ReverseList2(self, pHead):\n",
    "        #递归的方法，终止条件\n",
    "        if pHead ==None or pHead.next ==None:\n",
    "            return pHead \n",
    "        newhead = self.ReverseList(pHead.next)\n",
    "        \n",
    "        pHead.next.next = pHead\n",
    "        pHead.next = None\n",
    "        return newhead\n",
    "    \n",
    "node1 = ListNode(10)\n",
    "node2 = ListNode(11)\n",
    "node3 = ListNode(13)\n",
    "node4 = ListNode(14)\n",
    "node1.next = node2\n",
    "node2.next = node3\n",
    "node3.next = node4\n",
    "singleNode = ListNode(12)\n",
    "test = ListNode()\n",
    "S = Solution()\n",
    "node1.printListNode(node1)\n",
    "node1 = S.ReverseList(node1)\n",
    "node1.printListNode(node1)\n",
    "node1 = S.ReverseList2(node1)\n",
    "node1.printListNode(node1)"
   ]
  },
  {
   "cell_type": "markdown",
   "metadata": {},
   "source": [
    "#### 92 Reverse Linked list II\n",
    "- 反转一个链表从m到n的节点的元素"
   ]
  },
  {
   "cell_type": "markdown",
   "metadata": {},
   "source": [
    "#### 83 Remove Duplicates from Sorted List\n",
    "- 删除排序节点中的重复元素"
   ]
  },
  {
   "cell_type": "code",
   "execution_count": 138,
   "metadata": {},
   "outputs": [
    {
     "name": "stdout",
     "output_type": "stream",
     "text": [
      "1->2->3->3->4->4->5->None\n",
      "1->2->5->None\n"
     ]
    }
   ],
   "source": [
    "class Solution:\n",
    "    def deleteDuplication(self, pHead):\n",
    "        # write code here\n",
    "        if pHead is None or pHead.next is None:\n",
    "            return pHead\n",
    "        #如果是排序的链表，只可能前后重复\n",
    "        p,q = pHead,None\n",
    "        while p:\n",
    "            needDel = False\n",
    "            nextNode = p.next\n",
    "            if nextNode and (nextNode.val==p.val):\n",
    "                needDel = True\n",
    "            if needDel ==False:\n",
    "                q = p\n",
    "                p = p.next\n",
    "            else:\n",
    "                nodeval = p.val\n",
    "                pToDel = p\n",
    "                while pToDel and pToDel.val==nodeval:\n",
    "                    pToDel = pToDel.next\n",
    "                if q:\n",
    "                    p = pToDel\n",
    "                    q.next = pToDel\n",
    "                    continue\n",
    "                else:#数字第一次就重复\n",
    "                    q = pToDel\n",
    "                p = q\n",
    "        return pHead\n",
    "node1 = ListNode(1)\n",
    "node2 = ListNode(2)\n",
    "node3 = ListNode(3)\n",
    "node4 = ListNode(3)\n",
    "node5 = ListNode(4)\n",
    "node6 = ListNode(4)\n",
    "node7 = ListNode(5)\n",
    "node1.next = node2\n",
    "node2.next = node3\n",
    "node3.next = node4\n",
    "node4.next = node5\n",
    "node5.next = node6\n",
    "node6.next = node7\n",
    "node1.printListNode(node1)\n",
    "s = Solution()\n",
    "node1 = s.deleteDuplication(node1)\n",
    "node1.printListNode(node1)"
   ]
  },
  {
   "cell_type": "code",
   "execution_count": 139,
   "metadata": {},
   "outputs": [
    {
     "name": "stdout",
     "output_type": "stream",
     "text": [
      "1->2->3->3->4->4->5->None\n",
      "1->2->3->4->5->None\n"
     ]
    }
   ],
   "source": [
    "class Solution:\n",
    "    def deleteDuplication(self, pHead):\n",
    "        # write code here\n",
    "        if pHead is None or pHead.next is None:\n",
    "            return pHead\n",
    "        #如果是排序的链表，只可能前后重复\n",
    "        p,q = pHead,None\n",
    "        while p:\n",
    "            needDel = False\n",
    "            nextNode = p.next\n",
    "            if nextNode and (nextNode.val==p.val):\n",
    "                p = p.next\n",
    "                q.next = p\n",
    "            q = p\n",
    "            p = p.next\n",
    "            \n",
    "        return pHead\n",
    "node1 = ListNode(1)\n",
    "node2 = ListNode(2)\n",
    "node3 = ListNode(3)\n",
    "node4 = ListNode(3)\n",
    "node5 = ListNode(4)\n",
    "node6 = ListNode(4)\n",
    "node7 = ListNode(5)\n",
    "node1.next = node2\n",
    "node2.next = node3\n",
    "node3.next = node4\n",
    "node4.next = node5\n",
    "node5.next = node6\n",
    "node6.next = node7\n",
    "node1.printListNode(node1)\n",
    "s = Solution()\n",
    "node1 = s.deleteDuplication(node1)\n",
    "node1.printListNode(node1)"
   ]
  },
  {
   "cell_type": "markdown",
   "metadata": {},
   "source": [
    "#### 86 partition list\n",
    "- 给定一个链表以及一个数x,将链表重新整理，使得小于x的元素在前，大于x的元素在后"
   ]
  },
  {
   "cell_type": "markdown",
   "metadata": {},
   "source": [
    "####  odd Even linked list\n",
    "- 将所有索引为奇数的节点排在索引为偶数节点的前面"
   ]
  },
  {
   "cell_type": "markdown",
   "metadata": {},
   "source": [
    "#### 2，Add Two Number\n",
    "利用链表表示数字相加"
   ]
  },
  {
   "cell_type": "markdown",
   "metadata": {},
   "source": [
    "#### 445.Add two numbersIII"
   ]
  },
  {
   "cell_type": "markdown",
   "metadata": {},
   "source": [
    "### 重要技巧（建立链表的虚拟头结点）\n",
    "#### 203 Remove linked list elements\n",
    "- 删除值为val的所有的节点"
   ]
  },
  {
   "cell_type": "code",
   "execution_count": 148,
   "metadata": {},
   "outputs": [
    {
     "name": "stdout",
     "output_type": "stream",
     "text": [
      "3->2->3->3->4->4->5->None\n",
      "2->4->4->5->None\n"
     ]
    }
   ],
   "source": [
    "class Solution:\n",
    "    def deleteElement(self, pHead,target):\n",
    "        # write code here\n",
    "        while(pHead !=None and pHead.val == target):\n",
    "            pHead = pHead.next\n",
    "        if pHead is None or pHead.next is None:\n",
    "            return pHead\n",
    "        #如果是排序的链表，只可能前后重复\n",
    "        cur,delNode = pHead,None\n",
    "        while cur:\n",
    "            if cur.next and (cur.next.val==target):\n",
    "                delNode = cur.next\n",
    "                cur.next = delNode.next\n",
    "            else:\n",
    "                cur = cur.next\n",
    "            \n",
    "        return pHead\n",
    "node1 = ListNode(3)\n",
    "node2 = ListNode(2)\n",
    "node3 = ListNode(3)\n",
    "node4 = ListNode(3)\n",
    "node5 = ListNode(4)\n",
    "node6 = ListNode(4)\n",
    "node7 = ListNode(5)\n",
    "node1.next = node2\n",
    "node2.next = node3\n",
    "node3.next = node4\n",
    "node4.next = node5\n",
    "node5.next = node6\n",
    "node6.next = node7\n",
    "node1.printListNode(node1)\n",
    "s = Solution()\n",
    "node1 = s.deleteElement(node1,3)\n",
    "node1.printListNode(node1)"
   ]
  },
  {
   "cell_type": "code",
   "execution_count": 150,
   "metadata": {},
   "outputs": [
    {
     "name": "stdout",
     "output_type": "stream",
     "text": [
      "3->2->3->3->4->4->5->None\n",
      "2->4->4->5->None\n"
     ]
    }
   ],
   "source": [
    "# 改进版\n",
    "class Solution:\n",
    "    def deleteElement(self, pHead,target):\n",
    "        # write code here\n",
    "        dummyHead = ListNode(0)\n",
    "        dummyHead.next = pHead\n",
    "        \n",
    "        #如果是排序的链表，只可能前后重复\n",
    "        cur,delNode = dummyHead,None\n",
    "        while cur:\n",
    "            if cur.next and (cur.next.val==target):\n",
    "                delNode = cur.next\n",
    "                cur.next = delNode.next\n",
    "            else:\n",
    "                cur = cur.next \n",
    "        return dummyHead.next\n",
    "node1 = ListNode(3)\n",
    "node2 = ListNode(2)\n",
    "node3 = ListNode(3)\n",
    "node4 = ListNode(3)\n",
    "node5 = ListNode(4)\n",
    "node6 = ListNode(4)\n",
    "node7 = ListNode(5)\n",
    "node1.next = node2\n",
    "node2.next = node3\n",
    "node3.next = node4\n",
    "node4.next = node5\n",
    "node5.next = node6\n",
    "node6.next = node7\n",
    "node1.printListNode(node1)\n",
    "s = Solution()\n",
    "node1 = s.deleteElement(node1,3)\n",
    "node1.printListNode(node1)"
   ]
  },
  {
   "cell_type": "markdown",
   "metadata": {},
   "source": [
    "#### 82Remove Dupicates from sorted list"
   ]
  },
  {
   "cell_type": "code",
   "execution_count": null,
   "metadata": {},
   "outputs": [],
   "source": []
  },
  {
   "cell_type": "markdown",
   "metadata": {},
   "source": [
    "#### 21归并两个有序的链表"
   ]
  },
  {
   "cell_type": "code",
   "execution_count": null,
   "metadata": {},
   "outputs": [],
   "source": []
  },
  {
   "cell_type": "markdown",
   "metadata": {},
   "source": [
    "#### 24 交换相邻节点的链表"
   ]
  },
  {
   "cell_type": "code",
   "execution_count": 156,
   "metadata": {},
   "outputs": [
    {
     "name": "stdout",
     "output_type": "stream",
     "text": [
      "3->2->3->6->4->7->5->None\n",
      "2->3->6->3->7->4->5->None\n"
     ]
    }
   ],
   "source": [
    "class Solution:\n",
    "    def swapPairs(self, pHead):\n",
    "        # write code here\n",
    "        dummyHead = ListNode(0)\n",
    "        dummyHead.next = pHead\n",
    "        \n",
    "        #如果是排序的链表，只可能前后重复\n",
    "        p= dummyHead\n",
    "       \n",
    "        while p.next and p.next.next:\n",
    "            node1,node2 = p.next,p.next.next\n",
    "            nextnode = node2.next\n",
    "            node2.next = node1\n",
    "            node1.next= nextnode\n",
    "            p.next = node2\n",
    "            \n",
    "            p = node1\n",
    "        return dummyHead.next\n",
    "node1 = ListNode(3)\n",
    "node2 = ListNode(2)\n",
    "node3 = ListNode(3)\n",
    "node4 = ListNode(6)\n",
    "node5 = ListNode(4)\n",
    "node6 = ListNode(7)\n",
    "node7 = ListNode(5)\n",
    "node1.next = node2\n",
    "node2.next = node3\n",
    "node3.next = node4\n",
    "node4.next = node5\n",
    "node5.next = node6\n",
    "node6.next = node7\n",
    "node1.printListNode(node1)\n",
    "s = Solution()\n",
    "node1 = s.swapPairs(node1)\n",
    "node1.printListNode(node1)"
   ]
  },
  {
   "cell_type": "markdown",
   "metadata": {},
   "source": [
    "#### 25 翻转k个一组的节点"
   ]
  },
  {
   "cell_type": "markdown",
   "metadata": {},
   "source": [
    "#### 147 链表的插入排序"
   ]
  },
  {
   "cell_type": "markdown",
   "metadata": {},
   "source": [
    "#### 148 对链表进行归并的排序"
   ]
  },
  {
   "cell_type": "markdown",
   "metadata": {},
   "source": [
    "### 不仅仅的穿针引线\n",
    "#### 删除一个节点\n",
    "- 给定链表的一个节点，删除该节点"
   ]
  },
  {
   "cell_type": "code",
   "execution_count": 11,
   "metadata": {},
   "outputs": [
    {
     "name": "stdout",
     "output_type": "stream",
     "text": [
      "3->2->3->6->4->7->5->None\n",
      "3->2->3->6->4->5->None\n"
     ]
    }
   ],
   "source": [
    "class Solution:\n",
    "    def delNode(self, node):\n",
    "        # write code here\n",
    "        if node ==None:\n",
    "            return\n",
    "        if node.next ==None:\n",
    "            node ==None\n",
    "            return \n",
    "        node.val = node.next.val\n",
    "        delnode = node.next\n",
    "        node.next = delnode.next\n",
    "        del delnode\n",
    "        return \n",
    "node1 = ListNode(3)\n",
    "node2 = ListNode(2)\n",
    "node3 = ListNode(3)\n",
    "node4 = ListNode(6)\n",
    "node5 = ListNode(4)\n",
    "node6 = ListNode(7)\n",
    "node7 = ListNode(5)\n",
    "node1.next = node2\n",
    "node2.next = node3\n",
    "node3.next = node4\n",
    "node4.next = node5\n",
    "node5.next = node6\n",
    "node6.next = node7\n",
    "node1.printListNode(node1)\n",
    "s = Solution()\n",
    "s.delNode(node6)\n",
    "node1.printListNode(node1)"
   ]
  },
  {
   "cell_type": "markdown",
   "metadata": {},
   "source": [
    "### 双指针的技术\n",
    "#### LeetCode19 remove nth Node from End of list\n",
    "删除链表的倒数第n个节点"
   ]
  },
  {
   "cell_type": "code",
   "execution_count": 14,
   "metadata": {},
   "outputs": [
    {
     "name": "stdout",
     "output_type": "stream",
     "text": [
      "3->2->3->6->4->7->5->None\n",
      "3->2->3->6->4->7->None->None\n"
     ]
    }
   ],
   "source": [
    "class Solution:\n",
    "    def FindKthToTail(self, head, k):\n",
    "        #先判断特殊情况\n",
    "        if head == None or k==0:\n",
    "            return None\n",
    "        p1 = head\n",
    "        p2 = head\n",
    "        for i in range(k):\n",
    "            p1 = p1.next\n",
    "            if p1 ==None:#防止k毕总长度大\n",
    "                return None\n",
    "        while p1:\n",
    "            p1 = p1.next\n",
    "            p2 = p2.next\n",
    "        if p2.next:\n",
    "            p2.next = p2.next.next\n",
    "        else:\n",
    "            p2.val  = None\n",
    "        return head\n",
    "node1 = ListNode(3)\n",
    "node2 = ListNode(2)\n",
    "node3 = ListNode(3)\n",
    "node4 = ListNode(6)\n",
    "node5 = ListNode(4)\n",
    "node6 = ListNode(7)\n",
    "node7 = ListNode(5)\n",
    "node1.next = node2\n",
    "node2.next = node3\n",
    "node3.next = node4\n",
    "node4.next = node5\n",
    "node5.next = node6\n",
    "node6.next = node7\n",
    "node1.printListNode(node1)\n",
    "s = Solution()\n",
    "node1 = s.FindKthToTail(node1,1)\n",
    "node1.printListNode(node1)"
   ]
  },
  {
   "cell_type": "markdown",
   "metadata": {},
   "source": [
    "#### leetcode 61Rotate List"
   ]
  },
  {
   "cell_type": "markdown",
   "metadata": {},
   "source": [
    "#### leetcode143 Reorder list"
   ]
  },
  {
   "cell_type": "markdown",
   "metadata": {},
   "source": [
    "#### leecode234 链表是否是回文链表"
   ]
  },
  {
   "cell_type": "markdown",
   "metadata": {},
   "source": [
    "## 栈和队列的使用\n",
    "### 栈的使用\n",
    "#### LeetCode20 Valid Parentheses"
   ]
  },
  {
   "cell_type": "code",
   "execution_count": 29,
   "metadata": {},
   "outputs": [
    {
     "data": {
      "text/plain": [
       "False"
      ]
     },
     "execution_count": 29,
     "metadata": {},
     "output_type": "execute_result"
    }
   ],
   "source": [
    "class Solution:\n",
    "    def isVaild(self,string):\n",
    "        #先判断特殊情况\n",
    "        if len(string)==0:\n",
    "            return True\n",
    "        if len(string)%2==1:\n",
    "            return False\n",
    "        stack = []\n",
    "        dict1 = {'(':')','[':']','{':'}'}\n",
    "        for i in range(len(string)):\n",
    "            if string[i]=='('or string[i]=='['or string[i]=='{':\n",
    "                stack.append(string[i])\n",
    "            elif string[i]==')'or string[i]==']'or string[i]=='}':\n",
    "                if len(stack)==0:\n",
    "                    return False\n",
    "                elif dict1[stack.pop()]!=string[i]:\n",
    "                    return False\n",
    "            else:\n",
    "                return False\n",
    "        return True\n",
    "    \n",
    "string = '()[]{}\\\\'\n",
    "s = Solution()\n",
    "s.isVaild(string)                 \n",
    "                "
   ]
  },
  {
   "cell_type": "markdown",
   "metadata": {},
   "source": [
    "#### LeetCode150Evaluate Reverse polish Notation\n",
    "逆波兰表达式的求值，给定一个数组，表示一个逆波兰表达式求其值"
   ]
  },
  {
   "cell_type": "markdown",
   "metadata": {},
   "source": [
    "#### leetcode 71简化的unix系统的路径"
   ]
  },
  {
   "cell_type": "markdown",
   "metadata": {},
   "source": [
    "### 栈和递归的紧密关系\n",
    "#### leetcode 144 二叉树的前序遍历\n",
    "#### leetcode 94 二叉树的中序遍历\n",
    "#### leetcode 145 二叉树后序遍历"
   ]
  },
  {
   "cell_type": "code",
   "execution_count": 30,
   "metadata": {},
   "outputs": [],
   "source": [
    "### 递归用法\n",
    "class TreeNode:\n",
    "    def __init__(self, x):\n",
    "        self.val = x\n",
    "        self.left = None\n",
    "        self.right = None\n",
    "class Solution:\n",
    "    def __init__(self):\n",
    "        self.result = []\n",
    "        \n",
    "    def front_Rec(self,root):\n",
    "        if root ==None:\n",
    "            return []\n",
    "        self.result.append(root.val)\n",
    "        self.front_Rec(root.left)\n",
    "        self.front_Rec(root.right)\n",
    "        #return res\n",
    "        \n",
    "    def in_Rec(self,root):\n",
    "        if root == None:\n",
    "            return []\n",
    "        self.in_Rec(root.left)\n",
    "        self.result.append(root.val)\n",
    "        ##print(root.val)\n",
    "        self.in_Rec(root.right)\n",
    "    def back_Rec(self,root):\n",
    "        if root == None:\n",
    "            return\n",
    "        self.back_Rec(root.left)\n",
    "        self.back_Rec(root.right)\n",
    "        self.result.append(root.val)"
   ]
  },
  {
   "cell_type": "markdown",
   "metadata": {},
   "source": [
    "#### leetcode 341Flatten Nested list Iterator"
   ]
  },
  {
   "cell_type": "markdown",
   "metadata": {},
   "source": [
    "###  队列的典型应用 二叉树按层遍历  DFS 和BFS\n",
    "#### 102leetcodeBinary Tree Level Order Traversal"
   ]
  },
  {
   "cell_type": "code",
   "execution_count": 33,
   "metadata": {},
   "outputs": [
    {
     "name": "stdout",
     "output_type": "stream",
     "text": [
      "[1, 2, 3, 4, 5, 6, 7, 8, 9]\n"
     ]
    }
   ],
   "source": [
    "class TreeNode:\n",
    "    def __init__(self, x):\n",
    "        self.val = x\n",
    "        self.left = None\n",
    "        self.right = None\n",
    "class Solution:     \n",
    "    def layer(self,root):\n",
    "        if root ==None:\n",
    "            return []\n",
    "        queue = [root]\n",
    "        result =[]\n",
    "        while queue:\n",
    "            node = queue.pop(0)\n",
    "            result.append(node.val)\n",
    "            if node.left:\n",
    "                queue.append(node.left)\n",
    "            if node.right:\n",
    "                queue.append(node.right)\n",
    "        return result\n",
    "pNode1 = TreeNode(1)\n",
    "pNode2 = TreeNode(2)\n",
    "pNode3 = TreeNode(3)\n",
    "pNode4 = TreeNode(4)\n",
    "pNode5 = TreeNode(5)\n",
    "pNode6 = TreeNode(6)\n",
    "pNode7 = TreeNode(7)\n",
    "pNode8 = TreeNode(8)\n",
    "pNode9 = TreeNode(9)\n",
    "\n",
    "pNode1.left = pNode2\n",
    "pNode1.right = pNode3\n",
    "pNode2.left = pNode4\n",
    "pNode2.right = pNode5\n",
    "pNode3.left = pNode6\n",
    "pNode3.right = pNode7\n",
    "pNode4.left = pNode8\n",
    "pNode4.right = pNode9  \n",
    "s = Solution()\n",
    "\n",
    "print(s.layer(pNode1))"
   ]
  },
  {
   "cell_type": "code",
   "execution_count": 35,
   "metadata": {},
   "outputs": [
    {
     "name": "stdout",
     "output_type": "stream",
     "text": [
      "([[1], [2, 3], [4, 5, 6, 7], [8, 9]], 4)\n"
     ]
    }
   ],
   "source": [
    "class TreeNode:\n",
    "    def __init__(self, x):\n",
    "        self.val = x\n",
    "        self.left = None\n",
    "        self.right = None\n",
    "class Solution:     \n",
    "    def layer(self,root):\n",
    "        if root ==None:\n",
    "            return []\n",
    "        queue = [root]\n",
    "        result =[]\n",
    "        layer =0\n",
    "        while queue:\n",
    "            temp= [node.val for node in queue]\n",
    "            result.append(temp)\n",
    "            layer +=1\n",
    "            ret = []\n",
    "            for node in queue:\n",
    "            #node = queue.pop(0)\n",
    "                #ret.append(node.val)\n",
    "                if node.left:\n",
    "                    ret.append(node.left)\n",
    "                if node.right:\n",
    "                    ret.append(node.right)\n",
    "            queue = ret\n",
    "        return result,layer\n",
    "class TreeNode:\n",
    "    def __init__(self, x):\n",
    "        self.val = x\n",
    "        self.left = None\n",
    "        self.right = None\n",
    "pNode1 = TreeNode(1)\n",
    "pNode2 = TreeNode(2)\n",
    "pNode3 = TreeNode(3)\n",
    "pNode4 = TreeNode(4)\n",
    "pNode5 = TreeNode(5)\n",
    "pNode6 = TreeNode(6)\n",
    "pNode7 = TreeNode(7)\n",
    "pNode8 = TreeNode(8)\n",
    "pNode9 = TreeNode(9)\n",
    "\n",
    "pNode1.left = pNode2\n",
    "pNode1.right = pNode3\n",
    "pNode2.left = pNode4\n",
    "pNode2.right = pNode5\n",
    "pNode3.left = pNode6\n",
    "pNode3.right = pNode7\n",
    "pNode4.left = pNode8\n",
    "pNode4.right = pNode9  \n",
    "s = Solution()\n",
    "\n",
    "print(s.layer(pNode1))"
   ]
  },
  {
   "cell_type": "markdown",
   "metadata": {},
   "source": [
    "#### leeccode 107 返回安层遍历的倒序节点"
   ]
  },
  {
   "cell_type": "markdown",
   "metadata": {},
   "source": [
    "#### leetcode 103 按照之字形的返回的节点"
   ]
  },
  {
   "cell_type": "markdown",
   "metadata": {},
   "source": [
    "#### leetcode 199 二叉树右侧你能看见的节点"
   ]
  },
  {
   "cell_type": "markdown",
   "metadata": {},
   "source": [
    "### BFS和图的的最短路径\n",
    "#### leetcode 279 perfect squares"
   ]
  },
  {
   "cell_type": "code",
   "execution_count": 50,
   "metadata": {},
   "outputs": [],
   "source": [
    "class Solution:     \n",
    "    def numSquares(self,n):\n",
    "        if n<0:\n",
    "            return None\n",
    "        #建图\n",
    "        queue = [[n,0]]\n",
    "        visit = {i:False for i in range(n+1)}\n",
    "        visit[n]=True\n",
    "        while queue:\n",
    "            num,step = queue.pop(0)\n",
    "#            if (num==0):\n",
    "#                return step\n",
    "            i=1\n",
    "            while (num-i*i)>=0:\n",
    "                if (visit[num-i*i]==False):\n",
    "                    queue.append([num-i*i,step+1])\n",
    "                    visit[num-i*i]=True\n",
    "                i+=1\n",
    "s = Solution()\n",
    "s.numSquares(13)"
   ]
  },
  {
   "cell_type": "code",
   "execution_count": 51,
   "metadata": {},
   "outputs": [
    {
     "data": {
      "text/plain": [
       "2"
      ]
     },
     "execution_count": 51,
     "metadata": {},
     "output_type": "execute_result"
    }
   ],
   "source": [
    "class Solution:     \n",
    "    def numSquares(self,n):\n",
    "        if n<0:\n",
    "            return None\n",
    "        #建图\n",
    "        queue = [[n,0]]\n",
    "        visit = {i:False for i in range(n+1)}\n",
    "        visit[n]=True\n",
    "        while queue:\n",
    "            num,step = queue.pop(0)\n",
    "            i=1\n",
    "            while (num-i*i)>=0:\n",
    "                if num-i*i ==0:\n",
    "                    return step+1\n",
    "                if (visit[num-i*i]==False):\n",
    "                    queue.append([num-i*i,step+1])\n",
    "                    visit[num-i*i]=True\n",
    "                i+=1\n",
    "s = Solution()\n",
    "s.numSquares(13)"
   ]
  },
  {
   "cell_type": "markdown",
   "metadata": {},
   "source": [
    "#### leetcode 127 word ladder"
   ]
  },
  {
   "cell_type": "markdown",
   "metadata": {},
   "source": [
    "#### leetcode 126 word ladderII"
   ]
  },
  {
   "cell_type": "markdown",
   "metadata": {},
   "source": [
    "### 优先对列\n",
    "#### leetcode 347 前K个出现频率最高的元素"
   ]
  },
  {
   "cell_type": "code",
   "execution_count": null,
   "metadata": {},
   "outputs": [],
   "source": [
    "class Solution(object):\n",
    "    def topKFrequent(self, nums, k):\n",
    "        \"\"\"\n",
    "        :type nums: List[int]\n",
    "        :type k: int\n",
    "        :rtype: List[int]\n",
    "        \"\"\"\n",
    "        if not nums and k<0:\n",
    "            return None\n",
    "        fre = {}\n",
    "        for i in nums:\n",
    "            if i not in fre.keys():\n",
    "                fre[i]=0\n",
    "            fre[i] +=1\n",
    "        if k>len(fre):\n",
    "            return None\n",
    "        "
   ]
  },
  {
   "cell_type": "markdown",
   "metadata": {},
   "source": [
    "#### leetcode23 Merge k sorted list\n",
    "- 归并k个有序的数组"
   ]
  },
  {
   "cell_type": "markdown",
   "metadata": {},
   "source": [
    "## 二叉树和递归\n",
    "### 二叉树天然的递归结构\n",
    "#### leetcode104  求二叉树的深度"
   ]
  },
  {
   "cell_type": "code",
   "execution_count": 56,
   "metadata": {},
   "outputs": [
    {
     "data": {
      "text/plain": [
       "4"
      ]
     },
     "execution_count": 56,
     "metadata": {},
     "output_type": "execute_result"
    }
   ],
   "source": [
    "class Solution:     \n",
    "    def layer(self,root):\n",
    "        if root ==None:\n",
    "            return []\n",
    "        queue = [root]\n",
    "        result =[]\n",
    "        layer =0\n",
    "        while queue:\n",
    "            temp= [node.val for node in queue]\n",
    "            result.append(temp)\n",
    "            layer +=1\n",
    "            ret = []\n",
    "            for node in queue:\n",
    "            #node = queue.pop(0)\n",
    "                #ret.append(node.val)\n",
    "                if node.left:\n",
    "                    ret.append(node.left)\n",
    "                if node.right:\n",
    "                    ret.append(node.right)\n",
    "            queue = ret\n",
    "        return layer\n",
    "s =Solution()\n",
    "s.layer(pNode1)"
   ]
  },
  {
   "cell_type": "code",
   "execution_count": 57,
   "metadata": {},
   "outputs": [
    {
     "data": {
      "text/plain": [
       "4"
      ]
     },
     "execution_count": 57,
     "metadata": {},
     "output_type": "execute_result"
    }
   ],
   "source": [
    "class Solution(object):\n",
    "    def maxDepth(self, root):\n",
    "        if root ==None:\n",
    "            return 0\n",
    "        left =  self.maxDepth(root.left)+1\n",
    "        right = self.maxDepth(root.right)+1\n",
    "        return max(left,right)\n",
    "    \n",
    "s = Solution()\n",
    "s.maxDepth(pNode1)"
   ]
  },
  {
   "cell_type": "markdown",
   "metadata": {},
   "source": [
    "#### leetcode 111 二叉树的最低深度\n",
    "- 从根节点到叶子节点的最短路径"
   ]
  },
  {
   "cell_type": "markdown",
   "metadata": {},
   "source": [
    "### 一个简单的二叉树问题引发的血案 \n",
    "#### LeetCode226 Invert Binary Tree\n",
    "- 翻转二叉树\n"
   ]
  },
  {
   "cell_type": "code",
   "execution_count": 58,
   "metadata": {},
   "outputs": [
    {
     "data": {
      "text/plain": [
       "<__main__.TreeNode at 0x25c41da51d0>"
      ]
     },
     "execution_count": 58,
     "metadata": {},
     "output_type": "execute_result"
    }
   ],
   "source": [
    "class Solution(object):\n",
    "    def invertTree(self, root):\n",
    "        \"\"\"\n",
    "        :type root: TreeNode\n",
    "        :rtype: TreeNode\n",
    "        \"\"\"\n",
    "        if root ==None:\n",
    "            return 0\n",
    "        self.invertTree(root.left)\n",
    "        self.invertTree(root.right)\n",
    "        root.left,root.right = root.right,root.left\n",
    "        return root\n",
    "    \n",
    "s = Solution()\n",
    "s.invertTree(pNode1)"
   ]
  },
  {
   "cell_type": "markdown",
   "metadata": {},
   "source": [
    "#### leetcode 100 same Tree"
   ]
  },
  {
   "cell_type": "markdown",
   "metadata": {},
   "source": [
    "#### leetcode 101 对称二叉树"
   ]
  },
  {
   "cell_type": "markdown",
   "metadata": {},
   "source": [
    "#### leetcode222 完全二叉树的节点个数"
   ]
  },
  {
   "cell_type": "markdown",
   "metadata": {},
   "source": [
    "#### leetcode110 平衡二叉树"
   ]
  },
  {
   "cell_type": "markdown",
   "metadata": {},
   "source": [
    "### 注意递归的终止条件\n",
    "#### leetcode 112 path Sum"
   ]
  },
  {
   "cell_type": "code",
   "execution_count": null,
   "metadata": {},
   "outputs": [],
   "source": [
    "class Solution(object):\n",
    "    def hasPathSum(self, root, sum):\n",
    "        \"\"\"\n",
    "        :type root: TreeNode\n",
    "        :type sum: int\n",
    "        :rtype: bool\n",
    "        \"\"\"\n",
    "        if not root:\n",
    "            return False\n",
    "        if (root.left==None)and(root.right==None):#保证为叶子节点\n",
    "            return root.val==sum\n",
    "        return self.hasPathSum(root.left,sum-root.val)or self.hasPathSum(root.right,sum-root.val)"
   ]
  },
  {
   "cell_type": "markdown",
   "metadata": {},
   "source": [
    "#### leetcode 111 求二叉树的最低深度"
   ]
  },
  {
   "cell_type": "markdown",
   "metadata": {},
   "source": [
    "#### leetcode 404 所有左叶子的和"
   ]
  },
  {
   "cell_type": "markdown",
   "metadata": {},
   "source": [
    "### 定义递归问题 \n",
    "#### leetcode257 Binary Tree Path"
   ]
  },
  {
   "cell_type": "code",
   "execution_count": 105,
   "metadata": {},
   "outputs": [
    {
     "data": {
      "text/plain": [
       "['1->3->7', '1->3->6', '1->2->5', '1->2->4->9', '1->2->4->8']"
      ]
     },
     "execution_count": 105,
     "metadata": {},
     "output_type": "execute_result"
    }
   ],
   "source": [
    "# Definition for a binary tree node.\n",
    "# class TreeNode(object):\n",
    "#     def __init__(self, x):\n",
    "#         self.val = x\n",
    "#         self.left = None\n",
    "#         self.right = None\n",
    "\n",
    "class Solution:\n",
    "    # @param {TreeNode} root\n",
    "    # @return {string[]}\n",
    "    def binaryTreePaths(self, root):\n",
    "        res = []\n",
    "        if not root:\n",
    "            return res\n",
    "        if not root.left and not root.right:\n",
    "            res.append(str(root.val))\n",
    "            return res\n",
    "        for path in self.binaryTreePaths(root.left):\n",
    "            res.append(str(root.val) + '->' + path)\n",
    "        for path in self.binaryTreePaths(root.right):\n",
    "            res.append(str(root.val) + '->' + path)\n",
    "        return res\n",
    "    \n",
    "s = Solution()\n",
    "s.binaryTreePaths(pNode1)\n",
    "       "
   ]
  },
  {
   "cell_type": "markdown",
   "metadata": {},
   "source": [
    "#### leetcode 113 path sumII"
   ]
  },
  {
   "cell_type": "markdown",
   "metadata": {},
   "source": [
    "#### leetcode 129 sum root to leaf numbers"
   ]
  },
  {
   "cell_type": "markdown",
   "metadata": {},
   "source": [
    "### 稍复杂的递归逻辑 \n",
    "#### leetcode437 Path Sum III"
   ]
  },
  {
   "cell_type": "code",
   "execution_count": null,
   "metadata": {},
   "outputs": [],
   "source": [
    "class Solution(object):\n",
    "    #在root为根的二叉树树中，寻找和为sum的路径，返回这样的路径的个数\n",
    "    def pathSum(self, root, sum):\n",
    "        if not root:\n",
    "            return 0\n",
    "        res  = self.findPath(root,sum)\n",
    "        res +=pathSum(root.left,sum)\n",
    "        res +=pathSum(root.right,sum)\n",
    "        return res\n",
    "    #寻找以node为根节点的二叉树中的以node为节点，和为num\n",
    "    #返回路径个数\n",
    "    def findPath(self,node,num):\n",
    "        if not root:\n",
    "            return 0\n",
    "        res=0\n",
    "        if(node.val==num):\n",
    "            res += 1\n",
    "        res +=self.findPath(node.left,num-node.val)\n",
    "        res +=self.findPath(node.right,num-node.val)\n",
    "        return res"
   ]
  },
  {
   "cell_type": "markdown",
   "metadata": {},
   "source": [
    "### 二分搜索树中的问题 \n",
    "#### leetcode235  Lowest Common "
   ]
  },
  {
   "cell_type": "code",
   "execution_count": null,
   "metadata": {},
   "outputs": [],
   "source": [
    "class Solution(object):\n",
    "    def lowestCommonAncestor(self, root, p, q):\n",
    "        \"\"\"\n",
    "        :type root: TreeNode\n",
    "        :type p: TreeNode\n",
    "        :type q: TreeNode\n",
    "        :rtype: TreeNode\n",
    "        \"\"\"\n",
    "        if not p and not q:\n",
    "            return None\n",
    "        if not root:\n",
    "            return None\n",
    "        if (p.val<root.val and q.val<root.val):\n",
    "            return self,lowestCommonAncestor(root.left,p,q)\n",
    "        if (p.val>root.val and q.val>root.val):\n",
    "            return self,lowestCommonAncestor(root.right,p,q)\n",
    "        return root"
   ]
  },
  {
   "cell_type": "markdown",
   "metadata": {},
   "source": [
    "#### leetcode 98 验证一棵树为二分搜索树\n",
    "#### leetcode 450 删除二分搜索树的一个节点\n",
    "#### leetcde  108 将有序数组变成二分搜素树\n",
    "#### leetcode 230 寻找第k小的元素\n",
    "#### leetcode 236 一个二叉树寻找公共祖先"
   ]
  },
  {
   "cell_type": "markdown",
   "metadata": {},
   "source": [
    "## 递归和回溯\n",
    "### 树形问题\n",
    "#### leetcode 17 给出一个数字字符串，返回数字字符表示的所有字母的组合"
   ]
  },
  {
   "cell_type": "code",
   "execution_count": 117,
   "metadata": {},
   "outputs": [
    {
     "name": "stdout",
     "output_type": "stream",
     "text": [
      "get:ad return\n",
      "get:ae return\n",
      "get:af return\n",
      "get:bd return\n",
      "get:be return\n",
      "get:bf return\n",
      "get:cd return\n",
      "get:ce return\n",
      "get:cf return\n"
     ]
    },
    {
     "data": {
      "text/plain": [
       "['ad', 'ae', 'af', 'bd', 'be', 'bf', 'cd', 'ce', 'cf']"
      ]
     },
     "execution_count": 117,
     "metadata": {},
     "output_type": "execute_result"
    }
   ],
   "source": [
    "class Solution:\n",
    "    # @return a list of strings, [s1, s2]\n",
    "    def letterCombinations(self, digits):\n",
    "        if digits == '':\n",
    "            return []\n",
    "        self.dict={'2':['a','b','c'],\n",
    "              '3':['d','e','f'],\n",
    "              '4':['g','h','i'],\n",
    "              '5':['j','k','l'],\n",
    "              '6':['m','n','o'],\n",
    "              '7':['p','q','r','s'],\n",
    "              '8':['t','u','v'],\n",
    "              '9':['w','x','y','z']}\n",
    "        solution=[]\n",
    "        self.dfs(0,solution,\"\",digits)\n",
    "        return solution\n",
    "    \n",
    "    def dfs(self,num,res,substr,digits):\n",
    "        if num==len(digits):\n",
    "            res.append(substr)\n",
    "            print('get:{} return'.format(substr))\n",
    "            return\n",
    "        for letter in self.dict[digits[num]]:\n",
    "            self.dfs(num+1,res,substr+letter,digits)\n",
    "s = Solution()\n",
    "s.letterCombinations('23')"
   ]
  },
  {
   "cell_type": "markdown",
   "metadata": {},
   "source": [
    "#### leetcode93 Restore IP addresses\n",
    "#### leetcode131 拆分回文字符串\n",
    "### 排列问题\n",
    "#### leetcode93 全排列"
   ]
  },
  {
   "cell_type": "code",
   "execution_count": 155,
   "metadata": {},
   "outputs": [
    {
     "name": "stdout",
     "output_type": "stream",
     "text": [
      "result:[[1, 2, 3], [1, 3, 2], [2, 1, 3], [2, 3, 1], [3, 1, 2], [3, 2, 1]]\n",
      "time:0.007994890213012695\n"
     ]
    }
   ],
   "source": [
    "class Solution(object):\n",
    "    def premute(self, n):\n",
    "        \"\"\"\n",
    "        :type n: int\n",
    "        :type k: int\n",
    "        :rtype: List[List[int]]\n",
    "        \"\"\"\n",
    "        if not n:\n",
    "            return res\n",
    "        res = []\n",
    "        used = [False]*len(n)\n",
    "        self.rec(res, 0, n,[],used)\n",
    "        return res\n",
    "    def rec(self, res, i, n, temp,used) :\n",
    "        if len(temp) == len(n) :\n",
    "            res.append(temp)\n",
    "            return\n",
    "        for j in range(len(n)):\n",
    "            if used[j]==False:\n",
    "                used[j]=True\n",
    "                self.rec(res, j, n, temp+[n[j]],used)\n",
    "                used[j]=False\n",
    "\n",
    "s = Solution()\n",
    "start = time.time()\n",
    "result = s.premute([1,2,3])\n",
    "end = time.time()\n",
    "print(\"result:{}\\ntime:{}\".format(result,end-start))"
   ]
  },
  {
   "cell_type": "markdown",
   "metadata": {},
   "source": [
    "#### leetcode 47 permutatainsII"
   ]
  },
  {
   "cell_type": "markdown",
   "metadata": {},
   "source": [
    "### 组合问题\n",
    "#### leetcode77 组合\n"
   ]
  },
  {
   "cell_type": "code",
   "execution_count": 160,
   "metadata": {},
   "outputs": [
    {
     "name": "stdout",
     "output_type": "stream",
     "text": [
      "result:[[1, 2], [1, 3], [1, 4], [1, 5], [1, 6], [1, 7], [1, 8], [1, 9], [1, 10], [2, 3], [2, 4], [2, 5], [2, 6], [2, 7], [2, 8], [2, 9], [2, 10], [3, 4], [3, 5], [3, 6], [3, 7], [3, 8], [3, 9], [3, 10], [4, 5], [4, 6], [4, 7], [4, 8], [4, 9], [4, 10], [5, 6], [5, 7], [5, 8], [5, 9], [5, 10], [6, 7], [6, 8], [6, 9], [6, 10], [7, 8], [7, 9], [7, 10], [8, 9], [8, 10], [9, 10]]\n",
      "time:0.0009989738464355469\n"
     ]
    }
   ],
   "source": [
    "class Solution(object):\n",
    "    def combine(self, n, k):\n",
    "        \"\"\"\n",
    "        :type n: int\n",
    "        :type k: int\n",
    "        :rtype: List[List[int]]\n",
    "        \"\"\"\n",
    "        res = []\n",
    "        self.rec(res, 0, n, k, [])\n",
    "        return res\n",
    "    def rec(self, res, i, n, k, temp) :\n",
    "        if k == 0 :\n",
    "            res.append(temp)\n",
    "            return\n",
    "        # 还要k-len(c)的空位，所有，【1,2,3,4，】\n",
    "        for j in range(i+1, n+1) :\n",
    "            self.rec(res, j, n, k-1, temp+[j])\n",
    "\n",
    "s = Solution()\n",
    "start = time.time()\n",
    "result = s.combine(10,2)\n",
    "end = time.time()\n",
    "print(\"result:{}\\ntime:{}\".format(result,end-start))"
   ]
  },
  {
   "cell_type": "markdown",
   "metadata": {},
   "source": [
    "### 组合问题优化-剪枝"
   ]
  },
  {
   "cell_type": "code",
   "execution_count": 165,
   "metadata": {},
   "outputs": [
    {
     "name": "stdout",
     "output_type": "stream",
     "text": [
      "result:[[1, 2], [1, 3], [1, 4], [2, 3], [2, 4], [3, 4]]\n",
      "time:0.0\n"
     ]
    }
   ],
   "source": [
    "class Solution(object):\n",
    "    def combine(self, n, k):\n",
    "        \"\"\"\n",
    "        :type n: int\n",
    "        :type k: int\n",
    "        :rtype: List[List[int]]\n",
    "        \"\"\"\n",
    "        res = []\n",
    "        self.rec(res, 0, n, k, [])\n",
    "        return res\n",
    "    def rec(self, res, i, n, k, temp) :\n",
    "        if k == 0 :\n",
    "            res.append(temp)\n",
    "            return\n",
    "        # 还要k-len(c)的空位，所有，【1,2,3,4，】\n",
    "        for j in range(i+1, n+1) :\n",
    "            self.rec(res, j, n, k-1, temp+[j])\n",
    "\n",
    "s = Solution()\n",
    "start = time.time()\n",
    "result = s.combine(4,2)\n",
    "end = time.time()\n",
    "print(\"result:{}\\ntime:{}\".format(result,end-start))"
   ]
  },
  {
   "cell_type": "markdown",
   "metadata": {},
   "source": [
    "#### leetcode 39 combination Sum\n",
    "#### leetcode 40 combination Sum II\n",
    "#### leetcode 216 combination Sum III\n",
    "#### leetcode 78 subset\n",
    "#### leetcode 90 suset II\n",
    "#### leetcode 401 二进制表"
   ]
  },
  {
   "cell_type": "markdown",
   "metadata": {},
   "source": [
    "### 二维平面使用回溯法\n",
    "#### 79 word Search"
   ]
  },
  {
   "cell_type": "code",
   "execution_count": 176,
   "metadata": {},
   "outputs": [
    {
     "data": {
      "text/plain": [
       "False"
      ]
     },
     "execution_count": 176,
     "metadata": {},
     "output_type": "execute_result"
    }
   ],
   "source": [
    "class Solution(object):\n",
    "    def __init__(self):\n",
    "        self.d = [[-1,0],[0,1],[1,0],[0,-1]]\n",
    "        self.m = 0\n",
    "        self.n = 0\n",
    "    def exist(self, board, word):\n",
    "        self.m,self.n = len(board),len(board[0])\n",
    "        visited = [[False] * self.n for row in range(self.m)]\n",
    "        for i in range(len(board)):\n",
    "            for j in range(len(board[0])):\n",
    "                if(self.searchWord(board,word,0,i,j,visited)):\n",
    "                    return True\n",
    "        return False\n",
    "                \n",
    "    #从board[startx][starty]开始，寻找word[index]\n",
    "    def searchWord(self,board,word,index,startx,starty,visited):\n",
    "        #寻找字符串的最后一个字符\n",
    "        if (index==len(word)-1):\n",
    "            return board[startx][starty]== word[index]\n",
    "        if board[startx][starty]== word[index]:\n",
    "            #从startx,starty出发，向四个方向寻找\n",
    "            visited[startx][starty] = True\n",
    "            for i in range(4):\n",
    "                newx = startx + self.d[i][0]\n",
    "                newy = starty + self.d[i][1]\n",
    "                if (self.inArea(newx,newy)and (visited[newx][newy]==False)\n",
    "                    and(self.searchWord(board,word,index+1,newx,newy,visited))):\n",
    "                    return True\n",
    "            visited[startx][starty] = False     \n",
    "        return False\n",
    "    def inArea(self,x,y):\n",
    "        return x>=0 and x<self.m and y>=0 and y<self.n\n",
    "board =[\n",
    "  ['A','B','C','E'],\n",
    "  ['S','F','C','S'],\n",
    "  ['A','D','E','E']\n",
    "]\n",
    "word = \"ABCSED\"\n",
    "s = Solution()\n",
    "s.exist(board,word)\n",
    "        \n",
    "        "
   ]
  },
  {
   "cell_type": "markdown",
   "metadata": {},
   "source": [
    "#### leetcode 200 number of islands"
   ]
  },
  {
   "cell_type": "code",
   "execution_count": 181,
   "metadata": {},
   "outputs": [
    {
     "data": {
      "text/plain": [
       "1"
      ]
     },
     "execution_count": 181,
     "metadata": {},
     "output_type": "execute_result"
    }
   ],
   "source": [
    "class Solution(object):\n",
    "    def __init__(self):\n",
    "        self.d = [[-1,0],[0,1],[1,0],[0,-1]]\n",
    "        self.m = 0\n",
    "        self.n = 0\n",
    "    def inArea(self,x,y):\n",
    "        return x>=0 and x<self.m and y>=0 and y<self.n\n",
    "    #从grid[i][j]开始floodfill\n",
    "    # 保证（x，y）合法\n",
    "    def dfs(self,grid,i,j,visited):\n",
    "        visited[i][j]=True\n",
    "        for n in range(4):\n",
    "            newx = i + self.d[n][0]\n",
    "            newy = j + self.d[n][1]\n",
    "            if (self.inArea(newx,newy)and (visited[newx][newy]==False)\n",
    "                and grid[newx][newy]=='1'):\n",
    "                self.dfs(grid,newx,newy,visited)\n",
    "        return \n",
    "    \n",
    "    def numIslands(self, grid):\n",
    "        self.m,self.n = len(grid),len(grid[0])\n",
    "        if self.m ==0:\n",
    "            return 0\n",
    "        visited = [[False] * self.n for row in range(self.m)]\n",
    "        res = 0#存储island的个数\n",
    "        for i in range(len(grid)):\n",
    "            for j in range(len(grid[0])):\n",
    "                if(grid[i][j]=='1' and visited[i][j]==False):\n",
    "                    res +=1\n",
    "                    self.dfs(grid,i,j,visited)\n",
    "        return res\n",
    "grid = [[\"1\",\"1\",\"1\",\"1\",\"0\"],\n",
    "        ['1','1','0','1','0'],\n",
    "        ['1','1','0','0','0'],\n",
    "        ['0','0','0','0','0']]                    \n",
    "s = Solution()\n",
    "s.numIslands(grid)"
   ]
  },
  {
   "cell_type": "markdown",
   "metadata": {},
   "source": [
    "#### leetcode 130 surrounded regions\n",
    "#### leetcode 417 太平洋和大西洋的水的流动\n",
    "### 回溯法为经典人工智能的基础\n",
    "#### leetcode 51 八皇后问题"
   ]
  },
  {
   "cell_type": "code",
   "execution_count": null,
   "metadata": {},
   "outputs": [],
   "source": [
    "class Solution(object):\n",
    "    def __init__(self):\n",
    "        self.res = []\n",
    "        self.col = []\n",
    "        self.dia1 = []\n",
    "        self.dia2 = []\n",
    "    #尝试在一个n皇后问题中，摆放第index行的皇后的位置\n",
    "    def putQueen(self,n,index,row):\n",
    "        if index ==n:\n",
    "            self.res.append(generaBoard(n,row))\n",
    "            return\n",
    "        for i in range(n):\n",
    "            if(self.col[i]==False and dia1[index+1]==False and dia2[index-i+n-1]==False):\n",
    "                row.append(i)\n",
    "                col[i]=True\n",
    "                dia1[index+1]=True\n",
    "                dia2[index-i+n-1]=False\n",
    "                self.\n",
    "            \n",
    "        \n",
    "            \n",
    "    def solveNQueens(self, n):\n",
    "        row = []\n",
    "        self.col = [False]*n\n",
    "        self.dia1 = [False]*(2*n-1)\n",
    "        self,dia2 = [False]*(2*n-1)\n",
    "        putQueen(n,0,row)\n",
    "        "
   ]
  },
  {
   "cell_type": "markdown",
   "metadata": {},
   "source": [
    "#### leetcode52 N-queens II \n",
    "#### leet 37 求解数独问题"
   ]
  },
  {
   "cell_type": "markdown",
   "metadata": {},
   "source": [
    "## 动态规划\n",
    "### 第一个动态规划问题 \n",
    "#### leetcode 70 Climbing Stairs"
   ]
  },
  {
   "cell_type": "code",
   "execution_count": 183,
   "metadata": {},
   "outputs": [
    {
     "name": "stdout",
     "output_type": "stream",
     "text": [
      "result:165580141\n",
      "time:35.71547484397888\n"
     ]
    }
   ],
   "source": [
    "class Solution(object):\n",
    "    def clingstairs(self,n):\n",
    "        return self.calcWays(n)\n",
    "    def calcWays(self,n):\n",
    "        if (n==1):\n",
    "            return 1\n",
    "        if (n==2):\n",
    "            return 2\n",
    "        return self.calcWays(n-1)+self.calcWays(n-2)\n",
    "s = Solution()\n",
    "start = time.time()\n",
    "result = s.clingstairs(40)\n",
    "end = time.time()\n",
    "print(\"result:{}\\ntime:{}\".format(result,end-start))"
   ]
  },
  {
   "cell_type": "code",
   "execution_count": 184,
   "metadata": {},
   "outputs": [
    {
     "name": "stdout",
     "output_type": "stream",
     "text": [
      "result:165580141\n",
      "time:0.0\n"
     ]
    }
   ],
   "source": [
    "# 第一种改进，记忆化搜索\n",
    "class Solution(object):\n",
    "    def clingstairs(self,n):\n",
    "        self.memo = [-1]*(n+1)\n",
    "        return self.calcWays(n)\n",
    "    def calcWays(self,n):\n",
    "        if (n==1):\n",
    "            return 1\n",
    "        if (n==2):\n",
    "            return 2\n",
    "        if self.memo[n]==-1:\n",
    "            self.memo[n]= self.calcWays(n-1)+self.calcWays(n-2)\n",
    "        return self.memo[n]\n",
    "s = Solution()\n",
    "start = time.time()\n",
    "result = s.clingstairs(40)\n",
    "end = time.time()\n",
    "print(\"result:{}\\ntime:{}\".format(result,end-start))"
   ]
  },
  {
   "cell_type": "code",
   "execution_count": 185,
   "metadata": {},
   "outputs": [
    {
     "name": "stdout",
     "output_type": "stream",
     "text": [
      "result:165580141\n",
      "time:0.0\n"
     ]
    }
   ],
   "source": [
    "# 第二种改进，动态规划\n",
    "class Solution(object):\n",
    "    def clingstairs(self,n):\n",
    "        memo = [-1]*(n+1)\n",
    "        memo[0],memo[1] = 1,1\n",
    "        for n in range(2,n+1):\n",
    "            memo[n]= memo[n-1]+memo[n-2]\n",
    "        return memo[n]\n",
    "import time\n",
    "s = Solution()\n",
    "start = time.time()\n",
    "result = s.clingstairs(40)\n",
    "end = time.time()\n",
    "print(\"result:{}\\ntime:{}\".format(result,end-start))"
   ]
  },
  {
   "cell_type": "markdown",
   "metadata": {},
   "source": [
    "#### leetcode342 整数分割"
   ]
  },
  {
   "cell_type": "code",
   "execution_count": 213,
   "metadata": {},
   "outputs": [
    {
     "name": "stdout",
     "output_type": "stream",
     "text": [
      "9\n",
      "8\n",
      "7\n",
      "6\n",
      "5\n",
      "4\n",
      "3\n",
      "2\n",
      "1\n"
     ]
    },
    {
     "ename": "TypeError",
     "evalue": "unsupported operand type(s) for *: 'int' and 'NoneType'",
     "output_type": "error",
     "traceback": [
      "\u001b[1;31m---------------------------------------------------------------------------\u001b[0m",
      "\u001b[1;31mTypeError\u001b[0m                                 Traceback (most recent call last)",
      "\u001b[1;32m<ipython-input-213-31c5d18a8dc7>\u001b[0m in \u001b[0;36m<module>\u001b[1;34m()\u001b[0m\n\u001b[0;32m     17\u001b[0m         \u001b[1;32mreturn\u001b[0m \u001b[0mself\u001b[0m\u001b[1;33m.\u001b[0m\u001b[0mbreakInteger\u001b[0m\u001b[1;33m(\u001b[0m\u001b[0mn\u001b[0m\u001b[1;33m,\u001b[0m\u001b[0mmemo\u001b[0m\u001b[1;33m)\u001b[0m\u001b[1;33m\u001b[0m\u001b[0m\n\u001b[0;32m     18\u001b[0m \u001b[0ms\u001b[0m \u001b[1;33m=\u001b[0m \u001b[0mSolution\u001b[0m\u001b[1;33m(\u001b[0m\u001b[1;33m)\u001b[0m\u001b[1;33m\u001b[0m\u001b[0m\n\u001b[1;32m---> 19\u001b[1;33m \u001b[0ms\u001b[0m\u001b[1;33m.\u001b[0m\u001b[0mintegerBreak\u001b[0m\u001b[1;33m(\u001b[0m\u001b[1;36m10\u001b[0m\u001b[1;33m)\u001b[0m\u001b[1;33m\u001b[0m\u001b[0m\n\u001b[0m",
      "\u001b[1;32m<ipython-input-213-31c5d18a8dc7>\u001b[0m in \u001b[0;36mintegerBreak\u001b[1;34m(self, n)\u001b[0m\n\u001b[0;32m     15\u001b[0m         \u001b[0mmemo\u001b[0m \u001b[1;33m=\u001b[0m \u001b[1;33m[\u001b[0m\u001b[1;33m-\u001b[0m\u001b[1;36m1\u001b[0m\u001b[1;33m]\u001b[0m\u001b[1;33m*\u001b[0m\u001b[1;33m(\u001b[0m\u001b[0mn\u001b[0m\u001b[1;33m+\u001b[0m\u001b[1;36m1\u001b[0m\u001b[1;33m)\u001b[0m\u001b[1;33m\u001b[0m\u001b[0m\n\u001b[0;32m     16\u001b[0m         \u001b[0mmemo\u001b[0m\u001b[1;33m[\u001b[0m\u001b[1;36m1\u001b[0m\u001b[1;33m]\u001b[0m\u001b[1;33m=\u001b[0m\u001b[1;36m1\u001b[0m\u001b[1;33m\u001b[0m\u001b[0m\n\u001b[1;32m---> 17\u001b[1;33m         \u001b[1;32mreturn\u001b[0m \u001b[0mself\u001b[0m\u001b[1;33m.\u001b[0m\u001b[0mbreakInteger\u001b[0m\u001b[1;33m(\u001b[0m\u001b[0mn\u001b[0m\u001b[1;33m,\u001b[0m\u001b[0mmemo\u001b[0m\u001b[1;33m)\u001b[0m\u001b[1;33m\u001b[0m\u001b[0m\n\u001b[0m\u001b[0;32m     18\u001b[0m \u001b[0ms\u001b[0m \u001b[1;33m=\u001b[0m \u001b[0mSolution\u001b[0m\u001b[1;33m(\u001b[0m\u001b[1;33m)\u001b[0m\u001b[1;33m\u001b[0m\u001b[0m\n\u001b[0;32m     19\u001b[0m \u001b[0ms\u001b[0m\u001b[1;33m.\u001b[0m\u001b[0mintegerBreak\u001b[0m\u001b[1;33m(\u001b[0m\u001b[1;36m10\u001b[0m\u001b[1;33m)\u001b[0m\u001b[1;33m\u001b[0m\u001b[0m\n",
      "\u001b[1;32m<ipython-input-213-31c5d18a8dc7>\u001b[0m in \u001b[0;36mbreakInteger\u001b[1;34m(self, n, memo)\u001b[0m\n\u001b[0;32m      9\u001b[0m         \u001b[1;32mfor\u001b[0m \u001b[0mi\u001b[0m \u001b[1;32min\u001b[0m \u001b[0mrange\u001b[0m\u001b[1;33m(\u001b[0m\u001b[1;36m1\u001b[0m\u001b[1;33m,\u001b[0m\u001b[0mn\u001b[0m\u001b[1;33m)\u001b[0m\u001b[1;33m:\u001b[0m\u001b[1;33m\u001b[0m\u001b[0m\n\u001b[0;32m     10\u001b[0m             \u001b[0mprint\u001b[0m\u001b[1;33m(\u001b[0m\u001b[0mn\u001b[0m\u001b[1;33m-\u001b[0m\u001b[0mi\u001b[0m\u001b[1;33m)\u001b[0m\u001b[1;33m\u001b[0m\u001b[0m\n\u001b[1;32m---> 11\u001b[1;33m             \u001b[0mres\u001b[0m \u001b[1;33m=\u001b[0m \u001b[0mmax\u001b[0m\u001b[1;33m(\u001b[0m\u001b[0mres\u001b[0m\u001b[1;33m,\u001b[0m\u001b[0mi\u001b[0m\u001b[1;33m*\u001b[0m\u001b[1;33m(\u001b[0m\u001b[0mn\u001b[0m\u001b[1;33m-\u001b[0m\u001b[0mi\u001b[0m\u001b[1;33m)\u001b[0m\u001b[1;33m,\u001b[0m\u001b[0mi\u001b[0m\u001b[1;33m*\u001b[0m\u001b[0mself\u001b[0m\u001b[1;33m.\u001b[0m\u001b[0mbreakInteger\u001b[0m\u001b[1;33m(\u001b[0m\u001b[0mn\u001b[0m\u001b[1;33m-\u001b[0m\u001b[0mi\u001b[0m\u001b[1;33m,\u001b[0m\u001b[0mmemo\u001b[0m\u001b[1;33m)\u001b[0m\u001b[1;33m)\u001b[0m\u001b[1;33m\u001b[0m\u001b[0m\n\u001b[0m\u001b[0;32m     12\u001b[0m             \u001b[0mmemo\u001b[0m\u001b[1;33m[\u001b[0m\u001b[0mn\u001b[0m\u001b[1;33m]\u001b[0m \u001b[1;33m=\u001b[0m \u001b[0mres\u001b[0m\u001b[1;33m\u001b[0m\u001b[0m\n\u001b[0;32m     13\u001b[0m \u001b[1;33m\u001b[0m\u001b[0m\n",
      "\u001b[1;32m<ipython-input-213-31c5d18a8dc7>\u001b[0m in \u001b[0;36mbreakInteger\u001b[1;34m(self, n, memo)\u001b[0m\n\u001b[0;32m      9\u001b[0m         \u001b[1;32mfor\u001b[0m \u001b[0mi\u001b[0m \u001b[1;32min\u001b[0m \u001b[0mrange\u001b[0m\u001b[1;33m(\u001b[0m\u001b[1;36m1\u001b[0m\u001b[1;33m,\u001b[0m\u001b[0mn\u001b[0m\u001b[1;33m)\u001b[0m\u001b[1;33m:\u001b[0m\u001b[1;33m\u001b[0m\u001b[0m\n\u001b[0;32m     10\u001b[0m             \u001b[0mprint\u001b[0m\u001b[1;33m(\u001b[0m\u001b[0mn\u001b[0m\u001b[1;33m-\u001b[0m\u001b[0mi\u001b[0m\u001b[1;33m)\u001b[0m\u001b[1;33m\u001b[0m\u001b[0m\n\u001b[1;32m---> 11\u001b[1;33m             \u001b[0mres\u001b[0m \u001b[1;33m=\u001b[0m \u001b[0mmax\u001b[0m\u001b[1;33m(\u001b[0m\u001b[0mres\u001b[0m\u001b[1;33m,\u001b[0m\u001b[0mi\u001b[0m\u001b[1;33m*\u001b[0m\u001b[1;33m(\u001b[0m\u001b[0mn\u001b[0m\u001b[1;33m-\u001b[0m\u001b[0mi\u001b[0m\u001b[1;33m)\u001b[0m\u001b[1;33m,\u001b[0m\u001b[0mi\u001b[0m\u001b[1;33m*\u001b[0m\u001b[0mself\u001b[0m\u001b[1;33m.\u001b[0m\u001b[0mbreakInteger\u001b[0m\u001b[1;33m(\u001b[0m\u001b[0mn\u001b[0m\u001b[1;33m-\u001b[0m\u001b[0mi\u001b[0m\u001b[1;33m,\u001b[0m\u001b[0mmemo\u001b[0m\u001b[1;33m)\u001b[0m\u001b[1;33m)\u001b[0m\u001b[1;33m\u001b[0m\u001b[0m\n\u001b[0m\u001b[0;32m     12\u001b[0m             \u001b[0mmemo\u001b[0m\u001b[1;33m[\u001b[0m\u001b[0mn\u001b[0m\u001b[1;33m]\u001b[0m \u001b[1;33m=\u001b[0m \u001b[0mres\u001b[0m\u001b[1;33m\u001b[0m\u001b[0m\n\u001b[0;32m     13\u001b[0m \u001b[1;33m\u001b[0m\u001b[0m\n",
      "\u001b[1;32m<ipython-input-213-31c5d18a8dc7>\u001b[0m in \u001b[0;36mbreakInteger\u001b[1;34m(self, n, memo)\u001b[0m\n\u001b[0;32m      9\u001b[0m         \u001b[1;32mfor\u001b[0m \u001b[0mi\u001b[0m \u001b[1;32min\u001b[0m \u001b[0mrange\u001b[0m\u001b[1;33m(\u001b[0m\u001b[1;36m1\u001b[0m\u001b[1;33m,\u001b[0m\u001b[0mn\u001b[0m\u001b[1;33m)\u001b[0m\u001b[1;33m:\u001b[0m\u001b[1;33m\u001b[0m\u001b[0m\n\u001b[0;32m     10\u001b[0m             \u001b[0mprint\u001b[0m\u001b[1;33m(\u001b[0m\u001b[0mn\u001b[0m\u001b[1;33m-\u001b[0m\u001b[0mi\u001b[0m\u001b[1;33m)\u001b[0m\u001b[1;33m\u001b[0m\u001b[0m\n\u001b[1;32m---> 11\u001b[1;33m             \u001b[0mres\u001b[0m \u001b[1;33m=\u001b[0m \u001b[0mmax\u001b[0m\u001b[1;33m(\u001b[0m\u001b[0mres\u001b[0m\u001b[1;33m,\u001b[0m\u001b[0mi\u001b[0m\u001b[1;33m*\u001b[0m\u001b[1;33m(\u001b[0m\u001b[0mn\u001b[0m\u001b[1;33m-\u001b[0m\u001b[0mi\u001b[0m\u001b[1;33m)\u001b[0m\u001b[1;33m,\u001b[0m\u001b[0mi\u001b[0m\u001b[1;33m*\u001b[0m\u001b[0mself\u001b[0m\u001b[1;33m.\u001b[0m\u001b[0mbreakInteger\u001b[0m\u001b[1;33m(\u001b[0m\u001b[0mn\u001b[0m\u001b[1;33m-\u001b[0m\u001b[0mi\u001b[0m\u001b[1;33m,\u001b[0m\u001b[0mmemo\u001b[0m\u001b[1;33m)\u001b[0m\u001b[1;33m)\u001b[0m\u001b[1;33m\u001b[0m\u001b[0m\n\u001b[0m\u001b[0;32m     12\u001b[0m             \u001b[0mmemo\u001b[0m\u001b[1;33m[\u001b[0m\u001b[0mn\u001b[0m\u001b[1;33m]\u001b[0m \u001b[1;33m=\u001b[0m \u001b[0mres\u001b[0m\u001b[1;33m\u001b[0m\u001b[0m\n\u001b[0;32m     13\u001b[0m \u001b[1;33m\u001b[0m\u001b[0m\n",
      "\u001b[1;32m<ipython-input-213-31c5d18a8dc7>\u001b[0m in \u001b[0;36mbreakInteger\u001b[1;34m(self, n, memo)\u001b[0m\n\u001b[0;32m      9\u001b[0m         \u001b[1;32mfor\u001b[0m \u001b[0mi\u001b[0m \u001b[1;32min\u001b[0m \u001b[0mrange\u001b[0m\u001b[1;33m(\u001b[0m\u001b[1;36m1\u001b[0m\u001b[1;33m,\u001b[0m\u001b[0mn\u001b[0m\u001b[1;33m)\u001b[0m\u001b[1;33m:\u001b[0m\u001b[1;33m\u001b[0m\u001b[0m\n\u001b[0;32m     10\u001b[0m             \u001b[0mprint\u001b[0m\u001b[1;33m(\u001b[0m\u001b[0mn\u001b[0m\u001b[1;33m-\u001b[0m\u001b[0mi\u001b[0m\u001b[1;33m)\u001b[0m\u001b[1;33m\u001b[0m\u001b[0m\n\u001b[1;32m---> 11\u001b[1;33m             \u001b[0mres\u001b[0m \u001b[1;33m=\u001b[0m \u001b[0mmax\u001b[0m\u001b[1;33m(\u001b[0m\u001b[0mres\u001b[0m\u001b[1;33m,\u001b[0m\u001b[0mi\u001b[0m\u001b[1;33m*\u001b[0m\u001b[1;33m(\u001b[0m\u001b[0mn\u001b[0m\u001b[1;33m-\u001b[0m\u001b[0mi\u001b[0m\u001b[1;33m)\u001b[0m\u001b[1;33m,\u001b[0m\u001b[0mi\u001b[0m\u001b[1;33m*\u001b[0m\u001b[0mself\u001b[0m\u001b[1;33m.\u001b[0m\u001b[0mbreakInteger\u001b[0m\u001b[1;33m(\u001b[0m\u001b[0mn\u001b[0m\u001b[1;33m-\u001b[0m\u001b[0mi\u001b[0m\u001b[1;33m,\u001b[0m\u001b[0mmemo\u001b[0m\u001b[1;33m)\u001b[0m\u001b[1;33m)\u001b[0m\u001b[1;33m\u001b[0m\u001b[0m\n\u001b[0m\u001b[0;32m     12\u001b[0m             \u001b[0mmemo\u001b[0m\u001b[1;33m[\u001b[0m\u001b[0mn\u001b[0m\u001b[1;33m]\u001b[0m \u001b[1;33m=\u001b[0m \u001b[0mres\u001b[0m\u001b[1;33m\u001b[0m\u001b[0m\n\u001b[0;32m     13\u001b[0m \u001b[1;33m\u001b[0m\u001b[0m\n",
      "\u001b[1;32m<ipython-input-213-31c5d18a8dc7>\u001b[0m in \u001b[0;36mbreakInteger\u001b[1;34m(self, n, memo)\u001b[0m\n\u001b[0;32m      9\u001b[0m         \u001b[1;32mfor\u001b[0m \u001b[0mi\u001b[0m \u001b[1;32min\u001b[0m \u001b[0mrange\u001b[0m\u001b[1;33m(\u001b[0m\u001b[1;36m1\u001b[0m\u001b[1;33m,\u001b[0m\u001b[0mn\u001b[0m\u001b[1;33m)\u001b[0m\u001b[1;33m:\u001b[0m\u001b[1;33m\u001b[0m\u001b[0m\n\u001b[0;32m     10\u001b[0m             \u001b[0mprint\u001b[0m\u001b[1;33m(\u001b[0m\u001b[0mn\u001b[0m\u001b[1;33m-\u001b[0m\u001b[0mi\u001b[0m\u001b[1;33m)\u001b[0m\u001b[1;33m\u001b[0m\u001b[0m\n\u001b[1;32m---> 11\u001b[1;33m             \u001b[0mres\u001b[0m \u001b[1;33m=\u001b[0m \u001b[0mmax\u001b[0m\u001b[1;33m(\u001b[0m\u001b[0mres\u001b[0m\u001b[1;33m,\u001b[0m\u001b[0mi\u001b[0m\u001b[1;33m*\u001b[0m\u001b[1;33m(\u001b[0m\u001b[0mn\u001b[0m\u001b[1;33m-\u001b[0m\u001b[0mi\u001b[0m\u001b[1;33m)\u001b[0m\u001b[1;33m,\u001b[0m\u001b[0mi\u001b[0m\u001b[1;33m*\u001b[0m\u001b[0mself\u001b[0m\u001b[1;33m.\u001b[0m\u001b[0mbreakInteger\u001b[0m\u001b[1;33m(\u001b[0m\u001b[0mn\u001b[0m\u001b[1;33m-\u001b[0m\u001b[0mi\u001b[0m\u001b[1;33m,\u001b[0m\u001b[0mmemo\u001b[0m\u001b[1;33m)\u001b[0m\u001b[1;33m)\u001b[0m\u001b[1;33m\u001b[0m\u001b[0m\n\u001b[0m\u001b[0;32m     12\u001b[0m             \u001b[0mmemo\u001b[0m\u001b[1;33m[\u001b[0m\u001b[0mn\u001b[0m\u001b[1;33m]\u001b[0m \u001b[1;33m=\u001b[0m \u001b[0mres\u001b[0m\u001b[1;33m\u001b[0m\u001b[0m\n\u001b[0;32m     13\u001b[0m \u001b[1;33m\u001b[0m\u001b[0m\n",
      "\u001b[1;32m<ipython-input-213-31c5d18a8dc7>\u001b[0m in \u001b[0;36mbreakInteger\u001b[1;34m(self, n, memo)\u001b[0m\n\u001b[0;32m      9\u001b[0m         \u001b[1;32mfor\u001b[0m \u001b[0mi\u001b[0m \u001b[1;32min\u001b[0m \u001b[0mrange\u001b[0m\u001b[1;33m(\u001b[0m\u001b[1;36m1\u001b[0m\u001b[1;33m,\u001b[0m\u001b[0mn\u001b[0m\u001b[1;33m)\u001b[0m\u001b[1;33m:\u001b[0m\u001b[1;33m\u001b[0m\u001b[0m\n\u001b[0;32m     10\u001b[0m             \u001b[0mprint\u001b[0m\u001b[1;33m(\u001b[0m\u001b[0mn\u001b[0m\u001b[1;33m-\u001b[0m\u001b[0mi\u001b[0m\u001b[1;33m)\u001b[0m\u001b[1;33m\u001b[0m\u001b[0m\n\u001b[1;32m---> 11\u001b[1;33m             \u001b[0mres\u001b[0m \u001b[1;33m=\u001b[0m \u001b[0mmax\u001b[0m\u001b[1;33m(\u001b[0m\u001b[0mres\u001b[0m\u001b[1;33m,\u001b[0m\u001b[0mi\u001b[0m\u001b[1;33m*\u001b[0m\u001b[1;33m(\u001b[0m\u001b[0mn\u001b[0m\u001b[1;33m-\u001b[0m\u001b[0mi\u001b[0m\u001b[1;33m)\u001b[0m\u001b[1;33m,\u001b[0m\u001b[0mi\u001b[0m\u001b[1;33m*\u001b[0m\u001b[0mself\u001b[0m\u001b[1;33m.\u001b[0m\u001b[0mbreakInteger\u001b[0m\u001b[1;33m(\u001b[0m\u001b[0mn\u001b[0m\u001b[1;33m-\u001b[0m\u001b[0mi\u001b[0m\u001b[1;33m,\u001b[0m\u001b[0mmemo\u001b[0m\u001b[1;33m)\u001b[0m\u001b[1;33m)\u001b[0m\u001b[1;33m\u001b[0m\u001b[0m\n\u001b[0m\u001b[0;32m     12\u001b[0m             \u001b[0mmemo\u001b[0m\u001b[1;33m[\u001b[0m\u001b[0mn\u001b[0m\u001b[1;33m]\u001b[0m \u001b[1;33m=\u001b[0m \u001b[0mres\u001b[0m\u001b[1;33m\u001b[0m\u001b[0m\n\u001b[0;32m     13\u001b[0m \u001b[1;33m\u001b[0m\u001b[0m\n",
      "\u001b[1;32m<ipython-input-213-31c5d18a8dc7>\u001b[0m in \u001b[0;36mbreakInteger\u001b[1;34m(self, n, memo)\u001b[0m\n\u001b[0;32m      9\u001b[0m         \u001b[1;32mfor\u001b[0m \u001b[0mi\u001b[0m \u001b[1;32min\u001b[0m \u001b[0mrange\u001b[0m\u001b[1;33m(\u001b[0m\u001b[1;36m1\u001b[0m\u001b[1;33m,\u001b[0m\u001b[0mn\u001b[0m\u001b[1;33m)\u001b[0m\u001b[1;33m:\u001b[0m\u001b[1;33m\u001b[0m\u001b[0m\n\u001b[0;32m     10\u001b[0m             \u001b[0mprint\u001b[0m\u001b[1;33m(\u001b[0m\u001b[0mn\u001b[0m\u001b[1;33m-\u001b[0m\u001b[0mi\u001b[0m\u001b[1;33m)\u001b[0m\u001b[1;33m\u001b[0m\u001b[0m\n\u001b[1;32m---> 11\u001b[1;33m             \u001b[0mres\u001b[0m \u001b[1;33m=\u001b[0m \u001b[0mmax\u001b[0m\u001b[1;33m(\u001b[0m\u001b[0mres\u001b[0m\u001b[1;33m,\u001b[0m\u001b[0mi\u001b[0m\u001b[1;33m*\u001b[0m\u001b[1;33m(\u001b[0m\u001b[0mn\u001b[0m\u001b[1;33m-\u001b[0m\u001b[0mi\u001b[0m\u001b[1;33m)\u001b[0m\u001b[1;33m,\u001b[0m\u001b[0mi\u001b[0m\u001b[1;33m*\u001b[0m\u001b[0mself\u001b[0m\u001b[1;33m.\u001b[0m\u001b[0mbreakInteger\u001b[0m\u001b[1;33m(\u001b[0m\u001b[0mn\u001b[0m\u001b[1;33m-\u001b[0m\u001b[0mi\u001b[0m\u001b[1;33m,\u001b[0m\u001b[0mmemo\u001b[0m\u001b[1;33m)\u001b[0m\u001b[1;33m)\u001b[0m\u001b[1;33m\u001b[0m\u001b[0m\n\u001b[0m\u001b[0;32m     12\u001b[0m             \u001b[0mmemo\u001b[0m\u001b[1;33m[\u001b[0m\u001b[0mn\u001b[0m\u001b[1;33m]\u001b[0m \u001b[1;33m=\u001b[0m \u001b[0mres\u001b[0m\u001b[1;33m\u001b[0m\u001b[0m\n\u001b[0;32m     13\u001b[0m \u001b[1;33m\u001b[0m\u001b[0m\n",
      "\u001b[1;32m<ipython-input-213-31c5d18a8dc7>\u001b[0m in \u001b[0;36mbreakInteger\u001b[1;34m(self, n, memo)\u001b[0m\n\u001b[0;32m      9\u001b[0m         \u001b[1;32mfor\u001b[0m \u001b[0mi\u001b[0m \u001b[1;32min\u001b[0m \u001b[0mrange\u001b[0m\u001b[1;33m(\u001b[0m\u001b[1;36m1\u001b[0m\u001b[1;33m,\u001b[0m\u001b[0mn\u001b[0m\u001b[1;33m)\u001b[0m\u001b[1;33m:\u001b[0m\u001b[1;33m\u001b[0m\u001b[0m\n\u001b[0;32m     10\u001b[0m             \u001b[0mprint\u001b[0m\u001b[1;33m(\u001b[0m\u001b[0mn\u001b[0m\u001b[1;33m-\u001b[0m\u001b[0mi\u001b[0m\u001b[1;33m)\u001b[0m\u001b[1;33m\u001b[0m\u001b[0m\n\u001b[1;32m---> 11\u001b[1;33m             \u001b[0mres\u001b[0m \u001b[1;33m=\u001b[0m \u001b[0mmax\u001b[0m\u001b[1;33m(\u001b[0m\u001b[0mres\u001b[0m\u001b[1;33m,\u001b[0m\u001b[0mi\u001b[0m\u001b[1;33m*\u001b[0m\u001b[1;33m(\u001b[0m\u001b[0mn\u001b[0m\u001b[1;33m-\u001b[0m\u001b[0mi\u001b[0m\u001b[1;33m)\u001b[0m\u001b[1;33m,\u001b[0m\u001b[0mi\u001b[0m\u001b[1;33m*\u001b[0m\u001b[0mself\u001b[0m\u001b[1;33m.\u001b[0m\u001b[0mbreakInteger\u001b[0m\u001b[1;33m(\u001b[0m\u001b[0mn\u001b[0m\u001b[1;33m-\u001b[0m\u001b[0mi\u001b[0m\u001b[1;33m,\u001b[0m\u001b[0mmemo\u001b[0m\u001b[1;33m)\u001b[0m\u001b[1;33m)\u001b[0m\u001b[1;33m\u001b[0m\u001b[0m\n\u001b[0m\u001b[0;32m     12\u001b[0m             \u001b[0mmemo\u001b[0m\u001b[1;33m[\u001b[0m\u001b[0mn\u001b[0m\u001b[1;33m]\u001b[0m \u001b[1;33m=\u001b[0m \u001b[0mres\u001b[0m\u001b[1;33m\u001b[0m\u001b[0m\n\u001b[0;32m     13\u001b[0m \u001b[1;33m\u001b[0m\u001b[0m\n",
      "\u001b[1;31mTypeError\u001b[0m: unsupported operand type(s) for *: 'int' and 'NoneType'"
     ]
    }
   ],
   "source": [
    "class Solution(object):\n",
    "    #将n进行分割（至少分割两部分），获得最大乘积\n",
    "    def breakInteger(self,n,memo):\n",
    "        if n ==1:\n",
    "            return 1\n",
    "        if memo[n]!=-1:\n",
    "            return memo[n]\n",
    "        res = -1\n",
    "        for i in range(1,n):\n",
    "            print(n-i)\n",
    "            res = max(res,i*(n-i),i*self.breakInteger(n-i,memo))\n",
    "            memo[n] = res\n",
    "        \n",
    "    def integerBreak(self, n):\n",
    "        memo = [-1]*(n+1)\n",
    "        memo[1]=1\n",
    "        return self.breakInteger(n,memo)\n",
    "s = Solution()\n",
    "s.integerBreak(10)"
   ]
  },
  {
   "cell_type": "code",
   "execution_count": 203,
   "metadata": {},
   "outputs": [
    {
     "data": {
      "text/plain": [
       "2"
      ]
     },
     "execution_count": 203,
     "metadata": {},
     "output_type": "execute_result"
    }
   ],
   "source": [
    "class Solution(object):\n",
    "    #将n进行分割（至少分割两部分），获得最大乘积     \n",
    "    def integerBreak(self, n):\n",
    "        memo = [-1]*(n+1)\n",
    "        memo[1] = 1\n",
    "        for i in range(2,n+1):\n",
    "            for j in range(1,i):\n",
    "                memo[i] = max(memo[i],j*(i-j),j*memo[i-j])\n",
    "        return memo[n]\n",
    "s = Solution()\n",
    "s.integerBreak(3)"
   ]
  },
  {
   "cell_type": "markdown",
   "metadata": {},
   "source": [
    "#### leetcode 279 完美的平方数\n",
    "#### leetcode 91 decode ways\n",
    "#### leetcode 62 unique paths\n",
    "#### leetcode 63 unique pathsII\n",
    "### 状态和状态转移\n",
    "####  leetcode 198 houserobber"
   ]
  },
  {
   "cell_type": "code",
   "execution_count": 212,
   "metadata": {},
   "outputs": [
    {
     "data": {
      "text/plain": [
       "4"
      ]
     },
     "execution_count": 212,
     "metadata": {},
     "output_type": "execute_result"
    }
   ],
   "source": [
    "class Solution(object):\n",
    "    def tryRob(self,nums,index,memo):\n",
    "        if index>=len(nums):\n",
    "            return 0\n",
    "        if memo[index]!=-1:\n",
    "            return memo[index]\n",
    "        res = 0\n",
    "        for i in range(index,len(nums)):\n",
    "            res = max(res,nums[i]+ self.tryRob(nums,i+2,memo)) \n",
    "            memo[index] = res\n",
    "        return res\n",
    "    def rob(self, nums):\n",
    "        memo = [-1]*len(nums)\n",
    "        return self.tryRob(nums,0,memo)\n",
    "s = Solution()\n",
    "s.rob([1,2,3,1])"
   ]
  },
  {
   "cell_type": "code",
   "execution_count": 208,
   "metadata": {},
   "outputs": [
    {
     "data": {
      "text/plain": [
       "4"
      ]
     },
     "execution_count": 208,
     "metadata": {},
     "output_type": "execute_result"
    }
   ],
   "source": [
    "class Solution(object):\n",
    "    def rob(self, nums):\n",
    "        n_length = len(nums)\n",
    "        if n_length==0:\n",
    "            return 0\n",
    "        memo = [-1]*n_length\n",
    "        memo[n_length-1]=nums[n_length-1]\n",
    "        for i in range(n_length-2,-1,-1):\n",
    "            for j in range(i,n_length):\n",
    "                memo[i] = max(memo[i],nums[j]+(memo[j+2] if j+2<n_length else 0)) \n",
    "        \n",
    "        return memo[0]\n",
    "s = Solution()\n",
    "s.rob([1,2,3,1])"
   ]
  },
  {
   "cell_type": "markdown",
   "metadata": {},
   "source": [
    "#### leetcode 213 huose robberII\n",
    "#### leetcode 337 huose robberIII\n",
    "#### leetcode 309 股票交易\n",
    "### 0-1背包问题"
   ]
  },
  {
   "cell_type": "code",
   "execution_count": 215,
   "metadata": {},
   "outputs": [
    {
     "data": {
      "text/plain": [
       "-1"
      ]
     },
     "execution_count": 215,
     "metadata": {},
     "output_type": "execute_result"
    }
   ],
   "source": [
    "class Solution:\n",
    "    def bastValue(self,w,v,index,c,memo):\n",
    "        if index<0 or c<=0:\n",
    "            return 0\n",
    "        if memo[index][c]!=0:\n",
    "            return memo[index][c]\n",
    "        res = self.bastValue(w,v,index-1,c)\n",
    "        if (c>=w[index]):\n",
    "            res = max(res,v[index]+self.bastValue(w,v,index-1,c-w[index],memo))\n",
    "            memo[index][c] = res\n",
    "        return res\n",
    "    def knapsack01(self,w,v,c):\n",
    "        n = len(w)\n",
    "        memo = [[-1]*(c+1) for row in range(n)]\n",
    "        return self.bastValue(w,v,n-1,c,memo)\n",
    "    \n",
    "s = Solution()\n",
    "w = [1,2,3]\n",
    "v = [6,10,12]\n",
    "c= 5\n",
    "s.knapsack01(w,v,c)"
   ]
  },
  {
   "cell_type": "code",
   "execution_count": 218,
   "metadata": {},
   "outputs": [
    {
     "data": {
      "text/plain": [
       "22"
      ]
     },
     "execution_count": 218,
     "metadata": {},
     "output_type": "execute_result"
    }
   ],
   "source": [
    "class Solution:\n",
    "    def knapsack01(self,w,v,c):\n",
    "        n = len(w)\n",
    "        if n ==0:\n",
    "            return 0\n",
    "        memo = [[0]*(c+1) for row in range(n)]\n",
    "        for j in range(c+1):\n",
    "            memo[0][j] = (v[0] if j>=w[0] else 0)\n",
    "        for i in range(n):\n",
    "            for j in range(c+1):\n",
    "                memo[i][j] =memo[i-1][j]\n",
    "                if j>=w[i]:\n",
    "                    memo[i][j]= max(memo[i][j],v[i]+memo[i-1][j-w[i]])\n",
    "        \n",
    "        return memo[n-1][c]\n",
    "\n",
    "s = Solution()\n",
    "w = [1,2,3]\n",
    "v = [6,10,12]\n",
    "c= 5\n",
    "s.knapsack01(w,v,c)"
   ]
  },
  {
   "cell_type": "code",
   "execution_count": 219,
   "metadata": {},
   "outputs": [
    {
     "data": {
      "text/plain": [
       "22"
      ]
     },
     "execution_count": 219,
     "metadata": {},
     "output_type": "execute_result"
    }
   ],
   "source": [
    "# 优化0-1背包问题的空间复杂度\n",
    "# 可以处理的背包问题大的多\n",
    "class Solution:\n",
    "    def knapsack01(self,w,v,c):\n",
    "        n = len(w)\n",
    "        if n ==0 or c==0:\n",
    "            return 0\n",
    "        memo = [[0]*(c+1) for row in range(2)]\n",
    "        for j in range(c+1):\n",
    "            memo[0][j] = (v[0] if j>=w[0] else 0)\n",
    "        for i in range(n):\n",
    "            for j in range(c+1):\n",
    "                memo[i%2][j] =memo[(i-1)%2][j]\n",
    "                if j>=w[i]:\n",
    "                    memo[i%2][j]= max(memo[i%2][j],v[i]+memo[(i-1)%2][j-w[i]])\n",
    "        \n",
    "        return memo[(n-1)%2][c]\n",
    "\n",
    "s = Solution()\n",
    "w = [1,2,3]\n",
    "v = [6,10,12]\n",
    "c= 5\n",
    "s.knapsack01(w,v,c)"
   ]
  },
  {
   "cell_type": "markdown",
   "metadata": {},
   "source": [
    "- 0-1背包问题\n",
    "- 第i行元素只依赖于第i-1行元素，理论上只需保持两行元素，空间复杂度O(2*C) = O(C)\n",
    "- 变种问题\n",
    "1. 每个物品可以无限使用\n",
    "2. 多重背包问题，每个问题不止一个\n",
    "3. 多维费用的背包问题，考虑价值和重量\n",
    "4. 物品之间的排除和依赖的问题\n",
    "#### leetcode 416 parttition equal subset sum"
   ]
  },
  {
   "cell_type": "code",
   "execution_count": 223,
   "metadata": {},
   "outputs": [
    {
     "data": {
      "text/plain": [
       "True"
      ]
     },
     "execution_count": 223,
     "metadata": {},
     "output_type": "execute_result"
    }
   ],
   "source": [
    "class Solution(object):\n",
    "    def tryPartition(self,nums,index,sumNums,memo):\n",
    "        if sumNums==0:\n",
    "            return True\n",
    "        if sumNums<0 or index<0:\n",
    "            return False\n",
    "        if memo[index][sumNums] !=-1:\n",
    "            return memo[index][sumNums]==1\n",
    "        memo[index][sumNums]= 1 if(self.tryPartition(nums,index-1,sumNums,memo) or \n",
    "                self.tryPartition(nums,index-1,sumNums-nums[index],memo))==True else 0\n",
    "        return memo[index][sumNums]==1\n",
    "    def canPartition(self, nums):\n",
    "        sumNums  = 0\n",
    "        for i in nums:\n",
    "            sumNums +=i\n",
    "        if sumNums%2!=0:\n",
    "            return False\n",
    "        # memo[i][c]表示使用索引[0,1,2,..i]这些元素是否可以完全填充一个容量为c的背包\n",
    "        #-1表示未计算，0表示不可以，1表示可以\n",
    "        memo = [[-1]*(sumNums//2+1) for row in range(len(nums))]\n",
    "        return self.tryPartition(nums,len(nums)-1,sumNums//2,memo)\n",
    "s =Solution()\n",
    "s.canPartition([1, 2, 3, 6])"
   ]
  },
  {
   "cell_type": "code",
   "execution_count": 228,
   "metadata": {},
   "outputs": [
    {
     "ename": "TypeError",
     "evalue": "'bool' object is not subscriptable",
     "output_type": "error",
     "traceback": [
      "\u001b[1;31m---------------------------------------------------------------------------\u001b[0m",
      "\u001b[1;31mTypeError\u001b[0m                                 Traceback (most recent call last)",
      "\u001b[1;32m<ipython-input-228-93a2982ac970>\u001b[0m in \u001b[0;36m<module>\u001b[1;34m()\u001b[0m\n\u001b[0;32m     21\u001b[0m \u001b[1;33m\u001b[0m\u001b[0m\n\u001b[0;32m     22\u001b[0m \u001b[0ms\u001b[0m \u001b[1;33m=\u001b[0m\u001b[0mSolution\u001b[0m\u001b[1;33m(\u001b[0m\u001b[1;33m)\u001b[0m\u001b[1;33m\u001b[0m\u001b[0m\n\u001b[1;32m---> 23\u001b[1;33m \u001b[0ms\u001b[0m\u001b[1;33m.\u001b[0m\u001b[0mcanPartition\u001b[0m\u001b[1;33m(\u001b[0m\u001b[1;33m[\u001b[0m\u001b[1;36m1\u001b[0m\u001b[1;33m,\u001b[0m \u001b[1;36m2\u001b[0m\u001b[1;33m,\u001b[0m \u001b[1;36m3\u001b[0m\u001b[1;33m,\u001b[0m \u001b[1;36m6\u001b[0m\u001b[1;33m]\u001b[0m\u001b[1;33m)\u001b[0m\u001b[1;33m\u001b[0m\u001b[0m\n\u001b[0m",
      "\u001b[1;32m<ipython-input-228-93a2982ac970>\u001b[0m in \u001b[0;36mcanPartition\u001b[1;34m(self, nums)\u001b[0m\n\u001b[0;32m     16\u001b[0m         \u001b[1;32mfor\u001b[0m \u001b[0mi\u001b[0m \u001b[1;32min\u001b[0m \u001b[0mrange\u001b[0m\u001b[1;33m(\u001b[0m\u001b[0mn\u001b[0m\u001b[1;33m-\u001b[0m\u001b[1;36m1\u001b[0m\u001b[1;33m)\u001b[0m\u001b[1;33m:\u001b[0m\u001b[1;33m\u001b[0m\u001b[0m\n\u001b[0;32m     17\u001b[0m             \u001b[1;32mfor\u001b[0m \u001b[0mj\u001b[0m \u001b[1;32min\u001b[0m \u001b[1;33m(\u001b[0m\u001b[0mC\u001b[0m\u001b[1;33m,\u001b[0m\u001b[0mnums\u001b[0m\u001b[1;33m[\u001b[0m\u001b[0mi\u001b[0m\u001b[1;33m]\u001b[0m\u001b[1;33m-\u001b[0m\u001b[1;36m1\u001b[0m\u001b[1;33m,\u001b[0m\u001b[1;33m-\u001b[0m\u001b[1;36m1\u001b[0m\u001b[1;33m)\u001b[0m\u001b[1;33m:\u001b[0m\u001b[1;33m\u001b[0m\u001b[0m\n\u001b[1;32m---> 18\u001b[1;33m                 \u001b[0mmemo\u001b[0m\u001b[1;33m[\u001b[0m\u001b[0mj\u001b[0m\u001b[1;33m]\u001b[0m \u001b[1;33m=\u001b[0m \u001b[1;33m(\u001b[0m\u001b[0mmemo\u001b[0m\u001b[1;33m[\u001b[0m\u001b[0mj\u001b[0m\u001b[1;33m]\u001b[0m \u001b[1;32mor\u001b[0m \u001b[0mmemo\u001b[0m\u001b[1;33m[\u001b[0m\u001b[0mj\u001b[0m \u001b[1;33m-\u001b[0m \u001b[0mnums\u001b[0m\u001b[1;33m[\u001b[0m\u001b[0mi\u001b[0m\u001b[1;33m]\u001b[0m\u001b[1;33m]\u001b[0m\u001b[1;33m)\u001b[0m\u001b[1;33m\u001b[0m\u001b[0m\n\u001b[0m\u001b[0;32m     19\u001b[0m         \u001b[1;32mreturn\u001b[0m \u001b[0mmemo\u001b[0m\u001b[1;33m[\u001b[0m\u001b[0mC\u001b[0m\u001b[1;33m]\u001b[0m\u001b[1;33m\u001b[0m\u001b[0m\n\u001b[0;32m     20\u001b[0m \u001b[1;33m\u001b[0m\u001b[0m\n",
      "\u001b[1;31mTypeError\u001b[0m: 'bool' object is not subscriptable"
     ]
    }
   ],
   "source": [
    "# 动态规划算法\n",
    "class Solution(object):\n",
    "    def canPartition(self, nums):\n",
    "        sumNums  = 0\n",
    "        for i in nums:\n",
    "            sumNums +=i\n",
    "        if sumNums%2!=0:\n",
    "            return False\n",
    "        # memo[i][c]表示使用索引[0,1,2,..i]这些元素是否可以完全填充一个容量为c的背包\n",
    "        #-1表示未计算，0表示不可以，1表示可以\n",
    "        memo = [False]*(sumNums//2+1)\n",
    "        n = len(nums)\n",
    "        C = sumNums//2\n",
    "        for i in range(C+1):\n",
    "            memo = (nums[0]==i)\n",
    "        for i in range(n-1):\n",
    "            for j in (C,nums[i]-1,-1):\n",
    "                memo[j] = (memo[j] or memo[j - nums[i]])\n",
    "                \n",
    "        return memo[C]\n",
    "        \n",
    "        \n",
    "s =Solution()\n",
    "s.canPartition([1, 2, 3, 6])"
   ]
  },
  {
   "cell_type": "markdown",
   "metadata": {},
   "source": [
    "#### leetcode 322 coin change\n",
    "#### leetcode 377 combination sum 4\n",
    "#### leetcode 474 ones and zeros\n",
    "#### leetcode 139 word break \n",
    "#### leetcode 494 target sum\n",
    "### 最长上升子序列\n",
    "#### leetcode 300 "
   ]
  },
  {
   "cell_type": "code",
   "execution_count": 232,
   "metadata": {},
   "outputs": [
    {
     "data": {
      "text/plain": [
       "5"
      ]
     },
     "execution_count": 232,
     "metadata": {},
     "output_type": "execute_result"
    }
   ],
   "source": [
    "#递归\n",
    "class Solution(object):\n",
    "    def lengthOfLIS(self, nums):\n",
    "        if not nums:\n",
    "            return 0\n",
    "        n_length = len(nums)\n",
    "        # memo的意义是在第i个元素的上升子序列的个数\n",
    "        memo = [1]*n_length\n",
    "        for i in range(n_length):\n",
    "            for j in range(0,i):\n",
    "                if nums[i]>nums[j]:\n",
    "                    memo[i] = max(memo[i],memo[j]+1)\n",
    "        return max(memo)\n",
    "s =Solution()\n",
    "s.lengthOfLIS([10,9,2,5,3,7,101,18,102])\n",
    "        "
   ]
  },
  {
   "cell_type": "markdown",
   "metadata": {},
   "source": [
    "#### leetcode 376 wiggle subsequence\n",
    "### 最长公共子序列问题\n",
    "给出字符串s1和s2，求这两个字符串的最长的公共子序列的长度"
   ]
  },
  {
   "cell_type": "code",
   "execution_count": null,
   "metadata": {},
   "outputs": [],
   "source": [
    "### dijkstra 单源最短路径算法\n",
    "### 动态规划给出具体街"
   ]
  },
  {
   "cell_type": "markdown",
   "metadata": {},
   "source": [
    "#### leetcode 120 Triangle \n",
    "- 三角形数字序列，选择一个自顶向下的路径，使沿途的数字之和最小"
   ]
  },
  {
   "cell_type": "markdown",
   "metadata": {},
   "source": [
    "#### leetcode 64 最小路径和"
   ]
  },
  {
   "cell_type": "markdown",
   "metadata": {},
   "source": [
    "## 贪心算法\n",
    "### 基础\n",
    "#### leetcode455  Assign Cookies"
   ]
  },
  {
   "cell_type": "code",
   "execution_count": 81,
   "metadata": {},
   "outputs": [
    {
     "name": "stdout",
     "output_type": "stream",
     "text": [
      "[1, 1] [3, 2, 1]\n"
     ]
    },
    {
     "data": {
      "text/plain": [
       "2"
      ]
     },
     "execution_count": 81,
     "metadata": {},
     "output_type": "execute_result"
    }
   ],
   "source": [
    "class Solution(object):\n",
    "    def findContentChildren(self, g, s):\n",
    "        #边界条件\n",
    "        if len(g)==0 or len(s)==0:\n",
    "            return 0\n",
    "        #全排序\n",
    "        g.sort(reverse=True)\n",
    "        s.sort(reverse=True)\n",
    "\n",
    "        si,gi,res = 0,0,0\n",
    "        while(si<len(s)and gi<len(g)):\n",
    "            if s[si]>=g[gi]:\n",
    "                res+=1\n",
    "                si+=1\n",
    "                gi+=1\n",
    "            else:\n",
    "                gi+=1\n",
    "        return res\n",
    "so = Solution()\n",
    "s= [1,2,3]\n",
    "g = [1,1]\n",
    "so.findContentChildren(g,s)"
   ]
  },
  {
   "cell_type": "markdown",
   "metadata": {},
   "source": [
    "#### leetcode 392 is Sunsequence\n",
    "给定两个字符串，判断s是不是t的子序列"
   ]
  },
  {
   "cell_type": "markdown",
   "metadata": {},
   "source": [
    "### 贪心算法和动态规划的关系\n",
    "#### leetcode Non-overlapping intervals"
   ]
  },
  {
   "cell_type": "code",
   "execution_count": null,
   "metadata": {},
   "outputs": [],
   "source": [
    "class Solution(object):\n",
    "    def eraseOverlapIntervals(self, intervals):\n",
    "        if not intervals:\n",
    "            return 0\n",
    "        intervals.sort()\n",
    "        n_length = len(intervals)\n",
    "        \n",
    "        memo = [0]*n_length\n",
    "        for i in range(1,n_length):\n",
    "            for j in range(i):\n",
    "                if intervals[i].start>=intervals[j].end:\n",
    "                    memo[i]=max(memo[i],memo[j]+1)\n",
    "        return n_length - max(memo)\n",
    "                \n",
    "        "
   ]
  },
  {
   "cell_type": "code",
   "execution_count": null,
   "metadata": {},
   "outputs": [],
   "source": [
    "#贪心算法\n",
    "class Solution(object):\n",
    "    def eraseOverlapIntervals(self, intervals):\n",
    "        if not intervals:\n",
    "            return 0\n",
    "        #按照结尾排序呢\n",
    "        intervals.sort(key = lambda x:x.end)\n",
    "        n_length = len(intervals)\n",
    "        \n",
    "        res,pre = 1,0\n",
    "        for i in range(1,n_length):\n",
    "                if intervals[i].start>=intervals[pre].end:\n",
    "                    res+=1\n",
    "                    pre = i\n",
    "        return n_length - res\n",
    "                "
   ]
  },
  {
   "cell_type": "markdown",
   "metadata": {},
   "source": [
    "## KMP匹配算法\n",
    "#### 原来的匹配"
   ]
  },
  {
   "cell_type": "code",
   "execution_count": 237,
   "metadata": {},
   "outputs": [
    {
     "data": {
      "text/plain": [
       "4"
      ]
     },
     "execution_count": 237,
     "metadata": {},
     "output_type": "execute_result"
    }
   ],
   "source": [
    "def origin(s1,s2):\n",
    "    if not s1 or not s2:\n",
    "        return -1\n",
    "    i,j=0,0\n",
    "    while(i<len(s1) and j<len(s2)):\n",
    "        if s1[i]==s2[j]:\n",
    "            i+=1\n",
    "            j+=1\n",
    "        else:\n",
    "            i = i-j+1\n",
    "            j = 0\n",
    "    if j==len(s2):\n",
    "        return i-j\n",
    "    else:\n",
    "        return -1\n",
    "s1 = 'abcbcdefr'\n",
    "s2 = 'cde'\n",
    "origin(s1,s2)\n",
    "    "
   ]
  },
  {
   "cell_type": "markdown",
   "metadata": {},
   "source": [
    "利用已经知道的信息进行提取"
   ]
  },
  {
   "cell_type": "code",
   "execution_count": 238,
   "metadata": {},
   "outputs": [
    {
     "name": "stdout",
     "output_type": "stream",
     "text": [
      "2\n"
     ]
    }
   ],
   "source": [
    "def kmp(mom_string,son_string):\n",
    "    # 传入一个母串和一个子串\n",
    "    # 返回子串匹配上的第一个位置，若没有匹配上返回-1\n",
    "    test=''\n",
    "    if type(mom_string)!=type(test) or type(son_string)!=type(test):\n",
    "        return -1\n",
    "    if len(son_string)==0:\n",
    "        return 0\n",
    "    if len(mom_string)==0:\n",
    "        return -1\n",
    "    #求next数组\n",
    "    next=[-1]*len(son_string)\n",
    "    if len(son_string)>1:# 这里加if是怕列表越界\n",
    "        next[1]=0\n",
    "        i,j=1,0\n",
    "        while i<len(son_string)-1:#这里一定要-1，不然会像例子中出现next[8]会越界的\n",
    "            if j==-1 or son_string[i]==son_string[j]:\n",
    "                i+=1\n",
    "                j+=1\n",
    "                next[i]=j\n",
    "            else:\n",
    "                j=next[j]\n",
    " \n",
    "    # kmp框架\n",
    "    m=s=0#母指针和子指针初始化为0\n",
    "    while(s<len(son_string) and m<len(mom_string)):\n",
    "        # 匹配成功,或者遍历完母串匹配失败退出\n",
    "        if s==-1 or mom_string[m]==son_string[s]:\n",
    "            m+=1\n",
    "            s+=1\n",
    "        else:\n",
    "            s=next[s]\n",
    " \n",
    "    if s==len(son_string):#匹配成功\n",
    "        return m-s\n",
    "    #匹配失败\n",
    "    return -1\n",
    " \n",
    "# 测试\n",
    "mom_string='ababababca'\n",
    "son_string='abababca'\n",
    "print(kmp(mom_string,son_string))"
   ]
  },
  {
   "cell_type": "code",
   "execution_count": null,
   "metadata": {},
   "outputs": [],
   "source": []
  }
 ],
 "metadata": {
  "kernelspec": {
   "display_name": "Python 3",
   "language": "python",
   "name": "python3"
  },
  "language_info": {
   "codemirror_mode": {
    "name": "ipython",
    "version": 3
   },
   "file_extension": ".py",
   "mimetype": "text/x-python",
   "name": "python",
   "nbconvert_exporter": "python",
   "pygments_lexer": "ipython3",
   "version": "3.6.6"
  },
  "toc": {
   "base_numbering": 1,
   "nav_menu": {},
   "number_sections": true,
   "sideBar": true,
   "skip_h1_title": true,
   "title_cell": "Table of Contents",
   "title_sidebar": "Contents",
   "toc_cell": false,
   "toc_position": {},
   "toc_section_display": true,
   "toc_window_display": true
  }
 },
 "nbformat": 4,
 "nbformat_minor": 2
}
